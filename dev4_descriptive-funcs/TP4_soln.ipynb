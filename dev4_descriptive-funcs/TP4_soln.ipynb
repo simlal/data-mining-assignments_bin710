{
 "cells": [
  {
   "attachments": {},
   "cell_type": "markdown",
   "metadata": {},
   "source": [
    "# TP4: Descriptive functions\n",
    "\n",
    "## Winter 2023 - BIN710 Data Mining (UdeS)\n",
    "\n",
    "Fourth assignement as part of the Data Mining class at UdeS.\n",
    "\n",
    "Student name : Simon Lalonde\n",
    "\n",
    "### Directory structure\n",
    "\n",
    "├── TP4_data.csv    ---> Data\n",
    "\n",
    "├── TP4_soln.ipynb   ---> Jupyter Notebook\n",
    "\n",
    "└── TP4.pdf    ---> Tasks to complete\n",
    "\n",
    "### Data\n",
    "1 file\n",
    "- __ objects\n",
    "- __ attributes\n",
    "- __ classes (?)\n",
    "\n",
    "### Goal\n",
    "Compare and use partitionning methods on sequential data. In this case, we are dealing with clustering of RNA sequencing data.\n",
    "\n",
    "---"
   ]
  },
  {
   "attachments": {},
   "cell_type": "markdown",
   "metadata": {},
   "source": [
    "## Necessary libraries"
   ]
  },
  {
   "cell_type": "code",
   "execution_count": 1,
   "metadata": {},
   "outputs": [],
   "source": [
    "from pathlib import Path\n",
    "\n",
    "import pandas as pd\n"
   ]
  },
  {
   "attachments": {},
   "cell_type": "markdown",
   "metadata": {},
   "source": [
    "## 0. Data pre-processing (incoherences) and feature generation (sequence length)"
   ]
  },
  {
   "attachments": {},
   "cell_type": "markdown",
   "metadata": {},
   "source": [
    "### Loading the data and exploring incongruencies"
   ]
  },
  {
   "cell_type": "code",
   "execution_count": 2,
   "metadata": {},
   "outputs": [
    {
     "data": {
      "text/html": [
       "<div>\n",
       "<style scoped>\n",
       "    .dataframe tbody tr th:only-of-type {\n",
       "        vertical-align: middle;\n",
       "    }\n",
       "\n",
       "    .dataframe tbody tr th {\n",
       "        vertical-align: top;\n",
       "    }\n",
       "\n",
       "    .dataframe thead th {\n",
       "        text-align: right;\n",
       "    }\n",
       "</style>\n",
       "<table border=\"1\" class=\"dataframe\">\n",
       "  <thead>\n",
       "    <tr style=\"text-align: right;\">\n",
       "      <th></th>\n",
       "      <th>id</th>\n",
       "      <th>sequence</th>\n",
       "    </tr>\n",
       "  </thead>\n",
       "  <tbody>\n",
       "    <tr>\n",
       "      <th>0</th>\n",
       "      <td>AAIY01303410.1/717-923</td>\n",
       "      <td>CCAACGUGGAUACUCCCGGGAGGUCACUCUCCCCGGGCUCUGUCCA...</td>\n",
       "    </tr>\n",
       "    <tr>\n",
       "      <th>1</th>\n",
       "      <td>CP000140.1/4143906-4143709</td>\n",
       "      <td>UACCUUUGCAUCCGAAUUGGUUCCGUACGCUCGUUCGGGCAUACGG...</td>\n",
       "    </tr>\n",
       "    <tr>\n",
       "      <th>2</th>\n",
       "      <td>URS0000D6BCE7_12908/1-215</td>\n",
       "      <td>GCGUAACGCGCUAUGGCUUAAACGGCUGCCCCAAAGCUGCCAAAGG...</td>\n",
       "    </tr>\n",
       "    <tr>\n",
       "      <th>3</th>\n",
       "      <td>X71081.1/4425-4646</td>\n",
       "      <td>CCAAUGUGGAUAUCCUUAGAGGUCUCUCUUGGGCUCUGUCCAGGUG...</td>\n",
       "    </tr>\n",
       "    <tr>\n",
       "      <th>4</th>\n",
       "      <td>AACY020770731.1/455-512</td>\n",
       "      <td>UUUCGUUCACCCUCAAUUGAGGGCGCAGUUCGAGUCAUACCAUGGA...</td>\n",
       "    </tr>\n",
       "  </tbody>\n",
       "</table>\n",
       "</div>"
      ],
      "text/plain": [
       "                           id  \\\n",
       "0      AAIY01303410.1/717-923   \n",
       "1  CP000140.1/4143906-4143709   \n",
       "2   URS0000D6BCE7_12908/1-215   \n",
       "3          X71081.1/4425-4646   \n",
       "4     AACY020770731.1/455-512   \n",
       "\n",
       "                                            sequence  \n",
       "0  CCAACGUGGAUACUCCCGGGAGGUCACUCUCCCCGGGCUCUGUCCA...  \n",
       "1  UACCUUUGCAUCCGAAUUGGUUCCGUACGCUCGUUCGGGCAUACGG...  \n",
       "2  GCGUAACGCGCUAUGGCUUAAACGGCUGCCCCAAAGCUGCCAAAGG...  \n",
       "3  CCAAUGUGGAUAUCCUUAGAGGUCUCUCUUGGGCUCUGUCCAGGUG...  \n",
       "4  UUUCGUUCACCCUCAAUUGAGGGCGCAGUUCGAGUCAUACCAUGGA...  "
      ]
     },
     "execution_count": 2,
     "metadata": {},
     "output_type": "execute_result"
    }
   ],
   "source": [
    "# dir/file setup and read\n",
    "tp4_dir = Path.cwd()\n",
    "filename = \"TP4_data.csv\"\n",
    "\n",
    "df = pd.read_csv(tp4_dir / filename)\n",
    "df.head()"
   ]
  },
  {
   "cell_type": "code",
   "execution_count": 3,
   "metadata": {},
   "outputs": [
    {
     "name": "stdout",
     "output_type": "stream",
     "text": [
      "id          object\n",
      "sequence    object\n",
      "dtype: object\n"
     ]
    }
   ],
   "source": [
    "# Expecting str types OK\n",
    "print(df.dtypes)"
   ]
  },
  {
   "attachments": {},
   "cell_type": "markdown",
   "metadata": {},
   "source": [
    "Checking for possible incongruencies"
   ]
  },
  {
   "cell_type": "code",
   "execution_count": 4,
   "metadata": {},
   "outputs": [
    {
     "data": {
      "text/plain": [
       "0    CCAACGUGGAUACUCCCGGGAGGUCACUCUCCCCGGGCUCUGUCCA...\n",
       "1    UACCUUUGCAUCCGAAUUGGUUCCGUACGCUCGUUCGGGCAUACGG...\n",
       "2    GCGUAACGCGCUAUGGCUUAAACGGCUGCCCCAAAGCUGCCAAAGG...\n",
       "3    CCAAUGUGGAUAUCCUUAGAGGUCUCUCUUGGGCUCUGUCCAGGUG...\n",
       "4    UUUCGUUCACCCUCAAUUGAGGGCGCAGUUCGAGUCAUACCAUGGA...\n",
       "Name: sequence, dtype: object"
      ]
     },
     "execution_count": 4,
     "metadata": {},
     "output_type": "execute_result"
    }
   ],
   "source": [
    "df[\"sequence\"].head()"
   ]
  },
  {
   "cell_type": "code",
   "execution_count": 5,
   "metadata": {},
   "outputs": [
    {
     "name": "stdout",
     "output_type": "stream",
     "text": [
      "['C', 'U', 'A', 'G']\n"
     ]
    }
   ],
   "source": [
    "# Biologically possible nucleotides for RNA\n",
    "possible_nuc = [\"C\", \"U\", \"A\", \"G\"]\n",
    "print(possible_nuc)"
   ]
  },
  {
   "cell_type": "code",
   "execution_count": 6,
   "metadata": {},
   "outputs": [
    {
     "data": {
      "text/plain": [
       "ACUG      571\n",
       "UCAG      322\n",
       "CAGUN       5\n",
       "CKSAGU      1\n",
       "MCAGU       1\n",
       "Name: sequence, dtype: int64"
      ]
     },
     "execution_count": 6,
     "metadata": {},
     "output_type": "execute_result"
    }
   ],
   "source": [
    "# Extracting the unique possible values of nucleotides/chars in the dataset\n",
    "df[\"sequence\"].str.split(\"\").apply(lambda x: list(set([nuc for nuc in x if nuc != \"\"]))).str.join(\"\").value_counts()"
   ]
  },
  {
   "attachments": {},
   "cell_type": "markdown",
   "metadata": {},
   "source": [
    "**We see that there are a few sequences with incongruencies in the value of individual char/nucleotides i.e. (nucleotides with letters of K, M and S).**\n",
    "\n",
    "**In the context of DNA/RNA sequencing, \"N\" represents an unknown/undetermined value so it is expected that some objects might contain N's.**"
   ]
  },
  {
   "attachments": {},
   "cell_type": "markdown",
   "metadata": {},
   "source": [
    "Checking for lowercase"
   ]
  },
  {
   "cell_type": "code",
   "execution_count": 7,
   "metadata": {},
   "outputs": [
    {
     "name": "stdout",
     "output_type": "stream",
     "text": [
      "Number of lowercase characters: 0\n"
     ]
    }
   ],
   "source": [
    "print(f\"Number of lowercase characters: {df['sequence'].str.islower().sum()}\")"
   ]
  },
  {
   "cell_type": "code",
   "execution_count": 8,
   "metadata": {},
   "outputs": [],
   "source": [
    "rna_nuc_with_unknowns = [\"C\", \"U\", \"A\", \"G\", \"N\"]"
   ]
  },
  {
   "cell_type": "code",
   "execution_count": 9,
   "metadata": {},
   "outputs": [
    {
     "name": "stdout",
     "output_type": "stream",
     "text": [
      "7 samples with nucleotides other than ['C', 'U', 'A', 'G']\n"
     ]
    }
   ],
   "source": [
    "print(f'{len(df[df[\"sequence\"].apply(lambda x: any(nuc not in possible_nuc for nuc in x))])} samples with nucleotides other than {possible_nuc}')"
   ]
  },
  {
   "attachments": {},
   "cell_type": "markdown",
   "metadata": {},
   "source": [
    "Checking for the 2 samples with mislabelled N's (other chars than UCAGN)"
   ]
  },
  {
   "cell_type": "code",
   "execution_count": 10,
   "metadata": {},
   "outputs": [
    {
     "data": {
      "text/html": [
       "<div>\n",
       "<style scoped>\n",
       "    .dataframe tbody tr th:only-of-type {\n",
       "        vertical-align: middle;\n",
       "    }\n",
       "\n",
       "    .dataframe tbody tr th {\n",
       "        vertical-align: top;\n",
       "    }\n",
       "\n",
       "    .dataframe thead th {\n",
       "        text-align: right;\n",
       "    }\n",
       "</style>\n",
       "<table border=\"1\" class=\"dataframe\">\n",
       "  <thead>\n",
       "    <tr style=\"text-align: right;\">\n",
       "      <th></th>\n",
       "      <th>id</th>\n",
       "      <th>sequence</th>\n",
       "    </tr>\n",
       "  </thead>\n",
       "  <tbody>\n",
       "    <tr>\n",
       "      <th>53</th>\n",
       "      <td>AM462844.1/17936-17742</td>\n",
       "      <td>UUGUGGAAGAAGGAGCUCUCUUUAGUCCAGUCCGAGACAGCUUCAA...</td>\n",
       "    </tr>\n",
       "    <tr>\n",
       "      <th>145</th>\n",
       "      <td>AM457512.2/2227-2039</td>\n",
       "      <td>AGGGGCUUGUGGGAGCUUCUUUACACUCCAGAACUGAAAGGAGAUA...</td>\n",
       "    </tr>\n",
       "  </tbody>\n",
       "</table>\n",
       "</div>"
      ],
      "text/plain": [
       "                         id                                           sequence\n",
       "53   AM462844.1/17936-17742  UUGUGGAAGAAGGAGCUCUCUUUAGUCCAGUCCGAGACAGCUUCAA...\n",
       "145    AM457512.2/2227-2039  AGGGGCUUGUGGGAGCUUCUUUACACUCCAGAACUGAAAGGAGAUA..."
      ]
     },
     "execution_count": 10,
     "metadata": {},
     "output_type": "execute_result"
    }
   ],
   "source": [
    "df[df[\"sequence\"].apply(lambda x: any(nuc not in rna_nuc_with_unknowns for nuc in x))]"
   ]
  },
  {
   "cell_type": "code",
   "execution_count": 11,
   "metadata": {},
   "outputs": [
    {
     "data": {
      "text/plain": [
       "53     CKSAGU\n",
       "145     MCAGU\n",
       "Name: sequence, dtype: object"
      ]
     },
     "execution_count": 11,
     "metadata": {},
     "output_type": "execute_result"
    }
   ],
   "source": [
    "df[df[\"sequence\"].apply(lambda x: any(nuc not in rna_nuc_with_unknowns for nuc in x))][\"sequence\"].str.split(\"\").apply(lambda x: list(set([nuc for nuc in x if nuc != \"\"]))).str.join(\"\")"
   ]
  },
  {
   "cell_type": "code",
   "execution_count": 13,
   "metadata": {},
   "outputs": [
    {
     "data": {
      "text/html": [
       "<div>\n",
       "<style scoped>\n",
       "    .dataframe tbody tr th:only-of-type {\n",
       "        vertical-align: middle;\n",
       "    }\n",
       "\n",
       "    .dataframe tbody tr th {\n",
       "        vertical-align: top;\n",
       "    }\n",
       "\n",
       "    .dataframe thead th {\n",
       "        text-align: right;\n",
       "    }\n",
       "</style>\n",
       "<table border=\"1\" class=\"dataframe\">\n",
       "  <thead>\n",
       "    <tr style=\"text-align: right;\">\n",
       "      <th></th>\n",
       "      <th>id</th>\n",
       "      <th>sequence</th>\n",
       "    </tr>\n",
       "  </thead>\n",
       "  <tbody>\n",
       "    <tr>\n",
       "      <th>53</th>\n",
       "      <td>AM462844.1/17936-17742</td>\n",
       "      <td>UUGUGGAAGAAGGAGCUCUCUUUAGUCCAGUCCGAGACAGCUUCAA...</td>\n",
       "    </tr>\n",
       "    <tr>\n",
       "      <th>145</th>\n",
       "      <td>AM457512.2/2227-2039</td>\n",
       "      <td>AGGGGCUUGUGGGAGCUUCUUUACACUCCAGAACUGAAAGGAGAUA...</td>\n",
       "    </tr>\n",
       "  </tbody>\n",
       "</table>\n",
       "</div>"
      ],
      "text/plain": [
       "                         id                                           sequence\n",
       "53   AM462844.1/17936-17742  UUGUGGAAGAAGGAGCUCUCUUUAGUCCAGUCCGAGACAGCUUCAA...\n",
       "145    AM457512.2/2227-2039  AGGGGCUUGUGGGAGCUUCUUUACACUCCAGAACUGAAAGGAGAUA..."
      ]
     },
     "execution_count": 13,
     "metadata": {},
     "output_type": "execute_result"
    }
   ],
   "source": [
    "df[df[\"sequence\"].apply(lambda x: any(nuc not in rna_nuc_with_unknowns for nuc in x))]"
   ]
  },
  {
   "attachments": {},
   "cell_type": "markdown",
   "metadata": {},
   "source": [
    "Let's write a function to change any non-nucleotide chars to \"N\""
   ]
  },
  {
   "cell_type": "code",
   "execution_count": 12,
   "metadata": {},
   "outputs": [],
   "source": [
    "def replace_mislabelled_nuc(df: pd.DataFrame, col_name_seq: str, possible_nucleotides: list, replacement_nuc: str) -> pd.DataFrame:\n",
    "    # Find all mislabelled nucleotides possibilites and save to list\n",
    "    mislabelled_samples = df[df[col_name_seq].apply(lambda x: any(nuc not in possible_nucleotides for nuc in x))]\n",
    "    unique_nucs = list(set(\"\".join(mislabelled_samples[col_name_seq].to_list())))\n",
    "    mislabelled_nucs = [nuc for nuc in unique_nucs if nuc not in possible_nucleotides]\n",
    "    print(f\"All mislabelled nucleotides present in data: {mislabelled_nucs}\\n\")\n",
    "\n",
    "\n",
    "    # Loop through list of mislabelled nucleotides\n",
    "    print(\"Replacing with N's...\")\n",
    "    for nuc in mislabelled_nucs:\n",
    "        df[\"sequence\"] = df[\"sequence\"].str.replace(nuc, replacement_nuc)\n",
    "\n",
    "    return df"
   ]
  },
  {
   "cell_type": "code",
   "execution_count": 14,
   "metadata": {},
   "outputs": [
    {
     "name": "stdout",
     "output_type": "stream",
     "text": [
      "All mislabelled nucleotides present in data: ['M', 'K', 'S']\n",
      "\n",
      "Replacing with N's...\n"
     ]
    },
    {
     "data": {
      "text/html": [
       "<div>\n",
       "<style scoped>\n",
       "    .dataframe tbody tr th:only-of-type {\n",
       "        vertical-align: middle;\n",
       "    }\n",
       "\n",
       "    .dataframe tbody tr th {\n",
       "        vertical-align: top;\n",
       "    }\n",
       "\n",
       "    .dataframe thead th {\n",
       "        text-align: right;\n",
       "    }\n",
       "</style>\n",
       "<table border=\"1\" class=\"dataframe\">\n",
       "  <thead>\n",
       "    <tr style=\"text-align: right;\">\n",
       "      <th></th>\n",
       "      <th>id</th>\n",
       "      <th>sequence</th>\n",
       "    </tr>\n",
       "  </thead>\n",
       "  <tbody>\n",
       "    <tr>\n",
       "      <th>0</th>\n",
       "      <td>AAIY01303410.1/717-923</td>\n",
       "      <td>CCAACGUGGAUACUCCCGGGAGGUCACUCUCCCCGGGCUCUGUCCA...</td>\n",
       "    </tr>\n",
       "    <tr>\n",
       "      <th>1</th>\n",
       "      <td>CP000140.1/4143906-4143709</td>\n",
       "      <td>UACCUUUGCAUCCGAAUUGGUUCCGUACGCUCGUUCGGGCAUACGG...</td>\n",
       "    </tr>\n",
       "    <tr>\n",
       "      <th>2</th>\n",
       "      <td>URS0000D6BCE7_12908/1-215</td>\n",
       "      <td>GCGUAACGCGCUAUGGCUUAAACGGCUGCCCCAAAGCUGCCAAAGG...</td>\n",
       "    </tr>\n",
       "    <tr>\n",
       "      <th>3</th>\n",
       "      <td>X71081.1/4425-4646</td>\n",
       "      <td>CCAAUGUGGAUAUCCUUAGAGGUCUCUCUUGGGCUCUGUCCAGGUG...</td>\n",
       "    </tr>\n",
       "    <tr>\n",
       "      <th>4</th>\n",
       "      <td>AACY020770731.1/455-512</td>\n",
       "      <td>UUUCGUUCACCCUCAAUUGAGGGCGCAGUUCGAGUCAUACCAUGGA...</td>\n",
       "    </tr>\n",
       "    <tr>\n",
       "      <th>...</th>\n",
       "      <td>...</td>\n",
       "      <td>...</td>\n",
       "    </tr>\n",
       "    <tr>\n",
       "      <th>895</th>\n",
       "      <td>URS0000D6890F_1069618/1-62</td>\n",
       "      <td>CAUCUAUAGUUUCAGACAUGGAAUCGCCGAAAACGUCGGCGGUAAA...</td>\n",
       "    </tr>\n",
       "    <tr>\n",
       "      <th>896</th>\n",
       "      <td>ACLT01000067.1/45633-45455</td>\n",
       "      <td>AAUAACUGAUUGACUGAAAGUAGGAAUUAAAGCCGUCAAGUUGAGC...</td>\n",
       "    </tr>\n",
       "    <tr>\n",
       "      <th>897</th>\n",
       "      <td>URS0000D6BC2B_12908/1-161</td>\n",
       "      <td>UCCGUCAGCUAAUGGCAAUUAGACUGCUGAACUUAAACUGCAUAAG...</td>\n",
       "    </tr>\n",
       "    <tr>\n",
       "      <th>898</th>\n",
       "      <td>URS0000D6B588_12908/1-186</td>\n",
       "      <td>GCGAGAAUGUCUACACACCACGGUGGUAGGCAGAGUGUAUUUGUAA...</td>\n",
       "    </tr>\n",
       "    <tr>\n",
       "      <th>899</th>\n",
       "      <td>CP000449.1/2738434-2738239</td>\n",
       "      <td>UAGCUUUCGCGCCGCGAUGGUUCCCUCACGGGAAUAAUAGGGAAGC...</td>\n",
       "    </tr>\n",
       "  </tbody>\n",
       "</table>\n",
       "<p>900 rows × 2 columns</p>\n",
       "</div>"
      ],
      "text/plain": [
       "                             id  \\\n",
       "0        AAIY01303410.1/717-923   \n",
       "1    CP000140.1/4143906-4143709   \n",
       "2     URS0000D6BCE7_12908/1-215   \n",
       "3            X71081.1/4425-4646   \n",
       "4       AACY020770731.1/455-512   \n",
       "..                          ...   \n",
       "895  URS0000D6890F_1069618/1-62   \n",
       "896  ACLT01000067.1/45633-45455   \n",
       "897   URS0000D6BC2B_12908/1-161   \n",
       "898   URS0000D6B588_12908/1-186   \n",
       "899  CP000449.1/2738434-2738239   \n",
       "\n",
       "                                              sequence  \n",
       "0    CCAACGUGGAUACUCCCGGGAGGUCACUCUCCCCGGGCUCUGUCCA...  \n",
       "1    UACCUUUGCAUCCGAAUUGGUUCCGUACGCUCGUUCGGGCAUACGG...  \n",
       "2    GCGUAACGCGCUAUGGCUUAAACGGCUGCCCCAAAGCUGCCAAAGG...  \n",
       "3    CCAAUGUGGAUAUCCUUAGAGGUCUCUCUUGGGCUCUGUCCAGGUG...  \n",
       "4    UUUCGUUCACCCUCAAUUGAGGGCGCAGUUCGAGUCAUACCAUGGA...  \n",
       "..                                                 ...  \n",
       "895  CAUCUAUAGUUUCAGACAUGGAAUCGCCGAAAACGUCGGCGGUAAA...  \n",
       "896  AAUAACUGAUUGACUGAAAGUAGGAAUUAAAGCCGUCAAGUUGAGC...  \n",
       "897  UCCGUCAGCUAAUGGCAAUUAGACUGCUGAACUUAAACUGCAUAAG...  \n",
       "898  GCGAGAAUGUCUACACACCACGGUGGUAGGCAGAGUGUAUUUGUAA...  \n",
       "899  UAGCUUUCGCGCCGCGAUGGUUCCCUCACGGGAAUAAUAGGGAAGC...  \n",
       "\n",
       "[900 rows x 2 columns]"
      ]
     },
     "execution_count": 14,
     "metadata": {},
     "output_type": "execute_result"
    }
   ],
   "source": [
    "# Replacing mislabelled nucs in the df\n",
    "replace_mislabelled_nuc(\n",
    "    df=df,\n",
    "    col_name_seq=\"sequence\",\n",
    "    possible_nucleotides=rna_nuc_with_unknowns,\n",
    "    replacement_nuc=\"N\"\n",
    ")\n"
   ]
  },
  {
   "cell_type": "code",
   "execution_count": 17,
   "metadata": {},
   "outputs": [
    {
     "name": "stdout",
     "output_type": "stream",
     "text": [
      "0 samples with nucleotides other than ['C', 'U', 'A', 'G']\n"
     ]
    }
   ],
   "source": [
    "# Sanity check\n",
    "print(f'{len(df[df[\"sequence\"].apply(lambda x: any(nuc not in rna_nuc_with_unknowns for nuc in x))])} samples with nucleotides other than {possible_nuc}')"
   ]
  },
  {
   "attachments": {},
   "cell_type": "markdown",
   "metadata": {},
   "source": [
    "### Generating the sequence length feature"
   ]
  },
  {
   "cell_type": "code",
   "execution_count": 20,
   "metadata": {},
   "outputs": [],
   "source": [
    "df[\"sequence_length\"] = df[\"sequence\"].str.len()"
   ]
  },
  {
   "cell_type": "code",
   "execution_count": 21,
   "metadata": {},
   "outputs": [
    {
     "data": {
      "text/html": [
       "<div>\n",
       "<style scoped>\n",
       "    .dataframe tbody tr th:only-of-type {\n",
       "        vertical-align: middle;\n",
       "    }\n",
       "\n",
       "    .dataframe tbody tr th {\n",
       "        vertical-align: top;\n",
       "    }\n",
       "\n",
       "    .dataframe thead th {\n",
       "        text-align: right;\n",
       "    }\n",
       "</style>\n",
       "<table border=\"1\" class=\"dataframe\">\n",
       "  <thead>\n",
       "    <tr style=\"text-align: right;\">\n",
       "      <th></th>\n",
       "      <th>id</th>\n",
       "      <th>sequence</th>\n",
       "      <th>sequence_length</th>\n",
       "    </tr>\n",
       "  </thead>\n",
       "  <tbody>\n",
       "    <tr>\n",
       "      <th>0</th>\n",
       "      <td>AAIY01303410.1/717-923</td>\n",
       "      <td>CCAACGUGGAUACUCCCGGGAGGUCACUCUCCCCGGGCUCUGUCCA...</td>\n",
       "      <td>207</td>\n",
       "    </tr>\n",
       "    <tr>\n",
       "      <th>1</th>\n",
       "      <td>CP000140.1/4143906-4143709</td>\n",
       "      <td>UACCUUUGCAUCCGAAUUGGUUCCGUACGCUCGUUCGGGCAUACGG...</td>\n",
       "      <td>198</td>\n",
       "    </tr>\n",
       "    <tr>\n",
       "      <th>2</th>\n",
       "      <td>URS0000D6BCE7_12908/1-215</td>\n",
       "      <td>GCGUAACGCGCUAUGGCUUAAACGGCUGCCCCAAAGCUGCCAAAGG...</td>\n",
       "      <td>215</td>\n",
       "    </tr>\n",
       "    <tr>\n",
       "      <th>3</th>\n",
       "      <td>X71081.1/4425-4646</td>\n",
       "      <td>CCAAUGUGGAUAUCCUUAGAGGUCUCUCUUGGGCUCUGUCCAGGUG...</td>\n",
       "      <td>222</td>\n",
       "    </tr>\n",
       "    <tr>\n",
       "      <th>4</th>\n",
       "      <td>AACY020770731.1/455-512</td>\n",
       "      <td>UUUCGUUCACCCUCAAUUGAGGGCGCAGUUCGAGUCAUACCAUGGA...</td>\n",
       "      <td>58</td>\n",
       "    </tr>\n",
       "  </tbody>\n",
       "</table>\n",
       "</div>"
      ],
      "text/plain": [
       "                           id  \\\n",
       "0      AAIY01303410.1/717-923   \n",
       "1  CP000140.1/4143906-4143709   \n",
       "2   URS0000D6BCE7_12908/1-215   \n",
       "3          X71081.1/4425-4646   \n",
       "4     AACY020770731.1/455-512   \n",
       "\n",
       "                                            sequence  sequence_length  \n",
       "0  CCAACGUGGAUACUCCCGGGAGGUCACUCUCCCCGGGCUCUGUCCA...              207  \n",
       "1  UACCUUUGCAUCCGAAUUGGUUCCGUACGCUCGUUCGGGCAUACGG...              198  \n",
       "2  GCGUAACGCGCUAUGGCUUAAACGGCUGCCCCAAAGCUGCCAAAGG...              215  \n",
       "3  CCAAUGUGGAUAUCCUUAGAGGUCUCUCUUGGGCUCUGUCCAGGUG...              222  \n",
       "4  UUUCGUUCACCCUCAAUUGAGGGCGCAGUUCGAGUCAUACCAUGGA...               58  "
      ]
     },
     "execution_count": 21,
     "metadata": {},
     "output_type": "execute_result"
    }
   ],
   "source": [
    "df.head()"
   ]
  },
  {
   "attachments": {},
   "cell_type": "markdown",
   "metadata": {},
   "source": [
    "## 1. Data partitionning based on sequence length"
   ]
  },
  {
   "cell_type": "code",
   "execution_count": null,
   "metadata": {},
   "outputs": [],
   "source": []
  }
 ],
 "metadata": {
  "kernelspec": {
   "display_name": "py3_ds",
   "language": "python",
   "name": "python3"
  },
  "language_info": {
   "codemirror_mode": {
    "name": "ipython",
    "version": 3
   },
   "file_extension": ".py",
   "mimetype": "text/x-python",
   "name": "python",
   "nbconvert_exporter": "python",
   "pygments_lexer": "ipython3",
   "version": "3.8.10"
  },
  "orig_nbformat": 4
 },
 "nbformat": 4,
 "nbformat_minor": 2
}
