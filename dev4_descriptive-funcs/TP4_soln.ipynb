{
 "cells": [
  {
   "attachments": {},
   "cell_type": "markdown",
   "metadata": {},
   "source": [
    "# TP4: Descriptive functions\n",
    "\n",
    "## Winter 2023 - BIN710 Data Mining (UdeS)\n",
    "\n",
    "Fourth assignement as part of the Data Mining class at UdeS.\n",
    "\n",
    "Student name : Simon Lalonde\n",
    "\n",
    "### Directory structure\n",
    "\n",
    "├── TP4_data.csv    ---> Data\n",
    "\n",
    "├── TP4_soln.ipynb   ---> Jupyter Notebook\n",
    "\n",
    "└── TP4.pdf    ---> Tasks to complete\n",
    "\n",
    "### Data\n",
    "1 file\n",
    "- 900 objects\n",
    "- 1 attributes (sequence of nucleotides)\n",
    "- 1 identifier\n",
    "- No known-classes/labels\n",
    "\n",
    "### Goal\n",
    "Compare and use partitionning methods on sequential data. In this case, we are dealing with clustering of RNA sequencing data.\n",
    "\n",
    "---"
   ]
  },
  {
   "attachments": {},
   "cell_type": "markdown",
   "metadata": {},
   "source": [
    "## Necessary libraries"
   ]
  },
  {
   "cell_type": "code",
   "execution_count": 57,
   "metadata": {},
   "outputs": [],
   "source": [
    "from pathlib import Path\n",
    "\n",
    "import pandas as pd\n",
    "import matplotlib.pyplot as plt\n",
    "import seaborn as sns"
   ]
  },
  {
   "attachments": {},
   "cell_type": "markdown",
   "metadata": {},
   "source": [
    "## 0. Data pre-processing (incoherences) and feature generation (sequence length)"
   ]
  },
  {
   "attachments": {},
   "cell_type": "markdown",
   "metadata": {},
   "source": [
    "### Loading the data and exploring incongruencies"
   ]
  },
  {
   "cell_type": "code",
   "execution_count": 2,
   "metadata": {},
   "outputs": [
    {
     "data": {
      "text/html": [
       "<div>\n",
       "<style scoped>\n",
       "    .dataframe tbody tr th:only-of-type {\n",
       "        vertical-align: middle;\n",
       "    }\n",
       "\n",
       "    .dataframe tbody tr th {\n",
       "        vertical-align: top;\n",
       "    }\n",
       "\n",
       "    .dataframe thead th {\n",
       "        text-align: right;\n",
       "    }\n",
       "</style>\n",
       "<table border=\"1\" class=\"dataframe\">\n",
       "  <thead>\n",
       "    <tr style=\"text-align: right;\">\n",
       "      <th></th>\n",
       "      <th>id</th>\n",
       "      <th>sequence</th>\n",
       "    </tr>\n",
       "  </thead>\n",
       "  <tbody>\n",
       "    <tr>\n",
       "      <th>0</th>\n",
       "      <td>AAIY01303410.1/717-923</td>\n",
       "      <td>CCAACGUGGAUACUCCCGGGAGGUCACUCUCCCCGGGCUCUGUCCA...</td>\n",
       "    </tr>\n",
       "    <tr>\n",
       "      <th>1</th>\n",
       "      <td>CP000140.1/4143906-4143709</td>\n",
       "      <td>UACCUUUGCAUCCGAAUUGGUUCCGUACGCUCGUUCGGGCAUACGG...</td>\n",
       "    </tr>\n",
       "    <tr>\n",
       "      <th>2</th>\n",
       "      <td>URS0000D6BCE7_12908/1-215</td>\n",
       "      <td>GCGUAACGCGCUAUGGCUUAAACGGCUGCCCCAAAGCUGCCAAAGG...</td>\n",
       "    </tr>\n",
       "    <tr>\n",
       "      <th>3</th>\n",
       "      <td>X71081.1/4425-4646</td>\n",
       "      <td>CCAAUGUGGAUAUCCUUAGAGGUCUCUCUUGGGCUCUGUCCAGGUG...</td>\n",
       "    </tr>\n",
       "    <tr>\n",
       "      <th>4</th>\n",
       "      <td>AACY020770731.1/455-512</td>\n",
       "      <td>UUUCGUUCACCCUCAAUUGAGGGCGCAGUUCGAGUCAUACCAUGGA...</td>\n",
       "    </tr>\n",
       "  </tbody>\n",
       "</table>\n",
       "</div>"
      ],
      "text/plain": [
       "                           id  \\\n",
       "0      AAIY01303410.1/717-923   \n",
       "1  CP000140.1/4143906-4143709   \n",
       "2   URS0000D6BCE7_12908/1-215   \n",
       "3          X71081.1/4425-4646   \n",
       "4     AACY020770731.1/455-512   \n",
       "\n",
       "                                            sequence  \n",
       "0  CCAACGUGGAUACUCCCGGGAGGUCACUCUCCCCGGGCUCUGUCCA...  \n",
       "1  UACCUUUGCAUCCGAAUUGGUUCCGUACGCUCGUUCGGGCAUACGG...  \n",
       "2  GCGUAACGCGCUAUGGCUUAAACGGCUGCCCCAAAGCUGCCAAAGG...  \n",
       "3  CCAAUGUGGAUAUCCUUAGAGGUCUCUCUUGGGCUCUGUCCAGGUG...  \n",
       "4  UUUCGUUCACCCUCAAUUGAGGGCGCAGUUCGAGUCAUACCAUGGA...  "
      ]
     },
     "execution_count": 2,
     "metadata": {},
     "output_type": "execute_result"
    }
   ],
   "source": [
    "# dir/file setup and read\n",
    "tp4_dir = Path.cwd()\n",
    "filename = \"TP4_data.csv\"\n",
    "\n",
    "df = pd.read_csv(tp4_dir / filename)\n",
    "df.head()"
   ]
  },
  {
   "cell_type": "code",
   "execution_count": 3,
   "metadata": {},
   "outputs": [
    {
     "name": "stdout",
     "output_type": "stream",
     "text": [
      "id          object\n",
      "sequence    object\n",
      "dtype: object\n"
     ]
    }
   ],
   "source": [
    "# Expecting str types OK\n",
    "print(df.dtypes)"
   ]
  },
  {
   "attachments": {},
   "cell_type": "markdown",
   "metadata": {},
   "source": [
    "Checking for possible incongruencies"
   ]
  },
  {
   "cell_type": "code",
   "execution_count": 4,
   "metadata": {},
   "outputs": [
    {
     "data": {
      "text/plain": [
       "0    CCAACGUGGAUACUCCCGGGAGGUCACUCUCCCCGGGCUCUGUCCA...\n",
       "1    UACCUUUGCAUCCGAAUUGGUUCCGUACGCUCGUUCGGGCAUACGG...\n",
       "2    GCGUAACGCGCUAUGGCUUAAACGGCUGCCCCAAAGCUGCCAAAGG...\n",
       "3    CCAAUGUGGAUAUCCUUAGAGGUCUCUCUUGGGCUCUGUCCAGGUG...\n",
       "4    UUUCGUUCACCCUCAAUUGAGGGCGCAGUUCGAGUCAUACCAUGGA...\n",
       "Name: sequence, dtype: object"
      ]
     },
     "execution_count": 4,
     "metadata": {},
     "output_type": "execute_result"
    }
   ],
   "source": [
    "df[\"sequence\"].head()"
   ]
  },
  {
   "cell_type": "code",
   "execution_count": 5,
   "metadata": {},
   "outputs": [
    {
     "name": "stdout",
     "output_type": "stream",
     "text": [
      "['C', 'U', 'A', 'G']\n"
     ]
    }
   ],
   "source": [
    "# Biologically possible nucleotides for RNA\n",
    "possible_nuc = [\"C\", \"U\", \"A\", \"G\"]\n",
    "print(possible_nuc)"
   ]
  },
  {
   "cell_type": "code",
   "execution_count": 6,
   "metadata": {},
   "outputs": [
    {
     "data": {
      "text/plain": [
       "ACUG      571\n",
       "UCAG      322\n",
       "CAGUN       5\n",
       "CKSAGU      1\n",
       "MCAGU       1\n",
       "Name: sequence, dtype: int64"
      ]
     },
     "execution_count": 6,
     "metadata": {},
     "output_type": "execute_result"
    }
   ],
   "source": [
    "# Extracting the unique possible values of nucleotides/chars in the dataset\n",
    "df[\"sequence\"].str.split(\"\").apply(lambda x: list(set([nuc for nuc in x if nuc != \"\"]))).str.join(\"\").value_counts()"
   ]
  },
  {
   "attachments": {},
   "cell_type": "markdown",
   "metadata": {},
   "source": [
    "**We see that there are a few sequences with incongruencies in the value of individual char/nucleotides i.e. (nucleotides with letters of K, M and S).**\n",
    "\n",
    "**In the context of DNA/RNA sequencing, \"N\" represents an unknown/undetermined value so it is expected that some objects might contain N's.**"
   ]
  },
  {
   "attachments": {},
   "cell_type": "markdown",
   "metadata": {},
   "source": [
    "Checking for lowercase"
   ]
  },
  {
   "cell_type": "code",
   "execution_count": 7,
   "metadata": {},
   "outputs": [
    {
     "name": "stdout",
     "output_type": "stream",
     "text": [
      "Number of lowercase characters: 0\n"
     ]
    }
   ],
   "source": [
    "print(f\"Number of lowercase characters: {df['sequence'].str.islower().sum()}\")"
   ]
  },
  {
   "cell_type": "code",
   "execution_count": 8,
   "metadata": {},
   "outputs": [],
   "source": [
    "rna_nuc_with_unknowns = [\"C\", \"U\", \"A\", \"G\", \"N\"]"
   ]
  },
  {
   "cell_type": "code",
   "execution_count": 9,
   "metadata": {},
   "outputs": [
    {
     "name": "stdout",
     "output_type": "stream",
     "text": [
      "7 samples with nucleotides other than ['C', 'U', 'A', 'G']\n"
     ]
    }
   ],
   "source": [
    "print(f'{len(df[df[\"sequence\"].apply(lambda x: any(nuc not in possible_nuc for nuc in x))])} samples with nucleotides other than {possible_nuc}')"
   ]
  },
  {
   "attachments": {},
   "cell_type": "markdown",
   "metadata": {},
   "source": [
    "Checking for the 2 samples with mislabelled N's (other chars than UCAGN)"
   ]
  },
  {
   "cell_type": "code",
   "execution_count": 10,
   "metadata": {},
   "outputs": [
    {
     "data": {
      "text/html": [
       "<div>\n",
       "<style scoped>\n",
       "    .dataframe tbody tr th:only-of-type {\n",
       "        vertical-align: middle;\n",
       "    }\n",
       "\n",
       "    .dataframe tbody tr th {\n",
       "        vertical-align: top;\n",
       "    }\n",
       "\n",
       "    .dataframe thead th {\n",
       "        text-align: right;\n",
       "    }\n",
       "</style>\n",
       "<table border=\"1\" class=\"dataframe\">\n",
       "  <thead>\n",
       "    <tr style=\"text-align: right;\">\n",
       "      <th></th>\n",
       "      <th>id</th>\n",
       "      <th>sequence</th>\n",
       "    </tr>\n",
       "  </thead>\n",
       "  <tbody>\n",
       "    <tr>\n",
       "      <th>53</th>\n",
       "      <td>AM462844.1/17936-17742</td>\n",
       "      <td>UUGUGGAAGAAGGAGCUCUCUUUAGUCCAGUCCGAGACAGCUUCAA...</td>\n",
       "    </tr>\n",
       "    <tr>\n",
       "      <th>145</th>\n",
       "      <td>AM457512.2/2227-2039</td>\n",
       "      <td>AGGGGCUUGUGGGAGCUUCUUUACACUCCAGAACUGAAAGGAGAUA...</td>\n",
       "    </tr>\n",
       "  </tbody>\n",
       "</table>\n",
       "</div>"
      ],
      "text/plain": [
       "                         id                                           sequence\n",
       "53   AM462844.1/17936-17742  UUGUGGAAGAAGGAGCUCUCUUUAGUCCAGUCCGAGACAGCUUCAA...\n",
       "145    AM457512.2/2227-2039  AGGGGCUUGUGGGAGCUUCUUUACACUCCAGAACUGAAAGGAGAUA..."
      ]
     },
     "execution_count": 10,
     "metadata": {},
     "output_type": "execute_result"
    }
   ],
   "source": [
    "df[df[\"sequence\"].apply(lambda x: any(nuc not in rna_nuc_with_unknowns for nuc in x))]"
   ]
  },
  {
   "cell_type": "code",
   "execution_count": 11,
   "metadata": {},
   "outputs": [
    {
     "data": {
      "text/plain": [
       "53     CKSAGU\n",
       "145     MCAGU\n",
       "Name: sequence, dtype: object"
      ]
     },
     "execution_count": 11,
     "metadata": {},
     "output_type": "execute_result"
    }
   ],
   "source": [
    "df[df[\"sequence\"].apply(lambda x: any(nuc not in rna_nuc_with_unknowns for nuc in x))][\"sequence\"].str.split(\"\").apply(lambda x: list(set([nuc for nuc in x if nuc != \"\"]))).str.join(\"\")"
   ]
  },
  {
   "cell_type": "code",
   "execution_count": 13,
   "metadata": {},
   "outputs": [
    {
     "data": {
      "text/html": [
       "<div>\n",
       "<style scoped>\n",
       "    .dataframe tbody tr th:only-of-type {\n",
       "        vertical-align: middle;\n",
       "    }\n",
       "\n",
       "    .dataframe tbody tr th {\n",
       "        vertical-align: top;\n",
       "    }\n",
       "\n",
       "    .dataframe thead th {\n",
       "        text-align: right;\n",
       "    }\n",
       "</style>\n",
       "<table border=\"1\" class=\"dataframe\">\n",
       "  <thead>\n",
       "    <tr style=\"text-align: right;\">\n",
       "      <th></th>\n",
       "      <th>id</th>\n",
       "      <th>sequence</th>\n",
       "    </tr>\n",
       "  </thead>\n",
       "  <tbody>\n",
       "    <tr>\n",
       "      <th>53</th>\n",
       "      <td>AM462844.1/17936-17742</td>\n",
       "      <td>UUGUGGAAGAAGGAGCUCUCUUUAGUCCAGUCCGAGACAGCUUCAA...</td>\n",
       "    </tr>\n",
       "    <tr>\n",
       "      <th>145</th>\n",
       "      <td>AM457512.2/2227-2039</td>\n",
       "      <td>AGGGGCUUGUGGGAGCUUCUUUACACUCCAGAACUGAAAGGAGAUA...</td>\n",
       "    </tr>\n",
       "  </tbody>\n",
       "</table>\n",
       "</div>"
      ],
      "text/plain": [
       "                         id                                           sequence\n",
       "53   AM462844.1/17936-17742  UUGUGGAAGAAGGAGCUCUCUUUAGUCCAGUCCGAGACAGCUUCAA...\n",
       "145    AM457512.2/2227-2039  AGGGGCUUGUGGGAGCUUCUUUACACUCCAGAACUGAAAGGAGAUA..."
      ]
     },
     "execution_count": 13,
     "metadata": {},
     "output_type": "execute_result"
    }
   ],
   "source": [
    "df[df[\"sequence\"].apply(lambda x: any(nuc not in rna_nuc_with_unknowns for nuc in x))]"
   ]
  },
  {
   "attachments": {},
   "cell_type": "markdown",
   "metadata": {},
   "source": [
    "Let's write a function to change any non-nucleotide chars to \"N\""
   ]
  },
  {
   "cell_type": "code",
   "execution_count": 12,
   "metadata": {},
   "outputs": [],
   "source": [
    "def replace_mislabelled_nuc(df: pd.DataFrame, col_name_seq: str, possible_nucleotides: list, replacement_nuc: str) -> pd.DataFrame:\n",
    "    \"\"\"\n",
    "    Replaces mislabelled nucleotides in a given column of a DataFrame with a specified replacement nucleotide.\n",
    "\n",
    "    Args:\n",
    "        df (pd.DataFrame): The input DataFrame containing the column with nucleotide sequences.\n",
    "        col_name_seq (str): The name of the column containing the nucleotide sequences.\n",
    "        possible_nucleotides (list): A list of possible nucleotides. Any nucleotide not in this list is considered mislabelled.\n",
    "        replacement_nuc (str): The replacement nucleotide to use for mislabelled nucleotides.\n",
    "\n",
    "    Returns:\n",
    "        pd.DataFrame: The modified DataFrame with mislabelled nucleotides replaced.\n",
    "\n",
    "    \"\"\"\n",
    "    # Find all mislabelled nucleotides possibilites and save to list\n",
    "    mislabelled_samples = df[df[col_name_seq].apply(lambda x: any(nuc not in possible_nucleotides for nuc in x))]\n",
    "    unique_nucs = list(set(\"\".join(mislabelled_samples[col_name_seq].to_list())))\n",
    "    mislabelled_nucs = [nuc for nuc in unique_nucs if nuc not in possible_nucleotides]\n",
    "    print(f\"All mislabelled nucleotides present in data: {mislabelled_nucs}\\n\")\n",
    "\n",
    "\n",
    "    # Loop through list of mislabelled nucleotides\n",
    "    print(\"Replacing with N's...\")\n",
    "    for nuc in mislabelled_nucs:\n",
    "        df[\"sequence\"] = df[\"sequence\"].str.replace(nuc, replacement_nuc)\n",
    "\n",
    "    return df"
   ]
  },
  {
   "cell_type": "code",
   "execution_count": 14,
   "metadata": {},
   "outputs": [
    {
     "name": "stdout",
     "output_type": "stream",
     "text": [
      "All mislabelled nucleotides present in data: ['M', 'K', 'S']\n",
      "\n",
      "Replacing with N's...\n"
     ]
    },
    {
     "data": {
      "text/html": [
       "<div>\n",
       "<style scoped>\n",
       "    .dataframe tbody tr th:only-of-type {\n",
       "        vertical-align: middle;\n",
       "    }\n",
       "\n",
       "    .dataframe tbody tr th {\n",
       "        vertical-align: top;\n",
       "    }\n",
       "\n",
       "    .dataframe thead th {\n",
       "        text-align: right;\n",
       "    }\n",
       "</style>\n",
       "<table border=\"1\" class=\"dataframe\">\n",
       "  <thead>\n",
       "    <tr style=\"text-align: right;\">\n",
       "      <th></th>\n",
       "      <th>id</th>\n",
       "      <th>sequence</th>\n",
       "    </tr>\n",
       "  </thead>\n",
       "  <tbody>\n",
       "    <tr>\n",
       "      <th>0</th>\n",
       "      <td>AAIY01303410.1/717-923</td>\n",
       "      <td>CCAACGUGGAUACUCCCGGGAGGUCACUCUCCCCGGGCUCUGUCCA...</td>\n",
       "    </tr>\n",
       "    <tr>\n",
       "      <th>1</th>\n",
       "      <td>CP000140.1/4143906-4143709</td>\n",
       "      <td>UACCUUUGCAUCCGAAUUGGUUCCGUACGCUCGUUCGGGCAUACGG...</td>\n",
       "    </tr>\n",
       "    <tr>\n",
       "      <th>2</th>\n",
       "      <td>URS0000D6BCE7_12908/1-215</td>\n",
       "      <td>GCGUAACGCGCUAUGGCUUAAACGGCUGCCCCAAAGCUGCCAAAGG...</td>\n",
       "    </tr>\n",
       "    <tr>\n",
       "      <th>3</th>\n",
       "      <td>X71081.1/4425-4646</td>\n",
       "      <td>CCAAUGUGGAUAUCCUUAGAGGUCUCUCUUGGGCUCUGUCCAGGUG...</td>\n",
       "    </tr>\n",
       "    <tr>\n",
       "      <th>4</th>\n",
       "      <td>AACY020770731.1/455-512</td>\n",
       "      <td>UUUCGUUCACCCUCAAUUGAGGGCGCAGUUCGAGUCAUACCAUGGA...</td>\n",
       "    </tr>\n",
       "    <tr>\n",
       "      <th>...</th>\n",
       "      <td>...</td>\n",
       "      <td>...</td>\n",
       "    </tr>\n",
       "    <tr>\n",
       "      <th>895</th>\n",
       "      <td>URS0000D6890F_1069618/1-62</td>\n",
       "      <td>CAUCUAUAGUUUCAGACAUGGAAUCGCCGAAAACGUCGGCGGUAAA...</td>\n",
       "    </tr>\n",
       "    <tr>\n",
       "      <th>896</th>\n",
       "      <td>ACLT01000067.1/45633-45455</td>\n",
       "      <td>AAUAACUGAUUGACUGAAAGUAGGAAUUAAAGCCGUCAAGUUGAGC...</td>\n",
       "    </tr>\n",
       "    <tr>\n",
       "      <th>897</th>\n",
       "      <td>URS0000D6BC2B_12908/1-161</td>\n",
       "      <td>UCCGUCAGCUAAUGGCAAUUAGACUGCUGAACUUAAACUGCAUAAG...</td>\n",
       "    </tr>\n",
       "    <tr>\n",
       "      <th>898</th>\n",
       "      <td>URS0000D6B588_12908/1-186</td>\n",
       "      <td>GCGAGAAUGUCUACACACCACGGUGGUAGGCAGAGUGUAUUUGUAA...</td>\n",
       "    </tr>\n",
       "    <tr>\n",
       "      <th>899</th>\n",
       "      <td>CP000449.1/2738434-2738239</td>\n",
       "      <td>UAGCUUUCGCGCCGCGAUGGUUCCCUCACGGGAAUAAUAGGGAAGC...</td>\n",
       "    </tr>\n",
       "  </tbody>\n",
       "</table>\n",
       "<p>900 rows × 2 columns</p>\n",
       "</div>"
      ],
      "text/plain": [
       "                             id  \\\n",
       "0        AAIY01303410.1/717-923   \n",
       "1    CP000140.1/4143906-4143709   \n",
       "2     URS0000D6BCE7_12908/1-215   \n",
       "3            X71081.1/4425-4646   \n",
       "4       AACY020770731.1/455-512   \n",
       "..                          ...   \n",
       "895  URS0000D6890F_1069618/1-62   \n",
       "896  ACLT01000067.1/45633-45455   \n",
       "897   URS0000D6BC2B_12908/1-161   \n",
       "898   URS0000D6B588_12908/1-186   \n",
       "899  CP000449.1/2738434-2738239   \n",
       "\n",
       "                                              sequence  \n",
       "0    CCAACGUGGAUACUCCCGGGAGGUCACUCUCCCCGGGCUCUGUCCA...  \n",
       "1    UACCUUUGCAUCCGAAUUGGUUCCGUACGCUCGUUCGGGCAUACGG...  \n",
       "2    GCGUAACGCGCUAUGGCUUAAACGGCUGCCCCAAAGCUGCCAAAGG...  \n",
       "3    CCAAUGUGGAUAUCCUUAGAGGUCUCUCUUGGGCUCUGUCCAGGUG...  \n",
       "4    UUUCGUUCACCCUCAAUUGAGGGCGCAGUUCGAGUCAUACCAUGGA...  \n",
       "..                                                 ...  \n",
       "895  CAUCUAUAGUUUCAGACAUGGAAUCGCCGAAAACGUCGGCGGUAAA...  \n",
       "896  AAUAACUGAUUGACUGAAAGUAGGAAUUAAAGCCGUCAAGUUGAGC...  \n",
       "897  UCCGUCAGCUAAUGGCAAUUAGACUGCUGAACUUAAACUGCAUAAG...  \n",
       "898  GCGAGAAUGUCUACACACCACGGUGGUAGGCAGAGUGUAUUUGUAA...  \n",
       "899  UAGCUUUCGCGCCGCGAUGGUUCCCUCACGGGAAUAAUAGGGAAGC...  \n",
       "\n",
       "[900 rows x 2 columns]"
      ]
     },
     "execution_count": 14,
     "metadata": {},
     "output_type": "execute_result"
    }
   ],
   "source": [
    "# Replacing mislabelled nucs in the df\n",
    "replace_mislabelled_nuc(\n",
    "    df=df,\n",
    "    col_name_seq=\"sequence\",\n",
    "    possible_nucleotides=rna_nuc_with_unknowns,\n",
    "    replacement_nuc=\"N\"\n",
    ")\n"
   ]
  },
  {
   "cell_type": "code",
   "execution_count": 17,
   "metadata": {},
   "outputs": [
    {
     "name": "stdout",
     "output_type": "stream",
     "text": [
      "0 samples with nucleotides other than ['C', 'U', 'A', 'G']\n"
     ]
    }
   ],
   "source": [
    "# Sanity check\n",
    "print(f'{len(df[df[\"sequence\"].apply(lambda x: any(nuc not in rna_nuc_with_unknowns for nuc in x))])} samples with nucleotides other than {possible_nuc}')"
   ]
  },
  {
   "attachments": {},
   "cell_type": "markdown",
   "metadata": {},
   "source": [
    "### Generating the sequence length feature"
   ]
  },
  {
   "cell_type": "code",
   "execution_count": 20,
   "metadata": {},
   "outputs": [],
   "source": [
    "df[\"sequence_length\"] = df[\"sequence\"].str.len()"
   ]
  },
  {
   "cell_type": "code",
   "execution_count": 21,
   "metadata": {},
   "outputs": [
    {
     "data": {
      "text/html": [
       "<div>\n",
       "<style scoped>\n",
       "    .dataframe tbody tr th:only-of-type {\n",
       "        vertical-align: middle;\n",
       "    }\n",
       "\n",
       "    .dataframe tbody tr th {\n",
       "        vertical-align: top;\n",
       "    }\n",
       "\n",
       "    .dataframe thead th {\n",
       "        text-align: right;\n",
       "    }\n",
       "</style>\n",
       "<table border=\"1\" class=\"dataframe\">\n",
       "  <thead>\n",
       "    <tr style=\"text-align: right;\">\n",
       "      <th></th>\n",
       "      <th>id</th>\n",
       "      <th>sequence</th>\n",
       "      <th>sequence_length</th>\n",
       "    </tr>\n",
       "  </thead>\n",
       "  <tbody>\n",
       "    <tr>\n",
       "      <th>0</th>\n",
       "      <td>AAIY01303410.1/717-923</td>\n",
       "      <td>CCAACGUGGAUACUCCCGGGAGGUCACUCUCCCCGGGCUCUGUCCA...</td>\n",
       "      <td>207</td>\n",
       "    </tr>\n",
       "    <tr>\n",
       "      <th>1</th>\n",
       "      <td>CP000140.1/4143906-4143709</td>\n",
       "      <td>UACCUUUGCAUCCGAAUUGGUUCCGUACGCUCGUUCGGGCAUACGG...</td>\n",
       "      <td>198</td>\n",
       "    </tr>\n",
       "    <tr>\n",
       "      <th>2</th>\n",
       "      <td>URS0000D6BCE7_12908/1-215</td>\n",
       "      <td>GCGUAACGCGCUAUGGCUUAAACGGCUGCCCCAAAGCUGCCAAAGG...</td>\n",
       "      <td>215</td>\n",
       "    </tr>\n",
       "    <tr>\n",
       "      <th>3</th>\n",
       "      <td>X71081.1/4425-4646</td>\n",
       "      <td>CCAAUGUGGAUAUCCUUAGAGGUCUCUCUUGGGCUCUGUCCAGGUG...</td>\n",
       "      <td>222</td>\n",
       "    </tr>\n",
       "    <tr>\n",
       "      <th>4</th>\n",
       "      <td>AACY020770731.1/455-512</td>\n",
       "      <td>UUUCGUUCACCCUCAAUUGAGGGCGCAGUUCGAGUCAUACCAUGGA...</td>\n",
       "      <td>58</td>\n",
       "    </tr>\n",
       "  </tbody>\n",
       "</table>\n",
       "</div>"
      ],
      "text/plain": [
       "                           id  \\\n",
       "0      AAIY01303410.1/717-923   \n",
       "1  CP000140.1/4143906-4143709   \n",
       "2   URS0000D6BCE7_12908/1-215   \n",
       "3          X71081.1/4425-4646   \n",
       "4     AACY020770731.1/455-512   \n",
       "\n",
       "                                            sequence  sequence_length  \n",
       "0  CCAACGUGGAUACUCCCGGGAGGUCACUCUCCCCGGGCUCUGUCCA...              207  \n",
       "1  UACCUUUGCAUCCGAAUUGGUUCCGUACGCUCGUUCGGGCAUACGG...              198  \n",
       "2  GCGUAACGCGCUAUGGCUUAAACGGCUGCCCCAAAGCUGCCAAAGG...              215  \n",
       "3  CCAAUGUGGAUAUCCUUAGAGGUCUCUCUUGGGCUCUGUCCAGGUG...              222  \n",
       "4  UUUCGUUCACCCUCAAUUGAGGGCGCAGUUCGAGUCAUACCAUGGA...               58  "
      ]
     },
     "execution_count": 21,
     "metadata": {},
     "output_type": "execute_result"
    }
   ],
   "source": [
    "df.head()"
   ]
  },
  {
   "cell_type": "code",
   "execution_count": 39,
   "metadata": {},
   "outputs": [
    {
     "data": {
      "text/plain": [
       "0      22.222222\n",
       "1      26.262626\n",
       "2      26.511628\n",
       "3      24.774775\n",
       "4      20.689655\n",
       "         ...    \n",
       "895    32.258065\n",
       "896    36.312849\n",
       "897    33.540373\n",
       "898    27.419355\n",
       "899    17.346939\n",
       "Name: sequence, Length: 900, dtype: float64"
      ]
     },
     "execution_count": 39,
     "metadata": {},
     "output_type": "execute_result"
    }
   ],
   "source": [
    "df[\"sequence\"].apply(lambda x: x.count(\"A\")/len(x)*100)"
   ]
  },
  {
   "attachments": {},
   "cell_type": "markdown",
   "metadata": {},
   "source": [
    "I might also look at the individual A, C, G, U and N %content"
   ]
  },
  {
   "cell_type": "code",
   "execution_count": 47,
   "metadata": {},
   "outputs": [],
   "source": [
    "def get_nuc_counts(df: pd.DataFrame, col_name_seq: str, possible_nucleotides_tocount: list) -> pd.DataFrame:\n",
    "    \"\"\"\n",
    "    Calculates the percentage content of each nucleotide in a given column of a DataFrame and adds the results as new columns.\n",
    "\n",
    "    Args:\n",
    "        df (pd.DataFrame): Input DataFrame containing sequence data.\n",
    "        col_name_seq (str): Column name in df containing the sequences.\n",
    "        possible_nucleotides_tocount (list): List of possible nucleotides to count.\n",
    "\n",
    "    Returns:\n",
    "        pd.DataFrame: DataFrame with added columns for percentage content of each nucleotide.\n",
    "\n",
    "    Raises:\n",
    "        ValueError: If data contains nucleotides other than those specified in possible_nucleotides_tocount.\n",
    "    \"\"\"\n",
    "    # Check for invalid nucleotides\n",
    "    if len(df[df[col_name_seq].apply(lambda x: any(nuc not in possible_nucleotides_tocount for nuc in x))]) > 0:\n",
    "        raise ValueError(f\"Data contains nucleotides other than {possible_nucleotides_tocount}\")\n",
    "    \n",
    "    # Loop through each nucleotides to count\n",
    "    for nuc in possible_nucleotides_tocount:\n",
    "        print(f\"Calculatting %{nuc} content and saving to df\")\n",
    "        df[f\"%{nuc}_content\"] = df[col_name_seq].apply(lambda x: x.count(nuc)/len(x)*100)\n"
   ]
  },
  {
   "cell_type": "code",
   "execution_count": 48,
   "metadata": {},
   "outputs": [
    {
     "name": "stdout",
     "output_type": "stream",
     "text": [
      "Calculatting %C content and saving to df\n",
      "Calculatting %U content and saving to df\n",
      "Calculatting %A content and saving to df\n",
      "Calculatting %G content and saving to df\n",
      "Calculatting %N content and saving to df\n"
     ]
    }
   ],
   "source": [
    "# Getting %nucleotide content for each sequence and saving to new column\n",
    "get_nuc_counts(df=df, col_name_seq=\"sequence\", possible_nucleotides_tocount=rna_nuc_with_unknowns)"
   ]
  },
  {
   "cell_type": "code",
   "execution_count": 49,
   "metadata": {},
   "outputs": [
    {
     "data": {
      "text/html": [
       "<div>\n",
       "<style scoped>\n",
       "    .dataframe tbody tr th:only-of-type {\n",
       "        vertical-align: middle;\n",
       "    }\n",
       "\n",
       "    .dataframe tbody tr th {\n",
       "        vertical-align: top;\n",
       "    }\n",
       "\n",
       "    .dataframe thead th {\n",
       "        text-align: right;\n",
       "    }\n",
       "</style>\n",
       "<table border=\"1\" class=\"dataframe\">\n",
       "  <thead>\n",
       "    <tr style=\"text-align: right;\">\n",
       "      <th></th>\n",
       "      <th>id</th>\n",
       "      <th>sequence</th>\n",
       "      <th>sequence_length</th>\n",
       "      <th>%C_content</th>\n",
       "      <th>%U_content</th>\n",
       "      <th>%A_content</th>\n",
       "      <th>%G_content</th>\n",
       "      <th>%N_content</th>\n",
       "    </tr>\n",
       "  </thead>\n",
       "  <tbody>\n",
       "    <tr>\n",
       "      <th>0</th>\n",
       "      <td>AAIY01303410.1/717-923</td>\n",
       "      <td>CCAACGUGGAUACUCCCGGGAGGUCACUCUCCCCGGGCUCUGUCCA...</td>\n",
       "      <td>207</td>\n",
       "      <td>29.468599</td>\n",
       "      <td>19.806763</td>\n",
       "      <td>22.222222</td>\n",
       "      <td>28.502415</td>\n",
       "      <td>0.0</td>\n",
       "    </tr>\n",
       "    <tr>\n",
       "      <th>1</th>\n",
       "      <td>CP000140.1/4143906-4143709</td>\n",
       "      <td>UACCUUUGCAUCCGAAUUGGUUCCGUACGCUCGUUCGGGCAUACGG...</td>\n",
       "      <td>198</td>\n",
       "      <td>23.737374</td>\n",
       "      <td>26.767677</td>\n",
       "      <td>26.262626</td>\n",
       "      <td>23.232323</td>\n",
       "      <td>0.0</td>\n",
       "    </tr>\n",
       "    <tr>\n",
       "      <th>2</th>\n",
       "      <td>URS0000D6BCE7_12908/1-215</td>\n",
       "      <td>GCGUAACGCGCUAUGGCUUAAACGGCUGCCCCAAAGCUGCCAAAGG...</td>\n",
       "      <td>215</td>\n",
       "      <td>24.186047</td>\n",
       "      <td>24.186047</td>\n",
       "      <td>26.511628</td>\n",
       "      <td>25.116279</td>\n",
       "      <td>0.0</td>\n",
       "    </tr>\n",
       "    <tr>\n",
       "      <th>3</th>\n",
       "      <td>X71081.1/4425-4646</td>\n",
       "      <td>CCAAUGUGGAUAUCCUUAGAGGUCUCUCUUGGGCUCUGUCCAGGUG...</td>\n",
       "      <td>222</td>\n",
       "      <td>24.774775</td>\n",
       "      <td>24.774775</td>\n",
       "      <td>24.774775</td>\n",
       "      <td>25.675676</td>\n",
       "      <td>0.0</td>\n",
       "    </tr>\n",
       "    <tr>\n",
       "      <th>4</th>\n",
       "      <td>AACY020770731.1/455-512</td>\n",
       "      <td>UUUCGUUCACCCUCAAUUGAGGGCGCAGUUCGAGUCAUACCAUGGA...</td>\n",
       "      <td>58</td>\n",
       "      <td>24.137931</td>\n",
       "      <td>24.137931</td>\n",
       "      <td>20.689655</td>\n",
       "      <td>31.034483</td>\n",
       "      <td>0.0</td>\n",
       "    </tr>\n",
       "  </tbody>\n",
       "</table>\n",
       "</div>"
      ],
      "text/plain": [
       "                           id  \\\n",
       "0      AAIY01303410.1/717-923   \n",
       "1  CP000140.1/4143906-4143709   \n",
       "2   URS0000D6BCE7_12908/1-215   \n",
       "3          X71081.1/4425-4646   \n",
       "4     AACY020770731.1/455-512   \n",
       "\n",
       "                                            sequence  sequence_length  \\\n",
       "0  CCAACGUGGAUACUCCCGGGAGGUCACUCUCCCCGGGCUCUGUCCA...              207   \n",
       "1  UACCUUUGCAUCCGAAUUGGUUCCGUACGCUCGUUCGGGCAUACGG...              198   \n",
       "2  GCGUAACGCGCUAUGGCUUAAACGGCUGCCCCAAAGCUGCCAAAGG...              215   \n",
       "3  CCAAUGUGGAUAUCCUUAGAGGUCUCUCUUGGGCUCUGUCCAGGUG...              222   \n",
       "4  UUUCGUUCACCCUCAAUUGAGGGCGCAGUUCGAGUCAUACCAUGGA...               58   \n",
       "\n",
       "   %C_content  %U_content  %A_content  %G_content  %N_content  \n",
       "0   29.468599   19.806763   22.222222   28.502415         0.0  \n",
       "1   23.737374   26.767677   26.262626   23.232323         0.0  \n",
       "2   24.186047   24.186047   26.511628   25.116279         0.0  \n",
       "3   24.774775   24.774775   24.774775   25.675676         0.0  \n",
       "4   24.137931   24.137931   20.689655   31.034483         0.0  "
      ]
     },
     "execution_count": 49,
     "metadata": {},
     "output_type": "execute_result"
    }
   ],
   "source": [
    "df.head()"
   ]
  },
  {
   "attachments": {},
   "cell_type": "markdown",
   "metadata": {},
   "source": [
    "## 1. Data partitionning based on sequence length"
   ]
  },
  {
   "attachments": {},
   "cell_type": "markdown",
   "metadata": {},
   "source": [
    "### Explore the distributions "
   ]
  },
  {
   "cell_type": "code",
   "execution_count": 53,
   "metadata": {},
   "outputs": [],
   "source": [
    "# Check distributions\n",
    "def get_distributions(data, features, plt_rows, plt_cols, feat_color=True, hue=None, bins='auto', binwidth=None, kde=True):\n",
    "    # Square subplots\n",
    "    fig, axes = plt.subplots(plt_rows, plt_cols, figsize=(8,10))\n",
    "    axes = axes.ravel()\n",
    "\n",
    "    for i, feat in enumerate(features):\n",
    "        if feat_color:\n",
    "            plot = sns.histplot(data=data, x=feat, kde=kde, ax=axes[i], hue=hue, bins=bins, binwidth=binwidth, color=sns.color_palette()[i])\n",
    "        else :\n",
    "            feat_color = None\n",
    "            plot = sns.histplot(data=data, x=feat, kde=kde, ax=axes[i], hue=hue, bins=bins, binwidth=binwidth, color=feat_color)\n",
    "        plot.set(title=f\"Distribution for : {feat}\")\n",
    "        plot.set(xlabel=\"\")\n",
    "\n",
    "    fig.tight_layout()"
   ]
  },
  {
   "cell_type": "code",
   "execution_count": 51,
   "metadata": {},
   "outputs": [
    {
     "data": {
      "text/plain": [
       "Index(['sequence_length', '%C_content', '%U_content', '%A_content',\n",
       "       '%G_content', '%N_content'],\n",
       "      dtype='object')"
      ]
     },
     "execution_count": 51,
     "metadata": {},
     "output_type": "execute_result"
    }
   ],
   "source": [
    "df.columns[2:]"
   ]
  },
  {
   "cell_type": "code",
   "execution_count": 58,
   "metadata": {},
   "outputs": [
    {
     "data": {
      "image/png": "[encoded data removed]",
      "text/plain": [
       "<Figure size 800x1000 with 6 Axes>"
      ]
     },
     "metadata": {},
     "output_type": "display_data"
    }
   ],
   "source": [
    "get_distributions(\n",
    "    data=df,\n",
    "    features=df.columns[2:],\n",
    "    plt_rows=3,\n",
    "    plt_cols=2,\n",
    ")"
   ]
  },
  {
   "attachments": {},
   "cell_type": "markdown",
   "metadata": {},
   "source": [
    "Looking like normal distributions for the %content of all nucleotides except for the C content"
   ]
  },
  {
   "attachments": {},
   "cell_type": "markdown",
   "metadata": {},
   "source": [
    "**Let's explore the sequence length with a thinner binwidth since it is the feature we are the most interested in and we want to partition the data based on this feature**"
   ]
  },
  {
   "cell_type": "code",
   "execution_count": 68,
   "metadata": {},
   "outputs": [
    {
     "data": {
      "text/plain": [
       "[Text(0.5, 0, '')]"
      ]
     },
     "execution_count": 68,
     "metadata": {},
     "output_type": "execute_result"
    },
    {
     "data": {
      "image/png": "[encoded data removed]",
      "text/plain": [
       "<Figure size 640x480 with 1 Axes>"
      ]
     },
     "metadata": {},
     "output_type": "display_data"
    }
   ],
   "source": [
    "# Explore sequence length distribution with thinner bins\n",
    "plot = sns.histplot(data=df, x=\"sequence_length\", kde=True, bins=\"auto\", binwidth=5)\n",
    "plot.set(title=\"sequence length distributions \\n(binned in seqlen of 5 nucleotides increment)\")\n",
    "plot.set(xlabel=\"\")"
   ]
  },
  {
   "attachments": {},
   "cell_type": "markdown",
   "metadata": {},
   "source": [
    "**Looking at the distributions, I propose that we split the data into 4 groups of different lengths :**\n",
    "\n",
    "1. "
   ]
  }
 ],
 "metadata": {
  "kernelspec": {
   "display_name": "py3_ds",
   "language": "python",
   "name": "python3"
  },
  "language_info": {
   "codemirror_mode": {
    "name": "ipython",
    "version": 3
   },
   "file_extension": ".py",
   "mimetype": "text/x-python",
   "name": "python",
   "nbconvert_exporter": "python",
   "pygments_lexer": "ipython3",
   "version": "3.8.10"
  },
  "orig_nbformat": 4
 },
 "nbformat": 4,
 "nbformat_minor": 2
}
