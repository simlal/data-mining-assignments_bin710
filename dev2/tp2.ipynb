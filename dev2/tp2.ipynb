{
 "cells": [
  {
   "attachments": {},
   "cell_type": "markdown",
   "metadata": {},
   "source": [
    "# TP2: Preprocessing and data visualization\n",
    "\n",
    "## Winter 2023 - BIN710 Data Mining (UdeS)\n",
    "\n",
    "Second assignement as part of the Data Mining class at UdeS.\n",
    "\n",
    "Student name : Simon Lalonde\n",
    "\n",
    "### Directory structure\n",
    "\n",
    "├── package2.csv    ---> Data\n",
    "\n",
    "├── product2.csv    ---> Data\n",
    "\n",
    "├── tp1.ipynb   ---> Jupyter Notebook\n",
    "\n",
    "└── TP1.pdf    ---> Tasks to complete\n",
    "\n",
    "### Data\n",
    "2 files for each dataset and both have the *byte signature*, meaning when compared byte by byte they are similar.\n",
    "\n",
    "NDC = National Drug Code\n",
    "\n",
    "### Metadata\n",
    "Description for the 2 data files used : \n",
    "- [Product](https://www.fda.gov/drugs/drug-approvals-and-databases/ndc-product-file-definitions)\n",
    "- [Package](https://www.fda.gov/drugs/drug-approvals-and-databases/ndc-package-file-definitions)\n",
    "\n",
    "### Goal\n",
    "Use preprocessing and data visualization techniques on FDA drugs databases\n",
    "\n",
    "---"
   ]
  },
  {
   "attachments": {},
   "cell_type": "markdown",
   "metadata": {},
   "source": [
    "## 1, 2 and 3 : Data verification and cleaning for individual tables (coherence, types, redundency etc.)"
   ]
  },
  {
   "attachments": {},
   "cell_type": "markdown",
   "metadata": {},
   "source": [
    "Importing all required libraries and modules. Reading file to dataframe with proper encoding"
   ]
  },
  {
   "cell_type": "code",
   "execution_count": 1,
   "metadata": {},
   "outputs": [],
   "source": [
    "from pathlib import Path\n",
    "\n",
    "import pandas as pd\n",
    "import numpy as np\n",
    "\n",
    "from sklearn.preprocessing import OneHotEncoder"
   ]
  },
  {
   "cell_type": "code",
   "execution_count": 2,
   "metadata": {},
   "outputs": [],
   "source": [
    "root_dir = Path.cwd()\n",
    "pack = pd.read_csv(root_dir / \"package2.csv\", delimiter=\";\")\n",
    "prod = pd.read_csv(root_dir / \"product2.csv\", delimiter=\";\", encoding=\"ISO-8859-1\")    # Latin-1 encoding\n",
    "\n"
   ]
  },
  {
   "attachments": {},
   "cell_type": "markdown",
   "metadata": {},
   "source": [
    "### Exploring and cleaning the product data table"
   ]
  },
  {
   "cell_type": "code",
   "execution_count": 3,
   "metadata": {},
   "outputs": [
    {
     "data": {
      "text/html": [
       "<div>\n",
       "<style scoped>\n",
       "    .dataframe tbody tr th:only-of-type {\n",
       "        vertical-align: middle;\n",
       "    }\n",
       "\n",
       "    .dataframe tbody tr th {\n",
       "        vertical-align: top;\n",
       "    }\n",
       "\n",
       "    .dataframe thead th {\n",
       "        text-align: right;\n",
       "    }\n",
       "</style>\n",
       "<table border=\"1\" class=\"dataframe\">\n",
       "  <thead>\n",
       "    <tr style=\"text-align: right;\">\n",
       "      <th></th>\n",
       "      <th>PRODUCTID</th>\n",
       "      <th>PRODUCTNDC</th>\n",
       "      <th>PRODUCTTYPENAME</th>\n",
       "      <th>PROPRIETARYNAME</th>\n",
       "      <th>PROPRIETARYNAMESUFFIX</th>\n",
       "      <th>NONPROPRIETARYNAME</th>\n",
       "      <th>DOSAGEFORMNAME</th>\n",
       "      <th>ROUTENAME</th>\n",
       "      <th>STARTMARKETINGDATE</th>\n",
       "      <th>ENDMARKETINGDATE</th>\n",
       "      <th>MARKETINGCATEGORYNAME</th>\n",
       "      <th>APPLICATIONNUMBER</th>\n",
       "      <th>LABELERNAME</th>\n",
       "      <th>SUBSTANCENAME</th>\n",
       "      <th>ACTIVE_NUMERATOR_STRENGTH</th>\n",
       "      <th>ACTIVE_INGRED_UNIT</th>\n",
       "      <th>PHARM_CLASSES</th>\n",
       "      <th>DEASCHEDULE</th>\n",
       "      <th>NDC_EXCLUDE_FLAG</th>\n",
       "      <th>LISTING_RECORD_CERTIFIED_THROUGH</th>\n",
       "    </tr>\n",
       "  </thead>\n",
       "  <tbody>\n",
       "    <tr>\n",
       "      <th>0</th>\n",
       "      <td>NaN</td>\n",
       "      <td>0002-0800</td>\n",
       "      <td>HUMAN OTC DRUG</td>\n",
       "      <td>Sterile Diluent</td>\n",
       "      <td>NaN</td>\n",
       "      <td>diluent</td>\n",
       "      <td>INJECTION, SOLUTION</td>\n",
       "      <td>SUBCUTANEOUS</td>\n",
       "      <td>19870710</td>\n",
       "      <td>NaN</td>\n",
       "      <td>NDA</td>\n",
       "      <td>NDA018781</td>\n",
       "      <td>10</td>\n",
       "      <td>WATER</td>\n",
       "      <td>1</td>\n",
       "      <td>mL/mL</td>\n",
       "      <td>NaN</td>\n",
       "      <td>NaN</td>\n",
       "      <td>N</td>\n",
       "      <td>20201231.0</td>\n",
       "    </tr>\n",
       "    <tr>\n",
       "      <th>1</th>\n",
       "      <td>NaN</td>\n",
       "      <td>0002-1200</td>\n",
       "      <td>HUMAN PRESCRIPTION DRUG</td>\n",
       "      <td>Amyvid</td>\n",
       "      <td>NaN</td>\n",
       "      <td>Florbetapir F 18</td>\n",
       "      <td>INJECTION, SOLUTION</td>\n",
       "      <td>INTRAVENOUS</td>\n",
       "      <td>20120601</td>\n",
       "      <td>NaN</td>\n",
       "      <td>NDA</td>\n",
       "      <td>NDA202008</td>\n",
       "      <td>10</td>\n",
       "      <td>FLORBETAPIR F-18</td>\n",
       "      <td>51</td>\n",
       "      <td>mCi/mL</td>\n",
       "      <td>Radioactive Diagnostic Agent [EPC],Positron Em...</td>\n",
       "      <td>NaN</td>\n",
       "      <td>N</td>\n",
       "      <td>20211231.0</td>\n",
       "    </tr>\n",
       "    <tr>\n",
       "      <th>2</th>\n",
       "      <td>NaN</td>\n",
       "      <td>0002-1433</td>\n",
       "      <td>HUMAN PRESCRIPTION DRUG</td>\n",
       "      <td>Trulicity</td>\n",
       "      <td>NaN</td>\n",
       "      <td>Dulaglutide</td>\n",
       "      <td>INJECTION, SOLUTION</td>\n",
       "      <td>SUBCUTANEOUS</td>\n",
       "      <td>20140918</td>\n",
       "      <td>NaN</td>\n",
       "      <td>BLA</td>\n",
       "      <td>BLA125469</td>\n",
       "      <td>10</td>\n",
       "      <td>DULAGLUTIDE</td>\n",
       "      <td>.75</td>\n",
       "      <td>mg/.5mL</td>\n",
       "      <td>GLP-1 Receptor Agonist [EPC],Glucagon-Like Pep...</td>\n",
       "      <td>NaN</td>\n",
       "      <td>N</td>\n",
       "      <td>20201231.0</td>\n",
       "    </tr>\n",
       "    <tr>\n",
       "      <th>3</th>\n",
       "      <td>NaN</td>\n",
       "      <td>0002-1434</td>\n",
       "      <td>HUMAN PRESCRIPTION DRUG</td>\n",
       "      <td>Trulicity</td>\n",
       "      <td>NaN</td>\n",
       "      <td>Dulaglutide</td>\n",
       "      <td>INJECTION, SOLUTION</td>\n",
       "      <td>SUBCUTANEOUS</td>\n",
       "      <td>20140918</td>\n",
       "      <td>NaN</td>\n",
       "      <td>BLA</td>\n",
       "      <td>BLA125469</td>\n",
       "      <td>10</td>\n",
       "      <td>DULAGLUTIDE</td>\n",
       "      <td>1.5</td>\n",
       "      <td>mg/.5mL</td>\n",
       "      <td>GLP-1 Receptor Agonist [EPC],Glucagon-Like Pep...</td>\n",
       "      <td>NaN</td>\n",
       "      <td>N</td>\n",
       "      <td>20201231.0</td>\n",
       "    </tr>\n",
       "    <tr>\n",
       "      <th>4</th>\n",
       "      <td>NaN</td>\n",
       "      <td>0002-1436</td>\n",
       "      <td>HUMAN PRESCRIPTION DRUG</td>\n",
       "      <td>EMGALITY</td>\n",
       "      <td>NaN</td>\n",
       "      <td>galcanezumab</td>\n",
       "      <td>INJECTION, SOLUTION</td>\n",
       "      <td>SUBCUTANEOUS</td>\n",
       "      <td>20180927</td>\n",
       "      <td>NaN</td>\n",
       "      <td>BLA</td>\n",
       "      <td>BLA761063</td>\n",
       "      <td>10</td>\n",
       "      <td>GALCANEZUMAB</td>\n",
       "      <td>120</td>\n",
       "      <td>mg/mL</td>\n",
       "      <td>NaN</td>\n",
       "      <td>NaN</td>\n",
       "      <td>N</td>\n",
       "      <td>20201231.0</td>\n",
       "    </tr>\n",
       "  </tbody>\n",
       "</table>\n",
       "</div>"
      ],
      "text/plain": [
       "  PRODUCTID PRODUCTNDC          PRODUCTTYPENAME  PROPRIETARYNAME  \\\n",
       "0       NaN  0002-0800           HUMAN OTC DRUG  Sterile Diluent   \n",
       "1       NaN  0002-1200  HUMAN PRESCRIPTION DRUG           Amyvid   \n",
       "2       NaN  0002-1433  HUMAN PRESCRIPTION DRUG        Trulicity   \n",
       "3       NaN  0002-1434  HUMAN PRESCRIPTION DRUG        Trulicity   \n",
       "4       NaN  0002-1436  HUMAN PRESCRIPTION DRUG         EMGALITY   \n",
       "\n",
       "  PROPRIETARYNAMESUFFIX NONPROPRIETARYNAME       DOSAGEFORMNAME     ROUTENAME  \\\n",
       "0                   NaN            diluent  INJECTION, SOLUTION  SUBCUTANEOUS   \n",
       "1                   NaN   Florbetapir F 18  INJECTION, SOLUTION   INTRAVENOUS   \n",
       "2                   NaN        Dulaglutide  INJECTION, SOLUTION  SUBCUTANEOUS   \n",
       "3                   NaN        Dulaglutide  INJECTION, SOLUTION  SUBCUTANEOUS   \n",
       "4                   NaN       galcanezumab  INJECTION, SOLUTION  SUBCUTANEOUS   \n",
       "\n",
       "   STARTMARKETINGDATE  ENDMARKETINGDATE MARKETINGCATEGORYNAME  \\\n",
       "0            19870710               NaN                   NDA   \n",
       "1            20120601               NaN                   NDA   \n",
       "2            20140918               NaN                   BLA   \n",
       "3            20140918               NaN                   BLA   \n",
       "4            20180927               NaN                   BLA   \n",
       "\n",
       "  APPLICATIONNUMBER LABELERNAME     SUBSTANCENAME ACTIVE_NUMERATOR_STRENGTH  \\\n",
       "0         NDA018781          10             WATER                         1   \n",
       "1         NDA202008          10  FLORBETAPIR F-18                        51   \n",
       "2         BLA125469          10       DULAGLUTIDE                       .75   \n",
       "3         BLA125469          10       DULAGLUTIDE                       1.5   \n",
       "4         BLA761063          10      GALCANEZUMAB                       120   \n",
       "\n",
       "  ACTIVE_INGRED_UNIT                                      PHARM_CLASSES  \\\n",
       "0              mL/mL                                                NaN   \n",
       "1             mCi/mL  Radioactive Diagnostic Agent [EPC],Positron Em...   \n",
       "2            mg/.5mL  GLP-1 Receptor Agonist [EPC],Glucagon-Like Pep...   \n",
       "3            mg/.5mL  GLP-1 Receptor Agonist [EPC],Glucagon-Like Pep...   \n",
       "4              mg/mL                                                NaN   \n",
       "\n",
       "  DEASCHEDULE NDC_EXCLUDE_FLAG  LISTING_RECORD_CERTIFIED_THROUGH  \n",
       "0         NaN                N                        20201231.0  \n",
       "1         NaN                N                        20211231.0  \n",
       "2         NaN                N                        20201231.0  \n",
       "3         NaN                N                        20201231.0  \n",
       "4         NaN                N                        20201231.0  "
      ]
     },
     "execution_count": 3,
     "metadata": {},
     "output_type": "execute_result"
    }
   ],
   "source": [
    "prod.head()"
   ]
  },
  {
   "cell_type": "code",
   "execution_count": 4,
   "metadata": {},
   "outputs": [
    {
     "name": "stdout",
     "output_type": "stream",
     "text": [
      "Product dataframe has 93238 objects and 20 columns.\n"
     ]
    }
   ],
   "source": [
    "print(f\"Product dataframe has {prod.shape[0]} objects and {prod.shape[1]} columns.\") "
   ]
  },
  {
   "cell_type": "code",
   "execution_count": 5,
   "metadata": {},
   "outputs": [
    {
     "name": "stdout",
     "output_type": "stream",
     "text": [
      " There are 3 numerical columns :\n",
      "\n",
      "['STARTMARKETINGDATE', 'ENDMARKETINGDATE', 'LISTING_RECORD_CERTIFIED_THROUGH']\n"
     ]
    }
   ],
   "source": [
    "print(f\" There are {len(prod.dtypes[prod.dtypes != 'object'])} numerical columns :\\n\") \n",
    "print(prod.dtypes[prod.dtypes != \"object\"].index.to_list())"
   ]
  },
  {
   "cell_type": "code",
   "execution_count": 6,
   "metadata": {},
   "outputs": [
    {
     "name": "stdout",
     "output_type": "stream",
     "text": [
      " There are 17 non-numerical columns :\n",
      "\n",
      "['PRODUCTID', 'PRODUCTNDC', 'PRODUCTTYPENAME', 'PROPRIETARYNAME', 'PROPRIETARYNAMESUFFIX', 'NONPROPRIETARYNAME', 'DOSAGEFORMNAME', 'ROUTENAME', 'MARKETINGCATEGORYNAME', 'APPLICATIONNUMBER', 'LABELERNAME', 'SUBSTANCENAME', 'ACTIVE_NUMERATOR_STRENGTH', 'ACTIVE_INGRED_UNIT', 'PHARM_CLASSES', 'DEASCHEDULE', 'NDC_EXCLUDE_FLAG']\n"
     ]
    }
   ],
   "source": [
    "print(f\" There are {len(prod.dtypes[prod.dtypes == 'object'])} non-numerical columns :\\n\") \n",
    "print(prod.dtypes[prod.dtypes == \"object\"].index.to_list())"
   ]
  },
  {
   "attachments": {},
   "cell_type": "markdown",
   "metadata": {},
   "source": [
    "Looking at null/missing values for each feature. We see some feature with very high missing vals such as ProrietaryNameSuffix, EndMarketingDate and DeaSchedule. It makes sense since these are not missing per-se but information on the object itself (No need for suffix on Rx, does have a known end marketing date and no classification of dependency potential respectively)"
   ]
  },
  {
   "cell_type": "code",
   "execution_count": 7,
   "metadata": {},
   "outputs": [
    {
     "data": {
      "text/plain": [
       "PRODUCTID                            1560\n",
       "PRODUCTNDC                              0\n",
       "PRODUCTTYPENAME                         0\n",
       "PROPRIETARYNAME                         6\n",
       "PROPRIETARYNAMESUFFIX               83075\n",
       "NONPROPRIETARYNAME                      4\n",
       "DOSAGEFORMNAME                          0\n",
       "ROUTENAME                            1932\n",
       "STARTMARKETINGDATE                      0\n",
       "ENDMARKETINGDATE                    88915\n",
       "MARKETINGCATEGORYNAME                   0\n",
       "APPLICATIONNUMBER                   13097\n",
       "LABELERNAME                             0\n",
       "SUBSTANCENAME                        2309\n",
       "ACTIVE_NUMERATOR_STRENGTH            2309\n",
       "ACTIVE_INGRED_UNIT                   2309\n",
       "PHARM_CLASSES                       50984\n",
       "DEASCHEDULE                         88815\n",
       "NDC_EXCLUDE_FLAG                        0\n",
       "LISTING_RECORD_CERTIFIED_THROUGH     4325\n",
       "dtype: int64"
      ]
     },
     "execution_count": 7,
     "metadata": {},
     "output_type": "execute_result"
    }
   ],
   "source": [
    "prod.isnull().sum()"
   ]
  },
  {
   "attachments": {},
   "cell_type": "markdown",
   "metadata": {},
   "source": [
    "ProductID is supposed to be composed of ProductNDC and other information. Let's look if if's true"
   ]
  },
  {
   "cell_type": "code",
   "execution_count": 8,
   "metadata": {},
   "outputs": [
    {
     "name": "stdout",
     "output_type": "stream",
     "text": [
      "Num objects with no NA in ProdID/NDC : 91678\n"
     ]
    }
   ],
   "source": [
    "print(f\"Num objects with no NA in ProdID/NDC : {len(prod[['PRODUCTID', 'PRODUCTNDC']].dropna())}\")"
   ]
  },
  {
   "cell_type": "code",
   "execution_count": 9,
   "metadata": {},
   "outputs": [
    {
     "name": "stdout",
     "output_type": "stream",
     "text": [
      "Num objects with NDC code within ID col : 91165\n"
     ]
    }
   ],
   "source": [
    "print(f\"Num objects with NDC code within ID col : {prod[['PRODUCTID', 'PRODUCTNDC']].dropna().apply(lambda x : x.PRODUCTNDC in x.PRODUCTID, axis=1).sum()}\")"
   ]
  },
  {
   "cell_type": "code",
   "execution_count": 10,
   "metadata": {},
   "outputs": [
    {
     "data": {
      "text/html": [
       "<div>\n",
       "<style scoped>\n",
       "    .dataframe tbody tr th:only-of-type {\n",
       "        vertical-align: middle;\n",
       "    }\n",
       "\n",
       "    .dataframe tbody tr th {\n",
       "        vertical-align: top;\n",
       "    }\n",
       "\n",
       "    .dataframe thead th {\n",
       "        text-align: right;\n",
       "    }\n",
       "</style>\n",
       "<table border=\"1\" class=\"dataframe\">\n",
       "  <thead>\n",
       "    <tr style=\"text-align: right;\">\n",
       "      <th></th>\n",
       "      <th>PRODUCTID</th>\n",
       "      <th>PRODUCTNDC</th>\n",
       "      <th>PRODUCTTYPENAME</th>\n",
       "      <th>PROPRIETARYNAME</th>\n",
       "      <th>PROPRIETARYNAMESUFFIX</th>\n",
       "      <th>NONPROPRIETARYNAME</th>\n",
       "      <th>DOSAGEFORMNAME</th>\n",
       "      <th>ROUTENAME</th>\n",
       "      <th>STARTMARKETINGDATE</th>\n",
       "      <th>ENDMARKETINGDATE</th>\n",
       "      <th>MARKETINGCATEGORYNAME</th>\n",
       "      <th>APPLICATIONNUMBER</th>\n",
       "      <th>LABELERNAME</th>\n",
       "      <th>SUBSTANCENAME</th>\n",
       "      <th>ACTIVE_NUMERATOR_STRENGTH</th>\n",
       "      <th>ACTIVE_INGRED_UNIT</th>\n",
       "      <th>PHARM_CLASSES</th>\n",
       "      <th>DEASCHEDULE</th>\n",
       "      <th>NDC_EXCLUDE_FLAG</th>\n",
       "      <th>LISTING_RECORD_CERTIFIED_THROUGH</th>\n",
       "    </tr>\n",
       "  </thead>\n",
       "  <tbody>\n",
       "    <tr>\n",
       "      <th>20</th>\n",
       "      <td>0002-3251_67a53369-eead-4f2c-afe9-f3274899c47e</td>\n",
       "      <td>0002-3251</td>\n",
       "      <td>HUMAN PRESCRIPTION DRUG</td>\n",
       "      <td>Strattera</td>\n",
       "      <td>NaN</td>\n",
       "      <td>Atomoxetine hydrochloride</td>\n",
       "      <td>CAPSULE</td>\n",
       "      <td>ORAL</td>\n",
       "      <td>20050214</td>\n",
       "      <td>NaN</td>\n",
       "      <td>NDA</td>\n",
       "      <td>NDA021411</td>\n",
       "      <td>10</td>\n",
       "      <td>ATOMOXETINE HYDROCHLORIDE</td>\n",
       "      <td>100</td>\n",
       "      <td>mg/1</td>\n",
       "      <td>Norepinephrine Reuptake Inhibitor [EPC],Norepi...</td>\n",
       "      <td>NaN</td>\n",
       "      <td>N</td>\n",
       "      <td>20211231.0</td>\n",
       "    </tr>\n",
       "    <tr>\n",
       "      <th>21</th>\n",
       "      <td>0002-3270_06e2a1f2-459c-45aa-9341-54e36f7726a7</td>\n",
       "      <td>0002-3270</td>\n",
       "      <td>HUMAN PRESCRIPTION DRUG</td>\n",
       "      <td>Cymbalta</td>\n",
       "      <td>NaN</td>\n",
       "      <td>Duloxetine hydrochloride</td>\n",
       "      <td>CAPSULE, DELAYED RELEASE</td>\n",
       "      <td>ORAL</td>\n",
       "      <td>20100115</td>\n",
       "      <td>NaN</td>\n",
       "      <td>NDA</td>\n",
       "      <td>NDA021427</td>\n",
       "      <td>10</td>\n",
       "      <td>DULOXETINE HYDROCHLORIDE</td>\n",
       "      <td>60</td>\n",
       "      <td>mg/1</td>\n",
       "      <td>Norepinephrine Uptake Inhibitors [MoA],Seroton...</td>\n",
       "      <td>NaN</td>\n",
       "      <td>N</td>\n",
       "      <td>20201231.0</td>\n",
       "    </tr>\n",
       "    <tr>\n",
       "      <th>22</th>\n",
       "      <td>0002-4112_d561034d-ea58-45fe-9d07-2e9eba98c2e4</td>\n",
       "      <td>0002-4112</td>\n",
       "      <td>HUMAN PRESCRIPTION DRUG</td>\n",
       "      <td>Zyprexa</td>\n",
       "      <td>NaN</td>\n",
       "      <td>Olanzapine</td>\n",
       "      <td>TABLET</td>\n",
       "      <td>ORAL</td>\n",
       "      <td>19970623</td>\n",
       "      <td>NaN</td>\n",
       "      <td>NDA</td>\n",
       "      <td>NDA020592</td>\n",
       "      <td>10</td>\n",
       "      <td>OLANZAPINE</td>\n",
       "      <td>2.5</td>\n",
       "      <td>mg/1</td>\n",
       "      <td>Atypical Antipsychotic [EPC]</td>\n",
       "      <td>NaN</td>\n",
       "      <td>N</td>\n",
       "      <td>20201231.0</td>\n",
       "    </tr>\n",
       "    <tr>\n",
       "      <th>23</th>\n",
       "      <td>0002-4115_d561034d-ea58-45fe-9d07-2e9eba98c2e4</td>\n",
       "      <td>0002-4115</td>\n",
       "      <td>HUMAN PRESCRIPTION DRUG</td>\n",
       "      <td>Zyprexa</td>\n",
       "      <td>NaN</td>\n",
       "      <td>Olanzapine</td>\n",
       "      <td>TABLET</td>\n",
       "      <td>ORAL</td>\n",
       "      <td>19961001</td>\n",
       "      <td>NaN</td>\n",
       "      <td>NDA</td>\n",
       "      <td>NDA020592</td>\n",
       "      <td>10</td>\n",
       "      <td>OLANZAPINE</td>\n",
       "      <td>5</td>\n",
       "      <td>mg/1</td>\n",
       "      <td>Atypical Antipsychotic [EPC]</td>\n",
       "      <td>NaN</td>\n",
       "      <td>N</td>\n",
       "      <td>20201231.0</td>\n",
       "    </tr>\n",
       "    <tr>\n",
       "      <th>24</th>\n",
       "      <td>0002-4116_d561034d-ea58-45fe-9d07-2e9eba98c2e4</td>\n",
       "      <td>0002-4116</td>\n",
       "      <td>HUMAN PRESCRIPTION DRUG</td>\n",
       "      <td>Zyprexa</td>\n",
       "      <td>NaN</td>\n",
       "      <td>Olanzapine</td>\n",
       "      <td>TABLET</td>\n",
       "      <td>ORAL</td>\n",
       "      <td>19961001</td>\n",
       "      <td>NaN</td>\n",
       "      <td>NDA</td>\n",
       "      <td>NDA020592</td>\n",
       "      <td>10</td>\n",
       "      <td>OLANZAPINE</td>\n",
       "      <td>7.5</td>\n",
       "      <td>mg/1</td>\n",
       "      <td>Atypical Antipsychotic [EPC]</td>\n",
       "      <td>NaN</td>\n",
       "      <td>N</td>\n",
       "      <td>20201231.0</td>\n",
       "    </tr>\n",
       "  </tbody>\n",
       "</table>\n",
       "</div>"
      ],
      "text/plain": [
       "                                         PRODUCTID PRODUCTNDC  \\\n",
       "20  0002-3251_67a53369-eead-4f2c-afe9-f3274899c47e  0002-3251   \n",
       "21  0002-3270_06e2a1f2-459c-45aa-9341-54e36f7726a7  0002-3270   \n",
       "22  0002-4112_d561034d-ea58-45fe-9d07-2e9eba98c2e4  0002-4112   \n",
       "23  0002-4115_d561034d-ea58-45fe-9d07-2e9eba98c2e4  0002-4115   \n",
       "24  0002-4116_d561034d-ea58-45fe-9d07-2e9eba98c2e4  0002-4116   \n",
       "\n",
       "            PRODUCTTYPENAME PROPRIETARYNAME PROPRIETARYNAMESUFFIX  \\\n",
       "20  HUMAN PRESCRIPTION DRUG       Strattera                   NaN   \n",
       "21  HUMAN PRESCRIPTION DRUG        Cymbalta                   NaN   \n",
       "22  HUMAN PRESCRIPTION DRUG         Zyprexa                   NaN   \n",
       "23  HUMAN PRESCRIPTION DRUG         Zyprexa                   NaN   \n",
       "24  HUMAN PRESCRIPTION DRUG         Zyprexa                   NaN   \n",
       "\n",
       "           NONPROPRIETARYNAME            DOSAGEFORMNAME ROUTENAME  \\\n",
       "20  Atomoxetine hydrochloride                   CAPSULE      ORAL   \n",
       "21   Duloxetine hydrochloride  CAPSULE, DELAYED RELEASE      ORAL   \n",
       "22                 Olanzapine                    TABLET      ORAL   \n",
       "23                 Olanzapine                    TABLET      ORAL   \n",
       "24                 Olanzapine                    TABLET      ORAL   \n",
       "\n",
       "    STARTMARKETINGDATE  ENDMARKETINGDATE MARKETINGCATEGORYNAME  \\\n",
       "20            20050214               NaN                   NDA   \n",
       "21            20100115               NaN                   NDA   \n",
       "22            19970623               NaN                   NDA   \n",
       "23            19961001               NaN                   NDA   \n",
       "24            19961001               NaN                   NDA   \n",
       "\n",
       "   APPLICATIONNUMBER LABELERNAME              SUBSTANCENAME  \\\n",
       "20         NDA021411          10  ATOMOXETINE HYDROCHLORIDE   \n",
       "21         NDA021427          10   DULOXETINE HYDROCHLORIDE   \n",
       "22         NDA020592          10                 OLANZAPINE   \n",
       "23         NDA020592          10                 OLANZAPINE   \n",
       "24         NDA020592          10                 OLANZAPINE   \n",
       "\n",
       "   ACTIVE_NUMERATOR_STRENGTH ACTIVE_INGRED_UNIT  \\\n",
       "20                       100               mg/1   \n",
       "21                        60               mg/1   \n",
       "22                       2.5               mg/1   \n",
       "23                         5               mg/1   \n",
       "24                       7.5               mg/1   \n",
       "\n",
       "                                        PHARM_CLASSES DEASCHEDULE  \\\n",
       "20  Norepinephrine Reuptake Inhibitor [EPC],Norepi...         NaN   \n",
       "21  Norepinephrine Uptake Inhibitors [MoA],Seroton...         NaN   \n",
       "22                       Atypical Antipsychotic [EPC]         NaN   \n",
       "23                       Atypical Antipsychotic [EPC]         NaN   \n",
       "24                       Atypical Antipsychotic [EPC]         NaN   \n",
       "\n",
       "   NDC_EXCLUDE_FLAG  LISTING_RECORD_CERTIFIED_THROUGH  \n",
       "20                N                        20211231.0  \n",
       "21                N                        20201231.0  \n",
       "22                N                        20201231.0  \n",
       "23                N                        20201231.0  \n",
       "24                N                        20201231.0  "
      ]
     },
     "execution_count": 10,
     "metadata": {},
     "output_type": "execute_result"
    }
   ],
   "source": [
    "prod[prod['PRODUCTID'].notna()].head()"
   ]
  },
  {
   "cell_type": "code",
   "execution_count": 11,
   "metadata": {},
   "outputs": [
    {
     "name": "stdout",
     "output_type": "stream",
     "text": [
      "Num objects with incoherent ID and NDC : 513\n"
     ]
    }
   ],
   "source": [
    "id_ndc_incoherent = prod[prod['PRODUCTID'].notna()][prod[['PRODUCTID', 'PRODUCTNDC']].dropna().apply(lambda x : x.PRODUCTNDC not in x.PRODUCTID, axis=1)]\n",
    "print(f\"Num objects with incoherent ID and NDC : {len(id_ndc_incoherent)}\")"
   ]
  },
  {
   "cell_type": "code",
   "execution_count": 12,
   "metadata": {},
   "outputs": [
    {
     "data": {
      "text/html": [
       "<div>\n",
       "<style scoped>\n",
       "    .dataframe tbody tr th:only-of-type {\n",
       "        vertical-align: middle;\n",
       "    }\n",
       "\n",
       "    .dataframe tbody tr th {\n",
       "        vertical-align: top;\n",
       "    }\n",
       "\n",
       "    .dataframe thead th {\n",
       "        text-align: right;\n",
       "    }\n",
       "</style>\n",
       "<table border=\"1\" class=\"dataframe\">\n",
       "  <thead>\n",
       "    <tr style=\"text-align: right;\">\n",
       "      <th></th>\n",
       "      <th>PRODUCTID</th>\n",
       "      <th>PRODUCTNDC</th>\n",
       "      <th>PRODUCTTYPENAME</th>\n",
       "      <th>PROPRIETARYNAME</th>\n",
       "      <th>PROPRIETARYNAMESUFFIX</th>\n",
       "      <th>NONPROPRIETARYNAME</th>\n",
       "      <th>DOSAGEFORMNAME</th>\n",
       "      <th>ROUTENAME</th>\n",
       "      <th>STARTMARKETINGDATE</th>\n",
       "      <th>ENDMARKETINGDATE</th>\n",
       "      <th>MARKETINGCATEGORYNAME</th>\n",
       "      <th>APPLICATIONNUMBER</th>\n",
       "      <th>LABELERNAME</th>\n",
       "      <th>SUBSTANCENAME</th>\n",
       "      <th>ACTIVE_NUMERATOR_STRENGTH</th>\n",
       "      <th>ACTIVE_INGRED_UNIT</th>\n",
       "      <th>PHARM_CLASSES</th>\n",
       "      <th>DEASCHEDULE</th>\n",
       "      <th>NDC_EXCLUDE_FLAG</th>\n",
       "      <th>LISTING_RECORD_CERTIFIED_THROUGH</th>\n",
       "    </tr>\n",
       "  </thead>\n",
       "  <tbody>\n",
       "    <tr>\n",
       "      <th>159</th>\n",
       "      <td>0006-0005_0c7a3452-ecb2-4f66-ad52-94f8eaf8cde8</td>\n",
       "      <td>05-juin</td>\n",
       "      <td>HUMAN PRESCRIPTION DRUG</td>\n",
       "      <td>BELSOMRA</td>\n",
       "      <td>NaN</td>\n",
       "      <td>suvorexant</td>\n",
       "      <td>TABLET, FILM COATED</td>\n",
       "      <td>ORAL</td>\n",
       "      <td>20140829</td>\n",
       "      <td>NaN</td>\n",
       "      <td>NDA</td>\n",
       "      <td>NDA204569</td>\n",
       "      <td>10</td>\n",
       "      <td>SUVOREXANT</td>\n",
       "      <td>5</td>\n",
       "      <td>mg/1</td>\n",
       "      <td>Orexin Receptor Antagonist [EPC],Orexin Recept...</td>\n",
       "      <td>CIV</td>\n",
       "      <td>N</td>\n",
       "      <td>20211231.0</td>\n",
       "    </tr>\n",
       "    <tr>\n",
       "      <th>160</th>\n",
       "      <td>0006-0019_54e9c31a-9429-4842-b2d6-0cc1e5ad613c</td>\n",
       "      <td>19-juin</td>\n",
       "      <td>HUMAN PRESCRIPTION DRUG</td>\n",
       "      <td>PRINIVIL</td>\n",
       "      <td>NaN</td>\n",
       "      <td>lisinopril</td>\n",
       "      <td>TABLET</td>\n",
       "      <td>ORAL</td>\n",
       "      <td>19871229</td>\n",
       "      <td>NaN</td>\n",
       "      <td>NDA</td>\n",
       "      <td>NDA019558</td>\n",
       "      <td>10</td>\n",
       "      <td>LISINOPRIL</td>\n",
       "      <td>5</td>\n",
       "      <td>mg/1</td>\n",
       "      <td>Angiotensin Converting Enzyme Inhibitor [EPC],...</td>\n",
       "      <td>NaN</td>\n",
       "      <td>N</td>\n",
       "      <td>20201231.0</td>\n",
       "    </tr>\n",
       "    <tr>\n",
       "      <th>310</th>\n",
       "      <td>0009-0003_67759a7c-ea06-4151-87e1-a301c44d67cd</td>\n",
       "      <td>03-sept</td>\n",
       "      <td>HUMAN PRESCRIPTION DRUG</td>\n",
       "      <td>SOLU-MEDROL</td>\n",
       "      <td>NaN</td>\n",
       "      <td>methylprednisolone sodium succinate</td>\n",
       "      <td>INJECTION, POWDER, FOR SOLUTION</td>\n",
       "      <td>INTRAMUSCULAR; INTRAVENOUS</td>\n",
       "      <td>19590402</td>\n",
       "      <td>NaN</td>\n",
       "      <td>NDA</td>\n",
       "      <td>NDA011856</td>\n",
       "      <td>Pharmacia and Upjohn Company LLC</td>\n",
       "      <td>METHYLPREDNISOLONE SODIUM SUCCINATE</td>\n",
       "      <td>500</td>\n",
       "      <td>mg/4mL</td>\n",
       "      <td>Corticosteroid [EPC],Corticosteroid Hormone Re...</td>\n",
       "      <td>NaN</td>\n",
       "      <td>N</td>\n",
       "      <td>20201231.0</td>\n",
       "    </tr>\n",
       "    <tr>\n",
       "      <th>311</th>\n",
       "      <td>0009-0005_c9aa26c1-05c3-479c-90eb-63b2181c5e7e</td>\n",
       "      <td>05-sept</td>\n",
       "      <td>HUMAN PRESCRIPTION DRUG</td>\n",
       "      <td>Solu-Cortef</td>\n",
       "      <td>NaN</td>\n",
       "      <td>hydrocortisone sodium succinate</td>\n",
       "      <td>INJECTION, POWDER, FOR SOLUTION</td>\n",
       "      <td>INTRAMUSCULAR; INTRAVENOUS</td>\n",
       "      <td>19550427</td>\n",
       "      <td>NaN</td>\n",
       "      <td>NDA</td>\n",
       "      <td>NDA009866</td>\n",
       "      <td>Pharmacia and Upjohn Company LLC</td>\n",
       "      <td>HYDROCORTISONE SODIUM SUCCINATE</td>\n",
       "      <td>1000</td>\n",
       "      <td>mg/8mL</td>\n",
       "      <td>Corticosteroid [EPC],Corticosteroid Hormone Re...</td>\n",
       "      <td>NaN</td>\n",
       "      <td>N</td>\n",
       "      <td>20201231.0</td>\n",
       "    </tr>\n",
       "    <tr>\n",
       "      <th>312</th>\n",
       "      <td>0009-0011_c9aa26c1-05c3-479c-90eb-63b2181c5e7e</td>\n",
       "      <td>11-sept</td>\n",
       "      <td>HUMAN PRESCRIPTION DRUG</td>\n",
       "      <td>Solu-Cortef</td>\n",
       "      <td>NaN</td>\n",
       "      <td>hydrocortisone sodium succinate</td>\n",
       "      <td>INJECTION, POWDER, FOR SOLUTION</td>\n",
       "      <td>INTRAMUSCULAR; INTRAVENOUS</td>\n",
       "      <td>19550427</td>\n",
       "      <td>NaN</td>\n",
       "      <td>NDA</td>\n",
       "      <td>NDA009866</td>\n",
       "      <td>Pharmacia and Upjohn Company LLC</td>\n",
       "      <td>HYDROCORTISONE SODIUM SUCCINATE</td>\n",
       "      <td>100</td>\n",
       "      <td>mg/2mL</td>\n",
       "      <td>Corticosteroid [EPC],Corticosteroid Hormone Re...</td>\n",
       "      <td>NaN</td>\n",
       "      <td>N</td>\n",
       "      <td>20201231.0</td>\n",
       "    </tr>\n",
       "  </tbody>\n",
       "</table>\n",
       "</div>"
      ],
      "text/plain": [
       "                                          PRODUCTID PRODUCTNDC  \\\n",
       "159  0006-0005_0c7a3452-ecb2-4f66-ad52-94f8eaf8cde8    05-juin   \n",
       "160  0006-0019_54e9c31a-9429-4842-b2d6-0cc1e5ad613c    19-juin   \n",
       "310  0009-0003_67759a7c-ea06-4151-87e1-a301c44d67cd    03-sept   \n",
       "311  0009-0005_c9aa26c1-05c3-479c-90eb-63b2181c5e7e    05-sept   \n",
       "312  0009-0011_c9aa26c1-05c3-479c-90eb-63b2181c5e7e    11-sept   \n",
       "\n",
       "             PRODUCTTYPENAME PROPRIETARYNAME PROPRIETARYNAMESUFFIX  \\\n",
       "159  HUMAN PRESCRIPTION DRUG        BELSOMRA                   NaN   \n",
       "160  HUMAN PRESCRIPTION DRUG        PRINIVIL                   NaN   \n",
       "310  HUMAN PRESCRIPTION DRUG     SOLU-MEDROL                   NaN   \n",
       "311  HUMAN PRESCRIPTION DRUG     Solu-Cortef                   NaN   \n",
       "312  HUMAN PRESCRIPTION DRUG     Solu-Cortef                   NaN   \n",
       "\n",
       "                      NONPROPRIETARYNAME                   DOSAGEFORMNAME  \\\n",
       "159                           suvorexant              TABLET, FILM COATED   \n",
       "160                           lisinopril                           TABLET   \n",
       "310  methylprednisolone sodium succinate  INJECTION, POWDER, FOR SOLUTION   \n",
       "311      hydrocortisone sodium succinate  INJECTION, POWDER, FOR SOLUTION   \n",
       "312      hydrocortisone sodium succinate  INJECTION, POWDER, FOR SOLUTION   \n",
       "\n",
       "                      ROUTENAME  STARTMARKETINGDATE  ENDMARKETINGDATE  \\\n",
       "159                        ORAL            20140829               NaN   \n",
       "160                        ORAL            19871229               NaN   \n",
       "310  INTRAMUSCULAR; INTRAVENOUS            19590402               NaN   \n",
       "311  INTRAMUSCULAR; INTRAVENOUS            19550427               NaN   \n",
       "312  INTRAMUSCULAR; INTRAVENOUS            19550427               NaN   \n",
       "\n",
       "    MARKETINGCATEGORYNAME APPLICATIONNUMBER                       LABELERNAME  \\\n",
       "159                   NDA         NDA204569                                10   \n",
       "160                   NDA         NDA019558                                10   \n",
       "310                   NDA         NDA011856  Pharmacia and Upjohn Company LLC   \n",
       "311                   NDA         NDA009866  Pharmacia and Upjohn Company LLC   \n",
       "312                   NDA         NDA009866  Pharmacia and Upjohn Company LLC   \n",
       "\n",
       "                           SUBSTANCENAME ACTIVE_NUMERATOR_STRENGTH  \\\n",
       "159                           SUVOREXANT                         5   \n",
       "160                           LISINOPRIL                         5   \n",
       "310  METHYLPREDNISOLONE SODIUM SUCCINATE                       500   \n",
       "311      HYDROCORTISONE SODIUM SUCCINATE                      1000   \n",
       "312      HYDROCORTISONE SODIUM SUCCINATE                       100   \n",
       "\n",
       "    ACTIVE_INGRED_UNIT                                      PHARM_CLASSES  \\\n",
       "159               mg/1  Orexin Receptor Antagonist [EPC],Orexin Recept...   \n",
       "160               mg/1  Angiotensin Converting Enzyme Inhibitor [EPC],...   \n",
       "310             mg/4mL  Corticosteroid [EPC],Corticosteroid Hormone Re...   \n",
       "311             mg/8mL  Corticosteroid [EPC],Corticosteroid Hormone Re...   \n",
       "312             mg/2mL  Corticosteroid [EPC],Corticosteroid Hormone Re...   \n",
       "\n",
       "    DEASCHEDULE NDC_EXCLUDE_FLAG  LISTING_RECORD_CERTIFIED_THROUGH  \n",
       "159         CIV                N                        20211231.0  \n",
       "160         NaN                N                        20201231.0  \n",
       "310         NaN                N                        20201231.0  \n",
       "311         NaN                N                        20201231.0  \n",
       "312         NaN                N                        20201231.0  "
      ]
     },
     "execution_count": 12,
     "metadata": {},
     "output_type": "execute_result"
    }
   ],
   "source": [
    "id_ndc_incoherent.head()"
   ]
  },
  {
   "attachments": {},
   "cell_type": "markdown",
   "metadata": {},
   "source": [
    "DROP THEM"
   ]
  },
  {
   "cell_type": "code",
   "execution_count": 13,
   "metadata": {},
   "outputs": [],
   "source": [
    "prod = prod.drop(id_ndc_incoherent.index)"
   ]
  },
  {
   "cell_type": "code",
   "execution_count": 14,
   "metadata": {},
   "outputs": [
    {
     "data": {
      "text/plain": [
       "array(['05-juin', '19-juin', '03-sept', '05-sept', '11-sept', '12-sept',\n",
       "       '13-sept', '16-sept', '17-sept', '18-sept', '20-sept', '22-sept',\n",
       "       '29-sept', 'OTC MONOGRAPH NOT FINAL', 'NDA', 'OTC MONOGRAPH FINAL',\n",
       "       'UNAPPROVED HOMEOPATHIC', 'UNAPPROVED MEDICAL GAS',\n",
       "       'UNAPPROVED DRUG OTHER', 'ANDA', 'NDA AUTHORIZED GENERIC', 'BLA'],\n",
       "      dtype=object)"
      ]
     },
     "execution_count": 14,
     "metadata": {},
     "output_type": "execute_result"
    }
   ],
   "source": [
    "# List of possible vals\n",
    "id_ndc_incoherent[\"PRODUCTNDC\"].unique()"
   ]
  },
  {
   "attachments": {},
   "cell_type": "markdown",
   "metadata": {},
   "source": [
    "Suffix feature will mostly not contribute a lot of relevant information since there are not really a standard and many incongruency in naming"
   ]
  },
  {
   "cell_type": "code",
   "execution_count": 15,
   "metadata": {},
   "outputs": [
    {
     "name": "stdout",
     "output_type": "stream",
     "text": [
      "10115 values for PPTsuffix with 4010 unique categories\n"
     ]
    }
   ],
   "source": [
    "print(f\"{len(prod['PROPRIETARYNAMESUFFIX'].dropna())} values for PPTsuffix with {len(prod['PROPRIETARYNAMESUFFIX'].dropna().unique())} unique categories\")"
   ]
  },
  {
   "cell_type": "code",
   "execution_count": 16,
   "metadata": {},
   "outputs": [
    {
     "name": "stdout",
     "output_type": "stream",
     "text": [
      "['Zydis ' 'Mix75/25 ' 'Mix50/50 ' 'Intramuscular ' 'Relprevv ' 'KwikPen '\n",
      " ' Junior KwikPen ' ' Tempo Pen ' 'R ' 'N ']\n"
     ]
    }
   ],
   "source": [
    "# See a few examples\n",
    "print(prod['PROPRIETARYNAMESUFFIX'].dropna().unique()[:10])"
   ]
  },
  {
   "attachments": {},
   "cell_type": "markdown",
   "metadata": {},
   "source": [
    "**ProductTypeName FDA labels verification**"
   ]
  },
  {
   "cell_type": "code",
   "execution_count": 17,
   "metadata": {},
   "outputs": [],
   "source": [
    "content_type_label = pd.read_html(\"https://www.fda.gov/industry/structured-product-labeling-resources/document-type-including-content-labeling-type\")[0][\"LOINC Name\"]\n"
   ]
  },
  {
   "cell_type": "code",
   "execution_count": 18,
   "metadata": {},
   "outputs": [],
   "source": [
    "content_type_label = content_type_label.str.replace(\"LABEL\", \"\")\n",
    "content_type_label = content_type_label.str.rstrip().to_list()"
   ]
  },
  {
   "cell_type": "code",
   "execution_count": 19,
   "metadata": {},
   "outputs": [
    {
     "name": "stdout",
     "output_type": "stream",
     "text": [
      "0 producttype categories not in official FDA repo\n"
     ]
    }
   ],
   "source": [
    "print(f'{len([label for label in prod[\"PRODUCTTYPENAME\"].unique() if label not in content_type_label])} producttype categories not in official FDA repo')"
   ]
  },
  {
   "attachments": {},
   "cell_type": "markdown",
   "metadata": {},
   "source": [
    "**Dosage form FDA codes verification**"
   ]
  },
  {
   "cell_type": "code",
   "execution_count": 20,
   "metadata": {},
   "outputs": [],
   "source": [
    "dosage_form_codes = pd.read_html(\"https://www.fda.gov/industry/structured-product-labeling-resources/dosage-forms\")[0]\n",
    "dosage_form_codes = dosage_form_codes[\"SPL Acceptable Term\"].to_list()\n"
   ]
  },
  {
   "cell_type": "code",
   "execution_count": 21,
   "metadata": {},
   "outputs": [
    {
     "name": "stdout",
     "output_type": "stream",
     "text": [
      "0 DosageForm categories not in official FDA repo codes\n"
     ]
    }
   ],
   "source": [
    "[label for label in prod[\"DOSAGEFORMNAME\"].unique() if label not in dosage_form_codes]\n",
    "print(f\"{len([label for label in prod['DOSAGEFORMNAME'].unique() if label not in dosage_form_codes])} DosageForm categories not in official FDA repo codes\")"
   ]
  },
  {
   "attachments": {},
   "cell_type": "markdown",
   "metadata": {},
   "source": [
    "**RouteName FDA codes verification**"
   ]
  },
  {
   "cell_type": "code",
   "execution_count": 22,
   "metadata": {},
   "outputs": [],
   "source": [
    "routename_codes = pd.read_html(\"https://www.fda.gov/industry/structured-product-labeling-resources/route-administration\")[0]\n",
    "routename_codes = routename_codes[\"SPL Acceptable Term\"].to_list()\n"
   ]
  },
  {
   "cell_type": "code",
   "execution_count": 23,
   "metadata": {},
   "outputs": [
    {
     "name": "stdout",
     "output_type": "stream",
     "text": [
      "127 RouteNames not listed in official FDA repo\n"
     ]
    }
   ],
   "source": [
    "print(f'{len([label for label in prod[\"ROUTENAME\"].dropna().unique() if label not in routename_codes])} RouteNames not listed in official FDA repo')"
   ]
  },
  {
   "cell_type": "code",
   "execution_count": 24,
   "metadata": {},
   "outputs": [
    {
     "name": "stdout",
     "output_type": "stream",
     "text": [
      "['INTRAMUSCULAR; SUBCUTANEOUS', 'INTRAVENOUS; SUBCUTANEOUS', 'INTRA-ARTICULAR; INTRAMUSCULAR', 'INTRA-ARTICULAR; INTRALESIONAL', 'INTRAMUSCULAR; INTRAVENOUS', 'INTRALESIONAL; INTRAMUSCULAR; INTRASYNOVIAL; SOFT TISSUE', 'INTRAMUSCULAR; INTRAVENOUS; SUBCONJUNCTIVAL', 'INTRA-ARTICULAR; INTRALESIONAL; INTRAMUSCULAR; SOFT TISSUE', 'INTRAVASCULAR; INTRAVENOUS', 'INTRA-ARTERIAL; INTRAVENOUS']\n"
     ]
    }
   ],
   "source": [
    "# Example of multiple categories for RouteName\n",
    "print([label for label in prod[\"ROUTENAME\"].dropna().unique() if label not in routename_codes][:10])"
   ]
  },
  {
   "cell_type": "code",
   "execution_count": 25,
   "metadata": {},
   "outputs": [
    {
     "data": {
      "text/plain": [
       "0"
      ]
     },
     "execution_count": 25,
     "metadata": {},
     "output_type": "execute_result"
    }
   ],
   "source": [
    "# Check for lowercase\n",
    "len(prod[\"ROUTENAME\"].dropna()[prod[\"ROUTENAME\"].str.islower().dropna()])"
   ]
  },
  {
   "attachments": {},
   "cell_type": "markdown",
   "metadata": {},
   "source": [
    "We see it's the objects with multiple categories that have those special labels. This will get fixed with get_dummies method or OneHotEncoding"
   ]
  },
  {
   "cell_type": "code",
   "execution_count": 26,
   "metadata": {},
   "outputs": [
    {
     "data": {
      "text/html": [
       "<div>\n",
       "<style scoped>\n",
       "    .dataframe tbody tr th:only-of-type {\n",
       "        vertical-align: middle;\n",
       "    }\n",
       "\n",
       "    .dataframe tbody tr th {\n",
       "        vertical-align: top;\n",
       "    }\n",
       "\n",
       "    .dataframe thead th {\n",
       "        text-align: right;\n",
       "    }\n",
       "</style>\n",
       "<table border=\"1\" class=\"dataframe\">\n",
       "  <thead>\n",
       "    <tr style=\"text-align: right;\">\n",
       "      <th></th>\n",
       "      <th>AURICULAR (OTIC)</th>\n",
       "      <th>BUCCAL</th>\n",
       "      <th>BUCCAL; DENTAL; TOPICAL</th>\n",
       "      <th>BUCCAL; SUBLINGUAL</th>\n",
       "      <th>BUCCAL; VAGINAL</th>\n",
       "      <th>CUTANEOUS</th>\n",
       "      <th>CUTANEOUS; EXTRACORPOREAL</th>\n",
       "      <th>CUTANEOUS; EXTRACORPOREAL; TOPICAL; VAGINAL</th>\n",
       "      <th>CUTANEOUS; EXTRACORPOREAL; VAGINAL</th>\n",
       "      <th>CUTANEOUS; INTRADERMAL; SUBCUTANEOUS</th>\n",
       "      <th>...</th>\n",
       "      <th>TOPICAL</th>\n",
       "      <th>TOPICAL; TOPICAL</th>\n",
       "      <th>TOPICAL; TOPICAL; TOPICAL</th>\n",
       "      <th>TOPICAL; TRANSDERMAL</th>\n",
       "      <th>TOPICAL; VAGINAL</th>\n",
       "      <th>TRANSDERMAL</th>\n",
       "      <th>TRANSMUCOSAL</th>\n",
       "      <th>URETERAL</th>\n",
       "      <th>URETHRAL</th>\n",
       "      <th>VAGINAL</th>\n",
       "    </tr>\n",
       "  </thead>\n",
       "  <tbody>\n",
       "    <tr>\n",
       "      <th>0</th>\n",
       "      <td>0</td>\n",
       "      <td>0</td>\n",
       "      <td>0</td>\n",
       "      <td>0</td>\n",
       "      <td>0</td>\n",
       "      <td>0</td>\n",
       "      <td>0</td>\n",
       "      <td>0</td>\n",
       "      <td>0</td>\n",
       "      <td>0</td>\n",
       "      <td>...</td>\n",
       "      <td>0</td>\n",
       "      <td>0</td>\n",
       "      <td>0</td>\n",
       "      <td>0</td>\n",
       "      <td>0</td>\n",
       "      <td>0</td>\n",
       "      <td>0</td>\n",
       "      <td>0</td>\n",
       "      <td>0</td>\n",
       "      <td>0</td>\n",
       "    </tr>\n",
       "    <tr>\n",
       "      <th>1</th>\n",
       "      <td>0</td>\n",
       "      <td>0</td>\n",
       "      <td>0</td>\n",
       "      <td>0</td>\n",
       "      <td>0</td>\n",
       "      <td>0</td>\n",
       "      <td>0</td>\n",
       "      <td>0</td>\n",
       "      <td>0</td>\n",
       "      <td>0</td>\n",
       "      <td>...</td>\n",
       "      <td>0</td>\n",
       "      <td>0</td>\n",
       "      <td>0</td>\n",
       "      <td>0</td>\n",
       "      <td>0</td>\n",
       "      <td>0</td>\n",
       "      <td>0</td>\n",
       "      <td>0</td>\n",
       "      <td>0</td>\n",
       "      <td>0</td>\n",
       "    </tr>\n",
       "    <tr>\n",
       "      <th>2</th>\n",
       "      <td>0</td>\n",
       "      <td>0</td>\n",
       "      <td>0</td>\n",
       "      <td>0</td>\n",
       "      <td>0</td>\n",
       "      <td>0</td>\n",
       "      <td>0</td>\n",
       "      <td>0</td>\n",
       "      <td>0</td>\n",
       "      <td>0</td>\n",
       "      <td>...</td>\n",
       "      <td>0</td>\n",
       "      <td>0</td>\n",
       "      <td>0</td>\n",
       "      <td>0</td>\n",
       "      <td>0</td>\n",
       "      <td>0</td>\n",
       "      <td>0</td>\n",
       "      <td>0</td>\n",
       "      <td>0</td>\n",
       "      <td>0</td>\n",
       "    </tr>\n",
       "    <tr>\n",
       "      <th>3</th>\n",
       "      <td>0</td>\n",
       "      <td>0</td>\n",
       "      <td>0</td>\n",
       "      <td>0</td>\n",
       "      <td>0</td>\n",
       "      <td>0</td>\n",
       "      <td>0</td>\n",
       "      <td>0</td>\n",
       "      <td>0</td>\n",
       "      <td>0</td>\n",
       "      <td>...</td>\n",
       "      <td>0</td>\n",
       "      <td>0</td>\n",
       "      <td>0</td>\n",
       "      <td>0</td>\n",
       "      <td>0</td>\n",
       "      <td>0</td>\n",
       "      <td>0</td>\n",
       "      <td>0</td>\n",
       "      <td>0</td>\n",
       "      <td>0</td>\n",
       "    </tr>\n",
       "    <tr>\n",
       "      <th>4</th>\n",
       "      <td>0</td>\n",
       "      <td>0</td>\n",
       "      <td>0</td>\n",
       "      <td>0</td>\n",
       "      <td>0</td>\n",
       "      <td>0</td>\n",
       "      <td>0</td>\n",
       "      <td>0</td>\n",
       "      <td>0</td>\n",
       "      <td>0</td>\n",
       "      <td>...</td>\n",
       "      <td>0</td>\n",
       "      <td>0</td>\n",
       "      <td>0</td>\n",
       "      <td>0</td>\n",
       "      <td>0</td>\n",
       "      <td>0</td>\n",
       "      <td>0</td>\n",
       "      <td>0</td>\n",
       "      <td>0</td>\n",
       "      <td>0</td>\n",
       "    </tr>\n",
       "  </tbody>\n",
       "</table>\n",
       "<p>5 rows × 180 columns</p>\n",
       "</div>"
      ],
      "text/plain": [
       "   AURICULAR (OTIC)  BUCCAL  BUCCAL; DENTAL; TOPICAL  BUCCAL; SUBLINGUAL  \\\n",
       "0                 0       0                        0                   0   \n",
       "1                 0       0                        0                   0   \n",
       "2                 0       0                        0                   0   \n",
       "3                 0       0                        0                   0   \n",
       "4                 0       0                        0                   0   \n",
       "\n",
       "   BUCCAL; VAGINAL  CUTANEOUS  CUTANEOUS; EXTRACORPOREAL  \\\n",
       "0                0          0                          0   \n",
       "1                0          0                          0   \n",
       "2                0          0                          0   \n",
       "3                0          0                          0   \n",
       "4                0          0                          0   \n",
       "\n",
       "   CUTANEOUS; EXTRACORPOREAL; TOPICAL; VAGINAL  \\\n",
       "0                                            0   \n",
       "1                                            0   \n",
       "2                                            0   \n",
       "3                                            0   \n",
       "4                                            0   \n",
       "\n",
       "   CUTANEOUS; EXTRACORPOREAL; VAGINAL  CUTANEOUS; INTRADERMAL; SUBCUTANEOUS  \\\n",
       "0                                   0                                     0   \n",
       "1                                   0                                     0   \n",
       "2                                   0                                     0   \n",
       "3                                   0                                     0   \n",
       "4                                   0                                     0   \n",
       "\n",
       "   ...  TOPICAL  TOPICAL; TOPICAL  TOPICAL; TOPICAL; TOPICAL  \\\n",
       "0  ...        0                 0                          0   \n",
       "1  ...        0                 0                          0   \n",
       "2  ...        0                 0                          0   \n",
       "3  ...        0                 0                          0   \n",
       "4  ...        0                 0                          0   \n",
       "\n",
       "   TOPICAL; TRANSDERMAL  TOPICAL; VAGINAL  TRANSDERMAL  TRANSMUCOSAL  \\\n",
       "0                     0                 0            0             0   \n",
       "1                     0                 0            0             0   \n",
       "2                     0                 0            0             0   \n",
       "3                     0                 0            0             0   \n",
       "4                     0                 0            0             0   \n",
       "\n",
       "   URETERAL  URETHRAL  VAGINAL  \n",
       "0         0         0        0  \n",
       "1         0         0        0  \n",
       "2         0         0        0  \n",
       "3         0         0        0  \n",
       "4         0         0        0  \n",
       "\n",
       "[5 rows x 180 columns]"
      ]
     },
     "execution_count": 26,
     "metadata": {},
     "output_type": "execute_result"
    }
   ],
   "source": [
    "# Pandas get_dummies example\n",
    "prod[\"ROUTENAME\"].str.upper().str.get_dummies().head()"
   ]
  },
  {
   "cell_type": "code",
   "execution_count": 27,
   "metadata": {},
   "outputs": [
    {
     "data": {
      "text/plain": [
       "array(['AURICULAR (OTIC)', 'BUCCAL', 'BUCCAL; DENTAL; TOPICAL',\n",
       "       'BUCCAL; SUBLINGUAL', 'BUCCAL; VAGINAL'], dtype=object)"
      ]
     },
     "execution_count": 27,
     "metadata": {},
     "output_type": "execute_result"
    }
   ],
   "source": [
    "#ohe example\n",
    "enc = OneHotEncoder()\n",
    "enc.fit(pd.DataFrame(prod[\"ROUTENAME\"].str.upper()))\n",
    "enc.categories_[0][:5]"
   ]
  },
  {
   "attachments": {},
   "cell_type": "markdown",
   "metadata": {},
   "source": [
    "Some categories are repeated multiple times with the same routename which does not make sense"
   ]
  },
  {
   "cell_type": "code",
   "execution_count": 28,
   "metadata": {},
   "outputs": [
    {
     "data": {
      "text/html": [
       "<div>\n",
       "<style scoped>\n",
       "    .dataframe tbody tr th:only-of-type {\n",
       "        vertical-align: middle;\n",
       "    }\n",
       "\n",
       "    .dataframe tbody tr th {\n",
       "        vertical-align: top;\n",
       "    }\n",
       "\n",
       "    .dataframe thead th {\n",
       "        text-align: right;\n",
       "    }\n",
       "</style>\n",
       "<table border=\"1\" class=\"dataframe\">\n",
       "  <thead>\n",
       "    <tr style=\"text-align: right;\">\n",
       "      <th></th>\n",
       "      <th>PRODUCTID</th>\n",
       "      <th>PRODUCTNDC</th>\n",
       "      <th>PRODUCTTYPENAME</th>\n",
       "      <th>PROPRIETARYNAME</th>\n",
       "      <th>PROPRIETARYNAMESUFFIX</th>\n",
       "      <th>NONPROPRIETARYNAME</th>\n",
       "      <th>DOSAGEFORMNAME</th>\n",
       "      <th>ROUTENAME</th>\n",
       "      <th>STARTMARKETINGDATE</th>\n",
       "      <th>ENDMARKETINGDATE</th>\n",
       "      <th>MARKETINGCATEGORYNAME</th>\n",
       "      <th>APPLICATIONNUMBER</th>\n",
       "      <th>LABELERNAME</th>\n",
       "      <th>SUBSTANCENAME</th>\n",
       "      <th>ACTIVE_NUMERATOR_STRENGTH</th>\n",
       "      <th>ACTIVE_INGRED_UNIT</th>\n",
       "      <th>PHARM_CLASSES</th>\n",
       "      <th>DEASCHEDULE</th>\n",
       "      <th>NDC_EXCLUDE_FLAG</th>\n",
       "      <th>LISTING_RECORD_CERTIFIED_THROUGH</th>\n",
       "    </tr>\n",
       "  </thead>\n",
       "  <tbody>\n",
       "    <tr>\n",
       "      <th>74661</th>\n",
       "      <td>68466-0002_b9ea1370-4627-458d-8460-3c1fa0a56f48</td>\n",
       "      <td>68466-0002</td>\n",
       "      <td>HUMAN OTC DRUG</td>\n",
       "      <td>Sports For Trauma Gel</td>\n",
       "      <td>NaN</td>\n",
       "      <td>Bellis Perennis, Hypericum Perfomatum,Toxicode...</td>\n",
       "      <td>GEL</td>\n",
       "      <td>TOPICAL; TOPICAL; TOPICAL</td>\n",
       "      <td>20040701</td>\n",
       "      <td>NaN</td>\n",
       "      <td>UNAPPROVED HOMEOPATHIC</td>\n",
       "      <td>NaN</td>\n",
       "      <td>Schwabe Mexico, S.A. de C.V.</td>\n",
       "      <td>BELLIS PERENNIS; HYPERICUM PERFORATUM; TOXICOD...</td>\n",
       "      <td>1; 2; 3; 1</td>\n",
       "      <td>[hp_X]/71g; [hp_X]/71g; [hp_X]/71g; [hp_X]/71g</td>\n",
       "      <td>NaN</td>\n",
       "      <td>NaN</td>\n",
       "      <td>N</td>\n",
       "      <td>20201231.0</td>\n",
       "    </tr>\n",
       "  </tbody>\n",
       "</table>\n",
       "</div>"
      ],
      "text/plain": [
       "                                             PRODUCTID  PRODUCTNDC  \\\n",
       "74661  68466-0002_b9ea1370-4627-458d-8460-3c1fa0a56f48  68466-0002   \n",
       "\n",
       "      PRODUCTTYPENAME        PROPRIETARYNAME PROPRIETARYNAMESUFFIX  \\\n",
       "74661  HUMAN OTC DRUG  Sports For Trauma Gel                   NaN   \n",
       "\n",
       "                                      NONPROPRIETARYNAME DOSAGEFORMNAME  \\\n",
       "74661  Bellis Perennis, Hypericum Perfomatum,Toxicode...            GEL   \n",
       "\n",
       "                       ROUTENAME  STARTMARKETINGDATE  ENDMARKETINGDATE  \\\n",
       "74661  TOPICAL; TOPICAL; TOPICAL            20040701               NaN   \n",
       "\n",
       "        MARKETINGCATEGORYNAME APPLICATIONNUMBER                   LABELERNAME  \\\n",
       "74661  UNAPPROVED HOMEOPATHIC               NaN  Schwabe Mexico, S.A. de C.V.   \n",
       "\n",
       "                                           SUBSTANCENAME  \\\n",
       "74661  BELLIS PERENNIS; HYPERICUM PERFORATUM; TOXICOD...   \n",
       "\n",
       "      ACTIVE_NUMERATOR_STRENGTH  \\\n",
       "74661                1; 2; 3; 1   \n",
       "\n",
       "                                   ACTIVE_INGRED_UNIT PHARM_CLASSES  \\\n",
       "74661  [hp_X]/71g; [hp_X]/71g; [hp_X]/71g; [hp_X]/71g           NaN   \n",
       "\n",
       "      DEASCHEDULE NDC_EXCLUDE_FLAG  LISTING_RECORD_CERTIFIED_THROUGH  \n",
       "74661         NaN                N                        20201231.0  "
      ]
     },
     "execution_count": 28,
     "metadata": {},
     "output_type": "execute_result"
    }
   ],
   "source": [
    "prod[prod[\"ROUTENAME\"] == \"TOPICAL; TOPICAL; TOPICAL\"]"
   ]
  },
  {
   "cell_type": "code",
   "execution_count": 29,
   "metadata": {},
   "outputs": [
    {
     "data": {
      "text/plain": [
       "49    INTRAMUSCULAR; SUBCUTANEOUS\n",
       "52      INTRAVENOUS; SUBCUTANEOUS\n",
       "55      INTRAVENOUS; SUBCUTANEOUS\n",
       "70    INTRAMUSCULAR; SUBCUTANEOUS\n",
       "71    INTRAMUSCULAR; SUBCUTANEOUS\n",
       "Name: ROUTENAME, dtype: object"
      ]
     },
     "execution_count": 29,
     "metadata": {},
     "output_type": "execute_result"
    }
   ],
   "source": [
    "# Find the elements with multiple RouteNames\n",
    "prod[\"ROUTENAME\"][prod[\"ROUTENAME\"].str.split(\"; \").str.len() > 1].head()"
   ]
  },
  {
   "cell_type": "code",
   "execution_count": 30,
   "metadata": {},
   "outputs": [
    {
     "name": "stdout",
     "output_type": "stream",
     "text": [
      "Num of RouteName repetitions : 32\n"
     ]
    },
    {
     "data": {
      "text/html": [
       "<div>\n",
       "<style scoped>\n",
       "    .dataframe tbody tr th:only-of-type {\n",
       "        vertical-align: middle;\n",
       "    }\n",
       "\n",
       "    .dataframe tbody tr th {\n",
       "        vertical-align: top;\n",
       "    }\n",
       "\n",
       "    .dataframe thead th {\n",
       "        text-align: right;\n",
       "    }\n",
       "</style>\n",
       "<table border=\"1\" class=\"dataframe\">\n",
       "  <thead>\n",
       "    <tr style=\"text-align: right;\">\n",
       "      <th></th>\n",
       "      <th>PRODUCTID</th>\n",
       "      <th>PRODUCTNDC</th>\n",
       "      <th>PRODUCTTYPENAME</th>\n",
       "      <th>PROPRIETARYNAME</th>\n",
       "      <th>PROPRIETARYNAMESUFFIX</th>\n",
       "      <th>NONPROPRIETARYNAME</th>\n",
       "      <th>DOSAGEFORMNAME</th>\n",
       "      <th>ROUTENAME</th>\n",
       "      <th>STARTMARKETINGDATE</th>\n",
       "      <th>ENDMARKETINGDATE</th>\n",
       "      <th>MARKETINGCATEGORYNAME</th>\n",
       "      <th>APPLICATIONNUMBER</th>\n",
       "      <th>LABELERNAME</th>\n",
       "      <th>SUBSTANCENAME</th>\n",
       "      <th>ACTIVE_NUMERATOR_STRENGTH</th>\n",
       "      <th>ACTIVE_INGRED_UNIT</th>\n",
       "      <th>PHARM_CLASSES</th>\n",
       "      <th>DEASCHEDULE</th>\n",
       "      <th>NDC_EXCLUDE_FLAG</th>\n",
       "      <th>LISTING_RECORD_CERTIFIED_THROUGH</th>\n",
       "    </tr>\n",
       "  </thead>\n",
       "  <tbody>\n",
       "    <tr>\n",
       "      <th>9927</th>\n",
       "      <td>0527-1109_458431c7-41c7-48f4-a8f6-b6b6ccc7cbe2</td>\n",
       "      <td>0527-1109</td>\n",
       "      <td>HUMAN PRESCRIPTION DRUG</td>\n",
       "      <td>Isoniazid</td>\n",
       "      <td>NaN</td>\n",
       "      <td>Isoniazid</td>\n",
       "      <td>TABLET</td>\n",
       "      <td>ORAL; ORAL</td>\n",
       "      <td>20131010</td>\n",
       "      <td>NaN</td>\n",
       "      <td>ANDA</td>\n",
       "      <td>ANDA089776</td>\n",
       "      <td>Lannett Company, Inc.</td>\n",
       "      <td>ISONIAZID</td>\n",
       "      <td>300</td>\n",
       "      <td>mg/1</td>\n",
       "      <td>Antimycobacterial [EPC]</td>\n",
       "      <td>NaN</td>\n",
       "      <td>N</td>\n",
       "      <td>20211231.0</td>\n",
       "    </tr>\n",
       "    <tr>\n",
       "      <th>11121</th>\n",
       "      <td>0615-8061_4643015f-3f68-4ecd-909f-85e3fd2c8549</td>\n",
       "      <td>0615-8061</td>\n",
       "      <td>HUMAN PRESCRIPTION DRUG</td>\n",
       "      <td>Lisinopril</td>\n",
       "      <td>NaN</td>\n",
       "      <td>Lisinopril</td>\n",
       "      <td>TABLET</td>\n",
       "      <td>ORAL; ORAL</td>\n",
       "      <td>20111101</td>\n",
       "      <td>20200930.0</td>\n",
       "      <td>ANDA</td>\n",
       "      <td>ANDA076180</td>\n",
       "      <td>NCS HealthCare of KY, Inc dba Vangard Labs</td>\n",
       "      <td>LISINOPRIL</td>\n",
       "      <td>2.5</td>\n",
       "      <td>mg/1</td>\n",
       "      <td>Angiotensin Converting Enzyme Inhibitor [EPC],...</td>\n",
       "      <td>NaN</td>\n",
       "      <td>N</td>\n",
       "      <td>NaN</td>\n",
       "    </tr>\n",
       "    <tr>\n",
       "      <th>12307</th>\n",
       "      <td>0869-0012_2fd9a395-b322-45b0-b568-71b98e581ae4</td>\n",
       "      <td>0869-0012</td>\n",
       "      <td>HUMAN OTC DRUG</td>\n",
       "      <td>Vitamin A D</td>\n",
       "      <td>NaN</td>\n",
       "      <td>Lanolin, Petrolatum</td>\n",
       "      <td>OINTMENT</td>\n",
       "      <td>TOPICAL; TOPICAL</td>\n",
       "      <td>20130701</td>\n",
       "      <td>NaN</td>\n",
       "      <td>OTC MONOGRAPH FINAL</td>\n",
       "      <td>part347</td>\n",
       "      <td>Vi-Jon</td>\n",
       "      <td>LANOLIN; PETROLATUM</td>\n",
       "      <td>133; 459</td>\n",
       "      <td>mg/g; mg/g</td>\n",
       "      <td>NaN</td>\n",
       "      <td>NaN</td>\n",
       "      <td>N</td>\n",
       "      <td>20211231.0</td>\n",
       "    </tr>\n",
       "    <tr>\n",
       "      <th>17328</th>\n",
       "      <td>16714-114_6ae8605d-16ec-9ea6-8389-ba144c924ee1</td>\n",
       "      <td>16714-114</td>\n",
       "      <td>HUMAN PRESCRIPTION DRUG</td>\n",
       "      <td>Fluoxetine hydrochloride</td>\n",
       "      <td>NaN</td>\n",
       "      <td>Fluoxetine hydrochloride</td>\n",
       "      <td>TABLET, FILM COATED</td>\n",
       "      <td>ORAL; ORAL</td>\n",
       "      <td>20190918</td>\n",
       "      <td>NaN</td>\n",
       "      <td>ANDA</td>\n",
       "      <td>ANDA211721</td>\n",
       "      <td>NorthStar Rx LLC</td>\n",
       "      <td>FLUOXETINE HYDROCHLORIDE</td>\n",
       "      <td>60</td>\n",
       "      <td>mg/1</td>\n",
       "      <td>Serotonin Reuptake Inhibitor [EPC],Serotonin U...</td>\n",
       "      <td>NaN</td>\n",
       "      <td>N</td>\n",
       "      <td>20201231.0</td>\n",
       "    </tr>\n",
       "    <tr>\n",
       "      <th>29347</th>\n",
       "      <td>43598-632_b7779005-0433-747c-3ea9-16e6d45b6cee</td>\n",
       "      <td>43598-632</td>\n",
       "      <td>HUMAN PRESCRIPTION DRUG</td>\n",
       "      <td>Fluoxetine hydrochloride</td>\n",
       "      <td>NaN</td>\n",
       "      <td>Fluoxetine hydrochloride</td>\n",
       "      <td>TABLET, FILM COATED</td>\n",
       "      <td>ORAL; ORAL</td>\n",
       "      <td>20190128</td>\n",
       "      <td>NaN</td>\n",
       "      <td>ANDA</td>\n",
       "      <td>ANDA211721</td>\n",
       "      <td>Dr. Reddy's Laboratories Inc.</td>\n",
       "      <td>FLUOXETINE HYDROCHLORIDE</td>\n",
       "      <td>60</td>\n",
       "      <td>mg/1</td>\n",
       "      <td>Serotonin Reuptake Inhibitor [EPC],Serotonin U...</td>\n",
       "      <td>NaN</td>\n",
       "      <td>N</td>\n",
       "      <td>20201231.0</td>\n",
       "    </tr>\n",
       "  </tbody>\n",
       "</table>\n",
       "</div>"
      ],
      "text/plain": [
       "                                            PRODUCTID PRODUCTNDC  \\\n",
       "9927   0527-1109_458431c7-41c7-48f4-a8f6-b6b6ccc7cbe2  0527-1109   \n",
       "11121  0615-8061_4643015f-3f68-4ecd-909f-85e3fd2c8549  0615-8061   \n",
       "12307  0869-0012_2fd9a395-b322-45b0-b568-71b98e581ae4  0869-0012   \n",
       "17328  16714-114_6ae8605d-16ec-9ea6-8389-ba144c924ee1  16714-114   \n",
       "29347  43598-632_b7779005-0433-747c-3ea9-16e6d45b6cee  43598-632   \n",
       "\n",
       "               PRODUCTTYPENAME           PROPRIETARYNAME  \\\n",
       "9927   HUMAN PRESCRIPTION DRUG                 Isoniazid   \n",
       "11121  HUMAN PRESCRIPTION DRUG                Lisinopril   \n",
       "12307           HUMAN OTC DRUG               Vitamin A D   \n",
       "17328  HUMAN PRESCRIPTION DRUG  Fluoxetine hydrochloride   \n",
       "29347  HUMAN PRESCRIPTION DRUG  Fluoxetine hydrochloride   \n",
       "\n",
       "      PROPRIETARYNAMESUFFIX        NONPROPRIETARYNAME       DOSAGEFORMNAME  \\\n",
       "9927                    NaN                 Isoniazid               TABLET   \n",
       "11121                   NaN                Lisinopril               TABLET   \n",
       "12307                   NaN       Lanolin, Petrolatum             OINTMENT   \n",
       "17328                   NaN  Fluoxetine hydrochloride  TABLET, FILM COATED   \n",
       "29347                   NaN  Fluoxetine hydrochloride  TABLET, FILM COATED   \n",
       "\n",
       "              ROUTENAME  STARTMARKETINGDATE  ENDMARKETINGDATE  \\\n",
       "9927         ORAL; ORAL            20131010               NaN   \n",
       "11121        ORAL; ORAL            20111101        20200930.0   \n",
       "12307  TOPICAL; TOPICAL            20130701               NaN   \n",
       "17328        ORAL; ORAL            20190918               NaN   \n",
       "29347        ORAL; ORAL            20190128               NaN   \n",
       "\n",
       "      MARKETINGCATEGORYNAME APPLICATIONNUMBER  \\\n",
       "9927                   ANDA        ANDA089776   \n",
       "11121                  ANDA        ANDA076180   \n",
       "12307   OTC MONOGRAPH FINAL           part347   \n",
       "17328                  ANDA        ANDA211721   \n",
       "29347                  ANDA        ANDA211721   \n",
       "\n",
       "                                      LABELERNAME             SUBSTANCENAME  \\\n",
       "9927                        Lannett Company, Inc.                 ISONIAZID   \n",
       "11121  NCS HealthCare of KY, Inc dba Vangard Labs                LISINOPRIL   \n",
       "12307                                      Vi-Jon       LANOLIN; PETROLATUM   \n",
       "17328                            NorthStar Rx LLC  FLUOXETINE HYDROCHLORIDE   \n",
       "29347               Dr. Reddy's Laboratories Inc.  FLUOXETINE HYDROCHLORIDE   \n",
       "\n",
       "      ACTIVE_NUMERATOR_STRENGTH ACTIVE_INGRED_UNIT  \\\n",
       "9927                        300               mg/1   \n",
       "11121                       2.5               mg/1   \n",
       "12307                  133; 459         mg/g; mg/g   \n",
       "17328                        60               mg/1   \n",
       "29347                        60               mg/1   \n",
       "\n",
       "                                           PHARM_CLASSES DEASCHEDULE  \\\n",
       "9927                             Antimycobacterial [EPC]         NaN   \n",
       "11121  Angiotensin Converting Enzyme Inhibitor [EPC],...         NaN   \n",
       "12307                                                NaN         NaN   \n",
       "17328  Serotonin Reuptake Inhibitor [EPC],Serotonin U...         NaN   \n",
       "29347  Serotonin Reuptake Inhibitor [EPC],Serotonin U...         NaN   \n",
       "\n",
       "      NDC_EXCLUDE_FLAG  LISTING_RECORD_CERTIFIED_THROUGH  \n",
       "9927                 N                        20211231.0  \n",
       "11121                N                               NaN  \n",
       "12307                N                        20211231.0  \n",
       "17328                N                        20201231.0  \n",
       "29347                N                        20201231.0  "
      ]
     },
     "execution_count": 30,
     "metadata": {},
     "output_type": "execute_result"
    }
   ],
   "source": [
    "# Find all the elements with RouteName repetitions\n",
    "print(f'Num of RouteName repetitions : {len(prod[prod[\"ROUTENAME\"].str.split(\"; \").str.len() > 1][prod[\"ROUTENAME\"][prod[\"ROUTENAME\"].str.split(\"; \").str.len() > 1].str.split(\"; \").apply(lambda x : set(x)).str.len() == 1])}')\n",
    "prod[prod[\"ROUTENAME\"].str.split(\"; \").str.len() > 1][prod[\"ROUTENAME\"][prod[\"ROUTENAME\"].str.split(\"; \").str.len() > 1].str.split(\"; \").apply(lambda x : set(x)).str.len() == 1].head()"
   ]
  },
  {
   "attachments": {},
   "cell_type": "markdown",
   "metadata": {},
   "source": [
    "Shrink to a single categorie for the 32 objects with repetitions"
   ]
  },
  {
   "cell_type": "code",
   "execution_count": 31,
   "metadata": {},
   "outputs": [],
   "source": [
    "prod.loc[\n",
    "    prod[\"ROUTENAME\"][prod[\"ROUTENAME\"].str.split(\"; \").str.len() > 1].str.split(\"; \").apply(lambda x: set(x))[prod[\"ROUTENAME\"][prod[\"ROUTENAME\"].str.split(\"; \").str.len() > 1].str.split(\"; \").apply(lambda x: set(x)).str.len() == 1].index,\n",
    "    \"ROUTENAME\"\n",
    "] = prod[\"ROUTENAME\"][prod[\"ROUTENAME\"].str.split(\"; \").str.len() > 1].str.split(\"; \").apply(lambda x: list(set(x))[0])[prod[\"ROUTENAME\"][prod[\"ROUTENAME\"].str.split(\"; \").str.len() > 1].str.split(\"; \").apply(lambda x: set(x)).str.len() == 1]\n",
    "# [prod[\"ROUTENAME\"][prod[\"ROUTENAME\"].str.split(\"; \").str.len() > 1].str.split(\"; \")]\n",
    "# .apply(lambda x : set(x)).str.len() == 1]"
   ]
  },
  {
   "attachments": {},
   "cell_type": "markdown",
   "metadata": {},
   "source": [
    "**Verifying DateType attributes (START/END/Listing_Record_Certified_Through)**"
   ]
  },
  {
   "attachments": {},
   "cell_type": "markdown",
   "metadata": {},
   "source": [
    "First let's transform the data from int to datetime format"
   ]
  },
  {
   "cell_type": "code",
   "execution_count": 32,
   "metadata": {},
   "outputs": [],
   "source": [
    "prod[\"STARTMARKETINGDATE\"] = pd.to_datetime(prod[\"STARTMARKETINGDATE\"], format=\"%Y%m%d\")"
   ]
  },
  {
   "cell_type": "code",
   "execution_count": 33,
   "metadata": {},
   "outputs": [
    {
     "name": "stdout",
     "output_type": "stream",
     "text": [
      "Date range from 1900-01-01 00:00:00 to 2020-02-14 00:00:00 for marketing start : OK\n"
     ]
    }
   ],
   "source": [
    "print(f'Date range from {min(prod[\"STARTMARKETINGDATE\"])} to {max(prod[\"STARTMARKETINGDATE\"])} for marketing start : OK')"
   ]
  },
  {
   "attachments": {},
   "cell_type": "markdown",
   "metadata": {},
   "source": [
    "Error for 3031 year in timestamp of EndMarketingDate. Let's fix it to 2031"
   ]
  },
  {
   "cell_type": "code",
   "execution_count": 34,
   "metadata": {},
   "outputs": [
    {
     "data": {
      "text/plain": [
       "29503    30310209.0\n",
       "65640    20390831.0\n",
       "46709    20380131.0\n",
       "89574    20331010.0\n",
       "89575    20331010.0\n",
       "Name: ENDMARKETINGDATE, dtype: float64"
      ]
     },
     "execution_count": 34,
     "metadata": {},
     "output_type": "execute_result"
    }
   ],
   "source": [
    "# pd.to_datetime(prod[\"ENDMARKETINGDATE\"], format=\"%Y%m%d\")\n",
    "prod[\"ENDMARKETINGDATE\"].sort_values(ascending=False).head()"
   ]
  },
  {
   "cell_type": "code",
   "execution_count": 35,
   "metadata": {},
   "outputs": [],
   "source": [
    "prod.loc[prod[\"ENDMARKETINGDATE\"] > 20500000, [\"ENDMARKETINGDATE\"]] = 30310209.0 - 10000000"
   ]
  },
  {
   "cell_type": "code",
   "execution_count": 36,
   "metadata": {},
   "outputs": [
    {
     "name": "stdout",
     "output_type": "stream",
     "text": [
      "20200813.0\n"
     ]
    }
   ],
   "source": [
    "print(prod.iloc[29503][\"ENDMARKETINGDATE\"])    # Check replacement"
   ]
  },
  {
   "cell_type": "code",
   "execution_count": 37,
   "metadata": {},
   "outputs": [],
   "source": [
    "# Converting the actual data\n",
    "prod[\"ENDMARKETINGDATE\"] = pd.to_datetime(prod[\"ENDMARKETINGDATE\"], format=\"%Y%m%d\")"
   ]
  },
  {
   "cell_type": "code",
   "execution_count": 38,
   "metadata": {},
   "outputs": [
    {
     "name": "stdout",
     "output_type": "stream",
     "text": [
      "Date range from 2020-02-15 00:00:00 to 2039-08-31 00:00:00 for marketing end : OK\n"
     ]
    }
   ],
   "source": [
    "print(f'Date range from {min(prod[\"ENDMARKETINGDATE\"].dropna())} to {max(prod[\"ENDMARKETINGDATE\"].dropna())} for marketing end : OK')"
   ]
  },
  {
   "attachments": {},
   "cell_type": "markdown",
   "metadata": {},
   "source": [
    "No objects with incongruent start/end date combinations"
   ]
  },
  {
   "cell_type": "code",
   "execution_count": 39,
   "metadata": {},
   "outputs": [
    {
     "name": "stdout",
     "output_type": "stream",
     "text": [
      "Number of objects with enddates greather than start dates : 0\n"
     ]
    }
   ],
   "source": [
    "print(f'Number of objects with enddates greather than start dates : {len(prod[prod[\"ENDMARKETINGDATE\"] < prod[\"STARTMARKETINGDATE\"]])}')"
   ]
  },
  {
   "attachments": {},
   "cell_type": "markdown",
   "metadata": {},
   "source": [
    "Listing records to date time, no incongruencies"
   ]
  },
  {
   "cell_type": "code",
   "execution_count": 40,
   "metadata": {},
   "outputs": [],
   "source": [
    "prod[\"LISTING_RECORD_CERTIFIED_THROUGH\"] = pd.to_datetime(prod[\"LISTING_RECORD_CERTIFIED_THROUGH\"], format=\"%Y%m%d\")"
   ]
  },
  {
   "cell_type": "code",
   "execution_count": 41,
   "metadata": {},
   "outputs": [
    {
     "name": "stdout",
     "output_type": "stream",
     "text": [
      "Date range from 2020-12-31 00:00:00 to 2021-12-31 00:00:00 for marketing end : OK\n"
     ]
    }
   ],
   "source": [
    "print(f'Date range from {min(prod[\"LISTING_RECORD_CERTIFIED_THROUGH\"].dropna())} to {max(prod[\"LISTING_RECORD_CERTIFIED_THROUGH\"].dropna())} for marketing end : OK')"
   ]
  },
  {
   "cell_type": "code",
   "execution_count": 42,
   "metadata": {},
   "outputs": [
    {
     "name": "stdout",
     "output_type": "stream",
     "text": [
      "Number of objects with listing certified greather than start dates : 0\n"
     ]
    }
   ],
   "source": [
    "print(f'Number of objects with listing certified greather than start dates : {len(prod[prod[\"LISTING_RECORD_CERTIFIED_THROUGH\"] < prod[\"STARTMARKETINGDATE\"]])}')"
   ]
  },
  {
   "attachments": {},
   "cell_type": "markdown",
   "metadata": {},
   "source": [
    "**Application Number verification to startwith FDA reference codes**"
   ]
  },
  {
   "cell_type": "code",
   "execution_count": 43,
   "metadata": {},
   "outputs": [
    {
     "data": {
      "text/plain": [
       "26428    333D\n",
       "Name: APPLICATIONNUMBER, dtype: object"
      ]
     },
     "execution_count": 43,
     "metadata": {},
     "output_type": "execute_result"
    }
   ],
   "source": [
    "# Does not matc prefix NDA / ANDA / BLA or partXXXX in ApplicationNumber\n",
    "prod[\"APPLICATIONNUMBER\"].dropna()[prod[\"APPLICATIONNUMBER\"].dropna().str.match(\"^[^NDA|^ANDA|^BLA|^part]\")]"
   ]
  },
  {
   "attachments": {},
   "cell_type": "markdown",
   "metadata": {},
   "source": [
    "Let's remove that object"
   ]
  },
  {
   "cell_type": "code",
   "execution_count": 44,
   "metadata": {},
   "outputs": [],
   "source": [
    "prod = prod.drop(prod[\"APPLICATIONNUMBER\"].dropna()[prod[\"APPLICATIONNUMBER\"].dropna().str.match(\"^[^NDA|^ANDA|^BLA|^part]\")].index)"
   ]
  },
  {
   "cell_type": "code",
   "execution_count": 45,
   "metadata": {},
   "outputs": [
    {
     "data": {
      "text/html": [
       "<div>\n",
       "<style scoped>\n",
       "    .dataframe tbody tr th:only-of-type {\n",
       "        vertical-align: middle;\n",
       "    }\n",
       "\n",
       "    .dataframe tbody tr th {\n",
       "        vertical-align: top;\n",
       "    }\n",
       "\n",
       "    .dataframe thead th {\n",
       "        text-align: right;\n",
       "    }\n",
       "</style>\n",
       "<table border=\"1\" class=\"dataframe\">\n",
       "  <thead>\n",
       "    <tr style=\"text-align: right;\">\n",
       "      <th></th>\n",
       "      <th>PRODUCTID</th>\n",
       "      <th>PRODUCTNDC</th>\n",
       "      <th>PRODUCTTYPENAME</th>\n",
       "      <th>PROPRIETARYNAME</th>\n",
       "      <th>PROPRIETARYNAMESUFFIX</th>\n",
       "      <th>NONPROPRIETARYNAME</th>\n",
       "      <th>DOSAGEFORMNAME</th>\n",
       "      <th>ROUTENAME</th>\n",
       "      <th>STARTMARKETINGDATE</th>\n",
       "      <th>ENDMARKETINGDATE</th>\n",
       "      <th>MARKETINGCATEGORYNAME</th>\n",
       "      <th>APPLICATIONNUMBER</th>\n",
       "      <th>LABELERNAME</th>\n",
       "      <th>SUBSTANCENAME</th>\n",
       "      <th>ACTIVE_NUMERATOR_STRENGTH</th>\n",
       "      <th>ACTIVE_INGRED_UNIT</th>\n",
       "      <th>PHARM_CLASSES</th>\n",
       "      <th>DEASCHEDULE</th>\n",
       "      <th>NDC_EXCLUDE_FLAG</th>\n",
       "      <th>LISTING_RECORD_CERTIFIED_THROUGH</th>\n",
       "    </tr>\n",
       "  </thead>\n",
       "  <tbody>\n",
       "    <tr>\n",
       "      <th>0</th>\n",
       "      <td>NaN</td>\n",
       "      <td>0002-0800</td>\n",
       "      <td>HUMAN OTC DRUG</td>\n",
       "      <td>Sterile Diluent</td>\n",
       "      <td>NaN</td>\n",
       "      <td>diluent</td>\n",
       "      <td>INJECTION, SOLUTION</td>\n",
       "      <td>SUBCUTANEOUS</td>\n",
       "      <td>1987-07-10</td>\n",
       "      <td>NaT</td>\n",
       "      <td>NDA</td>\n",
       "      <td>NDA018781</td>\n",
       "      <td>10</td>\n",
       "      <td>WATER</td>\n",
       "      <td>1</td>\n",
       "      <td>mL/mL</td>\n",
       "      <td>NaN</td>\n",
       "      <td>NaN</td>\n",
       "      <td>N</td>\n",
       "      <td>2020-12-31</td>\n",
       "    </tr>\n",
       "    <tr>\n",
       "      <th>1</th>\n",
       "      <td>NaN</td>\n",
       "      <td>0002-1200</td>\n",
       "      <td>HUMAN PRESCRIPTION DRUG</td>\n",
       "      <td>Amyvid</td>\n",
       "      <td>NaN</td>\n",
       "      <td>Florbetapir F 18</td>\n",
       "      <td>INJECTION, SOLUTION</td>\n",
       "      <td>INTRAVENOUS</td>\n",
       "      <td>2012-06-01</td>\n",
       "      <td>NaT</td>\n",
       "      <td>NDA</td>\n",
       "      <td>NDA202008</td>\n",
       "      <td>10</td>\n",
       "      <td>FLORBETAPIR F-18</td>\n",
       "      <td>51</td>\n",
       "      <td>mCi/mL</td>\n",
       "      <td>Radioactive Diagnostic Agent [EPC],Positron Em...</td>\n",
       "      <td>NaN</td>\n",
       "      <td>N</td>\n",
       "      <td>2021-12-31</td>\n",
       "    </tr>\n",
       "    <tr>\n",
       "      <th>2</th>\n",
       "      <td>NaN</td>\n",
       "      <td>0002-1433</td>\n",
       "      <td>HUMAN PRESCRIPTION DRUG</td>\n",
       "      <td>Trulicity</td>\n",
       "      <td>NaN</td>\n",
       "      <td>Dulaglutide</td>\n",
       "      <td>INJECTION, SOLUTION</td>\n",
       "      <td>SUBCUTANEOUS</td>\n",
       "      <td>2014-09-18</td>\n",
       "      <td>NaT</td>\n",
       "      <td>BLA</td>\n",
       "      <td>BLA125469</td>\n",
       "      <td>10</td>\n",
       "      <td>DULAGLUTIDE</td>\n",
       "      <td>.75</td>\n",
       "      <td>mg/.5mL</td>\n",
       "      <td>GLP-1 Receptor Agonist [EPC],Glucagon-Like Pep...</td>\n",
       "      <td>NaN</td>\n",
       "      <td>N</td>\n",
       "      <td>2020-12-31</td>\n",
       "    </tr>\n",
       "    <tr>\n",
       "      <th>3</th>\n",
       "      <td>NaN</td>\n",
       "      <td>0002-1434</td>\n",
       "      <td>HUMAN PRESCRIPTION DRUG</td>\n",
       "      <td>Trulicity</td>\n",
       "      <td>NaN</td>\n",
       "      <td>Dulaglutide</td>\n",
       "      <td>INJECTION, SOLUTION</td>\n",
       "      <td>SUBCUTANEOUS</td>\n",
       "      <td>2014-09-18</td>\n",
       "      <td>NaT</td>\n",
       "      <td>BLA</td>\n",
       "      <td>BLA125469</td>\n",
       "      <td>10</td>\n",
       "      <td>DULAGLUTIDE</td>\n",
       "      <td>1.5</td>\n",
       "      <td>mg/.5mL</td>\n",
       "      <td>GLP-1 Receptor Agonist [EPC],Glucagon-Like Pep...</td>\n",
       "      <td>NaN</td>\n",
       "      <td>N</td>\n",
       "      <td>2020-12-31</td>\n",
       "    </tr>\n",
       "    <tr>\n",
       "      <th>4</th>\n",
       "      <td>NaN</td>\n",
       "      <td>0002-1436</td>\n",
       "      <td>HUMAN PRESCRIPTION DRUG</td>\n",
       "      <td>EMGALITY</td>\n",
       "      <td>NaN</td>\n",
       "      <td>galcanezumab</td>\n",
       "      <td>INJECTION, SOLUTION</td>\n",
       "      <td>SUBCUTANEOUS</td>\n",
       "      <td>2018-09-27</td>\n",
       "      <td>NaT</td>\n",
       "      <td>BLA</td>\n",
       "      <td>BLA761063</td>\n",
       "      <td>10</td>\n",
       "      <td>GALCANEZUMAB</td>\n",
       "      <td>120</td>\n",
       "      <td>mg/mL</td>\n",
       "      <td>NaN</td>\n",
       "      <td>NaN</td>\n",
       "      <td>N</td>\n",
       "      <td>2020-12-31</td>\n",
       "    </tr>\n",
       "  </tbody>\n",
       "</table>\n",
       "</div>"
      ],
      "text/plain": [
       "  PRODUCTID PRODUCTNDC          PRODUCTTYPENAME  PROPRIETARYNAME  \\\n",
       "0       NaN  0002-0800           HUMAN OTC DRUG  Sterile Diluent   \n",
       "1       NaN  0002-1200  HUMAN PRESCRIPTION DRUG           Amyvid   \n",
       "2       NaN  0002-1433  HUMAN PRESCRIPTION DRUG        Trulicity   \n",
       "3       NaN  0002-1434  HUMAN PRESCRIPTION DRUG        Trulicity   \n",
       "4       NaN  0002-1436  HUMAN PRESCRIPTION DRUG         EMGALITY   \n",
       "\n",
       "  PROPRIETARYNAMESUFFIX NONPROPRIETARYNAME       DOSAGEFORMNAME     ROUTENAME  \\\n",
       "0                   NaN            diluent  INJECTION, SOLUTION  SUBCUTANEOUS   \n",
       "1                   NaN   Florbetapir F 18  INJECTION, SOLUTION   INTRAVENOUS   \n",
       "2                   NaN        Dulaglutide  INJECTION, SOLUTION  SUBCUTANEOUS   \n",
       "3                   NaN        Dulaglutide  INJECTION, SOLUTION  SUBCUTANEOUS   \n",
       "4                   NaN       galcanezumab  INJECTION, SOLUTION  SUBCUTANEOUS   \n",
       "\n",
       "  STARTMARKETINGDATE ENDMARKETINGDATE MARKETINGCATEGORYNAME APPLICATIONNUMBER  \\\n",
       "0         1987-07-10              NaT                   NDA         NDA018781   \n",
       "1         2012-06-01              NaT                   NDA         NDA202008   \n",
       "2         2014-09-18              NaT                   BLA         BLA125469   \n",
       "3         2014-09-18              NaT                   BLA         BLA125469   \n",
       "4         2018-09-27              NaT                   BLA         BLA761063   \n",
       "\n",
       "  LABELERNAME     SUBSTANCENAME ACTIVE_NUMERATOR_STRENGTH ACTIVE_INGRED_UNIT  \\\n",
       "0          10             WATER                         1              mL/mL   \n",
       "1          10  FLORBETAPIR F-18                        51             mCi/mL   \n",
       "2          10       DULAGLUTIDE                       .75            mg/.5mL   \n",
       "3          10       DULAGLUTIDE                       1.5            mg/.5mL   \n",
       "4          10      GALCANEZUMAB                       120              mg/mL   \n",
       "\n",
       "                                       PHARM_CLASSES DEASCHEDULE  \\\n",
       "0                                                NaN         NaN   \n",
       "1  Radioactive Diagnostic Agent [EPC],Positron Em...         NaN   \n",
       "2  GLP-1 Receptor Agonist [EPC],Glucagon-Like Pep...         NaN   \n",
       "3  GLP-1 Receptor Agonist [EPC],Glucagon-Like Pep...         NaN   \n",
       "4                                                NaN         NaN   \n",
       "\n",
       "  NDC_EXCLUDE_FLAG LISTING_RECORD_CERTIFIED_THROUGH  \n",
       "0                N                       2020-12-31  \n",
       "1                N                       2021-12-31  \n",
       "2                N                       2020-12-31  \n",
       "3                N                       2020-12-31  \n",
       "4                N                       2020-12-31  "
      ]
     },
     "execution_count": 45,
     "metadata": {},
     "output_type": "execute_result"
    }
   ],
   "source": [
    "prod.head()"
   ]
  },
  {
   "attachments": {},
   "cell_type": "markdown",
   "metadata": {},
   "source": [
    "**Verify if ApplicationNumber prefix and MarketingCategoryName are identical**"
   ]
  },
  {
   "cell_type": "code",
   "execution_count": 46,
   "metadata": {},
   "outputs": [
    {
     "data": {
      "text/plain": [
       "MARKETINGCATEGORYNAME        0\n",
       "APPLICATIONNUMBER        12978\n",
       "dtype: int64"
      ]
     },
     "execution_count": 46,
     "metadata": {},
     "output_type": "execute_result"
    }
   ],
   "source": [
    "prod[[\"MARKETINGCATEGORYNAME\",\"APPLICATIONNUMBER\"]].isnull().sum()"
   ]
  },
  {
   "attachments": {},
   "cell_type": "markdown",
   "metadata": {},
   "source": [
    "Let's look at the values for MarketingCategoryName when ApplicationNumber is null"
   ]
  },
  {
   "cell_type": "code",
   "execution_count": 47,
   "metadata": {},
   "outputs": [
    {
     "data": {
      "text/html": [
       "<div>\n",
       "<style scoped>\n",
       "    .dataframe tbody tr th:only-of-type {\n",
       "        vertical-align: middle;\n",
       "    }\n",
       "\n",
       "    .dataframe tbody tr th {\n",
       "        vertical-align: top;\n",
       "    }\n",
       "\n",
       "    .dataframe thead th {\n",
       "        text-align: right;\n",
       "    }\n",
       "</style>\n",
       "<table border=\"1\" class=\"dataframe\">\n",
       "  <thead>\n",
       "    <tr style=\"text-align: right;\">\n",
       "      <th></th>\n",
       "      <th>MARKETINGCATEGORYNAME</th>\n",
       "      <th>APPLICATIONNUMBER</th>\n",
       "    </tr>\n",
       "  </thead>\n",
       "  <tbody>\n",
       "    <tr>\n",
       "      <th>738</th>\n",
       "      <td>UNAPPROVED DRUG OTHER</td>\n",
       "      <td>NaN</td>\n",
       "    </tr>\n",
       "    <tr>\n",
       "      <th>750</th>\n",
       "      <td>UNAPPROVED DRUG OTHER</td>\n",
       "      <td>NaN</td>\n",
       "    </tr>\n",
       "    <tr>\n",
       "      <th>2262</th>\n",
       "      <td>UNAPPROVED DRUG OTHER</td>\n",
       "      <td>NaN</td>\n",
       "    </tr>\n",
       "    <tr>\n",
       "      <th>2307</th>\n",
       "      <td>UNAPPROVED DRUG OTHER</td>\n",
       "      <td>NaN</td>\n",
       "    </tr>\n",
       "    <tr>\n",
       "      <th>2822</th>\n",
       "      <td>UNAPPROVED DRUG OTHER</td>\n",
       "      <td>NaN</td>\n",
       "    </tr>\n",
       "  </tbody>\n",
       "</table>\n",
       "</div>"
      ],
      "text/plain": [
       "      MARKETINGCATEGORYNAME APPLICATIONNUMBER\n",
       "738   UNAPPROVED DRUG OTHER               NaN\n",
       "750   UNAPPROVED DRUG OTHER               NaN\n",
       "2262  UNAPPROVED DRUG OTHER               NaN\n",
       "2307  UNAPPROVED DRUG OTHER               NaN\n",
       "2822  UNAPPROVED DRUG OTHER               NaN"
      ]
     },
     "execution_count": 47,
     "metadata": {},
     "output_type": "execute_result"
    }
   ],
   "source": [
    "prod[[\"MARKETINGCATEGORYNAME\",\"APPLICATIONNUMBER\"]][prod[\"APPLICATIONNUMBER\"].isnull()].head()"
   ]
  },
  {
   "attachments": {},
   "cell_type": "markdown",
   "metadata": {},
   "source": [
    "For now we leave the NaN fields in ApplicationNumber as empty"
   ]
  },
  {
   "cell_type": "code",
   "execution_count": 48,
   "metadata": {},
   "outputs": [
    {
     "data": {
      "text/plain": [
       "array(['UNAPPROVED DRUG OTHER', 'UNAPPROVED HOMEOPATHIC',\n",
       "       'UNAPPROVED MEDICAL GAS',\n",
       "       'UNAPPROVED DRUG FOR USE IN DRUG SHORTAGE'], dtype=object)"
      ]
     },
     "execution_count": 48,
     "metadata": {},
     "output_type": "execute_result"
    }
   ],
   "source": [
    "prod[\"MARKETINGCATEGORYNAME\"][prod[\"APPLICATIONNUMBER\"].isnull()].unique()"
   ]
  },
  {
   "attachments": {},
   "cell_type": "markdown",
   "metadata": {},
   "source": [
    "List of the categories where ApplicationNumber prefix does not match MarketingCategoryName show that NDA and AND have some mismatch between the 2 features"
   ]
  },
  {
   "cell_type": "code",
   "execution_count": 49,
   "metadata": {},
   "outputs": [
    {
     "name": "stdout",
     "output_type": "stream",
     "text": [
      "['OTC MONOGRAPH NOT FINAL' 'OTC MONOGRAPH FINAL' 'NDA AUTHORIZED GENERIC'\n",
      " 'NDA' 'ANDA']\n"
     ]
    }
   ],
   "source": [
    "print(prod[[\"MARKETINGCATEGORYNAME\",\"APPLICATIONNUMBER\"]].dropna()[prod[[\"MARKETINGCATEGORYNAME\",\"APPLICATIONNUMBER\"]].dropna().apply(lambda x : x[\"MARKETINGCATEGORYNAME\"] not in x[\"APPLICATIONNUMBER\"], axis=1)][\"MARKETINGCATEGORYNAME\"].unique())"
   ]
  },
  {
   "attachments": {},
   "cell_type": "markdown",
   "metadata": {},
   "source": [
    "OK for OTC MONOGRAPH + NDA AUTHORIZED GENERIC entries"
   ]
  },
  {
   "cell_type": "code",
   "execution_count": 50,
   "metadata": {},
   "outputs": [
    {
     "data": {
      "text/plain": [
       "0"
      ]
     },
     "execution_count": 50,
     "metadata": {},
     "output_type": "execute_result"
    }
   ],
   "source": [
    "# Entries with NDA AUTHORIZED GENERIC AND NOT STARTING WITH NDAXXXXX IN APPLICATION NUMBER\n",
    "prod[[\"MARKETINGCATEGORYNAME\",\"APPLICATIONNUMBER\"]].dropna()[prod[[\"MARKETINGCATEGORYNAME\",\"APPLICATIONNUMBER\"]].dropna().apply(lambda x : x[\"MARKETINGCATEGORYNAME\"] not in x[\"APPLICATIONNUMBER\"] and x[\"MARKETINGCATEGORYNAME\"] == \"NDA AUTHORIZED GENERIC\", axis=1)][\"APPLICATIONNUMBER\"].str.contains(\"^[^NDA]\").sum()"
   ]
  },
  {
   "attachments": {},
   "cell_type": "markdown",
   "metadata": {},
   "source": [
    "Incongruencies for ANDA and NDA labelled objects in ApplicationNumber"
   ]
  },
  {
   "cell_type": "code",
   "execution_count": 51,
   "metadata": {},
   "outputs": [
    {
     "name": "stdout",
     "output_type": "stream",
     "text": [
      "12 mislabelled ANDA samples\n"
     ]
    },
    {
     "data": {
      "text/html": [
       "<div>\n",
       "<style scoped>\n",
       "    .dataframe tbody tr th:only-of-type {\n",
       "        vertical-align: middle;\n",
       "    }\n",
       "\n",
       "    .dataframe tbody tr th {\n",
       "        vertical-align: top;\n",
       "    }\n",
       "\n",
       "    .dataframe thead th {\n",
       "        text-align: right;\n",
       "    }\n",
       "</style>\n",
       "<table border=\"1\" class=\"dataframe\">\n",
       "  <thead>\n",
       "    <tr style=\"text-align: right;\">\n",
       "      <th></th>\n",
       "      <th>MARKETINGCATEGORYNAME</th>\n",
       "      <th>APPLICATIONNUMBER</th>\n",
       "    </tr>\n",
       "  </thead>\n",
       "  <tbody>\n",
       "    <tr>\n",
       "      <th>9209</th>\n",
       "      <td>ANDA</td>\n",
       "      <td>BA740193</td>\n",
       "    </tr>\n",
       "    <tr>\n",
       "      <th>9228</th>\n",
       "      <td>ANDA</td>\n",
       "      <td>BA720563</td>\n",
       "    </tr>\n",
       "    <tr>\n",
       "      <th>9229</th>\n",
       "      <td>ANDA</td>\n",
       "      <td>BA720562</td>\n",
       "    </tr>\n",
       "    <tr>\n",
       "      <th>16915</th>\n",
       "      <td>ANDA</td>\n",
       "      <td>BA010228</td>\n",
       "    </tr>\n",
       "    <tr>\n",
       "      <th>16916</th>\n",
       "      <td>ANDA</td>\n",
       "      <td>BA010228</td>\n",
       "    </tr>\n",
       "    <tr>\n",
       "      <th>16920</th>\n",
       "      <td>ANDA</td>\n",
       "      <td>BA125608</td>\n",
       "    </tr>\n",
       "    <tr>\n",
       "      <th>16921</th>\n",
       "      <td>ANDA</td>\n",
       "      <td>BA125608</td>\n",
       "    </tr>\n",
       "    <tr>\n",
       "      <th>16923</th>\n",
       "      <td>ANDA</td>\n",
       "      <td>BA010228</td>\n",
       "    </tr>\n",
       "    <tr>\n",
       "      <th>28399</th>\n",
       "      <td>ANDA</td>\n",
       "      <td>BA110057</td>\n",
       "    </tr>\n",
       "    <tr>\n",
       "      <th>41792</th>\n",
       "      <td>ANDA</td>\n",
       "      <td>BA740193</td>\n",
       "    </tr>\n",
       "    <tr>\n",
       "      <th>50018</th>\n",
       "      <td>ANDA</td>\n",
       "      <td>BA980728</td>\n",
       "    </tr>\n",
       "    <tr>\n",
       "      <th>92715</th>\n",
       "      <td>ANDA</td>\n",
       "      <td>BA125697</td>\n",
       "    </tr>\n",
       "  </tbody>\n",
       "</table>\n",
       "</div>"
      ],
      "text/plain": [
       "      MARKETINGCATEGORYNAME APPLICATIONNUMBER\n",
       "9209                   ANDA          BA740193\n",
       "9228                   ANDA          BA720563\n",
       "9229                   ANDA          BA720562\n",
       "16915                  ANDA          BA010228\n",
       "16916                  ANDA          BA010228\n",
       "16920                  ANDA          BA125608\n",
       "16921                  ANDA          BA125608\n",
       "16923                  ANDA          BA010228\n",
       "28399                  ANDA          BA110057\n",
       "41792                  ANDA          BA740193\n",
       "50018                  ANDA          BA980728\n",
       "92715                  ANDA          BA125697"
      ]
     },
     "execution_count": 51,
     "metadata": {},
     "output_type": "execute_result"
    }
   ],
   "source": [
    "# For ANDA in Marketing\n",
    "print(f'{len(prod[[\"MARKETINGCATEGORYNAME\",\"APPLICATIONNUMBER\"]].dropna()[prod[[\"MARKETINGCATEGORYNAME\",\"APPLICATIONNUMBER\"]].dropna().apply(lambda x : x[\"MARKETINGCATEGORYNAME\"] not in x[\"APPLICATIONNUMBER\"] and x[\"MARKETINGCATEGORYNAME\"] == \"ANDA\", axis=1)])} mislabelled ANDA samples')\n",
    "prod[[\"MARKETINGCATEGORYNAME\",\"APPLICATIONNUMBER\"]].dropna()[prod[[\"MARKETINGCATEGORYNAME\",\"APPLICATIONNUMBER\"]].dropna().apply(lambda x : x[\"MARKETINGCATEGORYNAME\"] not in x[\"APPLICATIONNUMBER\"] and x[\"MARKETINGCATEGORYNAME\"] == \"ANDA\", axis=1)]\n"
   ]
  },
  {
   "cell_type": "code",
   "execution_count": 52,
   "metadata": {},
   "outputs": [
    {
     "name": "stdout",
     "output_type": "stream",
     "text": [
      "111 mislabelled NDA samples\n"
     ]
    },
    {
     "data": {
      "text/html": [
       "<div>\n",
       "<style scoped>\n",
       "    .dataframe tbody tr th:only-of-type {\n",
       "        vertical-align: middle;\n",
       "    }\n",
       "\n",
       "    .dataframe tbody tr th {\n",
       "        vertical-align: top;\n",
       "    }\n",
       "\n",
       "    .dataframe thead th {\n",
       "        text-align: right;\n",
       "    }\n",
       "</style>\n",
       "<table border=\"1\" class=\"dataframe\">\n",
       "  <thead>\n",
       "    <tr style=\"text-align: right;\">\n",
       "      <th></th>\n",
       "      <th>MARKETINGCATEGORYNAME</th>\n",
       "      <th>APPLICATIONNUMBER</th>\n",
       "    </tr>\n",
       "  </thead>\n",
       "  <tbody>\n",
       "    <tr>\n",
       "      <th>5955</th>\n",
       "      <td>NDA</td>\n",
       "      <td>BN890105</td>\n",
       "    </tr>\n",
       "    <tr>\n",
       "      <th>8905</th>\n",
       "      <td>NDA</td>\n",
       "      <td>BN070012</td>\n",
       "    </tr>\n",
       "    <tr>\n",
       "      <th>8966</th>\n",
       "      <td>NDA</td>\n",
       "      <td>BN200952</td>\n",
       "    </tr>\n",
       "    <tr>\n",
       "      <th>13099</th>\n",
       "      <td>NDA</td>\n",
       "      <td>BN160918</td>\n",
       "    </tr>\n",
       "    <tr>\n",
       "      <th>13100</th>\n",
       "      <td>NDA</td>\n",
       "      <td>BN160918</td>\n",
       "    </tr>\n",
       "    <tr>\n",
       "      <th>...</th>\n",
       "      <td>...</td>\n",
       "      <td>...</td>\n",
       "    </tr>\n",
       "    <tr>\n",
       "      <th>50017</th>\n",
       "      <td>NDA</td>\n",
       "      <td>BN980123</td>\n",
       "    </tr>\n",
       "    <tr>\n",
       "      <th>50020</th>\n",
       "      <td>NDA</td>\n",
       "      <td>BN000127</td>\n",
       "    </tr>\n",
       "    <tr>\n",
       "      <th>50021</th>\n",
       "      <td>NDA</td>\n",
       "      <td>BN000127</td>\n",
       "    </tr>\n",
       "    <tr>\n",
       "      <th>50022</th>\n",
       "      <td>NDA</td>\n",
       "      <td>BN000127</td>\n",
       "    </tr>\n",
       "    <tr>\n",
       "      <th>60868</th>\n",
       "      <td>NDA</td>\n",
       "      <td>BN770923</td>\n",
       "    </tr>\n",
       "  </tbody>\n",
       "</table>\n",
       "<p>111 rows × 2 columns</p>\n",
       "</div>"
      ],
      "text/plain": [
       "      MARKETINGCATEGORYNAME APPLICATIONNUMBER\n",
       "5955                    NDA          BN890105\n",
       "8905                    NDA          BN070012\n",
       "8966                    NDA          BN200952\n",
       "13099                   NDA          BN160918\n",
       "13100                   NDA          BN160918\n",
       "...                     ...               ...\n",
       "50017                   NDA          BN980123\n",
       "50020                   NDA          BN000127\n",
       "50021                   NDA          BN000127\n",
       "50022                   NDA          BN000127\n",
       "60868                   NDA          BN770923\n",
       "\n",
       "[111 rows x 2 columns]"
      ]
     },
     "execution_count": 52,
     "metadata": {},
     "output_type": "execute_result"
    }
   ],
   "source": [
    "# NDA mislabelled\n",
    "print(f'{len(prod[[\"MARKETINGCATEGORYNAME\",\"APPLICATIONNUMBER\"]].dropna()[prod[[\"MARKETINGCATEGORYNAME\",\"APPLICATIONNUMBER\"]].dropna().apply(lambda x : x[\"MARKETINGCATEGORYNAME\"] not in x[\"APPLICATIONNUMBER\"] and x[\"MARKETINGCATEGORYNAME\"] == \"NDA\", axis=1)])} mislabelled NDA samples')\n",
    "prod[[\"MARKETINGCATEGORYNAME\",\"APPLICATIONNUMBER\"]].dropna()[prod[[\"MARKETINGCATEGORYNAME\",\"APPLICATIONNUMBER\"]].dropna().apply(lambda x : x[\"MARKETINGCATEGORYNAME\"] not in x[\"APPLICATIONNUMBER\"] and x[\"MARKETINGCATEGORYNAME\"] == \"NDA\", axis=1)]"
   ]
  },
  {
   "attachments": {},
   "cell_type": "markdown",
   "metadata": {},
   "source": [
    "Remove them from prod dataframe"
   ]
  },
  {
   "cell_type": "code",
   "execution_count": 53,
   "metadata": {},
   "outputs": [],
   "source": [
    "prod = prod.drop(prod[[\"MARKETINGCATEGORYNAME\",\"APPLICATIONNUMBER\"]].dropna()[prod[[\"MARKETINGCATEGORYNAME\",\"APPLICATIONNUMBER\"]].dropna().apply(lambda x : x[\"MARKETINGCATEGORYNAME\"] not in x[\"APPLICATIONNUMBER\"] and x[\"MARKETINGCATEGORYNAME\"] == \"ANDA\", axis=1)].index)\n",
    "prod = prod.drop(prod[[\"MARKETINGCATEGORYNAME\",\"APPLICATIONNUMBER\"]].dropna()[prod[[\"MARKETINGCATEGORYNAME\",\"APPLICATIONNUMBER\"]].dropna().apply(lambda x : x[\"MARKETINGCATEGORYNAME\"] not in x[\"APPLICATIONNUMBER\"] and x[\"MARKETINGCATEGORYNAME\"] == \"NDA\", axis=1)].index)\n"
   ]
  },
  {
   "attachments": {},
   "cell_type": "markdown",
   "metadata": {},
   "source": [
    "ProprietaryName seems all over the place and there are no standard format/regulations for this feature. Maybe delete it later on since it might not bring valuable information. At least convert to upper/lowercase before OneHotEncoding"
   ]
  },
  {
   "cell_type": "code",
   "execution_count": 54,
   "metadata": {},
   "outputs": [
    {
     "name": "stdout",
     "output_type": "stream",
     "text": [
      "['(CHLOROPROCAINE HCI' '.Insulin Aspart Protamine and Insulin Aspart'\n",
      " '0.9% SODIUM CHLORIDE' '02 CUSHION SPF45' '1 Bladder' '1 Detoxification'\n",
      " '1% Hydrocortisone' '1% LIDOCAINE HCI'\n",
      " '1.8OZ HAND SANITIZER WITH CLIP -ASSORTED'\n",
      " '1.8oz Armstrong Hand Sanitizer with Aloe Vera and Vitamin E'\n",
      " '10 Armani Prima Control Glow Moisturizer SBS SPF 35' '10 PARASITE DETOX'\n",
      " '10 Parasite Detox' '10 TREE MIX' '100% Pure Yerba Mate MIst'\n",
      " '1000 Roses CC Color Plus Correct Sheer Tan SPF 30'\n",
      " '1000 Roses CC Color plus Correct Sheer Nude SPF 30'\n",
      " '1000 Roses Daily Shade Facial SPF 18' '1012 Antimicrobial'\n",
      " '10g Colgate plus Toothbrush Kit'\n",
      " '10g Colgate plus Toothbrush plus Floss Kit' '11 Tree Pollen Mix'\n",
      " '111 Medco Benzoyl Peroxide' '12 Hour Nasal' '12 Hour Nasal Decongestant'\n",
      " '12 Hour Original Nasal Decongestant' '12 hour allergy and congestion'\n",
      " '12 hour allergy d' '12 hour decongestant'\n",
      " '12HR Allergy and Congestion Relief' '16OZ HYDORGEN PEROXIDE'\n",
      " '1ST MEDXPATCH' '1st RELIEF TOPICAL' '2 Cockroach Mix' '2 Gallbladder'\n",
      " '2 Lymphatic Drainage' '2 Maple Pollen Mix' '2 Transform' '2 in 1'\n",
      " '2 in 1 Antidandruff' '2 in 1 Dandruff' '2% LIDOCAINE HCI'\n",
      " '2-Count HEAT PATCHES' '2-Pack Hand Sanitizer' '2-Power Fabric SPF 25'\n",
      " '2.25OZ EverDry Ultra Dry Antiperspirant' '2000DL-CL30'\n",
      " '21STAY A Thera Sun Block' '24 Hour Acne Serum' '24 Hour Allergy']\n"
     ]
    }
   ],
   "source": [
    "# Example propname\n",
    "print(prod[\"PROPRIETARYNAME\"].sort_values().unique()[:50])"
   ]
  },
  {
   "cell_type": "code",
   "execution_count": 55,
   "metadata": {},
   "outputs": [],
   "source": [
    "prod[\"PROPRIETARYNAME\"] = prod[\"PROPRIETARYNAME\"].str.upper()"
   ]
  },
  {
   "attachments": {},
   "cell_type": "markdown",
   "metadata": {},
   "source": [
    "**No other cleanup/checkup except to convert to uppercase/lowercase before OneHotEncoding of NonProprietaryName to avoid repeated categories**"
   ]
  },
  {
   "cell_type": "code",
   "execution_count": 56,
   "metadata": {},
   "outputs": [],
   "source": [
    "prod[\"NONPROPRIETARYNAME\"] = prod[\"NONPROPRIETARYNAME\"].str.upper()"
   ]
  },
  {
   "cell_type": "code",
   "execution_count": 57,
   "metadata": {},
   "outputs": [
    {
     "data": {
      "text/plain": [
       "0             DILUENT\n",
       "1    FLORBETAPIR F 18\n",
       "2         DULAGLUTIDE\n",
       "3         DULAGLUTIDE\n",
       "4        GALCANEZUMAB\n",
       "Name: NONPROPRIETARYNAME, dtype: object"
      ]
     },
     "execution_count": 57,
     "metadata": {},
     "output_type": "execute_result"
    }
   ],
   "source": [
    "prod[\"NONPROPRIETARYNAME\"].head()"
   ]
  },
  {
   "attachments": {},
   "cell_type": "markdown",
   "metadata": {},
   "source": [
    "There are a lot of similar companies with just slight variations in their name. It might lead to more confusion or decreasing the model metrics such as Accuracy and F1 scores."
   ]
  },
  {
   "cell_type": "code",
   "execution_count": 58,
   "metadata": {},
   "outputs": [
    {
     "data": {
      "text/plain": [
       "array(['- INDUSTRIAL WELDING SUPPLY CO. OF HARVEY, INC.',\n",
       "       \"-L'Oreal USA Products Inc\", '.Cardinal Health',\n",
       "       '1 Veterans Health', '10', '101196749', '111 Medco',\n",
       "       '1ST MEDX LLC', '1st Class Pharmaceuticals, Inc.', '2 Transform',\n",
       "       '20Lighter, LLC.', '21st Century Designer Health Products',\n",
       "       '21st Century Formulations', '21st Century Homeopathics',\n",
       "       '21st Century Homeopathics, Inc', '2xl Corporation', '3014704014',\n",
       "       '3D Imaging Drug Design and Development LLC', '3LAB', '3LAB, Inc'],\n",
       "      dtype=object)"
      ]
     },
     "execution_count": 58,
     "metadata": {},
     "output_type": "execute_result"
    }
   ],
   "source": [
    "prod[\"LABELERNAME\"].sort_values().unique()[:20]"
   ]
  },
  {
   "attachments": {},
   "cell_type": "markdown",
   "metadata": {},
   "source": [
    "Let's convert to uppercase before OneHotEncoding"
   ]
  },
  {
   "cell_type": "code",
   "execution_count": 59,
   "metadata": {},
   "outputs": [],
   "source": [
    "prod[\"LABELERNAME\"] = prod[\"LABELERNAME\"].str.upper()"
   ]
  },
  {
   "attachments": {},
   "cell_type": "markdown",
   "metadata": {},
   "source": [
    "**SubstanceName, ACTIVATE_NUMERATOR_STRENGTH (which on the FDA website is labelled as StrengthNumber) and ACTIVE_INGRED_UNIT are linked features. They also can have multiple values each when split by a semi colon. Let's look if the number of multiple values match its counterpart in each feature**"
   ]
  },
  {
   "attachments": {},
   "cell_type": "markdown",
   "metadata": {},
   "source": [
    "Looking at the frequency of number of elements per value. They look similar."
   ]
  },
  {
   "cell_type": "code",
   "execution_count": 60,
   "metadata": {},
   "outputs": [
    {
     "data": {
      "text/plain": [
       "1.0    69367\n",
       "2.0     9430\n",
       "3.0     4472\n",
       "4.0     2655\n",
       "nan     2249\n",
       "5.0     1120\n",
       "Name: SUBSTANCENAME, dtype: int64"
      ]
     },
     "execution_count": 60,
     "metadata": {},
     "output_type": "execute_result"
    }
   ],
   "source": [
    "prod[\"SUBSTANCENAME\"].str.split(\";\").str.len().astype(str).value_counts()[:6]"
   ]
  },
  {
   "cell_type": "code",
   "execution_count": 61,
   "metadata": {},
   "outputs": [
    {
     "data": {
      "text/plain": [
       "1.0    69367\n",
       "2.0     9431\n",
       "3.0     4471\n",
       "4.0     2655\n",
       "nan     2249\n",
       "5.0     1120\n",
       "Name: ACTIVE_NUMERATOR_STRENGTH, dtype: int64"
      ]
     },
     "execution_count": 61,
     "metadata": {},
     "output_type": "execute_result"
    }
   ],
   "source": [
    "prod[\"ACTIVE_NUMERATOR_STRENGTH\"].str.split(\";\").str.len().astype(str).value_counts()[:6]"
   ]
  },
  {
   "cell_type": "code",
   "execution_count": 62,
   "metadata": {},
   "outputs": [
    {
     "data": {
      "text/plain": [
       "1.0    69367\n",
       "2.0     9431\n",
       "3.0     4471\n",
       "4.0     2655\n",
       "nan     2249\n",
       "5.0     1120\n",
       "Name: ACTIVE_INGRED_UNIT, dtype: int64"
      ]
     },
     "execution_count": 62,
     "metadata": {},
     "output_type": "execute_result"
    }
   ],
   "source": [
    "prod[\"ACTIVE_INGRED_UNIT\"].str.split(\";\").str.len().astype(str).value_counts()[:6]"
   ]
  },
  {
   "attachments": {},
   "cell_type": "markdown",
   "metadata": {},
   "source": [
    "Looking at differences in amount of categories per objects for SubstanceName and ACTIVE_NUMERATOR_STRENGTH"
   ]
  },
  {
   "cell_type": "code",
   "execution_count": 63,
   "metadata": {},
   "outputs": [
    {
     "data": {
      "text/html": [
       "<div>\n",
       "<style scoped>\n",
       "    .dataframe tbody tr th:only-of-type {\n",
       "        vertical-align: middle;\n",
       "    }\n",
       "\n",
       "    .dataframe tbody tr th {\n",
       "        vertical-align: top;\n",
       "    }\n",
       "\n",
       "    .dataframe thead th {\n",
       "        text-align: right;\n",
       "    }\n",
       "</style>\n",
       "<table border=\"1\" class=\"dataframe\">\n",
       "  <thead>\n",
       "    <tr style=\"text-align: right;\">\n",
       "      <th></th>\n",
       "      <th>SUBSTANCENAME</th>\n",
       "      <th>ACTIVE_NUMERATOR_STRENGTH</th>\n",
       "    </tr>\n",
       "  </thead>\n",
       "  <tbody>\n",
       "    <tr>\n",
       "      <th>49</th>\n",
       "      <td>NaN</td>\n",
       "      <td>NaN</td>\n",
       "    </tr>\n",
       "    <tr>\n",
       "      <th>58</th>\n",
       "      <td>NaN</td>\n",
       "      <td>NaN</td>\n",
       "    </tr>\n",
       "    <tr>\n",
       "      <th>59</th>\n",
       "      <td>NaN</td>\n",
       "      <td>NaN</td>\n",
       "    </tr>\n",
       "    <tr>\n",
       "      <th>60</th>\n",
       "      <td>NaN</td>\n",
       "      <td>NaN</td>\n",
       "    </tr>\n",
       "    <tr>\n",
       "      <th>69</th>\n",
       "      <td>NaN</td>\n",
       "      <td>NaN</td>\n",
       "    </tr>\n",
       "  </tbody>\n",
       "</table>\n",
       "</div>"
      ],
      "text/plain": [
       "   SUBSTANCENAME ACTIVE_NUMERATOR_STRENGTH\n",
       "49           NaN                       NaN\n",
       "58           NaN                       NaN\n",
       "59           NaN                       NaN\n",
       "60           NaN                       NaN\n",
       "69           NaN                       NaN"
      ]
     },
     "execution_count": 63,
     "metadata": {},
     "output_type": "execute_result"
    }
   ],
   "source": [
    "prod[prod[\"SUBSTANCENAME\"].str.split(\";\").str.len() != prod[\"ACTIVE_NUMERATOR_STRENGTH\"].str.split(\";\").str.len()][[\"SUBSTANCENAME\", \"ACTIVE_NUMERATOR_STRENGTH\"]].head()"
   ]
  },
  {
   "attachments": {},
   "cell_type": "markdown",
   "metadata": {},
   "source": [
    "Mostly NaN except..."
   ]
  },
  {
   "cell_type": "code",
   "execution_count": 64,
   "metadata": {},
   "outputs": [
    {
     "data": {
      "text/html": [
       "<div>\n",
       "<style scoped>\n",
       "    .dataframe tbody tr th:only-of-type {\n",
       "        vertical-align: middle;\n",
       "    }\n",
       "\n",
       "    .dataframe tbody tr th {\n",
       "        vertical-align: top;\n",
       "    }\n",
       "\n",
       "    .dataframe thead th {\n",
       "        text-align: right;\n",
       "    }\n",
       "</style>\n",
       "<table border=\"1\" class=\"dataframe\">\n",
       "  <thead>\n",
       "    <tr style=\"text-align: right;\">\n",
       "      <th></th>\n",
       "      <th>SUBSTANCENAME</th>\n",
       "      <th>ACTIVE_NUMERATOR_STRENGTH</th>\n",
       "    </tr>\n",
       "  </thead>\n",
       "  <tbody>\n",
       "    <tr>\n",
       "      <th>90536</th>\n",
       "      <td>GLYCERIN; HYDROLYZED SOY PROTEIN (ENZYMATIC; 2...</td>\n",
       "      <td>10; .12</td>\n",
       "    </tr>\n",
       "  </tbody>\n",
       "</table>\n",
       "</div>"
      ],
      "text/plain": [
       "                                           SUBSTANCENAME  \\\n",
       "90536  GLYCERIN; HYDROLYZED SOY PROTEIN (ENZYMATIC; 2...   \n",
       "\n",
       "      ACTIVE_NUMERATOR_STRENGTH  \n",
       "90536                   10; .12  "
      ]
     },
     "execution_count": 64,
     "metadata": {},
     "output_type": "execute_result"
    }
   ],
   "source": [
    "prod[prod[\"SUBSTANCENAME\"].str.split(\";\").str.len() != prod[\"ACTIVE_NUMERATOR_STRENGTH\"].str.split(\";\").str.len()][[\"SUBSTANCENAME\", \"ACTIVE_NUMERATOR_STRENGTH\"]].dropna()"
   ]
  },
  {
   "cell_type": "code",
   "execution_count": 65,
   "metadata": {},
   "outputs": [
    {
     "data": {
      "text/html": [
       "<div>\n",
       "<style scoped>\n",
       "    .dataframe tbody tr th:only-of-type {\n",
       "        vertical-align: middle;\n",
       "    }\n",
       "\n",
       "    .dataframe tbody tr th {\n",
       "        vertical-align: top;\n",
       "    }\n",
       "\n",
       "    .dataframe thead th {\n",
       "        text-align: right;\n",
       "    }\n",
       "</style>\n",
       "<table border=\"1\" class=\"dataframe\">\n",
       "  <thead>\n",
       "    <tr style=\"text-align: right;\">\n",
       "      <th></th>\n",
       "      <th>ACTIVE_NUMERATOR_STRENGTH</th>\n",
       "      <th>ACTIVE_INGRED_UNIT</th>\n",
       "    </tr>\n",
       "  </thead>\n",
       "  <tbody>\n",
       "  </tbody>\n",
       "</table>\n",
       "</div>"
      ],
      "text/plain": [
       "Empty DataFrame\n",
       "Columns: [ACTIVE_NUMERATOR_STRENGTH, ACTIVE_INGRED_UNIT]\n",
       "Index: []"
      ]
     },
     "execution_count": 65,
     "metadata": {},
     "output_type": "execute_result"
    }
   ],
   "source": [
    "prod[prod[\"ACTIVE_NUMERATOR_STRENGTH\"].str.split(\";\").str.len() != prod[\"ACTIVE_INGRED_UNIT\"].str.split(\";\").str.len()][[\"ACTIVE_NUMERATOR_STRENGTH\", \"ACTIVE_INGRED_UNIT\"]].dropna()"
   ]
  },
  {
   "cell_type": "code",
   "execution_count": 66,
   "metadata": {},
   "outputs": [],
   "source": [
    "# drop the problematic object\n",
    "prod = prod.drop(\n",
    "    prod[prod[\"SUBSTANCENAME\"].str.split(\";\").str.len() != prod[\"ACTIVE_NUMERATOR_STRENGTH\"].str.split(\";\").str.len()][[\"SUBSTANCENAME\", \"ACTIVE_NUMERATOR_STRENGTH\"]].dropna().index\n",
    ")"
   ]
  },
  {
   "attachments": {},
   "cell_type": "markdown",
   "metadata": {},
   "source": [
    "While it does not mean that the number of classes matches the number of substances !"
   ]
  },
  {
   "cell_type": "code",
   "execution_count": 67,
   "metadata": {},
   "outputs": [
    {
     "data": {
      "text/plain": [
       "88816"
      ]
     },
     "execution_count": 67,
     "metadata": {},
     "output_type": "execute_result"
    }
   ],
   "source": [
    "len(prod[prod[\"SUBSTANCENAME\"].str.split(\";\").str.len() != prod[\"PHARM_CLASSES\"].str.split(\",\").str.len()][ \"PHARM_CLASSES\"])"
   ]
  },
  {
   "attachments": {},
   "cell_type": "markdown",
   "metadata": {},
   "source": [
    "Looking now at a possible OneHotEncoding approach to deal with multiple values per instance"
   ]
  },
  {
   "cell_type": "code",
   "execution_count": 68,
   "metadata": {},
   "outputs": [
    {
     "name": "stdout",
     "output_type": "stream",
     "text": [
      "ohe len categories for SubstanceName\n",
      "8923\n",
      "ohe len categories for ACTIVE_NUMERATOR_STRENGTH\n",
      "8716\n",
      "ohe len categories for ACTIVE_INGRED_UNIT\n",
      "2369\n"
     ]
    }
   ],
   "source": [
    "print(\"ohe len categories for SubstanceName\")\n",
    "print(len(OneHotEncoder().fit(pd.DataFrame(prod[\"SUBSTANCENAME\"].str.upper())).categories_[0]))\n",
    "print(\"ohe len categories for ACTIVE_NUMERATOR_STRENGTH\")\n",
    "print(len(OneHotEncoder().fit(pd.DataFrame(prod[\"ACTIVE_NUMERATOR_STRENGTH\"].str.upper())).categories_[0]))\n",
    "print(\"ohe len categories for ACTIVE_INGRED_UNIT\")\n",
    "print(len(OneHotEncoder().fit(pd.DataFrame(prod[\"ACTIVE_INGRED_UNIT\"].str.upper())).categories_[0]))"
   ]
  },
  {
   "attachments": {},
   "cell_type": "markdown",
   "metadata": {},
   "source": [
    "That amount of categories with OneHotEncoding might lead to overfitting, let's look at another avenue to deal with multiple values per instance those features"
   ]
  },
  {
   "cell_type": "code",
   "execution_count": 69,
   "metadata": {},
   "outputs": [],
   "source": [
    "multiple_vals_feats = [\"SUBSTANCENAME\", \"ACTIVE_NUMERATOR_STRENGTH\", \"ACTIVE_INGRED_UNIT\"]"
   ]
  },
  {
   "cell_type": "code",
   "execution_count": 70,
   "metadata": {},
   "outputs": [
    {
     "data": {
      "text/html": [
       "<div>\n",
       "<style scoped>\n",
       "    .dataframe tbody tr th:only-of-type {\n",
       "        vertical-align: middle;\n",
       "    }\n",
       "\n",
       "    .dataframe tbody tr th {\n",
       "        vertical-align: top;\n",
       "    }\n",
       "\n",
       "    .dataframe thead th {\n",
       "        text-align: right;\n",
       "    }\n",
       "</style>\n",
       "<table border=\"1\" class=\"dataframe\">\n",
       "  <thead>\n",
       "    <tr style=\"text-align: right;\">\n",
       "      <th></th>\n",
       "      <th>PRODUCTID</th>\n",
       "      <th>PRODUCTNDC</th>\n",
       "      <th>PRODUCTTYPENAME</th>\n",
       "      <th>PROPRIETARYNAME</th>\n",
       "      <th>PROPRIETARYNAMESUFFIX</th>\n",
       "      <th>NONPROPRIETARYNAME</th>\n",
       "      <th>DOSAGEFORMNAME</th>\n",
       "      <th>ROUTENAME</th>\n",
       "      <th>STARTMARKETINGDATE</th>\n",
       "      <th>ENDMARKETINGDATE</th>\n",
       "      <th>MARKETINGCATEGORYNAME</th>\n",
       "      <th>APPLICATIONNUMBER</th>\n",
       "      <th>LABELERNAME</th>\n",
       "      <th>SUBSTANCENAME</th>\n",
       "      <th>ACTIVE_NUMERATOR_STRENGTH</th>\n",
       "      <th>ACTIVE_INGRED_UNIT</th>\n",
       "      <th>PHARM_CLASSES</th>\n",
       "      <th>DEASCHEDULE</th>\n",
       "      <th>NDC_EXCLUDE_FLAG</th>\n",
       "      <th>LISTING_RECORD_CERTIFIED_THROUGH</th>\n",
       "    </tr>\n",
       "  </thead>\n",
       "  <tbody>\n",
       "    <tr>\n",
       "      <th>0</th>\n",
       "      <td>NaN</td>\n",
       "      <td>0002-0800</td>\n",
       "      <td>HUMAN OTC DRUG</td>\n",
       "      <td>STERILE DILUENT</td>\n",
       "      <td>NaN</td>\n",
       "      <td>DILUENT</td>\n",
       "      <td>INJECTION, SOLUTION</td>\n",
       "      <td>SUBCUTANEOUS</td>\n",
       "      <td>1987-07-10</td>\n",
       "      <td>NaT</td>\n",
       "      <td>NDA</td>\n",
       "      <td>NDA018781</td>\n",
       "      <td>10</td>\n",
       "      <td>WATER</td>\n",
       "      <td>1</td>\n",
       "      <td>mL/mL</td>\n",
       "      <td>NaN</td>\n",
       "      <td>NaN</td>\n",
       "      <td>N</td>\n",
       "      <td>2020-12-31</td>\n",
       "    </tr>\n",
       "    <tr>\n",
       "      <th>1</th>\n",
       "      <td>NaN</td>\n",
       "      <td>0002-1200</td>\n",
       "      <td>HUMAN PRESCRIPTION DRUG</td>\n",
       "      <td>AMYVID</td>\n",
       "      <td>NaN</td>\n",
       "      <td>FLORBETAPIR F 18</td>\n",
       "      <td>INJECTION, SOLUTION</td>\n",
       "      <td>INTRAVENOUS</td>\n",
       "      <td>2012-06-01</td>\n",
       "      <td>NaT</td>\n",
       "      <td>NDA</td>\n",
       "      <td>NDA202008</td>\n",
       "      <td>10</td>\n",
       "      <td>FLORBETAPIR F-18</td>\n",
       "      <td>51</td>\n",
       "      <td>mCi/mL</td>\n",
       "      <td>Radioactive Diagnostic Agent [EPC],Positron Em...</td>\n",
       "      <td>NaN</td>\n",
       "      <td>N</td>\n",
       "      <td>2021-12-31</td>\n",
       "    </tr>\n",
       "    <tr>\n",
       "      <th>2</th>\n",
       "      <td>NaN</td>\n",
       "      <td>0002-1433</td>\n",
       "      <td>HUMAN PRESCRIPTION DRUG</td>\n",
       "      <td>TRULICITY</td>\n",
       "      <td>NaN</td>\n",
       "      <td>DULAGLUTIDE</td>\n",
       "      <td>INJECTION, SOLUTION</td>\n",
       "      <td>SUBCUTANEOUS</td>\n",
       "      <td>2014-09-18</td>\n",
       "      <td>NaT</td>\n",
       "      <td>BLA</td>\n",
       "      <td>BLA125469</td>\n",
       "      <td>10</td>\n",
       "      <td>DULAGLUTIDE</td>\n",
       "      <td>.75</td>\n",
       "      <td>mg/.5mL</td>\n",
       "      <td>GLP-1 Receptor Agonist [EPC],Glucagon-Like Pep...</td>\n",
       "      <td>NaN</td>\n",
       "      <td>N</td>\n",
       "      <td>2020-12-31</td>\n",
       "    </tr>\n",
       "    <tr>\n",
       "      <th>3</th>\n",
       "      <td>NaN</td>\n",
       "      <td>0002-1434</td>\n",
       "      <td>HUMAN PRESCRIPTION DRUG</td>\n",
       "      <td>TRULICITY</td>\n",
       "      <td>NaN</td>\n",
       "      <td>DULAGLUTIDE</td>\n",
       "      <td>INJECTION, SOLUTION</td>\n",
       "      <td>SUBCUTANEOUS</td>\n",
       "      <td>2014-09-18</td>\n",
       "      <td>NaT</td>\n",
       "      <td>BLA</td>\n",
       "      <td>BLA125469</td>\n",
       "      <td>10</td>\n",
       "      <td>DULAGLUTIDE</td>\n",
       "      <td>1.5</td>\n",
       "      <td>mg/.5mL</td>\n",
       "      <td>GLP-1 Receptor Agonist [EPC],Glucagon-Like Pep...</td>\n",
       "      <td>NaN</td>\n",
       "      <td>N</td>\n",
       "      <td>2020-12-31</td>\n",
       "    </tr>\n",
       "    <tr>\n",
       "      <th>4</th>\n",
       "      <td>NaN</td>\n",
       "      <td>0002-1436</td>\n",
       "      <td>HUMAN PRESCRIPTION DRUG</td>\n",
       "      <td>EMGALITY</td>\n",
       "      <td>NaN</td>\n",
       "      <td>GALCANEZUMAB</td>\n",
       "      <td>INJECTION, SOLUTION</td>\n",
       "      <td>SUBCUTANEOUS</td>\n",
       "      <td>2018-09-27</td>\n",
       "      <td>NaT</td>\n",
       "      <td>BLA</td>\n",
       "      <td>BLA761063</td>\n",
       "      <td>10</td>\n",
       "      <td>GALCANEZUMAB</td>\n",
       "      <td>120</td>\n",
       "      <td>mg/mL</td>\n",
       "      <td>NaN</td>\n",
       "      <td>NaN</td>\n",
       "      <td>N</td>\n",
       "      <td>2020-12-31</td>\n",
       "    </tr>\n",
       "  </tbody>\n",
       "</table>\n",
       "</div>"
      ],
      "text/plain": [
       "  PRODUCTID PRODUCTNDC          PRODUCTTYPENAME  PROPRIETARYNAME  \\\n",
       "0       NaN  0002-0800           HUMAN OTC DRUG  STERILE DILUENT   \n",
       "1       NaN  0002-1200  HUMAN PRESCRIPTION DRUG           AMYVID   \n",
       "2       NaN  0002-1433  HUMAN PRESCRIPTION DRUG        TRULICITY   \n",
       "3       NaN  0002-1434  HUMAN PRESCRIPTION DRUG        TRULICITY   \n",
       "4       NaN  0002-1436  HUMAN PRESCRIPTION DRUG         EMGALITY   \n",
       "\n",
       "  PROPRIETARYNAMESUFFIX NONPROPRIETARYNAME       DOSAGEFORMNAME     ROUTENAME  \\\n",
       "0                   NaN            DILUENT  INJECTION, SOLUTION  SUBCUTANEOUS   \n",
       "1                   NaN   FLORBETAPIR F 18  INJECTION, SOLUTION   INTRAVENOUS   \n",
       "2                   NaN        DULAGLUTIDE  INJECTION, SOLUTION  SUBCUTANEOUS   \n",
       "3                   NaN        DULAGLUTIDE  INJECTION, SOLUTION  SUBCUTANEOUS   \n",
       "4                   NaN       GALCANEZUMAB  INJECTION, SOLUTION  SUBCUTANEOUS   \n",
       "\n",
       "  STARTMARKETINGDATE ENDMARKETINGDATE MARKETINGCATEGORYNAME APPLICATIONNUMBER  \\\n",
       "0         1987-07-10              NaT                   NDA         NDA018781   \n",
       "1         2012-06-01              NaT                   NDA         NDA202008   \n",
       "2         2014-09-18              NaT                   BLA         BLA125469   \n",
       "3         2014-09-18              NaT                   BLA         BLA125469   \n",
       "4         2018-09-27              NaT                   BLA         BLA761063   \n",
       "\n",
       "  LABELERNAME     SUBSTANCENAME ACTIVE_NUMERATOR_STRENGTH ACTIVE_INGRED_UNIT  \\\n",
       "0          10             WATER                         1              mL/mL   \n",
       "1          10  FLORBETAPIR F-18                        51             mCi/mL   \n",
       "2          10       DULAGLUTIDE                       .75            mg/.5mL   \n",
       "3          10       DULAGLUTIDE                       1.5            mg/.5mL   \n",
       "4          10      GALCANEZUMAB                       120              mg/mL   \n",
       "\n",
       "                                       PHARM_CLASSES DEASCHEDULE  \\\n",
       "0                                                NaN         NaN   \n",
       "1  Radioactive Diagnostic Agent [EPC],Positron Em...         NaN   \n",
       "2  GLP-1 Receptor Agonist [EPC],Glucagon-Like Pep...         NaN   \n",
       "3  GLP-1 Receptor Agonist [EPC],Glucagon-Like Pep...         NaN   \n",
       "4                                                NaN         NaN   \n",
       "\n",
       "  NDC_EXCLUDE_FLAG LISTING_RECORD_CERTIFIED_THROUGH  \n",
       "0                N                       2020-12-31  \n",
       "1                N                       2021-12-31  \n",
       "2                N                       2020-12-31  \n",
       "3                N                       2020-12-31  \n",
       "4                N                       2020-12-31  "
      ]
     },
     "execution_count": 70,
     "metadata": {},
     "output_type": "execute_result"
    }
   ],
   "source": [
    "prod[0:5]"
   ]
  },
  {
   "cell_type": "code",
   "execution_count": 71,
   "metadata": {},
   "outputs": [
    {
     "data": {
      "text/html": [
       "<div>\n",
       "<style scoped>\n",
       "    .dataframe tbody tr th:only-of-type {\n",
       "        vertical-align: middle;\n",
       "    }\n",
       "\n",
       "    .dataframe tbody tr th {\n",
       "        vertical-align: top;\n",
       "    }\n",
       "\n",
       "    .dataframe thead th {\n",
       "        text-align: right;\n",
       "    }\n",
       "</style>\n",
       "<table border=\"1\" class=\"dataframe\">\n",
       "  <thead>\n",
       "    <tr style=\"text-align: right;\">\n",
       "      <th></th>\n",
       "      <th>SUBSTANCENAME</th>\n",
       "      <th>ACTIVE_NUMERATOR_STRENGTH</th>\n",
       "      <th>ACTIVE_INGRED_UNIT</th>\n",
       "    </tr>\n",
       "  </thead>\n",
       "  <tbody>\n",
       "    <tr>\n",
       "      <th>49</th>\n",
       "      <td>NaN</td>\n",
       "      <td>NaN</td>\n",
       "      <td>NaN</td>\n",
       "    </tr>\n",
       "    <tr>\n",
       "      <th>58</th>\n",
       "      <td>NaN</td>\n",
       "      <td>NaN</td>\n",
       "      <td>NaN</td>\n",
       "    </tr>\n",
       "    <tr>\n",
       "      <th>59</th>\n",
       "      <td>NaN</td>\n",
       "      <td>NaN</td>\n",
       "      <td>NaN</td>\n",
       "    </tr>\n",
       "    <tr>\n",
       "      <th>60</th>\n",
       "      <td>NaN</td>\n",
       "      <td>NaN</td>\n",
       "      <td>NaN</td>\n",
       "    </tr>\n",
       "    <tr>\n",
       "      <th>69</th>\n",
       "      <td>NaN</td>\n",
       "      <td>NaN</td>\n",
       "      <td>NaN</td>\n",
       "    </tr>\n",
       "    <tr>\n",
       "      <th>...</th>\n",
       "      <td>...</td>\n",
       "      <td>...</td>\n",
       "      <td>...</td>\n",
       "    </tr>\n",
       "    <tr>\n",
       "      <th>93016</th>\n",
       "      <td>NaN</td>\n",
       "      <td>NaN</td>\n",
       "      <td>NaN</td>\n",
       "    </tr>\n",
       "    <tr>\n",
       "      <th>93017</th>\n",
       "      <td>NaN</td>\n",
       "      <td>NaN</td>\n",
       "      <td>NaN</td>\n",
       "    </tr>\n",
       "    <tr>\n",
       "      <th>93018</th>\n",
       "      <td>NaN</td>\n",
       "      <td>NaN</td>\n",
       "      <td>NaN</td>\n",
       "    </tr>\n",
       "    <tr>\n",
       "      <th>93019</th>\n",
       "      <td>NaN</td>\n",
       "      <td>NaN</td>\n",
       "      <td>NaN</td>\n",
       "    </tr>\n",
       "    <tr>\n",
       "      <th>93020</th>\n",
       "      <td>NaN</td>\n",
       "      <td>NaN</td>\n",
       "      <td>NaN</td>\n",
       "    </tr>\n",
       "  </tbody>\n",
       "</table>\n",
       "<p>2249 rows × 3 columns</p>\n",
       "</div>"
      ],
      "text/plain": [
       "      SUBSTANCENAME ACTIVE_NUMERATOR_STRENGTH ACTIVE_INGRED_UNIT\n",
       "49              NaN                       NaN                NaN\n",
       "58              NaN                       NaN                NaN\n",
       "59              NaN                       NaN                NaN\n",
       "60              NaN                       NaN                NaN\n",
       "69              NaN                       NaN                NaN\n",
       "...             ...                       ...                ...\n",
       "93016           NaN                       NaN                NaN\n",
       "93017           NaN                       NaN                NaN\n",
       "93018           NaN                       NaN                NaN\n",
       "93019           NaN                       NaN                NaN\n",
       "93020           NaN                       NaN                NaN\n",
       "\n",
       "[2249 rows x 3 columns]"
      ]
     },
     "execution_count": 71,
     "metadata": {},
     "output_type": "execute_result"
    }
   ],
   "source": [
    "# To get the first upto fifth substance, concentration and units\n",
    "prod[prod[multiple_vals_feats].apply(lambda x: x.str.split(\";\").str[0]).isnull().any(axis=1)][multiple_vals_feats]"
   ]
  },
  {
   "attachments": {},
   "cell_type": "markdown",
   "metadata": {},
   "source": [
    "We could get all the element positions for the first 5 elements for each of the feature, meaning we would split in 15 new features"
   ]
  },
  {
   "cell_type": "code",
   "execution_count": 72,
   "metadata": {},
   "outputs": [],
   "source": [
    "for i in range(5):\n",
    "    # print([f\"{feat}_{i}\" for feat in multiple_vals_feats])\n",
    "    prod[[f\"{feat}_{i}\" for feat in multiple_vals_feats]] = prod[multiple_vals_feats].apply(lambda x: x.str.split(\";\").str[i])"
   ]
  },
  {
   "cell_type": "code",
   "execution_count": 73,
   "metadata": {},
   "outputs": [
    {
     "data": {
      "text/plain": [
       "SUBSTANCENAME_0                 2249\n",
       "ACTIVE_NUMERATOR_STRENGTH_0     2249\n",
       "ACTIVE_INGRED_UNIT_0            2249\n",
       "SUBSTANCENAME_1                71616\n",
       "ACTIVE_NUMERATOR_STRENGTH_1    71616\n",
       "ACTIVE_INGRED_UNIT_1           71616\n",
       "SUBSTANCENAME_2                81046\n",
       "ACTIVE_NUMERATOR_STRENGTH_2    81046\n",
       "ACTIVE_INGRED_UNIT_2           81046\n",
       "SUBSTANCENAME_3                85517\n",
       "ACTIVE_NUMERATOR_STRENGTH_3    85517\n",
       "ACTIVE_INGRED_UNIT_3           85517\n",
       "SUBSTANCENAME_4                88172\n",
       "ACTIVE_NUMERATOR_STRENGTH_4    88172\n",
       "ACTIVE_INGRED_UNIT_4           88172\n",
       "dtype: int64"
      ]
     },
     "execution_count": 73,
     "metadata": {},
     "output_type": "execute_result"
    }
   ],
   "source": [
    "prod.isnull().sum()[20:]"
   ]
  },
  {
   "cell_type": "code",
   "execution_count": 74,
   "metadata": {},
   "outputs": [],
   "source": [
    "prod = prod.drop(columns=prod.iloc[:, 20:].columns)"
   ]
  },
  {
   "attachments": {},
   "cell_type": "markdown",
   "metadata": {},
   "source": [
    "This is a lot of NaN but we will loose the link to pharm_classes if we only keep those. We have to choose a different approach"
   ]
  },
  {
   "attachments": {},
   "cell_type": "markdown",
   "metadata": {},
   "source": [
    "**PHARM_CLASSES Verification and correction**"
   ]
  },
  {
   "cell_type": "code",
   "execution_count": 75,
   "metadata": {},
   "outputs": [
    {
     "name": "stdout",
     "output_type": "stream",
     "text": [
      "There are 50554 missing values for PHARM_CLASSES\n"
     ]
    }
   ],
   "source": [
    "print(f\"There are {prod['PHARM_CLASSES'].isnull().sum()} missing values for PHARM_CLASSES\")"
   ]
  },
  {
   "cell_type": "code",
   "execution_count": 76,
   "metadata": {},
   "outputs": [
    {
     "data": {
      "text/plain": [
       "nan    50554\n",
       "2.0    23180\n",
       "3.0     5029\n",
       "4.0     3410\n",
       "1.0     3066\n",
       "5.0     3004\n",
       "Name: PHARM_CLASSES, dtype: int64"
      ]
     },
     "execution_count": 76,
     "metadata": {},
     "output_type": "execute_result"
    }
   ],
   "source": [
    "# Counts of Number of classes per objects\n",
    "prod[\"PHARM_CLASSES\"].str.split(\",\").str.len().sort_values().astype(str).value_counts()[:6]"
   ]
  },
  {
   "cell_type": "code",
   "execution_count": 77,
   "metadata": {},
   "outputs": [
    {
     "data": {
      "text/plain": [
       "0                                                  NaN\n",
       "1    Radioactive Diagnostic Agent [EPC],Positron Em...\n",
       "2    GLP-1 Receptor Agonist [EPC],Glucagon-Like Pep...\n",
       "3    GLP-1 Receptor Agonist [EPC],Glucagon-Like Pep...\n",
       "4                                                  NaN\n",
       "Name: PHARM_CLASSES, dtype: object"
      ]
     },
     "execution_count": 77,
     "metadata": {},
     "output_type": "execute_result"
    }
   ],
   "source": [
    "prod[\"PHARM_CLASSES\"].head()"
   ]
  },
  {
   "attachments": {},
   "cell_type": "markdown",
   "metadata": {},
   "source": [
    "**Extracting only the PHARM_CLASS code**"
   ]
  },
  {
   "cell_type": "code",
   "execution_count": 78,
   "metadata": {},
   "outputs": [
    {
     "data": {
      "text/plain": [
       "0                                                  NaN\n",
       "1    Radioactive Diagnostic Agent [EPC],Positron Em...\n",
       "2    GLP-1 Receptor Agonist [EPC],Glucagon-Like Pep...\n",
       "3    GLP-1 Receptor Agonist [EPC],Glucagon-Like Pep...\n",
       "4                                                  NaN\n",
       "Name: PHARM_CLASSES, dtype: object"
      ]
     },
     "execution_count": 78,
     "metadata": {},
     "output_type": "execute_result"
    }
   ],
   "source": [
    "prod[\"PHARM_CLASSES\"].head()"
   ]
  },
  {
   "cell_type": "code",
   "execution_count": 79,
   "metadata": {},
   "outputs": [
    {
     "data": {
      "text/plain": [
       "0               NaN\n",
       "1        [EPC, MoA]\n",
       "2    [EPC, CS, MoA]\n",
       "3    [EPC, CS, MoA]\n",
       "4               NaN\n",
       "Name: PHARM_CLASSES, dtype: object"
      ]
     },
     "execution_count": 79,
     "metadata": {},
     "output_type": "execute_result"
    }
   ],
   "source": [
    "prod[\"PHARM_CLASSES\"].str.findall(\"\\[(.*?)\\]\").head()"
   ]
  },
  {
   "attachments": {},
   "cell_type": "markdown",
   "metadata": {},
   "source": [
    "There are repetitions within pharm_classes because it is linked to the SubstanceName molecules"
   ]
  },
  {
   "cell_type": "code",
   "execution_count": 80,
   "metadata": {},
   "outputs": [
    {
     "data": {
      "text/plain": [
       "11    [EPC, EPC, MoA]\n",
       "12    [EPC, EPC, MoA]\n",
       "13    [EPC, EPC, MoA]\n",
       "14    [EPC, EPC, MoA]\n",
       "15    [MoA, EPC, MoA]\n",
       "Name: PHARM_CLASSES, dtype: object"
      ]
     },
     "execution_count": 80,
     "metadata": {},
     "output_type": "execute_result"
    }
   ],
   "source": [
    "prod[\"PHARM_CLASSES\"].str.findall(\"\\[(.*?)\\]\").dropna()[prod[\"PHARM_CLASSES\"].dropna().str.findall(\"\\[(.*?)\\]\").str.len() > prod[\"PHARM_CLASSES\"].str.findall(\"\\[(.*?)\\]\").dropna().apply(lambda x: set(x)).str.len()].head()"
   ]
  },
  {
   "attachments": {},
   "cell_type": "markdown",
   "metadata": {},
   "source": [
    "**DEASchedule verification codes**"
   ]
  },
  {
   "cell_type": "code",
   "execution_count": 81,
   "metadata": {},
   "outputs": [
    {
     "name": "stdout",
     "output_type": "stream",
     "text": [
      "0\n"
     ]
    }
   ],
   "source": [
    "deas_codes = [\"CI\", \"CII\", \"CIII\", \"CIV\", \"CV\"]\n",
    "print(len([label for label in prod[\"DEASCHEDULE\"].dropna().unique() if label not in deas_codes]))"
   ]
  },
  {
   "attachments": {},
   "cell_type": "markdown",
   "metadata": {},
   "source": [
    "**NDC_Exclude_Flag codes verification**"
   ]
  },
  {
   "cell_type": "code",
   "execution_count": 82,
   "metadata": {},
   "outputs": [
    {
     "name": "stdout",
     "output_type": "stream",
     "text": [
      "['N']\n"
     ]
    }
   ],
   "source": [
    "ndc_exclude_codes = [\"E\", \"U\", \"I\"]\n",
    "print([label for label in prod[\"NDC_EXCLUDE_FLAG\"].unique()])"
   ]
  },
  {
   "cell_type": "code",
   "execution_count": 83,
   "metadata": {},
   "outputs": [
    {
     "data": {
      "text/plain": [
       "N    92600\n",
       "Name: NDC_EXCLUDE_FLAG, dtype: int64"
      ]
     },
     "execution_count": 83,
     "metadata": {},
     "output_type": "execute_result"
    }
   ],
   "source": [
    "prod[\"NDC_EXCLUDE_FLAG\"].value_counts()"
   ]
  },
  {
   "attachments": {},
   "cell_type": "markdown",
   "metadata": {},
   "source": [
    "Easy dropping that column since they are all the same value"
   ]
  },
  {
   "cell_type": "code",
   "execution_count": 84,
   "metadata": {},
   "outputs": [],
   "source": [
    "prod = prod.drop(columns=\"NDC_EXCLUDE_FLAG\")"
   ]
  },
  {
   "attachments": {},
   "cell_type": "markdown",
   "metadata": {},
   "source": [
    "**LISTING_RECORD_CERTIFIED_THROUGH dates verification**"
   ]
  },
  {
   "cell_type": "code",
   "execution_count": 85,
   "metadata": {},
   "outputs": [
    {
     "name": "stdout",
     "output_type": "stream",
     "text": [
      "Max time : 2021-12-31 00:00:00\n",
      "Min time : 2020-12-31 00:00:00\n"
     ]
    }
   ],
   "source": [
    "print(f\"Max time : {max(prod['LISTING_RECORD_CERTIFIED_THROUGH'])}\")\n",
    "print(f\"Min time : {min(prod['LISTING_RECORD_CERTIFIED_THROUGH'])}\")"
   ]
  },
  {
   "attachments": {},
   "cell_type": "markdown",
   "metadata": {},
   "source": [
    "This won't give any relevant information for a classification task. We can drop it"
   ]
  },
  {
   "cell_type": "code",
   "execution_count": 86,
   "metadata": {},
   "outputs": [],
   "source": [
    "prod = prod.drop(columns=\"LISTING_RECORD_CERTIFIED_THROUGH\")"
   ]
  },
  {
   "cell_type": "code",
   "execution_count": 98,
   "metadata": {},
   "outputs": [
    {
     "data": {
      "text/html": [
       "<div>\n",
       "<style scoped>\n",
       "    .dataframe tbody tr th:only-of-type {\n",
       "        vertical-align: middle;\n",
       "    }\n",
       "\n",
       "    .dataframe tbody tr th {\n",
       "        vertical-align: top;\n",
       "    }\n",
       "\n",
       "    .dataframe thead th {\n",
       "        text-align: right;\n",
       "    }\n",
       "</style>\n",
       "<table border=\"1\" class=\"dataframe\">\n",
       "  <thead>\n",
       "    <tr style=\"text-align: right;\">\n",
       "      <th></th>\n",
       "      <th>PRODUCTID</th>\n",
       "      <th>PRODUCTNDC</th>\n",
       "      <th>PRODUCTTYPENAME</th>\n",
       "      <th>PROPRIETARYNAME</th>\n",
       "      <th>PROPRIETARYNAMESUFFIX</th>\n",
       "      <th>NONPROPRIETARYNAME</th>\n",
       "      <th>DOSAGEFORMNAME</th>\n",
       "      <th>ROUTENAME</th>\n",
       "      <th>STARTMARKETINGDATE</th>\n",
       "      <th>ENDMARKETINGDATE</th>\n",
       "      <th>MARKETINGCATEGORYNAME</th>\n",
       "      <th>APPLICATIONNUMBER</th>\n",
       "      <th>LABELERNAME</th>\n",
       "      <th>SUBSTANCENAME</th>\n",
       "      <th>ACTIVE_NUMERATOR_STRENGTH</th>\n",
       "      <th>ACTIVE_INGRED_UNIT</th>\n",
       "      <th>PHARM_CLASSES</th>\n",
       "      <th>DEASCHEDULE</th>\n",
       "    </tr>\n",
       "  </thead>\n",
       "  <tbody>\n",
       "    <tr>\n",
       "      <th>0</th>\n",
       "      <td>NaN</td>\n",
       "      <td>0002-0800</td>\n",
       "      <td>HUMAN OTC DRUG</td>\n",
       "      <td>STERILE DILUENT</td>\n",
       "      <td>NaN</td>\n",
       "      <td>DILUENT</td>\n",
       "      <td>INJECTION, SOLUTION</td>\n",
       "      <td>SUBCUTANEOUS</td>\n",
       "      <td>1987-07-10</td>\n",
       "      <td>NaT</td>\n",
       "      <td>NDA</td>\n",
       "      <td>NDA018781</td>\n",
       "      <td>10</td>\n",
       "      <td>WATER</td>\n",
       "      <td>1</td>\n",
       "      <td>mL/mL</td>\n",
       "      <td>NaN</td>\n",
       "      <td>NaN</td>\n",
       "    </tr>\n",
       "    <tr>\n",
       "      <th>1</th>\n",
       "      <td>NaN</td>\n",
       "      <td>0002-1200</td>\n",
       "      <td>HUMAN PRESCRIPTION DRUG</td>\n",
       "      <td>AMYVID</td>\n",
       "      <td>NaN</td>\n",
       "      <td>FLORBETAPIR F 18</td>\n",
       "      <td>INJECTION, SOLUTION</td>\n",
       "      <td>INTRAVENOUS</td>\n",
       "      <td>2012-06-01</td>\n",
       "      <td>NaT</td>\n",
       "      <td>NDA</td>\n",
       "      <td>NDA202008</td>\n",
       "      <td>10</td>\n",
       "      <td>FLORBETAPIR F-18</td>\n",
       "      <td>51</td>\n",
       "      <td>mCi/mL</td>\n",
       "      <td>Radioactive Diagnostic Agent [EPC],Positron Em...</td>\n",
       "      <td>NaN</td>\n",
       "    </tr>\n",
       "    <tr>\n",
       "      <th>2</th>\n",
       "      <td>NaN</td>\n",
       "      <td>0002-1433</td>\n",
       "      <td>HUMAN PRESCRIPTION DRUG</td>\n",
       "      <td>TRULICITY</td>\n",
       "      <td>NaN</td>\n",
       "      <td>DULAGLUTIDE</td>\n",
       "      <td>INJECTION, SOLUTION</td>\n",
       "      <td>SUBCUTANEOUS</td>\n",
       "      <td>2014-09-18</td>\n",
       "      <td>NaT</td>\n",
       "      <td>BLA</td>\n",
       "      <td>BLA125469</td>\n",
       "      <td>10</td>\n",
       "      <td>DULAGLUTIDE</td>\n",
       "      <td>.75</td>\n",
       "      <td>mg/.5mL</td>\n",
       "      <td>GLP-1 Receptor Agonist [EPC],Glucagon-Like Pep...</td>\n",
       "      <td>NaN</td>\n",
       "    </tr>\n",
       "    <tr>\n",
       "      <th>3</th>\n",
       "      <td>NaN</td>\n",
       "      <td>0002-1434</td>\n",
       "      <td>HUMAN PRESCRIPTION DRUG</td>\n",
       "      <td>TRULICITY</td>\n",
       "      <td>NaN</td>\n",
       "      <td>DULAGLUTIDE</td>\n",
       "      <td>INJECTION, SOLUTION</td>\n",
       "      <td>SUBCUTANEOUS</td>\n",
       "      <td>2014-09-18</td>\n",
       "      <td>NaT</td>\n",
       "      <td>BLA</td>\n",
       "      <td>BLA125469</td>\n",
       "      <td>10</td>\n",
       "      <td>DULAGLUTIDE</td>\n",
       "      <td>1.5</td>\n",
       "      <td>mg/.5mL</td>\n",
       "      <td>GLP-1 Receptor Agonist [EPC],Glucagon-Like Pep...</td>\n",
       "      <td>NaN</td>\n",
       "    </tr>\n",
       "    <tr>\n",
       "      <th>4</th>\n",
       "      <td>NaN</td>\n",
       "      <td>0002-1436</td>\n",
       "      <td>HUMAN PRESCRIPTION DRUG</td>\n",
       "      <td>EMGALITY</td>\n",
       "      <td>NaN</td>\n",
       "      <td>GALCANEZUMAB</td>\n",
       "      <td>INJECTION, SOLUTION</td>\n",
       "      <td>SUBCUTANEOUS</td>\n",
       "      <td>2018-09-27</td>\n",
       "      <td>NaT</td>\n",
       "      <td>BLA</td>\n",
       "      <td>BLA761063</td>\n",
       "      <td>10</td>\n",
       "      <td>GALCANEZUMAB</td>\n",
       "      <td>120</td>\n",
       "      <td>mg/mL</td>\n",
       "      <td>NaN</td>\n",
       "      <td>NaN</td>\n",
       "    </tr>\n",
       "  </tbody>\n",
       "</table>\n",
       "</div>"
      ],
      "text/plain": [
       "  PRODUCTID PRODUCTNDC          PRODUCTTYPENAME  PROPRIETARYNAME  \\\n",
       "0       NaN  0002-0800           HUMAN OTC DRUG  STERILE DILUENT   \n",
       "1       NaN  0002-1200  HUMAN PRESCRIPTION DRUG           AMYVID   \n",
       "2       NaN  0002-1433  HUMAN PRESCRIPTION DRUG        TRULICITY   \n",
       "3       NaN  0002-1434  HUMAN PRESCRIPTION DRUG        TRULICITY   \n",
       "4       NaN  0002-1436  HUMAN PRESCRIPTION DRUG         EMGALITY   \n",
       "\n",
       "  PROPRIETARYNAMESUFFIX NONPROPRIETARYNAME       DOSAGEFORMNAME     ROUTENAME  \\\n",
       "0                   NaN            DILUENT  INJECTION, SOLUTION  SUBCUTANEOUS   \n",
       "1                   NaN   FLORBETAPIR F 18  INJECTION, SOLUTION   INTRAVENOUS   \n",
       "2                   NaN        DULAGLUTIDE  INJECTION, SOLUTION  SUBCUTANEOUS   \n",
       "3                   NaN        DULAGLUTIDE  INJECTION, SOLUTION  SUBCUTANEOUS   \n",
       "4                   NaN       GALCANEZUMAB  INJECTION, SOLUTION  SUBCUTANEOUS   \n",
       "\n",
       "  STARTMARKETINGDATE ENDMARKETINGDATE MARKETINGCATEGORYNAME APPLICATIONNUMBER  \\\n",
       "0         1987-07-10              NaT                   NDA         NDA018781   \n",
       "1         2012-06-01              NaT                   NDA         NDA202008   \n",
       "2         2014-09-18              NaT                   BLA         BLA125469   \n",
       "3         2014-09-18              NaT                   BLA         BLA125469   \n",
       "4         2018-09-27              NaT                   BLA         BLA761063   \n",
       "\n",
       "  LABELERNAME     SUBSTANCENAME ACTIVE_NUMERATOR_STRENGTH ACTIVE_INGRED_UNIT  \\\n",
       "0          10             WATER                         1              mL/mL   \n",
       "1          10  FLORBETAPIR F-18                        51             mCi/mL   \n",
       "2          10       DULAGLUTIDE                       .75            mg/.5mL   \n",
       "3          10       DULAGLUTIDE                       1.5            mg/.5mL   \n",
       "4          10      GALCANEZUMAB                       120              mg/mL   \n",
       "\n",
       "                                       PHARM_CLASSES DEASCHEDULE  \n",
       "0                                                NaN         NaN  \n",
       "1  Radioactive Diagnostic Agent [EPC],Positron Em...         NaN  \n",
       "2  GLP-1 Receptor Agonist [EPC],Glucagon-Like Pep...         NaN  \n",
       "3  GLP-1 Receptor Agonist [EPC],Glucagon-Like Pep...         NaN  \n",
       "4                                                NaN         NaN  "
      ]
     },
     "execution_count": 98,
     "metadata": {},
     "output_type": "execute_result"
    }
   ],
   "source": [
    "prod.head()"
   ]
  },
  {
   "attachments": {},
   "cell_type": "markdown",
   "metadata": {},
   "source": [
    "### Exploring package data"
   ]
  },
  {
   "cell_type": "code",
   "execution_count": 88,
   "metadata": {},
   "outputs": [
    {
     "data": {
      "text/html": [
       "<div>\n",
       "<style scoped>\n",
       "    .dataframe tbody tr th:only-of-type {\n",
       "        vertical-align: middle;\n",
       "    }\n",
       "\n",
       "    .dataframe tbody tr th {\n",
       "        vertical-align: top;\n",
       "    }\n",
       "\n",
       "    .dataframe thead th {\n",
       "        text-align: right;\n",
       "    }\n",
       "</style>\n",
       "<table border=\"1\" class=\"dataframe\">\n",
       "  <thead>\n",
       "    <tr style=\"text-align: right;\">\n",
       "      <th></th>\n",
       "      <th>PRODUCTID</th>\n",
       "      <th>PRODUCTNDC</th>\n",
       "      <th>NDCPACKAGECODE</th>\n",
       "      <th>PACKAGEDESCRIPTION</th>\n",
       "      <th>STARTMARKETINGDATE</th>\n",
       "      <th>ENDMARKETINGDATE</th>\n",
       "      <th>NDC_EXCLUDE_FLAG</th>\n",
       "      <th>SAMPLE_PACKAGE</th>\n",
       "    </tr>\n",
       "  </thead>\n",
       "  <tbody>\n",
       "    <tr>\n",
       "      <th>0</th>\n",
       "      <td>0002-0800_94c48759-29bb-402d-afff-9a713be11f0e</td>\n",
       "      <td>0002-0800</td>\n",
       "      <td>0002-0800-01</td>\n",
       "      <td>1 VIAL in 1 CARTON (0002-0800-01)  &gt; 10 mL in ...</td>\n",
       "      <td>19870710</td>\n",
       "      <td>NaN</td>\n",
       "      <td>N</td>\n",
       "      <td>N</td>\n",
       "    </tr>\n",
       "    <tr>\n",
       "      <th>1</th>\n",
       "      <td>0002-1200_35551a38-7a8d-43b8-8abd-f6cb7549e932</td>\n",
       "      <td>0002-1200</td>\n",
       "      <td>0002-1200-30</td>\n",
       "      <td>1 VIAL, MULTI-DOSE in 1 CAN (0002-1200-30)  &gt; ...</td>\n",
       "      <td>20120601</td>\n",
       "      <td>NaN</td>\n",
       "      <td>N</td>\n",
       "      <td>N</td>\n",
       "    </tr>\n",
       "    <tr>\n",
       "      <th>2</th>\n",
       "      <td>0002-1200_35551a38-7a8d-43b8-8abd-f6cb7549e932</td>\n",
       "      <td>0002-1200</td>\n",
       "      <td>0002-1200-50</td>\n",
       "      <td>1 VIAL, MULTI-DOSE in 1 CAN (0002-1200-50)  &gt; ...</td>\n",
       "      <td>20120601</td>\n",
       "      <td>NaN</td>\n",
       "      <td>N</td>\n",
       "      <td>N</td>\n",
       "    </tr>\n",
       "    <tr>\n",
       "      <th>3</th>\n",
       "      <td>0002-1433_42a80046-fd68-4b80-819c-a443b7816edb</td>\n",
       "      <td>0002-1433</td>\n",
       "      <td>0002-1433-61</td>\n",
       "      <td>2 SYRINGE in 1 CARTON (0002-1433-61)  &gt; .5 mL ...</td>\n",
       "      <td>20141107</td>\n",
       "      <td>NaN</td>\n",
       "      <td>N</td>\n",
       "      <td>Y</td>\n",
       "    </tr>\n",
       "    <tr>\n",
       "      <th>4</th>\n",
       "      <td>0002-1433_42a80046-fd68-4b80-819c-a443b7816edb</td>\n",
       "      <td>0002-1433</td>\n",
       "      <td>0002-1433-80</td>\n",
       "      <td>4 SYRINGE in 1 CARTON (0002-1433-80)  &gt; .5 mL ...</td>\n",
       "      <td>20141107</td>\n",
       "      <td>NaN</td>\n",
       "      <td>N</td>\n",
       "      <td>N</td>\n",
       "    </tr>\n",
       "  </tbody>\n",
       "</table>\n",
       "</div>"
      ],
      "text/plain": [
       "                                        PRODUCTID PRODUCTNDC NDCPACKAGECODE  \\\n",
       "0  0002-0800_94c48759-29bb-402d-afff-9a713be11f0e  0002-0800   0002-0800-01   \n",
       "1  0002-1200_35551a38-7a8d-43b8-8abd-f6cb7549e932  0002-1200   0002-1200-30   \n",
       "2  0002-1200_35551a38-7a8d-43b8-8abd-f6cb7549e932  0002-1200   0002-1200-50   \n",
       "3  0002-1433_42a80046-fd68-4b80-819c-a443b7816edb  0002-1433   0002-1433-61   \n",
       "4  0002-1433_42a80046-fd68-4b80-819c-a443b7816edb  0002-1433   0002-1433-80   \n",
       "\n",
       "                                  PACKAGEDESCRIPTION  STARTMARKETINGDATE  \\\n",
       "0  1 VIAL in 1 CARTON (0002-0800-01)  > 10 mL in ...            19870710   \n",
       "1  1 VIAL, MULTI-DOSE in 1 CAN (0002-1200-30)  > ...            20120601   \n",
       "2  1 VIAL, MULTI-DOSE in 1 CAN (0002-1200-50)  > ...            20120601   \n",
       "3  2 SYRINGE in 1 CARTON (0002-1433-61)  > .5 mL ...            20141107   \n",
       "4  4 SYRINGE in 1 CARTON (0002-1433-80)  > .5 mL ...            20141107   \n",
       "\n",
       "   ENDMARKETINGDATE NDC_EXCLUDE_FLAG SAMPLE_PACKAGE  \n",
       "0               NaN                N              N  \n",
       "1               NaN                N              N  \n",
       "2               NaN                N              N  \n",
       "3               NaN                N              Y  \n",
       "4               NaN                N              N  "
      ]
     },
     "execution_count": 88,
     "metadata": {},
     "output_type": "execute_result"
    }
   ],
   "source": [
    "pack.head()"
   ]
  },
  {
   "cell_type": "code",
   "execution_count": 89,
   "metadata": {},
   "outputs": [
    {
     "name": "stdout",
     "output_type": "stream",
     "text": [
      "pack dataframe has 173887 objects and 8 columns.\n"
     ]
    }
   ],
   "source": [
    "print(f\"pack dataframe has {pack.shape[0]} objects and {pack.shape[1]} columns.\") "
   ]
  },
  {
   "cell_type": "code",
   "execution_count": 90,
   "metadata": {},
   "outputs": [
    {
     "name": "stdout",
     "output_type": "stream",
     "text": [
      " There are 2 numerical columns :\n",
      "\n",
      "['STARTMARKETINGDATE', 'ENDMARKETINGDATE']\n"
     ]
    }
   ],
   "source": [
    "print(f\" There are {len(pack.dtypes[pack.dtypes != 'object'])} numerical columns :\\n\") \n",
    "print(pack.dtypes[pack.dtypes != \"object\"].index.to_list())"
   ]
  },
  {
   "cell_type": "code",
   "execution_count": 91,
   "metadata": {},
   "outputs": [
    {
     "name": "stdout",
     "output_type": "stream",
     "text": [
      " There are 6 non-numerical columns :\n",
      "\n",
      "['PRODUCTID', 'PRODUCTNDC', 'NDCPACKAGECODE', 'PACKAGEDESCRIPTION', 'NDC_EXCLUDE_FLAG', 'SAMPLE_PACKAGE']\n"
     ]
    }
   ],
   "source": [
    "print(f\" There are {len(pack.dtypes[pack.dtypes == 'object'])} non-numerical columns :\\n\") \n",
    "print(pack.dtypes[pack.dtypes == \"object\"].index.to_list())"
   ]
  },
  {
   "attachments": {},
   "cell_type": "markdown",
   "metadata": {},
   "source": [
    "**Evaluating NaN of all features**"
   ]
  },
  {
   "cell_type": "code",
   "execution_count": 92,
   "metadata": {},
   "outputs": [
    {
     "data": {
      "text/plain": [
       "PRODUCTID                  0\n",
       "PRODUCTNDC              1500\n",
       "NDCPACKAGECODE          2346\n",
       "PACKAGEDESCRIPTION         0\n",
       "STARTMARKETINGDATE         0\n",
       "ENDMARKETINGDATE      167431\n",
       "NDC_EXCLUDE_FLAG           0\n",
       "SAMPLE_PACKAGE             0\n",
       "dtype: int64"
      ]
     },
     "execution_count": 92,
     "metadata": {},
     "output_type": "execute_result"
    }
   ],
   "source": [
    "pack.isnull().sum()"
   ]
  },
  {
   "attachments": {},
   "cell_type": "markdown",
   "metadata": {},
   "source": [
    "**Evaluating PRODUCTNDC and PRODUCTID since they are interelated**"
   ]
  },
  {
   "cell_type": "code",
   "execution_count": 93,
   "metadata": {},
   "outputs": [
    {
     "name": "stdout",
     "output_type": "stream",
     "text": [
      "Num objects with no NA in ProdID/NDC : 172387\n"
     ]
    }
   ],
   "source": [
    "print(f\"Num objects with no NA in ProdID/NDC : {len(pack[['PRODUCTID', 'PRODUCTNDC']].dropna())}\")"
   ]
  },
  {
   "cell_type": "code",
   "execution_count": 94,
   "metadata": {},
   "outputs": [
    {
     "name": "stdout",
     "output_type": "stream",
     "text": [
      "Num objects with NDC code within ID col : 171868\n"
     ]
    }
   ],
   "source": [
    "print(f\"Num objects with NDC code within ID col : {pack[['PRODUCTID', 'PRODUCTNDC']].dropna().apply(lambda x : x.PRODUCTNDC in x.PRODUCTID, axis=1).sum()}\")"
   ]
  },
  {
   "attachments": {},
   "cell_type": "markdown",
   "metadata": {},
   "source": [
    "**Removing duplicated entries**"
   ]
  },
  {
   "cell_type": "code",
   "execution_count": 95,
   "metadata": {},
   "outputs": [],
   "source": [
    "# prod[prod.duplicated(\"PRODUCTNDC\", keep=False)].sort_values(by=\"PRODUCTNDC\")[:10]"
   ]
  }
 ],
 "metadata": {
  "kernelspec": {
   "display_name": "py3_ds",
   "language": "python",
   "name": "python3"
  },
  "language_info": {
   "codemirror_mode": {
    "name": "ipython",
    "version": 3
   },
   "file_extension": ".py",
   "mimetype": "text/x-python",
   "name": "python",
   "nbconvert_exporter": "python",
   "pygments_lexer": "ipython3",
   "version": "3.8.10"
  },
  "orig_nbformat": 4,
  "vscode": {
   "interpreter": {
    "hash": "53f96a5caa9fd1ac81f0dc43aec12efbb8e7ee46d9749005ab86dae646c321a6"
   }
  }
 },
 "nbformat": 4,
 "nbformat_minor": 2
}
