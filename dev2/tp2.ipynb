{
 "cells": [
  {
   "attachments": {},
   "cell_type": "markdown",
   "metadata": {},
   "source": [
    "# TP2: Preprocessing and data visualization\n",
    "\n",
    "## Winter 2023 - BIN710 Data Mining (UdeS)\n",
    "\n",
    "Second assignement as part of the Data Mining class at UdeS.\n",
    "\n",
    "Student name : Simon Lalonde\n",
    "\n",
    "### Directory structure\n",
    "\n",
    "├── package2.csv    ---> Data\n",
    "\n",
    "├── product2.csv    ---> Data\n",
    "\n",
    "├── tp1.ipynb   ---> Jupyter Notebook\n",
    "\n",
    "└── TP1.pdf    ---> Tasks to complete\n",
    "\n",
    "### Data\n",
    "2 files for each dataset and both have the *byte signature*, meaning when compared byte by byte they are similar.\n",
    "\n",
    "NDC = National Drug Code\n",
    "\n",
    "### Metadata\n",
    "Description for the 2 data files used : \n",
    "- [Product](https://www.fda.gov/drugs/drug-approvals-and-databases/ndc-product-file-definitions)\n",
    "- [Package](https://www.fda.gov/drugs/drug-approvals-and-databases/ndc-package-file-definitions)\n",
    "\n",
    "### Goal\n",
    "Use preprocessing and data visualization techniques on FDA drugs databases\n",
    "\n",
    "---"
   ]
  },
  {
   "attachments": {},
   "cell_type": "markdown",
   "metadata": {},
   "source": [
    "## 1, 2 and 3 : Data verification and cleaning for individual tables (coherence, types, redundency etc.)"
   ]
  },
  {
   "attachments": {},
   "cell_type": "markdown",
   "metadata": {},
   "source": [
    "Importing all required libraries and modules. Reading file to dataframe with proper encoding"
   ]
  },
  {
   "cell_type": "code",
   "execution_count": 1,
   "metadata": {},
   "outputs": [],
   "source": [
    "from pathlib import Path\n",
    "import re\n",
    "\n",
    "import pandas as pd\n",
    "import numpy as np\n",
    "import seaborn as sns\n",
    "\n",
    "from sklearn.preprocessing import OneHotEncoder\n",
    "from sklearn.preprocessing import MultiLabelBinarizer\n",
    "from sklearn.preprocessing import LabelEncoder\n",
    "from sklearn.model_selection import train_test_split\n",
    "from sklearn.model_selection import cross_val_score\n",
    "from sklearn import metrics\n",
    "\n",
    "from sklearn.neighbors import KNeighborsClassifier\n",
    "from sklearn.tree import DecisionTreeClassifier\n",
    "from sklearn.ensemble import RandomForestClassifier"
   ]
  },
  {
   "cell_type": "code",
   "execution_count": 2,
   "metadata": {},
   "outputs": [],
   "source": [
    "root_dir = Path.cwd()\n",
    "pack = pd.read_csv(root_dir / \"package2.csv\", delimiter=\";\")\n",
    "prod = pd.read_csv(root_dir / \"product2.csv\", delimiter=\";\", encoding=\"ISO-8859-1\")    # Latin-1 encoding\n",
    "\n"
   ]
  },
  {
   "attachments": {},
   "cell_type": "markdown",
   "metadata": {},
   "source": [
    "### Exploring and cleaning the product data table"
   ]
  },
  {
   "cell_type": "code",
   "execution_count": 3,
   "metadata": {},
   "outputs": [
    {
     "data": {
      "text/html": [
       "<div>\n",
       "<style scoped>\n",
       "    .dataframe tbody tr th:only-of-type {\n",
       "        vertical-align: middle;\n",
       "    }\n",
       "\n",
       "    .dataframe tbody tr th {\n",
       "        vertical-align: top;\n",
       "    }\n",
       "\n",
       "    .dataframe thead th {\n",
       "        text-align: right;\n",
       "    }\n",
       "</style>\n",
       "<table border=\"1\" class=\"dataframe\">\n",
       "  <thead>\n",
       "    <tr style=\"text-align: right;\">\n",
       "      <th></th>\n",
       "      <th>PRODUCTID</th>\n",
       "      <th>PRODUCTNDC</th>\n",
       "      <th>PRODUCTTYPENAME</th>\n",
       "      <th>PROPRIETARYNAME</th>\n",
       "      <th>PROPRIETARYNAMESUFFIX</th>\n",
       "      <th>NONPROPRIETARYNAME</th>\n",
       "      <th>DOSAGEFORMNAME</th>\n",
       "      <th>ROUTENAME</th>\n",
       "      <th>STARTMARKETINGDATE</th>\n",
       "      <th>ENDMARKETINGDATE</th>\n",
       "      <th>MARKETINGCATEGORYNAME</th>\n",
       "      <th>APPLICATIONNUMBER</th>\n",
       "      <th>LABELERNAME</th>\n",
       "      <th>SUBSTANCENAME</th>\n",
       "      <th>ACTIVE_NUMERATOR_STRENGTH</th>\n",
       "      <th>ACTIVE_INGRED_UNIT</th>\n",
       "      <th>PHARM_CLASSES</th>\n",
       "      <th>DEASCHEDULE</th>\n",
       "      <th>NDC_EXCLUDE_FLAG</th>\n",
       "      <th>LISTING_RECORD_CERTIFIED_THROUGH</th>\n",
       "    </tr>\n",
       "  </thead>\n",
       "  <tbody>\n",
       "    <tr>\n",
       "      <th>0</th>\n",
       "      <td>NaN</td>\n",
       "      <td>0002-0800</td>\n",
       "      <td>HUMAN OTC DRUG</td>\n",
       "      <td>Sterile Diluent</td>\n",
       "      <td>NaN</td>\n",
       "      <td>diluent</td>\n",
       "      <td>INJECTION, SOLUTION</td>\n",
       "      <td>SUBCUTANEOUS</td>\n",
       "      <td>19870710</td>\n",
       "      <td>NaN</td>\n",
       "      <td>NDA</td>\n",
       "      <td>NDA018781</td>\n",
       "      <td>10</td>\n",
       "      <td>WATER</td>\n",
       "      <td>1</td>\n",
       "      <td>mL/mL</td>\n",
       "      <td>NaN</td>\n",
       "      <td>NaN</td>\n",
       "      <td>N</td>\n",
       "      <td>20201231.0</td>\n",
       "    </tr>\n",
       "    <tr>\n",
       "      <th>1</th>\n",
       "      <td>NaN</td>\n",
       "      <td>0002-1200</td>\n",
       "      <td>HUMAN PRESCRIPTION DRUG</td>\n",
       "      <td>Amyvid</td>\n",
       "      <td>NaN</td>\n",
       "      <td>Florbetapir F 18</td>\n",
       "      <td>INJECTION, SOLUTION</td>\n",
       "      <td>INTRAVENOUS</td>\n",
       "      <td>20120601</td>\n",
       "      <td>NaN</td>\n",
       "      <td>NDA</td>\n",
       "      <td>NDA202008</td>\n",
       "      <td>10</td>\n",
       "      <td>FLORBETAPIR F-18</td>\n",
       "      <td>51</td>\n",
       "      <td>mCi/mL</td>\n",
       "      <td>Radioactive Diagnostic Agent [EPC],Positron Em...</td>\n",
       "      <td>NaN</td>\n",
       "      <td>N</td>\n",
       "      <td>20211231.0</td>\n",
       "    </tr>\n",
       "    <tr>\n",
       "      <th>2</th>\n",
       "      <td>NaN</td>\n",
       "      <td>0002-1433</td>\n",
       "      <td>HUMAN PRESCRIPTION DRUG</td>\n",
       "      <td>Trulicity</td>\n",
       "      <td>NaN</td>\n",
       "      <td>Dulaglutide</td>\n",
       "      <td>INJECTION, SOLUTION</td>\n",
       "      <td>SUBCUTANEOUS</td>\n",
       "      <td>20140918</td>\n",
       "      <td>NaN</td>\n",
       "      <td>BLA</td>\n",
       "      <td>BLA125469</td>\n",
       "      <td>10</td>\n",
       "      <td>DULAGLUTIDE</td>\n",
       "      <td>.75</td>\n",
       "      <td>mg/.5mL</td>\n",
       "      <td>GLP-1 Receptor Agonist [EPC],Glucagon-Like Pep...</td>\n",
       "      <td>NaN</td>\n",
       "      <td>N</td>\n",
       "      <td>20201231.0</td>\n",
       "    </tr>\n",
       "    <tr>\n",
       "      <th>3</th>\n",
       "      <td>NaN</td>\n",
       "      <td>0002-1434</td>\n",
       "      <td>HUMAN PRESCRIPTION DRUG</td>\n",
       "      <td>Trulicity</td>\n",
       "      <td>NaN</td>\n",
       "      <td>Dulaglutide</td>\n",
       "      <td>INJECTION, SOLUTION</td>\n",
       "      <td>SUBCUTANEOUS</td>\n",
       "      <td>20140918</td>\n",
       "      <td>NaN</td>\n",
       "      <td>BLA</td>\n",
       "      <td>BLA125469</td>\n",
       "      <td>10</td>\n",
       "      <td>DULAGLUTIDE</td>\n",
       "      <td>1.5</td>\n",
       "      <td>mg/.5mL</td>\n",
       "      <td>GLP-1 Receptor Agonist [EPC],Glucagon-Like Pep...</td>\n",
       "      <td>NaN</td>\n",
       "      <td>N</td>\n",
       "      <td>20201231.0</td>\n",
       "    </tr>\n",
       "    <tr>\n",
       "      <th>4</th>\n",
       "      <td>NaN</td>\n",
       "      <td>0002-1436</td>\n",
       "      <td>HUMAN PRESCRIPTION DRUG</td>\n",
       "      <td>EMGALITY</td>\n",
       "      <td>NaN</td>\n",
       "      <td>galcanezumab</td>\n",
       "      <td>INJECTION, SOLUTION</td>\n",
       "      <td>SUBCUTANEOUS</td>\n",
       "      <td>20180927</td>\n",
       "      <td>NaN</td>\n",
       "      <td>BLA</td>\n",
       "      <td>BLA761063</td>\n",
       "      <td>10</td>\n",
       "      <td>GALCANEZUMAB</td>\n",
       "      <td>120</td>\n",
       "      <td>mg/mL</td>\n",
       "      <td>NaN</td>\n",
       "      <td>NaN</td>\n",
       "      <td>N</td>\n",
       "      <td>20201231.0</td>\n",
       "    </tr>\n",
       "  </tbody>\n",
       "</table>\n",
       "</div>"
      ],
      "text/plain": [
       "  PRODUCTID PRODUCTNDC          PRODUCTTYPENAME  PROPRIETARYNAME  \\\n",
       "0       NaN  0002-0800           HUMAN OTC DRUG  Sterile Diluent   \n",
       "1       NaN  0002-1200  HUMAN PRESCRIPTION DRUG           Amyvid   \n",
       "2       NaN  0002-1433  HUMAN PRESCRIPTION DRUG        Trulicity   \n",
       "3       NaN  0002-1434  HUMAN PRESCRIPTION DRUG        Trulicity   \n",
       "4       NaN  0002-1436  HUMAN PRESCRIPTION DRUG         EMGALITY   \n",
       "\n",
       "  PROPRIETARYNAMESUFFIX NONPROPRIETARYNAME       DOSAGEFORMNAME     ROUTENAME  \\\n",
       "0                   NaN            diluent  INJECTION, SOLUTION  SUBCUTANEOUS   \n",
       "1                   NaN   Florbetapir F 18  INJECTION, SOLUTION   INTRAVENOUS   \n",
       "2                   NaN        Dulaglutide  INJECTION, SOLUTION  SUBCUTANEOUS   \n",
       "3                   NaN        Dulaglutide  INJECTION, SOLUTION  SUBCUTANEOUS   \n",
       "4                   NaN       galcanezumab  INJECTION, SOLUTION  SUBCUTANEOUS   \n",
       "\n",
       "   STARTMARKETINGDATE  ENDMARKETINGDATE MARKETINGCATEGORYNAME  \\\n",
       "0            19870710               NaN                   NDA   \n",
       "1            20120601               NaN                   NDA   \n",
       "2            20140918               NaN                   BLA   \n",
       "3            20140918               NaN                   BLA   \n",
       "4            20180927               NaN                   BLA   \n",
       "\n",
       "  APPLICATIONNUMBER LABELERNAME     SUBSTANCENAME ACTIVE_NUMERATOR_STRENGTH  \\\n",
       "0         NDA018781          10             WATER                         1   \n",
       "1         NDA202008          10  FLORBETAPIR F-18                        51   \n",
       "2         BLA125469          10       DULAGLUTIDE                       .75   \n",
       "3         BLA125469          10       DULAGLUTIDE                       1.5   \n",
       "4         BLA761063          10      GALCANEZUMAB                       120   \n",
       "\n",
       "  ACTIVE_INGRED_UNIT                                      PHARM_CLASSES  \\\n",
       "0              mL/mL                                                NaN   \n",
       "1             mCi/mL  Radioactive Diagnostic Agent [EPC],Positron Em...   \n",
       "2            mg/.5mL  GLP-1 Receptor Agonist [EPC],Glucagon-Like Pep...   \n",
       "3            mg/.5mL  GLP-1 Receptor Agonist [EPC],Glucagon-Like Pep...   \n",
       "4              mg/mL                                                NaN   \n",
       "\n",
       "  DEASCHEDULE NDC_EXCLUDE_FLAG  LISTING_RECORD_CERTIFIED_THROUGH  \n",
       "0         NaN                N                        20201231.0  \n",
       "1         NaN                N                        20211231.0  \n",
       "2         NaN                N                        20201231.0  \n",
       "3         NaN                N                        20201231.0  \n",
       "4         NaN                N                        20201231.0  "
      ]
     },
     "execution_count": 3,
     "metadata": {},
     "output_type": "execute_result"
    }
   ],
   "source": [
    "prod.head()"
   ]
  },
  {
   "cell_type": "code",
   "execution_count": 4,
   "metadata": {},
   "outputs": [
    {
     "name": "stdout",
     "output_type": "stream",
     "text": [
      "Product dataframe has 93238 objects and 20 columns.\n"
     ]
    }
   ],
   "source": [
    "print(f\"Product dataframe has {prod.shape[0]} objects and {prod.shape[1]} columns.\") "
   ]
  },
  {
   "cell_type": "code",
   "execution_count": 5,
   "metadata": {},
   "outputs": [
    {
     "name": "stdout",
     "output_type": "stream",
     "text": [
      " There are 3 numerical columns :\n",
      "\n",
      "['STARTMARKETINGDATE', 'ENDMARKETINGDATE', 'LISTING_RECORD_CERTIFIED_THROUGH']\n"
     ]
    }
   ],
   "source": [
    "print(f\" There are {len(prod.dtypes[prod.dtypes != 'object'])} numerical columns :\\n\") \n",
    "print(prod.dtypes[prod.dtypes != \"object\"].index.to_list())"
   ]
  },
  {
   "cell_type": "code",
   "execution_count": 6,
   "metadata": {},
   "outputs": [
    {
     "name": "stdout",
     "output_type": "stream",
     "text": [
      " There are 17 non-numerical columns :\n",
      "\n",
      "['PRODUCTID', 'PRODUCTNDC', 'PRODUCTTYPENAME', 'PROPRIETARYNAME', 'PROPRIETARYNAMESUFFIX', 'NONPROPRIETARYNAME', 'DOSAGEFORMNAME', 'ROUTENAME', 'MARKETINGCATEGORYNAME', 'APPLICATIONNUMBER', 'LABELERNAME', 'SUBSTANCENAME', 'ACTIVE_NUMERATOR_STRENGTH', 'ACTIVE_INGRED_UNIT', 'PHARM_CLASSES', 'DEASCHEDULE', 'NDC_EXCLUDE_FLAG']\n"
     ]
    }
   ],
   "source": [
    "print(f\" There are {len(prod.dtypes[prod.dtypes == 'object'])} non-numerical columns :\\n\") \n",
    "print(prod.dtypes[prod.dtypes == \"object\"].index.to_list())"
   ]
  },
  {
   "attachments": {},
   "cell_type": "markdown",
   "metadata": {},
   "source": [
    "Looking at null/missing values for each feature. We see some feature with very high missing vals such as ProrietaryNameSuffix, EndMarketingDate and DeaSchedule. It makes sense since these are not missing per-se but information on the object itself (No need for suffix on Rx, does have a known end marketing date and no classification of dependency potential respectively)"
   ]
  },
  {
   "cell_type": "code",
   "execution_count": 7,
   "metadata": {},
   "outputs": [
    {
     "data": {
      "text/plain": [
       "PRODUCTID                            1560\n",
       "PRODUCTNDC                              0\n",
       "PRODUCTTYPENAME                         0\n",
       "PROPRIETARYNAME                         6\n",
       "PROPRIETARYNAMESUFFIX               83075\n",
       "NONPROPRIETARYNAME                      4\n",
       "DOSAGEFORMNAME                          0\n",
       "ROUTENAME                            1932\n",
       "STARTMARKETINGDATE                      0\n",
       "ENDMARKETINGDATE                    88915\n",
       "MARKETINGCATEGORYNAME                   0\n",
       "APPLICATIONNUMBER                   13097\n",
       "LABELERNAME                             0\n",
       "SUBSTANCENAME                        2309\n",
       "ACTIVE_NUMERATOR_STRENGTH            2309\n",
       "ACTIVE_INGRED_UNIT                   2309\n",
       "PHARM_CLASSES                       50984\n",
       "DEASCHEDULE                         88815\n",
       "NDC_EXCLUDE_FLAG                        0\n",
       "LISTING_RECORD_CERTIFIED_THROUGH     4325\n",
       "dtype: int64"
      ]
     },
     "execution_count": 7,
     "metadata": {},
     "output_type": "execute_result"
    }
   ],
   "source": [
    "prod.isnull().sum()"
   ]
  },
  {
   "attachments": {},
   "cell_type": "markdown",
   "metadata": {},
   "source": [
    "ProductID is supposed to be composed of ProductNDC and other information. Let's look if if's true"
   ]
  },
  {
   "cell_type": "code",
   "execution_count": 8,
   "metadata": {},
   "outputs": [
    {
     "name": "stdout",
     "output_type": "stream",
     "text": [
      "Num objects with no NA in ProdID/NDC : 91678\n"
     ]
    }
   ],
   "source": [
    "print(f\"Num objects with no NA in ProdID/NDC : {len(prod[['PRODUCTID', 'PRODUCTNDC']].dropna())}\")"
   ]
  },
  {
   "cell_type": "code",
   "execution_count": 9,
   "metadata": {},
   "outputs": [
    {
     "name": "stdout",
     "output_type": "stream",
     "text": [
      "Num objects with NDC code within ID col : 91165\n"
     ]
    }
   ],
   "source": [
    "print(f\"Num objects with NDC code within ID col : {prod[['PRODUCTID', 'PRODUCTNDC']].dropna().apply(lambda x : x.PRODUCTNDC in x.PRODUCTID, axis=1).sum()}\")"
   ]
  },
  {
   "cell_type": "code",
   "execution_count": 10,
   "metadata": {},
   "outputs": [
    {
     "data": {
      "text/html": [
       "<div>\n",
       "<style scoped>\n",
       "    .dataframe tbody tr th:only-of-type {\n",
       "        vertical-align: middle;\n",
       "    }\n",
       "\n",
       "    .dataframe tbody tr th {\n",
       "        vertical-align: top;\n",
       "    }\n",
       "\n",
       "    .dataframe thead th {\n",
       "        text-align: right;\n",
       "    }\n",
       "</style>\n",
       "<table border=\"1\" class=\"dataframe\">\n",
       "  <thead>\n",
       "    <tr style=\"text-align: right;\">\n",
       "      <th></th>\n",
       "      <th>PRODUCTID</th>\n",
       "      <th>PRODUCTNDC</th>\n",
       "      <th>PRODUCTTYPENAME</th>\n",
       "      <th>PROPRIETARYNAME</th>\n",
       "      <th>PROPRIETARYNAMESUFFIX</th>\n",
       "      <th>NONPROPRIETARYNAME</th>\n",
       "      <th>DOSAGEFORMNAME</th>\n",
       "      <th>ROUTENAME</th>\n",
       "      <th>STARTMARKETINGDATE</th>\n",
       "      <th>ENDMARKETINGDATE</th>\n",
       "      <th>MARKETINGCATEGORYNAME</th>\n",
       "      <th>APPLICATIONNUMBER</th>\n",
       "      <th>LABELERNAME</th>\n",
       "      <th>SUBSTANCENAME</th>\n",
       "      <th>ACTIVE_NUMERATOR_STRENGTH</th>\n",
       "      <th>ACTIVE_INGRED_UNIT</th>\n",
       "      <th>PHARM_CLASSES</th>\n",
       "      <th>DEASCHEDULE</th>\n",
       "      <th>NDC_EXCLUDE_FLAG</th>\n",
       "      <th>LISTING_RECORD_CERTIFIED_THROUGH</th>\n",
       "    </tr>\n",
       "  </thead>\n",
       "  <tbody>\n",
       "    <tr>\n",
       "      <th>20</th>\n",
       "      <td>0002-3251_67a53369-eead-4f2c-afe9-f3274899c47e</td>\n",
       "      <td>0002-3251</td>\n",
       "      <td>HUMAN PRESCRIPTION DRUG</td>\n",
       "      <td>Strattera</td>\n",
       "      <td>NaN</td>\n",
       "      <td>Atomoxetine hydrochloride</td>\n",
       "      <td>CAPSULE</td>\n",
       "      <td>ORAL</td>\n",
       "      <td>20050214</td>\n",
       "      <td>NaN</td>\n",
       "      <td>NDA</td>\n",
       "      <td>NDA021411</td>\n",
       "      <td>10</td>\n",
       "      <td>ATOMOXETINE HYDROCHLORIDE</td>\n",
       "      <td>100</td>\n",
       "      <td>mg/1</td>\n",
       "      <td>Norepinephrine Reuptake Inhibitor [EPC],Norepi...</td>\n",
       "      <td>NaN</td>\n",
       "      <td>N</td>\n",
       "      <td>20211231.0</td>\n",
       "    </tr>\n",
       "    <tr>\n",
       "      <th>21</th>\n",
       "      <td>0002-3270_06e2a1f2-459c-45aa-9341-54e36f7726a7</td>\n",
       "      <td>0002-3270</td>\n",
       "      <td>HUMAN PRESCRIPTION DRUG</td>\n",
       "      <td>Cymbalta</td>\n",
       "      <td>NaN</td>\n",
       "      <td>Duloxetine hydrochloride</td>\n",
       "      <td>CAPSULE, DELAYED RELEASE</td>\n",
       "      <td>ORAL</td>\n",
       "      <td>20100115</td>\n",
       "      <td>NaN</td>\n",
       "      <td>NDA</td>\n",
       "      <td>NDA021427</td>\n",
       "      <td>10</td>\n",
       "      <td>DULOXETINE HYDROCHLORIDE</td>\n",
       "      <td>60</td>\n",
       "      <td>mg/1</td>\n",
       "      <td>Norepinephrine Uptake Inhibitors [MoA],Seroton...</td>\n",
       "      <td>NaN</td>\n",
       "      <td>N</td>\n",
       "      <td>20201231.0</td>\n",
       "    </tr>\n",
       "    <tr>\n",
       "      <th>22</th>\n",
       "      <td>0002-4112_d561034d-ea58-45fe-9d07-2e9eba98c2e4</td>\n",
       "      <td>0002-4112</td>\n",
       "      <td>HUMAN PRESCRIPTION DRUG</td>\n",
       "      <td>Zyprexa</td>\n",
       "      <td>NaN</td>\n",
       "      <td>Olanzapine</td>\n",
       "      <td>TABLET</td>\n",
       "      <td>ORAL</td>\n",
       "      <td>19970623</td>\n",
       "      <td>NaN</td>\n",
       "      <td>NDA</td>\n",
       "      <td>NDA020592</td>\n",
       "      <td>10</td>\n",
       "      <td>OLANZAPINE</td>\n",
       "      <td>2.5</td>\n",
       "      <td>mg/1</td>\n",
       "      <td>Atypical Antipsychotic [EPC]</td>\n",
       "      <td>NaN</td>\n",
       "      <td>N</td>\n",
       "      <td>20201231.0</td>\n",
       "    </tr>\n",
       "    <tr>\n",
       "      <th>23</th>\n",
       "      <td>0002-4115_d561034d-ea58-45fe-9d07-2e9eba98c2e4</td>\n",
       "      <td>0002-4115</td>\n",
       "      <td>HUMAN PRESCRIPTION DRUG</td>\n",
       "      <td>Zyprexa</td>\n",
       "      <td>NaN</td>\n",
       "      <td>Olanzapine</td>\n",
       "      <td>TABLET</td>\n",
       "      <td>ORAL</td>\n",
       "      <td>19961001</td>\n",
       "      <td>NaN</td>\n",
       "      <td>NDA</td>\n",
       "      <td>NDA020592</td>\n",
       "      <td>10</td>\n",
       "      <td>OLANZAPINE</td>\n",
       "      <td>5</td>\n",
       "      <td>mg/1</td>\n",
       "      <td>Atypical Antipsychotic [EPC]</td>\n",
       "      <td>NaN</td>\n",
       "      <td>N</td>\n",
       "      <td>20201231.0</td>\n",
       "    </tr>\n",
       "    <tr>\n",
       "      <th>24</th>\n",
       "      <td>0002-4116_d561034d-ea58-45fe-9d07-2e9eba98c2e4</td>\n",
       "      <td>0002-4116</td>\n",
       "      <td>HUMAN PRESCRIPTION DRUG</td>\n",
       "      <td>Zyprexa</td>\n",
       "      <td>NaN</td>\n",
       "      <td>Olanzapine</td>\n",
       "      <td>TABLET</td>\n",
       "      <td>ORAL</td>\n",
       "      <td>19961001</td>\n",
       "      <td>NaN</td>\n",
       "      <td>NDA</td>\n",
       "      <td>NDA020592</td>\n",
       "      <td>10</td>\n",
       "      <td>OLANZAPINE</td>\n",
       "      <td>7.5</td>\n",
       "      <td>mg/1</td>\n",
       "      <td>Atypical Antipsychotic [EPC]</td>\n",
       "      <td>NaN</td>\n",
       "      <td>N</td>\n",
       "      <td>20201231.0</td>\n",
       "    </tr>\n",
       "  </tbody>\n",
       "</table>\n",
       "</div>"
      ],
      "text/plain": [
       "                                         PRODUCTID PRODUCTNDC  \\\n",
       "20  0002-3251_67a53369-eead-4f2c-afe9-f3274899c47e  0002-3251   \n",
       "21  0002-3270_06e2a1f2-459c-45aa-9341-54e36f7726a7  0002-3270   \n",
       "22  0002-4112_d561034d-ea58-45fe-9d07-2e9eba98c2e4  0002-4112   \n",
       "23  0002-4115_d561034d-ea58-45fe-9d07-2e9eba98c2e4  0002-4115   \n",
       "24  0002-4116_d561034d-ea58-45fe-9d07-2e9eba98c2e4  0002-4116   \n",
       "\n",
       "            PRODUCTTYPENAME PROPRIETARYNAME PROPRIETARYNAMESUFFIX  \\\n",
       "20  HUMAN PRESCRIPTION DRUG       Strattera                   NaN   \n",
       "21  HUMAN PRESCRIPTION DRUG        Cymbalta                   NaN   \n",
       "22  HUMAN PRESCRIPTION DRUG         Zyprexa                   NaN   \n",
       "23  HUMAN PRESCRIPTION DRUG         Zyprexa                   NaN   \n",
       "24  HUMAN PRESCRIPTION DRUG         Zyprexa                   NaN   \n",
       "\n",
       "           NONPROPRIETARYNAME            DOSAGEFORMNAME ROUTENAME  \\\n",
       "20  Atomoxetine hydrochloride                   CAPSULE      ORAL   \n",
       "21   Duloxetine hydrochloride  CAPSULE, DELAYED RELEASE      ORAL   \n",
       "22                 Olanzapine                    TABLET      ORAL   \n",
       "23                 Olanzapine                    TABLET      ORAL   \n",
       "24                 Olanzapine                    TABLET      ORAL   \n",
       "\n",
       "    STARTMARKETINGDATE  ENDMARKETINGDATE MARKETINGCATEGORYNAME  \\\n",
       "20            20050214               NaN                   NDA   \n",
       "21            20100115               NaN                   NDA   \n",
       "22            19970623               NaN                   NDA   \n",
       "23            19961001               NaN                   NDA   \n",
       "24            19961001               NaN                   NDA   \n",
       "\n",
       "   APPLICATIONNUMBER LABELERNAME              SUBSTANCENAME  \\\n",
       "20         NDA021411          10  ATOMOXETINE HYDROCHLORIDE   \n",
       "21         NDA021427          10   DULOXETINE HYDROCHLORIDE   \n",
       "22         NDA020592          10                 OLANZAPINE   \n",
       "23         NDA020592          10                 OLANZAPINE   \n",
       "24         NDA020592          10                 OLANZAPINE   \n",
       "\n",
       "   ACTIVE_NUMERATOR_STRENGTH ACTIVE_INGRED_UNIT  \\\n",
       "20                       100               mg/1   \n",
       "21                        60               mg/1   \n",
       "22                       2.5               mg/1   \n",
       "23                         5               mg/1   \n",
       "24                       7.5               mg/1   \n",
       "\n",
       "                                        PHARM_CLASSES DEASCHEDULE  \\\n",
       "20  Norepinephrine Reuptake Inhibitor [EPC],Norepi...         NaN   \n",
       "21  Norepinephrine Uptake Inhibitors [MoA],Seroton...         NaN   \n",
       "22                       Atypical Antipsychotic [EPC]         NaN   \n",
       "23                       Atypical Antipsychotic [EPC]         NaN   \n",
       "24                       Atypical Antipsychotic [EPC]         NaN   \n",
       "\n",
       "   NDC_EXCLUDE_FLAG  LISTING_RECORD_CERTIFIED_THROUGH  \n",
       "20                N                        20211231.0  \n",
       "21                N                        20201231.0  \n",
       "22                N                        20201231.0  \n",
       "23                N                        20201231.0  \n",
       "24                N                        20201231.0  "
      ]
     },
     "execution_count": 10,
     "metadata": {},
     "output_type": "execute_result"
    }
   ],
   "source": [
    "prod[prod['PRODUCTID'].notna()].head()"
   ]
  },
  {
   "cell_type": "code",
   "execution_count": 11,
   "metadata": {},
   "outputs": [
    {
     "name": "stdout",
     "output_type": "stream",
     "text": [
      "Num objects with incoherent ID and NDC : 513\n"
     ]
    }
   ],
   "source": [
    "id_ndc_incoherent = prod[prod['PRODUCTID'].notna()][prod[['PRODUCTID', 'PRODUCTNDC']].dropna().apply(lambda x : x.PRODUCTNDC not in x.PRODUCTID, axis=1)]\n",
    "print(f\"Num objects with incoherent ID and NDC : {len(id_ndc_incoherent)}\")"
   ]
  },
  {
   "cell_type": "code",
   "execution_count": 12,
   "metadata": {},
   "outputs": [
    {
     "data": {
      "text/html": [
       "<div>\n",
       "<style scoped>\n",
       "    .dataframe tbody tr th:only-of-type {\n",
       "        vertical-align: middle;\n",
       "    }\n",
       "\n",
       "    .dataframe tbody tr th {\n",
       "        vertical-align: top;\n",
       "    }\n",
       "\n",
       "    .dataframe thead th {\n",
       "        text-align: right;\n",
       "    }\n",
       "</style>\n",
       "<table border=\"1\" class=\"dataframe\">\n",
       "  <thead>\n",
       "    <tr style=\"text-align: right;\">\n",
       "      <th></th>\n",
       "      <th>PRODUCTID</th>\n",
       "      <th>PRODUCTNDC</th>\n",
       "      <th>PRODUCTTYPENAME</th>\n",
       "      <th>PROPRIETARYNAME</th>\n",
       "      <th>PROPRIETARYNAMESUFFIX</th>\n",
       "      <th>NONPROPRIETARYNAME</th>\n",
       "      <th>DOSAGEFORMNAME</th>\n",
       "      <th>ROUTENAME</th>\n",
       "      <th>STARTMARKETINGDATE</th>\n",
       "      <th>ENDMARKETINGDATE</th>\n",
       "      <th>MARKETINGCATEGORYNAME</th>\n",
       "      <th>APPLICATIONNUMBER</th>\n",
       "      <th>LABELERNAME</th>\n",
       "      <th>SUBSTANCENAME</th>\n",
       "      <th>ACTIVE_NUMERATOR_STRENGTH</th>\n",
       "      <th>ACTIVE_INGRED_UNIT</th>\n",
       "      <th>PHARM_CLASSES</th>\n",
       "      <th>DEASCHEDULE</th>\n",
       "      <th>NDC_EXCLUDE_FLAG</th>\n",
       "      <th>LISTING_RECORD_CERTIFIED_THROUGH</th>\n",
       "    </tr>\n",
       "  </thead>\n",
       "  <tbody>\n",
       "    <tr>\n",
       "      <th>159</th>\n",
       "      <td>0006-0005_0c7a3452-ecb2-4f66-ad52-94f8eaf8cde8</td>\n",
       "      <td>05-juin</td>\n",
       "      <td>HUMAN PRESCRIPTION DRUG</td>\n",
       "      <td>BELSOMRA</td>\n",
       "      <td>NaN</td>\n",
       "      <td>suvorexant</td>\n",
       "      <td>TABLET, FILM COATED</td>\n",
       "      <td>ORAL</td>\n",
       "      <td>20140829</td>\n",
       "      <td>NaN</td>\n",
       "      <td>NDA</td>\n",
       "      <td>NDA204569</td>\n",
       "      <td>10</td>\n",
       "      <td>SUVOREXANT</td>\n",
       "      <td>5</td>\n",
       "      <td>mg/1</td>\n",
       "      <td>Orexin Receptor Antagonist [EPC],Orexin Recept...</td>\n",
       "      <td>CIV</td>\n",
       "      <td>N</td>\n",
       "      <td>20211231.0</td>\n",
       "    </tr>\n",
       "    <tr>\n",
       "      <th>160</th>\n",
       "      <td>0006-0019_54e9c31a-9429-4842-b2d6-0cc1e5ad613c</td>\n",
       "      <td>19-juin</td>\n",
       "      <td>HUMAN PRESCRIPTION DRUG</td>\n",
       "      <td>PRINIVIL</td>\n",
       "      <td>NaN</td>\n",
       "      <td>lisinopril</td>\n",
       "      <td>TABLET</td>\n",
       "      <td>ORAL</td>\n",
       "      <td>19871229</td>\n",
       "      <td>NaN</td>\n",
       "      <td>NDA</td>\n",
       "      <td>NDA019558</td>\n",
       "      <td>10</td>\n",
       "      <td>LISINOPRIL</td>\n",
       "      <td>5</td>\n",
       "      <td>mg/1</td>\n",
       "      <td>Angiotensin Converting Enzyme Inhibitor [EPC],...</td>\n",
       "      <td>NaN</td>\n",
       "      <td>N</td>\n",
       "      <td>20201231.0</td>\n",
       "    </tr>\n",
       "    <tr>\n",
       "      <th>310</th>\n",
       "      <td>0009-0003_67759a7c-ea06-4151-87e1-a301c44d67cd</td>\n",
       "      <td>03-sept</td>\n",
       "      <td>HUMAN PRESCRIPTION DRUG</td>\n",
       "      <td>SOLU-MEDROL</td>\n",
       "      <td>NaN</td>\n",
       "      <td>methylprednisolone sodium succinate</td>\n",
       "      <td>INJECTION, POWDER, FOR SOLUTION</td>\n",
       "      <td>INTRAMUSCULAR; INTRAVENOUS</td>\n",
       "      <td>19590402</td>\n",
       "      <td>NaN</td>\n",
       "      <td>NDA</td>\n",
       "      <td>NDA011856</td>\n",
       "      <td>Pharmacia and Upjohn Company LLC</td>\n",
       "      <td>METHYLPREDNISOLONE SODIUM SUCCINATE</td>\n",
       "      <td>500</td>\n",
       "      <td>mg/4mL</td>\n",
       "      <td>Corticosteroid [EPC],Corticosteroid Hormone Re...</td>\n",
       "      <td>NaN</td>\n",
       "      <td>N</td>\n",
       "      <td>20201231.0</td>\n",
       "    </tr>\n",
       "    <tr>\n",
       "      <th>311</th>\n",
       "      <td>0009-0005_c9aa26c1-05c3-479c-90eb-63b2181c5e7e</td>\n",
       "      <td>05-sept</td>\n",
       "      <td>HUMAN PRESCRIPTION DRUG</td>\n",
       "      <td>Solu-Cortef</td>\n",
       "      <td>NaN</td>\n",
       "      <td>hydrocortisone sodium succinate</td>\n",
       "      <td>INJECTION, POWDER, FOR SOLUTION</td>\n",
       "      <td>INTRAMUSCULAR; INTRAVENOUS</td>\n",
       "      <td>19550427</td>\n",
       "      <td>NaN</td>\n",
       "      <td>NDA</td>\n",
       "      <td>NDA009866</td>\n",
       "      <td>Pharmacia and Upjohn Company LLC</td>\n",
       "      <td>HYDROCORTISONE SODIUM SUCCINATE</td>\n",
       "      <td>1000</td>\n",
       "      <td>mg/8mL</td>\n",
       "      <td>Corticosteroid [EPC],Corticosteroid Hormone Re...</td>\n",
       "      <td>NaN</td>\n",
       "      <td>N</td>\n",
       "      <td>20201231.0</td>\n",
       "    </tr>\n",
       "    <tr>\n",
       "      <th>312</th>\n",
       "      <td>0009-0011_c9aa26c1-05c3-479c-90eb-63b2181c5e7e</td>\n",
       "      <td>11-sept</td>\n",
       "      <td>HUMAN PRESCRIPTION DRUG</td>\n",
       "      <td>Solu-Cortef</td>\n",
       "      <td>NaN</td>\n",
       "      <td>hydrocortisone sodium succinate</td>\n",
       "      <td>INJECTION, POWDER, FOR SOLUTION</td>\n",
       "      <td>INTRAMUSCULAR; INTRAVENOUS</td>\n",
       "      <td>19550427</td>\n",
       "      <td>NaN</td>\n",
       "      <td>NDA</td>\n",
       "      <td>NDA009866</td>\n",
       "      <td>Pharmacia and Upjohn Company LLC</td>\n",
       "      <td>HYDROCORTISONE SODIUM SUCCINATE</td>\n",
       "      <td>100</td>\n",
       "      <td>mg/2mL</td>\n",
       "      <td>Corticosteroid [EPC],Corticosteroid Hormone Re...</td>\n",
       "      <td>NaN</td>\n",
       "      <td>N</td>\n",
       "      <td>20201231.0</td>\n",
       "    </tr>\n",
       "  </tbody>\n",
       "</table>\n",
       "</div>"
      ],
      "text/plain": [
       "                                          PRODUCTID PRODUCTNDC  \\\n",
       "159  0006-0005_0c7a3452-ecb2-4f66-ad52-94f8eaf8cde8    05-juin   \n",
       "160  0006-0019_54e9c31a-9429-4842-b2d6-0cc1e5ad613c    19-juin   \n",
       "310  0009-0003_67759a7c-ea06-4151-87e1-a301c44d67cd    03-sept   \n",
       "311  0009-0005_c9aa26c1-05c3-479c-90eb-63b2181c5e7e    05-sept   \n",
       "312  0009-0011_c9aa26c1-05c3-479c-90eb-63b2181c5e7e    11-sept   \n",
       "\n",
       "             PRODUCTTYPENAME PROPRIETARYNAME PROPRIETARYNAMESUFFIX  \\\n",
       "159  HUMAN PRESCRIPTION DRUG        BELSOMRA                   NaN   \n",
       "160  HUMAN PRESCRIPTION DRUG        PRINIVIL                   NaN   \n",
       "310  HUMAN PRESCRIPTION DRUG     SOLU-MEDROL                   NaN   \n",
       "311  HUMAN PRESCRIPTION DRUG     Solu-Cortef                   NaN   \n",
       "312  HUMAN PRESCRIPTION DRUG     Solu-Cortef                   NaN   \n",
       "\n",
       "                      NONPROPRIETARYNAME                   DOSAGEFORMNAME  \\\n",
       "159                           suvorexant              TABLET, FILM COATED   \n",
       "160                           lisinopril                           TABLET   \n",
       "310  methylprednisolone sodium succinate  INJECTION, POWDER, FOR SOLUTION   \n",
       "311      hydrocortisone sodium succinate  INJECTION, POWDER, FOR SOLUTION   \n",
       "312      hydrocortisone sodium succinate  INJECTION, POWDER, FOR SOLUTION   \n",
       "\n",
       "                      ROUTENAME  STARTMARKETINGDATE  ENDMARKETINGDATE  \\\n",
       "159                        ORAL            20140829               NaN   \n",
       "160                        ORAL            19871229               NaN   \n",
       "310  INTRAMUSCULAR; INTRAVENOUS            19590402               NaN   \n",
       "311  INTRAMUSCULAR; INTRAVENOUS            19550427               NaN   \n",
       "312  INTRAMUSCULAR; INTRAVENOUS            19550427               NaN   \n",
       "\n",
       "    MARKETINGCATEGORYNAME APPLICATIONNUMBER                       LABELERNAME  \\\n",
       "159                   NDA         NDA204569                                10   \n",
       "160                   NDA         NDA019558                                10   \n",
       "310                   NDA         NDA011856  Pharmacia and Upjohn Company LLC   \n",
       "311                   NDA         NDA009866  Pharmacia and Upjohn Company LLC   \n",
       "312                   NDA         NDA009866  Pharmacia and Upjohn Company LLC   \n",
       "\n",
       "                           SUBSTANCENAME ACTIVE_NUMERATOR_STRENGTH  \\\n",
       "159                           SUVOREXANT                         5   \n",
       "160                           LISINOPRIL                         5   \n",
       "310  METHYLPREDNISOLONE SODIUM SUCCINATE                       500   \n",
       "311      HYDROCORTISONE SODIUM SUCCINATE                      1000   \n",
       "312      HYDROCORTISONE SODIUM SUCCINATE                       100   \n",
       "\n",
       "    ACTIVE_INGRED_UNIT                                      PHARM_CLASSES  \\\n",
       "159               mg/1  Orexin Receptor Antagonist [EPC],Orexin Recept...   \n",
       "160               mg/1  Angiotensin Converting Enzyme Inhibitor [EPC],...   \n",
       "310             mg/4mL  Corticosteroid [EPC],Corticosteroid Hormone Re...   \n",
       "311             mg/8mL  Corticosteroid [EPC],Corticosteroid Hormone Re...   \n",
       "312             mg/2mL  Corticosteroid [EPC],Corticosteroid Hormone Re...   \n",
       "\n",
       "    DEASCHEDULE NDC_EXCLUDE_FLAG  LISTING_RECORD_CERTIFIED_THROUGH  \n",
       "159         CIV                N                        20211231.0  \n",
       "160         NaN                N                        20201231.0  \n",
       "310         NaN                N                        20201231.0  \n",
       "311         NaN                N                        20201231.0  \n",
       "312         NaN                N                        20201231.0  "
      ]
     },
     "execution_count": 12,
     "metadata": {},
     "output_type": "execute_result"
    }
   ],
   "source": [
    "id_ndc_incoherent.head()"
   ]
  },
  {
   "cell_type": "code",
   "execution_count": 13,
   "metadata": {},
   "outputs": [
    {
     "data": {
      "text/plain": [
       "array(['05-juin', '19-juin', '03-sept', '05-sept', '11-sept', '12-sept',\n",
       "       '13-sept', '16-sept', '17-sept', '18-sept', '20-sept', '22-sept',\n",
       "       '29-sept', 'OTC MONOGRAPH NOT FINAL', 'NDA', 'OTC MONOGRAPH FINAL',\n",
       "       'UNAPPROVED HOMEOPATHIC', 'UNAPPROVED MEDICAL GAS',\n",
       "       'UNAPPROVED DRUG OTHER', 'ANDA', 'NDA AUTHORIZED GENERIC', 'BLA'],\n",
       "      dtype=object)"
      ]
     },
     "execution_count": 13,
     "metadata": {},
     "output_type": "execute_result"
    }
   ],
   "source": [
    "# List of possible vals\n",
    "id_ndc_incoherent[\"PRODUCTNDC\"].unique()"
   ]
  },
  {
   "attachments": {},
   "cell_type": "markdown",
   "metadata": {},
   "source": [
    "We could drop the problematic entries with:\n",
    "\n",
    "`prod = prod.drop(id_ndc_incoherent.index)` \n"
   ]
  },
  {
   "cell_type": "code",
   "execution_count": 14,
   "metadata": {},
   "outputs": [
    {
     "data": {
      "text/html": [
       "<div>\n",
       "<style scoped>\n",
       "    .dataframe tbody tr th:only-of-type {\n",
       "        vertical-align: middle;\n",
       "    }\n",
       "\n",
       "    .dataframe tbody tr th {\n",
       "        vertical-align: top;\n",
       "    }\n",
       "\n",
       "    .dataframe thead th {\n",
       "        text-align: right;\n",
       "    }\n",
       "</style>\n",
       "<table border=\"1\" class=\"dataframe\">\n",
       "  <thead>\n",
       "    <tr style=\"text-align: right;\">\n",
       "      <th></th>\n",
       "      <th>PRODUCTID</th>\n",
       "      <th>PRODUCTNDC</th>\n",
       "      <th>PRODUCTTYPENAME</th>\n",
       "      <th>PROPRIETARYNAME</th>\n",
       "      <th>PROPRIETARYNAMESUFFIX</th>\n",
       "      <th>NONPROPRIETARYNAME</th>\n",
       "      <th>DOSAGEFORMNAME</th>\n",
       "      <th>ROUTENAME</th>\n",
       "      <th>STARTMARKETINGDATE</th>\n",
       "      <th>ENDMARKETINGDATE</th>\n",
       "      <th>MARKETINGCATEGORYNAME</th>\n",
       "      <th>APPLICATIONNUMBER</th>\n",
       "      <th>LABELERNAME</th>\n",
       "      <th>SUBSTANCENAME</th>\n",
       "      <th>ACTIVE_NUMERATOR_STRENGTH</th>\n",
       "      <th>ACTIVE_INGRED_UNIT</th>\n",
       "      <th>PHARM_CLASSES</th>\n",
       "      <th>DEASCHEDULE</th>\n",
       "      <th>NDC_EXCLUDE_FLAG</th>\n",
       "      <th>LISTING_RECORD_CERTIFIED_THROUGH</th>\n",
       "    </tr>\n",
       "  </thead>\n",
       "  <tbody>\n",
       "    <tr>\n",
       "      <th>159</th>\n",
       "      <td>0006-0005_0c7a3452-ecb2-4f66-ad52-94f8eaf8cde8</td>\n",
       "      <td>05-juin</td>\n",
       "      <td>HUMAN PRESCRIPTION DRUG</td>\n",
       "      <td>BELSOMRA</td>\n",
       "      <td>NaN</td>\n",
       "      <td>suvorexant</td>\n",
       "      <td>TABLET, FILM COATED</td>\n",
       "      <td>ORAL</td>\n",
       "      <td>20140829</td>\n",
       "      <td>NaN</td>\n",
       "      <td>NDA</td>\n",
       "      <td>NDA204569</td>\n",
       "      <td>10</td>\n",
       "      <td>SUVOREXANT</td>\n",
       "      <td>5</td>\n",
       "      <td>mg/1</td>\n",
       "      <td>Orexin Receptor Antagonist [EPC],Orexin Recept...</td>\n",
       "      <td>CIV</td>\n",
       "      <td>N</td>\n",
       "      <td>20211231.0</td>\n",
       "    </tr>\n",
       "    <tr>\n",
       "      <th>160</th>\n",
       "      <td>0006-0019_54e9c31a-9429-4842-b2d6-0cc1e5ad613c</td>\n",
       "      <td>19-juin</td>\n",
       "      <td>HUMAN PRESCRIPTION DRUG</td>\n",
       "      <td>PRINIVIL</td>\n",
       "      <td>NaN</td>\n",
       "      <td>lisinopril</td>\n",
       "      <td>TABLET</td>\n",
       "      <td>ORAL</td>\n",
       "      <td>19871229</td>\n",
       "      <td>NaN</td>\n",
       "      <td>NDA</td>\n",
       "      <td>NDA019558</td>\n",
       "      <td>10</td>\n",
       "      <td>LISINOPRIL</td>\n",
       "      <td>5</td>\n",
       "      <td>mg/1</td>\n",
       "      <td>Angiotensin Converting Enzyme Inhibitor [EPC],...</td>\n",
       "      <td>NaN</td>\n",
       "      <td>N</td>\n",
       "      <td>20201231.0</td>\n",
       "    </tr>\n",
       "    <tr>\n",
       "      <th>310</th>\n",
       "      <td>0009-0003_67759a7c-ea06-4151-87e1-a301c44d67cd</td>\n",
       "      <td>03-sept</td>\n",
       "      <td>HUMAN PRESCRIPTION DRUG</td>\n",
       "      <td>SOLU-MEDROL</td>\n",
       "      <td>NaN</td>\n",
       "      <td>methylprednisolone sodium succinate</td>\n",
       "      <td>INJECTION, POWDER, FOR SOLUTION</td>\n",
       "      <td>INTRAMUSCULAR; INTRAVENOUS</td>\n",
       "      <td>19590402</td>\n",
       "      <td>NaN</td>\n",
       "      <td>NDA</td>\n",
       "      <td>NDA011856</td>\n",
       "      <td>Pharmacia and Upjohn Company LLC</td>\n",
       "      <td>METHYLPREDNISOLONE SODIUM SUCCINATE</td>\n",
       "      <td>500</td>\n",
       "      <td>mg/4mL</td>\n",
       "      <td>Corticosteroid [EPC],Corticosteroid Hormone Re...</td>\n",
       "      <td>NaN</td>\n",
       "      <td>N</td>\n",
       "      <td>20201231.0</td>\n",
       "    </tr>\n",
       "    <tr>\n",
       "      <th>311</th>\n",
       "      <td>0009-0005_c9aa26c1-05c3-479c-90eb-63b2181c5e7e</td>\n",
       "      <td>05-sept</td>\n",
       "      <td>HUMAN PRESCRIPTION DRUG</td>\n",
       "      <td>Solu-Cortef</td>\n",
       "      <td>NaN</td>\n",
       "      <td>hydrocortisone sodium succinate</td>\n",
       "      <td>INJECTION, POWDER, FOR SOLUTION</td>\n",
       "      <td>INTRAMUSCULAR; INTRAVENOUS</td>\n",
       "      <td>19550427</td>\n",
       "      <td>NaN</td>\n",
       "      <td>NDA</td>\n",
       "      <td>NDA009866</td>\n",
       "      <td>Pharmacia and Upjohn Company LLC</td>\n",
       "      <td>HYDROCORTISONE SODIUM SUCCINATE</td>\n",
       "      <td>1000</td>\n",
       "      <td>mg/8mL</td>\n",
       "      <td>Corticosteroid [EPC],Corticosteroid Hormone Re...</td>\n",
       "      <td>NaN</td>\n",
       "      <td>N</td>\n",
       "      <td>20201231.0</td>\n",
       "    </tr>\n",
       "    <tr>\n",
       "      <th>312</th>\n",
       "      <td>0009-0011_c9aa26c1-05c3-479c-90eb-63b2181c5e7e</td>\n",
       "      <td>11-sept</td>\n",
       "      <td>HUMAN PRESCRIPTION DRUG</td>\n",
       "      <td>Solu-Cortef</td>\n",
       "      <td>NaN</td>\n",
       "      <td>hydrocortisone sodium succinate</td>\n",
       "      <td>INJECTION, POWDER, FOR SOLUTION</td>\n",
       "      <td>INTRAMUSCULAR; INTRAVENOUS</td>\n",
       "      <td>19550427</td>\n",
       "      <td>NaN</td>\n",
       "      <td>NDA</td>\n",
       "      <td>NDA009866</td>\n",
       "      <td>Pharmacia and Upjohn Company LLC</td>\n",
       "      <td>HYDROCORTISONE SODIUM SUCCINATE</td>\n",
       "      <td>100</td>\n",
       "      <td>mg/2mL</td>\n",
       "      <td>Corticosteroid [EPC],Corticosteroid Hormone Re...</td>\n",
       "      <td>NaN</td>\n",
       "      <td>N</td>\n",
       "      <td>20201231.0</td>\n",
       "    </tr>\n",
       "  </tbody>\n",
       "</table>\n",
       "</div>"
      ],
      "text/plain": [
       "                                          PRODUCTID PRODUCTNDC  \\\n",
       "159  0006-0005_0c7a3452-ecb2-4f66-ad52-94f8eaf8cde8    05-juin   \n",
       "160  0006-0019_54e9c31a-9429-4842-b2d6-0cc1e5ad613c    19-juin   \n",
       "310  0009-0003_67759a7c-ea06-4151-87e1-a301c44d67cd    03-sept   \n",
       "311  0009-0005_c9aa26c1-05c3-479c-90eb-63b2181c5e7e    05-sept   \n",
       "312  0009-0011_c9aa26c1-05c3-479c-90eb-63b2181c5e7e    11-sept   \n",
       "\n",
       "             PRODUCTTYPENAME PROPRIETARYNAME PROPRIETARYNAMESUFFIX  \\\n",
       "159  HUMAN PRESCRIPTION DRUG        BELSOMRA                   NaN   \n",
       "160  HUMAN PRESCRIPTION DRUG        PRINIVIL                   NaN   \n",
       "310  HUMAN PRESCRIPTION DRUG     SOLU-MEDROL                   NaN   \n",
       "311  HUMAN PRESCRIPTION DRUG     Solu-Cortef                   NaN   \n",
       "312  HUMAN PRESCRIPTION DRUG     Solu-Cortef                   NaN   \n",
       "\n",
       "                      NONPROPRIETARYNAME                   DOSAGEFORMNAME  \\\n",
       "159                           suvorexant              TABLET, FILM COATED   \n",
       "160                           lisinopril                           TABLET   \n",
       "310  methylprednisolone sodium succinate  INJECTION, POWDER, FOR SOLUTION   \n",
       "311      hydrocortisone sodium succinate  INJECTION, POWDER, FOR SOLUTION   \n",
       "312      hydrocortisone sodium succinate  INJECTION, POWDER, FOR SOLUTION   \n",
       "\n",
       "                      ROUTENAME  STARTMARKETINGDATE  ENDMARKETINGDATE  \\\n",
       "159                        ORAL            20140829               NaN   \n",
       "160                        ORAL            19871229               NaN   \n",
       "310  INTRAMUSCULAR; INTRAVENOUS            19590402               NaN   \n",
       "311  INTRAMUSCULAR; INTRAVENOUS            19550427               NaN   \n",
       "312  INTRAMUSCULAR; INTRAVENOUS            19550427               NaN   \n",
       "\n",
       "    MARKETINGCATEGORYNAME APPLICATIONNUMBER                       LABELERNAME  \\\n",
       "159                   NDA         NDA204569                                10   \n",
       "160                   NDA         NDA019558                                10   \n",
       "310                   NDA         NDA011856  Pharmacia and Upjohn Company LLC   \n",
       "311                   NDA         NDA009866  Pharmacia and Upjohn Company LLC   \n",
       "312                   NDA         NDA009866  Pharmacia and Upjohn Company LLC   \n",
       "\n",
       "                           SUBSTANCENAME ACTIVE_NUMERATOR_STRENGTH  \\\n",
       "159                           SUVOREXANT                         5   \n",
       "160                           LISINOPRIL                         5   \n",
       "310  METHYLPREDNISOLONE SODIUM SUCCINATE                       500   \n",
       "311      HYDROCORTISONE SODIUM SUCCINATE                      1000   \n",
       "312      HYDROCORTISONE SODIUM SUCCINATE                       100   \n",
       "\n",
       "    ACTIVE_INGRED_UNIT                                      PHARM_CLASSES  \\\n",
       "159               mg/1  Orexin Receptor Antagonist [EPC],Orexin Recept...   \n",
       "160               mg/1  Angiotensin Converting Enzyme Inhibitor [EPC],...   \n",
       "310             mg/4mL  Corticosteroid [EPC],Corticosteroid Hormone Re...   \n",
       "311             mg/8mL  Corticosteroid [EPC],Corticosteroid Hormone Re...   \n",
       "312             mg/2mL  Corticosteroid [EPC],Corticosteroid Hormone Re...   \n",
       "\n",
       "    DEASCHEDULE NDC_EXCLUDE_FLAG  LISTING_RECORD_CERTIFIED_THROUGH  \n",
       "159         CIV                N                        20211231.0  \n",
       "160         NaN                N                        20201231.0  \n",
       "310         NaN                N                        20201231.0  \n",
       "311         NaN                N                        20201231.0  \n",
       "312         NaN                N                        20201231.0  "
      ]
     },
     "execution_count": 14,
     "metadata": {},
     "output_type": "execute_result"
    }
   ],
   "source": [
    "prod.iloc[id_ndc_incoherent.index, :].head()"
   ]
  },
  {
   "cell_type": "code",
   "execution_count": 15,
   "metadata": {},
   "outputs": [],
   "source": [
    "# prod = prod.drop(columns=\"PRODUCTNDC\")"
   ]
  },
  {
   "attachments": {},
   "cell_type": "markdown",
   "metadata": {},
   "source": [
    "**ProductTypeName FDA labels verification**"
   ]
  },
  {
   "cell_type": "code",
   "execution_count": 16,
   "metadata": {},
   "outputs": [],
   "source": [
    "content_type_label = pd.read_html(\"https://www.fda.gov/industry/structured-product-labeling-resources/document-type-including-content-labeling-type\")[0][\"LOINC Name\"]\n"
   ]
  },
  {
   "cell_type": "code",
   "execution_count": 17,
   "metadata": {},
   "outputs": [],
   "source": [
    "content_type_label = content_type_label.str.replace(\"LABEL\", \"\")\n",
    "content_type_label = content_type_label.str.rstrip().to_list()"
   ]
  },
  {
   "cell_type": "code",
   "execution_count": 18,
   "metadata": {},
   "outputs": [
    {
     "name": "stdout",
     "output_type": "stream",
     "text": [
      "0 producttype categories not in official FDA repo\n"
     ]
    }
   ],
   "source": [
    "print(f'{len([label for label in prod[\"PRODUCTTYPENAME\"].unique() if label not in content_type_label])} producttype categories not in official FDA repo')"
   ]
  },
  {
   "attachments": {},
   "cell_type": "markdown",
   "metadata": {},
   "source": [
    "**Dosage form FDA codes verification**"
   ]
  },
  {
   "cell_type": "code",
   "execution_count": 19,
   "metadata": {},
   "outputs": [],
   "source": [
    "dosage_form_codes = pd.read_html(\"https://www.fda.gov/industry/structured-product-labeling-resources/dosage-forms\")[0]\n",
    "dosage_form_codes = dosage_form_codes[\"SPL Acceptable Term\"].to_list()\n"
   ]
  },
  {
   "cell_type": "code",
   "execution_count": 20,
   "metadata": {},
   "outputs": [
    {
     "name": "stdout",
     "output_type": "stream",
     "text": [
      "0 DosageForm categories not in official FDA repo codes\n"
     ]
    }
   ],
   "source": [
    "[label for label in prod[\"DOSAGEFORMNAME\"].unique() if label not in dosage_form_codes]\n",
    "print(f\"{len([label for label in prod['DOSAGEFORMNAME'].unique() if label not in dosage_form_codes])} DosageForm categories not in official FDA repo codes\")"
   ]
  },
  {
   "attachments": {},
   "cell_type": "markdown",
   "metadata": {},
   "source": [
    "**RouteName FDA codes verification**"
   ]
  },
  {
   "cell_type": "code",
   "execution_count": 21,
   "metadata": {},
   "outputs": [],
   "source": [
    "routename_codes = pd.read_html(\"https://www.fda.gov/industry/structured-product-labeling-resources/route-administration\")[0]\n",
    "routename_codes = routename_codes[\"SPL Acceptable Term\"].to_list()\n"
   ]
  },
  {
   "cell_type": "code",
   "execution_count": 22,
   "metadata": {},
   "outputs": [
    {
     "name": "stdout",
     "output_type": "stream",
     "text": [
      "127 RouteNames not listed in official FDA repo\n"
     ]
    }
   ],
   "source": [
    "print(f'{len([label for label in prod[\"ROUTENAME\"].dropna().unique() if label not in routename_codes])} RouteNames not listed in official FDA repo')"
   ]
  },
  {
   "cell_type": "code",
   "execution_count": 23,
   "metadata": {},
   "outputs": [
    {
     "name": "stdout",
     "output_type": "stream",
     "text": [
      "['INTRAMUSCULAR; SUBCUTANEOUS', 'INTRAVENOUS; SUBCUTANEOUS', 'INTRA-ARTICULAR; INTRAMUSCULAR', 'INTRA-ARTICULAR; INTRALESIONAL', 'INTRAMUSCULAR; INTRAVENOUS', 'INTRALESIONAL; INTRAMUSCULAR; INTRASYNOVIAL; SOFT TISSUE', 'INTRAMUSCULAR; INTRAVENOUS; SUBCONJUNCTIVAL', 'INTRA-ARTICULAR; INTRALESIONAL; INTRAMUSCULAR; SOFT TISSUE', 'INTRAVASCULAR; INTRAVENOUS', 'INTRA-ARTERIAL; INTRAVENOUS']\n"
     ]
    }
   ],
   "source": [
    "# Example of multiple categories for RouteName\n",
    "print([label for label in prod[\"ROUTENAME\"].dropna().unique() if label not in routename_codes][:10])"
   ]
  },
  {
   "cell_type": "code",
   "execution_count": 24,
   "metadata": {},
   "outputs": [
    {
     "data": {
      "text/plain": [
       "0"
      ]
     },
     "execution_count": 24,
     "metadata": {},
     "output_type": "execute_result"
    }
   ],
   "source": [
    "# Check for lowercase\n",
    "len(prod[\"ROUTENAME\"].dropna()[prod[\"ROUTENAME\"].str.islower().dropna()])"
   ]
  },
  {
   "attachments": {},
   "cell_type": "markdown",
   "metadata": {},
   "source": [
    "We see it's the objects with multiple categories that have those special labels. This will get fixed with get_dummies method or OneHotEncoding"
   ]
  },
  {
   "cell_type": "code",
   "execution_count": 25,
   "metadata": {},
   "outputs": [
    {
     "data": {
      "text/html": [
       "<div>\n",
       "<style scoped>\n",
       "    .dataframe tbody tr th:only-of-type {\n",
       "        vertical-align: middle;\n",
       "    }\n",
       "\n",
       "    .dataframe tbody tr th {\n",
       "        vertical-align: top;\n",
       "    }\n",
       "\n",
       "    .dataframe thead th {\n",
       "        text-align: right;\n",
       "    }\n",
       "</style>\n",
       "<table border=\"1\" class=\"dataframe\">\n",
       "  <thead>\n",
       "    <tr style=\"text-align: right;\">\n",
       "      <th></th>\n",
       "      <th>AURICULAR (OTIC)</th>\n",
       "      <th>BUCCAL</th>\n",
       "      <th>BUCCAL; DENTAL; TOPICAL</th>\n",
       "      <th>BUCCAL; SUBLINGUAL</th>\n",
       "      <th>BUCCAL; VAGINAL</th>\n",
       "      <th>CUTANEOUS</th>\n",
       "      <th>CUTANEOUS; EXTRACORPOREAL</th>\n",
       "      <th>CUTANEOUS; EXTRACORPOREAL; TOPICAL; VAGINAL</th>\n",
       "      <th>CUTANEOUS; EXTRACORPOREAL; VAGINAL</th>\n",
       "      <th>CUTANEOUS; INTRADERMAL; SUBCUTANEOUS</th>\n",
       "      <th>...</th>\n",
       "      <th>TOPICAL</th>\n",
       "      <th>TOPICAL; TOPICAL</th>\n",
       "      <th>TOPICAL; TOPICAL; TOPICAL</th>\n",
       "      <th>TOPICAL; TRANSDERMAL</th>\n",
       "      <th>TOPICAL; VAGINAL</th>\n",
       "      <th>TRANSDERMAL</th>\n",
       "      <th>TRANSMUCOSAL</th>\n",
       "      <th>URETERAL</th>\n",
       "      <th>URETHRAL</th>\n",
       "      <th>VAGINAL</th>\n",
       "    </tr>\n",
       "  </thead>\n",
       "  <tbody>\n",
       "    <tr>\n",
       "      <th>0</th>\n",
       "      <td>0</td>\n",
       "      <td>0</td>\n",
       "      <td>0</td>\n",
       "      <td>0</td>\n",
       "      <td>0</td>\n",
       "      <td>0</td>\n",
       "      <td>0</td>\n",
       "      <td>0</td>\n",
       "      <td>0</td>\n",
       "      <td>0</td>\n",
       "      <td>...</td>\n",
       "      <td>0</td>\n",
       "      <td>0</td>\n",
       "      <td>0</td>\n",
       "      <td>0</td>\n",
       "      <td>0</td>\n",
       "      <td>0</td>\n",
       "      <td>0</td>\n",
       "      <td>0</td>\n",
       "      <td>0</td>\n",
       "      <td>0</td>\n",
       "    </tr>\n",
       "    <tr>\n",
       "      <th>1</th>\n",
       "      <td>0</td>\n",
       "      <td>0</td>\n",
       "      <td>0</td>\n",
       "      <td>0</td>\n",
       "      <td>0</td>\n",
       "      <td>0</td>\n",
       "      <td>0</td>\n",
       "      <td>0</td>\n",
       "      <td>0</td>\n",
       "      <td>0</td>\n",
       "      <td>...</td>\n",
       "      <td>0</td>\n",
       "      <td>0</td>\n",
       "      <td>0</td>\n",
       "      <td>0</td>\n",
       "      <td>0</td>\n",
       "      <td>0</td>\n",
       "      <td>0</td>\n",
       "      <td>0</td>\n",
       "      <td>0</td>\n",
       "      <td>0</td>\n",
       "    </tr>\n",
       "    <tr>\n",
       "      <th>2</th>\n",
       "      <td>0</td>\n",
       "      <td>0</td>\n",
       "      <td>0</td>\n",
       "      <td>0</td>\n",
       "      <td>0</td>\n",
       "      <td>0</td>\n",
       "      <td>0</td>\n",
       "      <td>0</td>\n",
       "      <td>0</td>\n",
       "      <td>0</td>\n",
       "      <td>...</td>\n",
       "      <td>0</td>\n",
       "      <td>0</td>\n",
       "      <td>0</td>\n",
       "      <td>0</td>\n",
       "      <td>0</td>\n",
       "      <td>0</td>\n",
       "      <td>0</td>\n",
       "      <td>0</td>\n",
       "      <td>0</td>\n",
       "      <td>0</td>\n",
       "    </tr>\n",
       "    <tr>\n",
       "      <th>3</th>\n",
       "      <td>0</td>\n",
       "      <td>0</td>\n",
       "      <td>0</td>\n",
       "      <td>0</td>\n",
       "      <td>0</td>\n",
       "      <td>0</td>\n",
       "      <td>0</td>\n",
       "      <td>0</td>\n",
       "      <td>0</td>\n",
       "      <td>0</td>\n",
       "      <td>...</td>\n",
       "      <td>0</td>\n",
       "      <td>0</td>\n",
       "      <td>0</td>\n",
       "      <td>0</td>\n",
       "      <td>0</td>\n",
       "      <td>0</td>\n",
       "      <td>0</td>\n",
       "      <td>0</td>\n",
       "      <td>0</td>\n",
       "      <td>0</td>\n",
       "    </tr>\n",
       "    <tr>\n",
       "      <th>4</th>\n",
       "      <td>0</td>\n",
       "      <td>0</td>\n",
       "      <td>0</td>\n",
       "      <td>0</td>\n",
       "      <td>0</td>\n",
       "      <td>0</td>\n",
       "      <td>0</td>\n",
       "      <td>0</td>\n",
       "      <td>0</td>\n",
       "      <td>0</td>\n",
       "      <td>...</td>\n",
       "      <td>0</td>\n",
       "      <td>0</td>\n",
       "      <td>0</td>\n",
       "      <td>0</td>\n",
       "      <td>0</td>\n",
       "      <td>0</td>\n",
       "      <td>0</td>\n",
       "      <td>0</td>\n",
       "      <td>0</td>\n",
       "      <td>0</td>\n",
       "    </tr>\n",
       "  </tbody>\n",
       "</table>\n",
       "<p>5 rows × 180 columns</p>\n",
       "</div>"
      ],
      "text/plain": [
       "   AURICULAR (OTIC)  BUCCAL  BUCCAL; DENTAL; TOPICAL  BUCCAL; SUBLINGUAL  \\\n",
       "0                 0       0                        0                   0   \n",
       "1                 0       0                        0                   0   \n",
       "2                 0       0                        0                   0   \n",
       "3                 0       0                        0                   0   \n",
       "4                 0       0                        0                   0   \n",
       "\n",
       "   BUCCAL; VAGINAL  CUTANEOUS  CUTANEOUS; EXTRACORPOREAL  \\\n",
       "0                0          0                          0   \n",
       "1                0          0                          0   \n",
       "2                0          0                          0   \n",
       "3                0          0                          0   \n",
       "4                0          0                          0   \n",
       "\n",
       "   CUTANEOUS; EXTRACORPOREAL; TOPICAL; VAGINAL  \\\n",
       "0                                            0   \n",
       "1                                            0   \n",
       "2                                            0   \n",
       "3                                            0   \n",
       "4                                            0   \n",
       "\n",
       "   CUTANEOUS; EXTRACORPOREAL; VAGINAL  CUTANEOUS; INTRADERMAL; SUBCUTANEOUS  \\\n",
       "0                                   0                                     0   \n",
       "1                                   0                                     0   \n",
       "2                                   0                                     0   \n",
       "3                                   0                                     0   \n",
       "4                                   0                                     0   \n",
       "\n",
       "   ...  TOPICAL  TOPICAL; TOPICAL  TOPICAL; TOPICAL; TOPICAL  \\\n",
       "0  ...        0                 0                          0   \n",
       "1  ...        0                 0                          0   \n",
       "2  ...        0                 0                          0   \n",
       "3  ...        0                 0                          0   \n",
       "4  ...        0                 0                          0   \n",
       "\n",
       "   TOPICAL; TRANSDERMAL  TOPICAL; VAGINAL  TRANSDERMAL  TRANSMUCOSAL  \\\n",
       "0                     0                 0            0             0   \n",
       "1                     0                 0            0             0   \n",
       "2                     0                 0            0             0   \n",
       "3                     0                 0            0             0   \n",
       "4                     0                 0            0             0   \n",
       "\n",
       "   URETERAL  URETHRAL  VAGINAL  \n",
       "0         0         0        0  \n",
       "1         0         0        0  \n",
       "2         0         0        0  \n",
       "3         0         0        0  \n",
       "4         0         0        0  \n",
       "\n",
       "[5 rows x 180 columns]"
      ]
     },
     "execution_count": 25,
     "metadata": {},
     "output_type": "execute_result"
    }
   ],
   "source": [
    "# Pandas get_dummies example\n",
    "prod[\"ROUTENAME\"].str.upper().str.get_dummies().head()"
   ]
  },
  {
   "cell_type": "code",
   "execution_count": 26,
   "metadata": {},
   "outputs": [
    {
     "data": {
      "text/plain": [
       "array(['AURICULAR (OTIC)', 'BUCCAL', 'BUCCAL; DENTAL; TOPICAL',\n",
       "       'BUCCAL; SUBLINGUAL', 'BUCCAL; VAGINAL'], dtype=object)"
      ]
     },
     "execution_count": 26,
     "metadata": {},
     "output_type": "execute_result"
    }
   ],
   "source": [
    "#ohe example\n",
    "enc = OneHotEncoder()\n",
    "enc.fit(pd.DataFrame(prod[\"ROUTENAME\"].str.upper()))\n",
    "enc.categories_[0][:5]"
   ]
  },
  {
   "attachments": {},
   "cell_type": "markdown",
   "metadata": {},
   "source": [
    "Some categories are repeated multiple times with the same routename which does not make sense"
   ]
  },
  {
   "cell_type": "code",
   "execution_count": 27,
   "metadata": {},
   "outputs": [
    {
     "data": {
      "text/html": [
       "<div>\n",
       "<style scoped>\n",
       "    .dataframe tbody tr th:only-of-type {\n",
       "        vertical-align: middle;\n",
       "    }\n",
       "\n",
       "    .dataframe tbody tr th {\n",
       "        vertical-align: top;\n",
       "    }\n",
       "\n",
       "    .dataframe thead th {\n",
       "        text-align: right;\n",
       "    }\n",
       "</style>\n",
       "<table border=\"1\" class=\"dataframe\">\n",
       "  <thead>\n",
       "    <tr style=\"text-align: right;\">\n",
       "      <th></th>\n",
       "      <th>PRODUCTID</th>\n",
       "      <th>PRODUCTNDC</th>\n",
       "      <th>PRODUCTTYPENAME</th>\n",
       "      <th>PROPRIETARYNAME</th>\n",
       "      <th>PROPRIETARYNAMESUFFIX</th>\n",
       "      <th>NONPROPRIETARYNAME</th>\n",
       "      <th>DOSAGEFORMNAME</th>\n",
       "      <th>ROUTENAME</th>\n",
       "      <th>STARTMARKETINGDATE</th>\n",
       "      <th>ENDMARKETINGDATE</th>\n",
       "      <th>MARKETINGCATEGORYNAME</th>\n",
       "      <th>APPLICATIONNUMBER</th>\n",
       "      <th>LABELERNAME</th>\n",
       "      <th>SUBSTANCENAME</th>\n",
       "      <th>ACTIVE_NUMERATOR_STRENGTH</th>\n",
       "      <th>ACTIVE_INGRED_UNIT</th>\n",
       "      <th>PHARM_CLASSES</th>\n",
       "      <th>DEASCHEDULE</th>\n",
       "      <th>NDC_EXCLUDE_FLAG</th>\n",
       "      <th>LISTING_RECORD_CERTIFIED_THROUGH</th>\n",
       "    </tr>\n",
       "  </thead>\n",
       "  <tbody>\n",
       "    <tr>\n",
       "      <th>74661</th>\n",
       "      <td>68466-0002_b9ea1370-4627-458d-8460-3c1fa0a56f48</td>\n",
       "      <td>68466-0002</td>\n",
       "      <td>HUMAN OTC DRUG</td>\n",
       "      <td>Sports For Trauma Gel</td>\n",
       "      <td>NaN</td>\n",
       "      <td>Bellis Perennis, Hypericum Perfomatum,Toxicode...</td>\n",
       "      <td>GEL</td>\n",
       "      <td>TOPICAL; TOPICAL; TOPICAL</td>\n",
       "      <td>20040701</td>\n",
       "      <td>NaN</td>\n",
       "      <td>UNAPPROVED HOMEOPATHIC</td>\n",
       "      <td>NaN</td>\n",
       "      <td>Schwabe Mexico, S.A. de C.V.</td>\n",
       "      <td>BELLIS PERENNIS; HYPERICUM PERFORATUM; TOXICOD...</td>\n",
       "      <td>1; 2; 3; 1</td>\n",
       "      <td>[hp_X]/71g; [hp_X]/71g; [hp_X]/71g; [hp_X]/71g</td>\n",
       "      <td>NaN</td>\n",
       "      <td>NaN</td>\n",
       "      <td>N</td>\n",
       "      <td>20201231.0</td>\n",
       "    </tr>\n",
       "  </tbody>\n",
       "</table>\n",
       "</div>"
      ],
      "text/plain": [
       "                                             PRODUCTID  PRODUCTNDC  \\\n",
       "74661  68466-0002_b9ea1370-4627-458d-8460-3c1fa0a56f48  68466-0002   \n",
       "\n",
       "      PRODUCTTYPENAME        PROPRIETARYNAME PROPRIETARYNAMESUFFIX  \\\n",
       "74661  HUMAN OTC DRUG  Sports For Trauma Gel                   NaN   \n",
       "\n",
       "                                      NONPROPRIETARYNAME DOSAGEFORMNAME  \\\n",
       "74661  Bellis Perennis, Hypericum Perfomatum,Toxicode...            GEL   \n",
       "\n",
       "                       ROUTENAME  STARTMARKETINGDATE  ENDMARKETINGDATE  \\\n",
       "74661  TOPICAL; TOPICAL; TOPICAL            20040701               NaN   \n",
       "\n",
       "        MARKETINGCATEGORYNAME APPLICATIONNUMBER                   LABELERNAME  \\\n",
       "74661  UNAPPROVED HOMEOPATHIC               NaN  Schwabe Mexico, S.A. de C.V.   \n",
       "\n",
       "                                           SUBSTANCENAME  \\\n",
       "74661  BELLIS PERENNIS; HYPERICUM PERFORATUM; TOXICOD...   \n",
       "\n",
       "      ACTIVE_NUMERATOR_STRENGTH  \\\n",
       "74661                1; 2; 3; 1   \n",
       "\n",
       "                                   ACTIVE_INGRED_UNIT PHARM_CLASSES  \\\n",
       "74661  [hp_X]/71g; [hp_X]/71g; [hp_X]/71g; [hp_X]/71g           NaN   \n",
       "\n",
       "      DEASCHEDULE NDC_EXCLUDE_FLAG  LISTING_RECORD_CERTIFIED_THROUGH  \n",
       "74661         NaN                N                        20201231.0  "
      ]
     },
     "execution_count": 27,
     "metadata": {},
     "output_type": "execute_result"
    }
   ],
   "source": [
    "prod[prod[\"ROUTENAME\"] == \"TOPICAL; TOPICAL; TOPICAL\"]"
   ]
  },
  {
   "cell_type": "code",
   "execution_count": 28,
   "metadata": {},
   "outputs": [
    {
     "data": {
      "text/plain": [
       "49    INTRAMUSCULAR; SUBCUTANEOUS\n",
       "52      INTRAVENOUS; SUBCUTANEOUS\n",
       "55      INTRAVENOUS; SUBCUTANEOUS\n",
       "70    INTRAMUSCULAR; SUBCUTANEOUS\n",
       "71    INTRAMUSCULAR; SUBCUTANEOUS\n",
       "Name: ROUTENAME, dtype: object"
      ]
     },
     "execution_count": 28,
     "metadata": {},
     "output_type": "execute_result"
    }
   ],
   "source": [
    "# Find the elements with multiple RouteNames\n",
    "prod[\"ROUTENAME\"][prod[\"ROUTENAME\"].str.split(\"; \").str.len() > 1].head()"
   ]
  },
  {
   "cell_type": "code",
   "execution_count": 29,
   "metadata": {},
   "outputs": [
    {
     "name": "stdout",
     "output_type": "stream",
     "text": [
      "Num of RouteName repetitions : 32\n"
     ]
    },
    {
     "data": {
      "text/html": [
       "<div>\n",
       "<style scoped>\n",
       "    .dataframe tbody tr th:only-of-type {\n",
       "        vertical-align: middle;\n",
       "    }\n",
       "\n",
       "    .dataframe tbody tr th {\n",
       "        vertical-align: top;\n",
       "    }\n",
       "\n",
       "    .dataframe thead th {\n",
       "        text-align: right;\n",
       "    }\n",
       "</style>\n",
       "<table border=\"1\" class=\"dataframe\">\n",
       "  <thead>\n",
       "    <tr style=\"text-align: right;\">\n",
       "      <th></th>\n",
       "      <th>PRODUCTID</th>\n",
       "      <th>PRODUCTNDC</th>\n",
       "      <th>PRODUCTTYPENAME</th>\n",
       "      <th>PROPRIETARYNAME</th>\n",
       "      <th>PROPRIETARYNAMESUFFIX</th>\n",
       "      <th>NONPROPRIETARYNAME</th>\n",
       "      <th>DOSAGEFORMNAME</th>\n",
       "      <th>ROUTENAME</th>\n",
       "      <th>STARTMARKETINGDATE</th>\n",
       "      <th>ENDMARKETINGDATE</th>\n",
       "      <th>MARKETINGCATEGORYNAME</th>\n",
       "      <th>APPLICATIONNUMBER</th>\n",
       "      <th>LABELERNAME</th>\n",
       "      <th>SUBSTANCENAME</th>\n",
       "      <th>ACTIVE_NUMERATOR_STRENGTH</th>\n",
       "      <th>ACTIVE_INGRED_UNIT</th>\n",
       "      <th>PHARM_CLASSES</th>\n",
       "      <th>DEASCHEDULE</th>\n",
       "      <th>NDC_EXCLUDE_FLAG</th>\n",
       "      <th>LISTING_RECORD_CERTIFIED_THROUGH</th>\n",
       "    </tr>\n",
       "  </thead>\n",
       "  <tbody>\n",
       "    <tr>\n",
       "      <th>9927</th>\n",
       "      <td>0527-1109_458431c7-41c7-48f4-a8f6-b6b6ccc7cbe2</td>\n",
       "      <td>0527-1109</td>\n",
       "      <td>HUMAN PRESCRIPTION DRUG</td>\n",
       "      <td>Isoniazid</td>\n",
       "      <td>NaN</td>\n",
       "      <td>Isoniazid</td>\n",
       "      <td>TABLET</td>\n",
       "      <td>ORAL; ORAL</td>\n",
       "      <td>20131010</td>\n",
       "      <td>NaN</td>\n",
       "      <td>ANDA</td>\n",
       "      <td>ANDA089776</td>\n",
       "      <td>Lannett Company, Inc.</td>\n",
       "      <td>ISONIAZID</td>\n",
       "      <td>300</td>\n",
       "      <td>mg/1</td>\n",
       "      <td>Antimycobacterial [EPC]</td>\n",
       "      <td>NaN</td>\n",
       "      <td>N</td>\n",
       "      <td>20211231.0</td>\n",
       "    </tr>\n",
       "    <tr>\n",
       "      <th>11121</th>\n",
       "      <td>0615-8061_4643015f-3f68-4ecd-909f-85e3fd2c8549</td>\n",
       "      <td>0615-8061</td>\n",
       "      <td>HUMAN PRESCRIPTION DRUG</td>\n",
       "      <td>Lisinopril</td>\n",
       "      <td>NaN</td>\n",
       "      <td>Lisinopril</td>\n",
       "      <td>TABLET</td>\n",
       "      <td>ORAL; ORAL</td>\n",
       "      <td>20111101</td>\n",
       "      <td>20200930.0</td>\n",
       "      <td>ANDA</td>\n",
       "      <td>ANDA076180</td>\n",
       "      <td>NCS HealthCare of KY, Inc dba Vangard Labs</td>\n",
       "      <td>LISINOPRIL</td>\n",
       "      <td>2.5</td>\n",
       "      <td>mg/1</td>\n",
       "      <td>Angiotensin Converting Enzyme Inhibitor [EPC],...</td>\n",
       "      <td>NaN</td>\n",
       "      <td>N</td>\n",
       "      <td>NaN</td>\n",
       "    </tr>\n",
       "    <tr>\n",
       "      <th>12307</th>\n",
       "      <td>0869-0012_2fd9a395-b322-45b0-b568-71b98e581ae4</td>\n",
       "      <td>0869-0012</td>\n",
       "      <td>HUMAN OTC DRUG</td>\n",
       "      <td>Vitamin A D</td>\n",
       "      <td>NaN</td>\n",
       "      <td>Lanolin, Petrolatum</td>\n",
       "      <td>OINTMENT</td>\n",
       "      <td>TOPICAL; TOPICAL</td>\n",
       "      <td>20130701</td>\n",
       "      <td>NaN</td>\n",
       "      <td>OTC MONOGRAPH FINAL</td>\n",
       "      <td>part347</td>\n",
       "      <td>Vi-Jon</td>\n",
       "      <td>LANOLIN; PETROLATUM</td>\n",
       "      <td>133; 459</td>\n",
       "      <td>mg/g; mg/g</td>\n",
       "      <td>NaN</td>\n",
       "      <td>NaN</td>\n",
       "      <td>N</td>\n",
       "      <td>20211231.0</td>\n",
       "    </tr>\n",
       "    <tr>\n",
       "      <th>17328</th>\n",
       "      <td>16714-114_6ae8605d-16ec-9ea6-8389-ba144c924ee1</td>\n",
       "      <td>16714-114</td>\n",
       "      <td>HUMAN PRESCRIPTION DRUG</td>\n",
       "      <td>Fluoxetine hydrochloride</td>\n",
       "      <td>NaN</td>\n",
       "      <td>Fluoxetine hydrochloride</td>\n",
       "      <td>TABLET, FILM COATED</td>\n",
       "      <td>ORAL; ORAL</td>\n",
       "      <td>20190918</td>\n",
       "      <td>NaN</td>\n",
       "      <td>ANDA</td>\n",
       "      <td>ANDA211721</td>\n",
       "      <td>NorthStar Rx LLC</td>\n",
       "      <td>FLUOXETINE HYDROCHLORIDE</td>\n",
       "      <td>60</td>\n",
       "      <td>mg/1</td>\n",
       "      <td>Serotonin Reuptake Inhibitor [EPC],Serotonin U...</td>\n",
       "      <td>NaN</td>\n",
       "      <td>N</td>\n",
       "      <td>20201231.0</td>\n",
       "    </tr>\n",
       "    <tr>\n",
       "      <th>29347</th>\n",
       "      <td>43598-632_b7779005-0433-747c-3ea9-16e6d45b6cee</td>\n",
       "      <td>43598-632</td>\n",
       "      <td>HUMAN PRESCRIPTION DRUG</td>\n",
       "      <td>Fluoxetine hydrochloride</td>\n",
       "      <td>NaN</td>\n",
       "      <td>Fluoxetine hydrochloride</td>\n",
       "      <td>TABLET, FILM COATED</td>\n",
       "      <td>ORAL; ORAL</td>\n",
       "      <td>20190128</td>\n",
       "      <td>NaN</td>\n",
       "      <td>ANDA</td>\n",
       "      <td>ANDA211721</td>\n",
       "      <td>Dr. Reddy's Laboratories Inc.</td>\n",
       "      <td>FLUOXETINE HYDROCHLORIDE</td>\n",
       "      <td>60</td>\n",
       "      <td>mg/1</td>\n",
       "      <td>Serotonin Reuptake Inhibitor [EPC],Serotonin U...</td>\n",
       "      <td>NaN</td>\n",
       "      <td>N</td>\n",
       "      <td>20201231.0</td>\n",
       "    </tr>\n",
       "  </tbody>\n",
       "</table>\n",
       "</div>"
      ],
      "text/plain": [
       "                                            PRODUCTID PRODUCTNDC  \\\n",
       "9927   0527-1109_458431c7-41c7-48f4-a8f6-b6b6ccc7cbe2  0527-1109   \n",
       "11121  0615-8061_4643015f-3f68-4ecd-909f-85e3fd2c8549  0615-8061   \n",
       "12307  0869-0012_2fd9a395-b322-45b0-b568-71b98e581ae4  0869-0012   \n",
       "17328  16714-114_6ae8605d-16ec-9ea6-8389-ba144c924ee1  16714-114   \n",
       "29347  43598-632_b7779005-0433-747c-3ea9-16e6d45b6cee  43598-632   \n",
       "\n",
       "               PRODUCTTYPENAME           PROPRIETARYNAME  \\\n",
       "9927   HUMAN PRESCRIPTION DRUG                 Isoniazid   \n",
       "11121  HUMAN PRESCRIPTION DRUG                Lisinopril   \n",
       "12307           HUMAN OTC DRUG               Vitamin A D   \n",
       "17328  HUMAN PRESCRIPTION DRUG  Fluoxetine hydrochloride   \n",
       "29347  HUMAN PRESCRIPTION DRUG  Fluoxetine hydrochloride   \n",
       "\n",
       "      PROPRIETARYNAMESUFFIX        NONPROPRIETARYNAME       DOSAGEFORMNAME  \\\n",
       "9927                    NaN                 Isoniazid               TABLET   \n",
       "11121                   NaN                Lisinopril               TABLET   \n",
       "12307                   NaN       Lanolin, Petrolatum             OINTMENT   \n",
       "17328                   NaN  Fluoxetine hydrochloride  TABLET, FILM COATED   \n",
       "29347                   NaN  Fluoxetine hydrochloride  TABLET, FILM COATED   \n",
       "\n",
       "              ROUTENAME  STARTMARKETINGDATE  ENDMARKETINGDATE  \\\n",
       "9927         ORAL; ORAL            20131010               NaN   \n",
       "11121        ORAL; ORAL            20111101        20200930.0   \n",
       "12307  TOPICAL; TOPICAL            20130701               NaN   \n",
       "17328        ORAL; ORAL            20190918               NaN   \n",
       "29347        ORAL; ORAL            20190128               NaN   \n",
       "\n",
       "      MARKETINGCATEGORYNAME APPLICATIONNUMBER  \\\n",
       "9927                   ANDA        ANDA089776   \n",
       "11121                  ANDA        ANDA076180   \n",
       "12307   OTC MONOGRAPH FINAL           part347   \n",
       "17328                  ANDA        ANDA211721   \n",
       "29347                  ANDA        ANDA211721   \n",
       "\n",
       "                                      LABELERNAME             SUBSTANCENAME  \\\n",
       "9927                        Lannett Company, Inc.                 ISONIAZID   \n",
       "11121  NCS HealthCare of KY, Inc dba Vangard Labs                LISINOPRIL   \n",
       "12307                                      Vi-Jon       LANOLIN; PETROLATUM   \n",
       "17328                            NorthStar Rx LLC  FLUOXETINE HYDROCHLORIDE   \n",
       "29347               Dr. Reddy's Laboratories Inc.  FLUOXETINE HYDROCHLORIDE   \n",
       "\n",
       "      ACTIVE_NUMERATOR_STRENGTH ACTIVE_INGRED_UNIT  \\\n",
       "9927                        300               mg/1   \n",
       "11121                       2.5               mg/1   \n",
       "12307                  133; 459         mg/g; mg/g   \n",
       "17328                        60               mg/1   \n",
       "29347                        60               mg/1   \n",
       "\n",
       "                                           PHARM_CLASSES DEASCHEDULE  \\\n",
       "9927                             Antimycobacterial [EPC]         NaN   \n",
       "11121  Angiotensin Converting Enzyme Inhibitor [EPC],...         NaN   \n",
       "12307                                                NaN         NaN   \n",
       "17328  Serotonin Reuptake Inhibitor [EPC],Serotonin U...         NaN   \n",
       "29347  Serotonin Reuptake Inhibitor [EPC],Serotonin U...         NaN   \n",
       "\n",
       "      NDC_EXCLUDE_FLAG  LISTING_RECORD_CERTIFIED_THROUGH  \n",
       "9927                 N                        20211231.0  \n",
       "11121                N                               NaN  \n",
       "12307                N                        20211231.0  \n",
       "17328                N                        20201231.0  \n",
       "29347                N                        20201231.0  "
      ]
     },
     "execution_count": 29,
     "metadata": {},
     "output_type": "execute_result"
    }
   ],
   "source": [
    "# Find all the elements with RouteName repetitions\n",
    "print(f'Num of RouteName repetitions : {len(prod[prod[\"ROUTENAME\"].str.split(\"; \").str.len() > 1][prod[\"ROUTENAME\"][prod[\"ROUTENAME\"].str.split(\"; \").str.len() > 1].str.split(\"; \").apply(lambda x : set(x)).str.len() == 1])}')\n",
    "prod[prod[\"ROUTENAME\"].str.split(\"; \").str.len() > 1][prod[\"ROUTENAME\"][prod[\"ROUTENAME\"].str.split(\"; \").str.len() > 1].str.split(\"; \").apply(lambda x : set(x)).str.len() == 1].head()"
   ]
  },
  {
   "attachments": {},
   "cell_type": "markdown",
   "metadata": {},
   "source": [
    "Shrink to a single categorie for the 32 objects with repetitions"
   ]
  },
  {
   "cell_type": "code",
   "execution_count": 30,
   "metadata": {},
   "outputs": [],
   "source": [
    "prod.loc[\n",
    "    prod[\"ROUTENAME\"][prod[\"ROUTENAME\"].str.split(\"; \").str.len() > 1].str.split(\"; \").apply(lambda x: set(x))[prod[\"ROUTENAME\"][prod[\"ROUTENAME\"].str.split(\"; \").str.len() > 1].str.split(\"; \").apply(lambda x: set(x)).str.len() == 1].index,\n",
    "    \"ROUTENAME\"\n",
    "] = prod[\"ROUTENAME\"][prod[\"ROUTENAME\"].str.split(\"; \").str.len() > 1].str.split(\"; \").apply(lambda x: list(set(x))[0])[prod[\"ROUTENAME\"][prod[\"ROUTENAME\"].str.split(\"; \").str.len() > 1].str.split(\"; \").apply(lambda x: set(x)).str.len() == 1]\n",
    "# [prod[\"ROUTENAME\"][prod[\"ROUTENAME\"].str.split(\"; \").str.len() > 1].str.split(\"; \")]\n",
    "# .apply(lambda x : set(x)).str.len() == 1]"
   ]
  },
  {
   "attachments": {},
   "cell_type": "markdown",
   "metadata": {},
   "source": [
    "**Verifying DateType attributes (START/END/Listing_Record_Certified_Through)**"
   ]
  },
  {
   "attachments": {},
   "cell_type": "markdown",
   "metadata": {},
   "source": [
    "First let's transform the data from int to datetime format"
   ]
  },
  {
   "cell_type": "code",
   "execution_count": 31,
   "metadata": {},
   "outputs": [],
   "source": [
    "prod[\"STARTMARKETINGDATE\"] = pd.to_datetime(prod[\"STARTMARKETINGDATE\"], format=\"%Y%m%d\")"
   ]
  },
  {
   "cell_type": "code",
   "execution_count": 32,
   "metadata": {},
   "outputs": [
    {
     "name": "stdout",
     "output_type": "stream",
     "text": [
      "Date range from 1900-01-01 00:00:00 to 2020-02-14 00:00:00 for marketing start : OK\n"
     ]
    }
   ],
   "source": [
    "print(f'Date range from {min(prod[\"STARTMARKETINGDATE\"])} to {max(prod[\"STARTMARKETINGDATE\"])} for marketing start : OK')"
   ]
  },
  {
   "attachments": {},
   "cell_type": "markdown",
   "metadata": {},
   "source": [
    "Error for 3031 year in timestamp of EndMarketingDate. Let's fix it to 2031"
   ]
  },
  {
   "cell_type": "code",
   "execution_count": 33,
   "metadata": {},
   "outputs": [
    {
     "data": {
      "text/plain": [
       "29503    30310209.0\n",
       "65640    20390831.0\n",
       "46709    20380131.0\n",
       "89575    20331010.0\n",
       "89576    20331010.0\n",
       "Name: ENDMARKETINGDATE, dtype: float64"
      ]
     },
     "execution_count": 33,
     "metadata": {},
     "output_type": "execute_result"
    }
   ],
   "source": [
    "# pd.to_datetime(prod[\"ENDMARKETINGDATE\"], format=\"%Y%m%d\")\n",
    "prod[\"ENDMARKETINGDATE\"].sort_values(ascending=False).head()"
   ]
  },
  {
   "cell_type": "code",
   "execution_count": 34,
   "metadata": {},
   "outputs": [],
   "source": [
    "prod.loc[prod[\"ENDMARKETINGDATE\"] > 20500000, [\"ENDMARKETINGDATE\"]] = 30310209.0 - 10000000"
   ]
  },
  {
   "cell_type": "code",
   "execution_count": 35,
   "metadata": {},
   "outputs": [
    {
     "name": "stdout",
     "output_type": "stream",
     "text": [
      "20310209.0\n"
     ]
    }
   ],
   "source": [
    "print(prod.iloc[29503][\"ENDMARKETINGDATE\"])    # Check replacement"
   ]
  },
  {
   "cell_type": "code",
   "execution_count": 36,
   "metadata": {},
   "outputs": [],
   "source": [
    "# Converting the actual data\n",
    "prod[\"ENDMARKETINGDATE\"] = pd.to_datetime(prod[\"ENDMARKETINGDATE\"], format=\"%Y%m%d\")"
   ]
  },
  {
   "cell_type": "code",
   "execution_count": 37,
   "metadata": {},
   "outputs": [
    {
     "name": "stdout",
     "output_type": "stream",
     "text": [
      "Date range from 2020-02-15 00:00:00 to 2039-08-31 00:00:00 for marketing end : OK\n"
     ]
    }
   ],
   "source": [
    "print(f'Date range from {min(prod[\"ENDMARKETINGDATE\"].dropna())} to {max(prod[\"ENDMARKETINGDATE\"].dropna())} for marketing end : OK')"
   ]
  },
  {
   "attachments": {},
   "cell_type": "markdown",
   "metadata": {},
   "source": [
    "No objects with incongruent start/end date combinations"
   ]
  },
  {
   "cell_type": "code",
   "execution_count": 38,
   "metadata": {},
   "outputs": [
    {
     "name": "stdout",
     "output_type": "stream",
     "text": [
      "Number of objects with enddates greather than start dates : 0\n"
     ]
    }
   ],
   "source": [
    "print(f'Number of objects with enddates greather than start dates : {len(prod[prod[\"ENDMARKETINGDATE\"] < prod[\"STARTMARKETINGDATE\"]])}')"
   ]
  },
  {
   "attachments": {},
   "cell_type": "markdown",
   "metadata": {},
   "source": [
    "Listing records to date time, no incongruencies"
   ]
  },
  {
   "cell_type": "code",
   "execution_count": 39,
   "metadata": {},
   "outputs": [],
   "source": [
    "prod[\"LISTING_RECORD_CERTIFIED_THROUGH\"] = pd.to_datetime(prod[\"LISTING_RECORD_CERTIFIED_THROUGH\"], format=\"%Y%m%d\")"
   ]
  },
  {
   "cell_type": "code",
   "execution_count": 40,
   "metadata": {},
   "outputs": [
    {
     "name": "stdout",
     "output_type": "stream",
     "text": [
      "Date range from 2020-12-31 00:00:00 to 2021-12-31 00:00:00 for marketing end : OK\n"
     ]
    }
   ],
   "source": [
    "print(f'Date range from {min(prod[\"LISTING_RECORD_CERTIFIED_THROUGH\"].dropna())} to {max(prod[\"LISTING_RECORD_CERTIFIED_THROUGH\"].dropna())} for marketing end : OK')"
   ]
  },
  {
   "cell_type": "code",
   "execution_count": 41,
   "metadata": {},
   "outputs": [
    {
     "name": "stdout",
     "output_type": "stream",
     "text": [
      "Number of objects with listing certified greather than start dates : 0\n"
     ]
    }
   ],
   "source": [
    "print(f'Number of objects with listing certified greather than start dates : {len(prod[prod[\"LISTING_RECORD_CERTIFIED_THROUGH\"] < prod[\"STARTMARKETINGDATE\"]])}')"
   ]
  },
  {
   "attachments": {},
   "cell_type": "markdown",
   "metadata": {},
   "source": [
    "**Let's transform the date columns with massive amount of NaN because the dates are not missing but not determined**"
   ]
  },
  {
   "cell_type": "code",
   "execution_count": 42,
   "metadata": {},
   "outputs": [
    {
     "name": "stdout",
     "output_type": "stream",
     "text": [
      "69928.5\n"
     ]
    }
   ],
   "source": [
    "na75_threshold = 0.75*len(prod)\n",
    "print(na75_threshold)"
   ]
  },
  {
   "cell_type": "code",
   "execution_count": 43,
   "metadata": {},
   "outputs": [
    {
     "name": "stdout",
     "output_type": "stream",
     "text": [
      "['PROPRIETARYNAMESUFFIX', 'ENDMARKETINGDATE', 'DEASCHEDULE']\n"
     ]
    }
   ],
   "source": [
    "print(prod.isnull().sum()[prod.isnull().sum() > na75_threshold].index.to_list())"
   ]
  },
  {
   "attachments": {},
   "cell_type": "markdown",
   "metadata": {},
   "source": [
    "**DEASchedule verification codes**"
   ]
  },
  {
   "cell_type": "code",
   "execution_count": 44,
   "metadata": {},
   "outputs": [
    {
     "name": "stdout",
     "output_type": "stream",
     "text": [
      "0\n"
     ]
    }
   ],
   "source": [
    "deas_codes = [\"CI\", \"CII\", \"CIII\", \"CIV\", \"CV\"]\n",
    "print(len([label for label in prod[\"DEASCHEDULE\"].dropna().unique() if label not in deas_codes]))"
   ]
  },
  {
   "attachments": {},
   "cell_type": "markdown",
   "metadata": {},
   "source": [
    "Let's replace it with a binary feature anyway since most of them are not determined"
   ]
  },
  {
   "attachments": {},
   "cell_type": "markdown",
   "metadata": {},
   "source": [
    "Replacing ENDMARKETINGDATE with determined/notdetermined binary"
   ]
  },
  {
   "cell_type": "code",
   "execution_count": 45,
   "metadata": {},
   "outputs": [
    {
     "data": {
      "text/plain": [
       "0    88915\n",
       "1     4323\n",
       "dtype: int64"
      ]
     },
     "execution_count": 45,
     "metadata": {},
     "output_type": "execute_result"
    }
   ],
   "source": [
    "# Testing the logic\n",
    "pd.DataFrame(np.where(prod[\"ENDMARKETINGDATE\"].notnull(), 1, 0)).value_counts()"
   ]
  },
  {
   "cell_type": "code",
   "execution_count": 46,
   "metadata": {},
   "outputs": [
    {
     "data": {
      "text/plain": [
       "0    88815\n",
       "1     4423\n",
       "dtype: int64"
      ]
     },
     "execution_count": 46,
     "metadata": {},
     "output_type": "execute_result"
    }
   ],
   "source": [
    "pd.DataFrame(np.where(prod[\"DEASCHEDULE\"].notnull(), 1, 0)).value_counts()"
   ]
  },
  {
   "cell_type": "code",
   "execution_count": 47,
   "metadata": {},
   "outputs": [],
   "source": [
    "# Replacing values\n",
    "prod[\"ENDMARKETINGDATE_determined\"] = np.where(prod[\"ENDMARKETINGDATE\"].notnull(), 1, 0)\n",
    "prod[\"DEASCHEDULE_determined\"] = np.where(prod[\"DEASCHEDULE\"].notnull(), 1, 0)"
   ]
  },
  {
   "cell_type": "code",
   "execution_count": 48,
   "metadata": {},
   "outputs": [],
   "source": [
    "prod = prod.drop(columns=[\"ENDMARKETINGDATE\", \"DEASCHEDULE\"])"
   ]
  },
  {
   "attachments": {},
   "cell_type": "markdown",
   "metadata": {},
   "source": [
    "**Application Number verification to startwith FDA reference codes**"
   ]
  },
  {
   "cell_type": "code",
   "execution_count": 49,
   "metadata": {},
   "outputs": [
    {
     "data": {
      "text/plain": [
       "26428    333D\n",
       "Name: APPLICATIONNUMBER, dtype: object"
      ]
     },
     "execution_count": 49,
     "metadata": {},
     "output_type": "execute_result"
    }
   ],
   "source": [
    "# Does not matc prefix NDA / ANDA / BLA or partXXXX in ApplicationNumber\n",
    "prod[\"APPLICATIONNUMBER\"].dropna()[prod[\"APPLICATIONNUMBER\"].dropna().str.match(\"^[^NDA|^ANDA|^BLA|^part]\")]"
   ]
  },
  {
   "attachments": {},
   "cell_type": "markdown",
   "metadata": {},
   "source": [
    "Let's remove that object"
   ]
  },
  {
   "cell_type": "code",
   "execution_count": 50,
   "metadata": {},
   "outputs": [],
   "source": [
    "prod = prod.drop(prod[\"APPLICATIONNUMBER\"].dropna()[prod[\"APPLICATIONNUMBER\"].dropna().str.match(\"^[^NDA|^ANDA|^BLA|^part]\")].index)"
   ]
  },
  {
   "cell_type": "code",
   "execution_count": 51,
   "metadata": {},
   "outputs": [
    {
     "data": {
      "text/html": [
       "<div>\n",
       "<style scoped>\n",
       "    .dataframe tbody tr th:only-of-type {\n",
       "        vertical-align: middle;\n",
       "    }\n",
       "\n",
       "    .dataframe tbody tr th {\n",
       "        vertical-align: top;\n",
       "    }\n",
       "\n",
       "    .dataframe thead th {\n",
       "        text-align: right;\n",
       "    }\n",
       "</style>\n",
       "<table border=\"1\" class=\"dataframe\">\n",
       "  <thead>\n",
       "    <tr style=\"text-align: right;\">\n",
       "      <th></th>\n",
       "      <th>PRODUCTID</th>\n",
       "      <th>PRODUCTNDC</th>\n",
       "      <th>PRODUCTTYPENAME</th>\n",
       "      <th>PROPRIETARYNAME</th>\n",
       "      <th>PROPRIETARYNAMESUFFIX</th>\n",
       "      <th>NONPROPRIETARYNAME</th>\n",
       "      <th>DOSAGEFORMNAME</th>\n",
       "      <th>ROUTENAME</th>\n",
       "      <th>STARTMARKETINGDATE</th>\n",
       "      <th>MARKETINGCATEGORYNAME</th>\n",
       "      <th>APPLICATIONNUMBER</th>\n",
       "      <th>LABELERNAME</th>\n",
       "      <th>SUBSTANCENAME</th>\n",
       "      <th>ACTIVE_NUMERATOR_STRENGTH</th>\n",
       "      <th>ACTIVE_INGRED_UNIT</th>\n",
       "      <th>PHARM_CLASSES</th>\n",
       "      <th>NDC_EXCLUDE_FLAG</th>\n",
       "      <th>LISTING_RECORD_CERTIFIED_THROUGH</th>\n",
       "      <th>ENDMARKETINGDATE_determined</th>\n",
       "      <th>DEASCHEDULE_determined</th>\n",
       "    </tr>\n",
       "  </thead>\n",
       "  <tbody>\n",
       "    <tr>\n",
       "      <th>0</th>\n",
       "      <td>NaN</td>\n",
       "      <td>0002-0800</td>\n",
       "      <td>HUMAN OTC DRUG</td>\n",
       "      <td>Sterile Diluent</td>\n",
       "      <td>NaN</td>\n",
       "      <td>diluent</td>\n",
       "      <td>INJECTION, SOLUTION</td>\n",
       "      <td>SUBCUTANEOUS</td>\n",
       "      <td>1987-07-10</td>\n",
       "      <td>NDA</td>\n",
       "      <td>NDA018781</td>\n",
       "      <td>10</td>\n",
       "      <td>WATER</td>\n",
       "      <td>1</td>\n",
       "      <td>mL/mL</td>\n",
       "      <td>NaN</td>\n",
       "      <td>N</td>\n",
       "      <td>2020-12-31</td>\n",
       "      <td>0</td>\n",
       "      <td>0</td>\n",
       "    </tr>\n",
       "    <tr>\n",
       "      <th>1</th>\n",
       "      <td>NaN</td>\n",
       "      <td>0002-1200</td>\n",
       "      <td>HUMAN PRESCRIPTION DRUG</td>\n",
       "      <td>Amyvid</td>\n",
       "      <td>NaN</td>\n",
       "      <td>Florbetapir F 18</td>\n",
       "      <td>INJECTION, SOLUTION</td>\n",
       "      <td>INTRAVENOUS</td>\n",
       "      <td>2012-06-01</td>\n",
       "      <td>NDA</td>\n",
       "      <td>NDA202008</td>\n",
       "      <td>10</td>\n",
       "      <td>FLORBETAPIR F-18</td>\n",
       "      <td>51</td>\n",
       "      <td>mCi/mL</td>\n",
       "      <td>Radioactive Diagnostic Agent [EPC],Positron Em...</td>\n",
       "      <td>N</td>\n",
       "      <td>2021-12-31</td>\n",
       "      <td>0</td>\n",
       "      <td>0</td>\n",
       "    </tr>\n",
       "    <tr>\n",
       "      <th>2</th>\n",
       "      <td>NaN</td>\n",
       "      <td>0002-1433</td>\n",
       "      <td>HUMAN PRESCRIPTION DRUG</td>\n",
       "      <td>Trulicity</td>\n",
       "      <td>NaN</td>\n",
       "      <td>Dulaglutide</td>\n",
       "      <td>INJECTION, SOLUTION</td>\n",
       "      <td>SUBCUTANEOUS</td>\n",
       "      <td>2014-09-18</td>\n",
       "      <td>BLA</td>\n",
       "      <td>BLA125469</td>\n",
       "      <td>10</td>\n",
       "      <td>DULAGLUTIDE</td>\n",
       "      <td>.75</td>\n",
       "      <td>mg/.5mL</td>\n",
       "      <td>GLP-1 Receptor Agonist [EPC],Glucagon-Like Pep...</td>\n",
       "      <td>N</td>\n",
       "      <td>2020-12-31</td>\n",
       "      <td>0</td>\n",
       "      <td>0</td>\n",
       "    </tr>\n",
       "    <tr>\n",
       "      <th>3</th>\n",
       "      <td>NaN</td>\n",
       "      <td>0002-1434</td>\n",
       "      <td>HUMAN PRESCRIPTION DRUG</td>\n",
       "      <td>Trulicity</td>\n",
       "      <td>NaN</td>\n",
       "      <td>Dulaglutide</td>\n",
       "      <td>INJECTION, SOLUTION</td>\n",
       "      <td>SUBCUTANEOUS</td>\n",
       "      <td>2014-09-18</td>\n",
       "      <td>BLA</td>\n",
       "      <td>BLA125469</td>\n",
       "      <td>10</td>\n",
       "      <td>DULAGLUTIDE</td>\n",
       "      <td>1.5</td>\n",
       "      <td>mg/.5mL</td>\n",
       "      <td>GLP-1 Receptor Agonist [EPC],Glucagon-Like Pep...</td>\n",
       "      <td>N</td>\n",
       "      <td>2020-12-31</td>\n",
       "      <td>0</td>\n",
       "      <td>0</td>\n",
       "    </tr>\n",
       "    <tr>\n",
       "      <th>4</th>\n",
       "      <td>NaN</td>\n",
       "      <td>0002-1436</td>\n",
       "      <td>HUMAN PRESCRIPTION DRUG</td>\n",
       "      <td>EMGALITY</td>\n",
       "      <td>NaN</td>\n",
       "      <td>galcanezumab</td>\n",
       "      <td>INJECTION, SOLUTION</td>\n",
       "      <td>SUBCUTANEOUS</td>\n",
       "      <td>2018-09-27</td>\n",
       "      <td>BLA</td>\n",
       "      <td>BLA761063</td>\n",
       "      <td>10</td>\n",
       "      <td>GALCANEZUMAB</td>\n",
       "      <td>120</td>\n",
       "      <td>mg/mL</td>\n",
       "      <td>NaN</td>\n",
       "      <td>N</td>\n",
       "      <td>2020-12-31</td>\n",
       "      <td>0</td>\n",
       "      <td>0</td>\n",
       "    </tr>\n",
       "  </tbody>\n",
       "</table>\n",
       "</div>"
      ],
      "text/plain": [
       "  PRODUCTID PRODUCTNDC          PRODUCTTYPENAME  PROPRIETARYNAME  \\\n",
       "0       NaN  0002-0800           HUMAN OTC DRUG  Sterile Diluent   \n",
       "1       NaN  0002-1200  HUMAN PRESCRIPTION DRUG           Amyvid   \n",
       "2       NaN  0002-1433  HUMAN PRESCRIPTION DRUG        Trulicity   \n",
       "3       NaN  0002-1434  HUMAN PRESCRIPTION DRUG        Trulicity   \n",
       "4       NaN  0002-1436  HUMAN PRESCRIPTION DRUG         EMGALITY   \n",
       "\n",
       "  PROPRIETARYNAMESUFFIX NONPROPRIETARYNAME       DOSAGEFORMNAME     ROUTENAME  \\\n",
       "0                   NaN            diluent  INJECTION, SOLUTION  SUBCUTANEOUS   \n",
       "1                   NaN   Florbetapir F 18  INJECTION, SOLUTION   INTRAVENOUS   \n",
       "2                   NaN        Dulaglutide  INJECTION, SOLUTION  SUBCUTANEOUS   \n",
       "3                   NaN        Dulaglutide  INJECTION, SOLUTION  SUBCUTANEOUS   \n",
       "4                   NaN       galcanezumab  INJECTION, SOLUTION  SUBCUTANEOUS   \n",
       "\n",
       "  STARTMARKETINGDATE MARKETINGCATEGORYNAME APPLICATIONNUMBER LABELERNAME  \\\n",
       "0         1987-07-10                   NDA         NDA018781          10   \n",
       "1         2012-06-01                   NDA         NDA202008          10   \n",
       "2         2014-09-18                   BLA         BLA125469          10   \n",
       "3         2014-09-18                   BLA         BLA125469          10   \n",
       "4         2018-09-27                   BLA         BLA761063          10   \n",
       "\n",
       "      SUBSTANCENAME ACTIVE_NUMERATOR_STRENGTH ACTIVE_INGRED_UNIT  \\\n",
       "0             WATER                         1              mL/mL   \n",
       "1  FLORBETAPIR F-18                        51             mCi/mL   \n",
       "2       DULAGLUTIDE                       .75            mg/.5mL   \n",
       "3       DULAGLUTIDE                       1.5            mg/.5mL   \n",
       "4      GALCANEZUMAB                       120              mg/mL   \n",
       "\n",
       "                                       PHARM_CLASSES NDC_EXCLUDE_FLAG  \\\n",
       "0                                                NaN                N   \n",
       "1  Radioactive Diagnostic Agent [EPC],Positron Em...                N   \n",
       "2  GLP-1 Receptor Agonist [EPC],Glucagon-Like Pep...                N   \n",
       "3  GLP-1 Receptor Agonist [EPC],Glucagon-Like Pep...                N   \n",
       "4                                                NaN                N   \n",
       "\n",
       "  LISTING_RECORD_CERTIFIED_THROUGH  ENDMARKETINGDATE_determined  \\\n",
       "0                       2020-12-31                            0   \n",
       "1                       2021-12-31                            0   \n",
       "2                       2020-12-31                            0   \n",
       "3                       2020-12-31                            0   \n",
       "4                       2020-12-31                            0   \n",
       "\n",
       "   DEASCHEDULE_determined  \n",
       "0                       0  \n",
       "1                       0  \n",
       "2                       0  \n",
       "3                       0  \n",
       "4                       0  "
      ]
     },
     "execution_count": 51,
     "metadata": {},
     "output_type": "execute_result"
    }
   ],
   "source": [
    "prod.head()"
   ]
  },
  {
   "attachments": {},
   "cell_type": "markdown",
   "metadata": {},
   "source": [
    "**Verify if ApplicationNumber prefix and MarketingCategoryName are identical**"
   ]
  },
  {
   "cell_type": "code",
   "execution_count": 52,
   "metadata": {},
   "outputs": [
    {
     "data": {
      "text/plain": [
       "MARKETINGCATEGORYNAME        0\n",
       "APPLICATIONNUMBER        13097\n",
       "dtype: int64"
      ]
     },
     "execution_count": 52,
     "metadata": {},
     "output_type": "execute_result"
    }
   ],
   "source": [
    "prod[[\"MARKETINGCATEGORYNAME\",\"APPLICATIONNUMBER\"]].isnull().sum()"
   ]
  },
  {
   "attachments": {},
   "cell_type": "markdown",
   "metadata": {},
   "source": [
    "Let's look at the values for MarketingCategoryName when ApplicationNumber is null because they are linked"
   ]
  },
  {
   "cell_type": "code",
   "execution_count": 53,
   "metadata": {},
   "outputs": [
    {
     "data": {
      "text/html": [
       "<div>\n",
       "<style scoped>\n",
       "    .dataframe tbody tr th:only-of-type {\n",
       "        vertical-align: middle;\n",
       "    }\n",
       "\n",
       "    .dataframe tbody tr th {\n",
       "        vertical-align: top;\n",
       "    }\n",
       "\n",
       "    .dataframe thead th {\n",
       "        text-align: right;\n",
       "    }\n",
       "</style>\n",
       "<table border=\"1\" class=\"dataframe\">\n",
       "  <thead>\n",
       "    <tr style=\"text-align: right;\">\n",
       "      <th></th>\n",
       "      <th>MARKETINGCATEGORYNAME</th>\n",
       "      <th>APPLICATIONNUMBER</th>\n",
       "    </tr>\n",
       "  </thead>\n",
       "  <tbody>\n",
       "    <tr>\n",
       "      <th>738</th>\n",
       "      <td>UNAPPROVED DRUG OTHER</td>\n",
       "      <td>NaN</td>\n",
       "    </tr>\n",
       "    <tr>\n",
       "      <th>750</th>\n",
       "      <td>UNAPPROVED DRUG OTHER</td>\n",
       "      <td>NaN</td>\n",
       "    </tr>\n",
       "    <tr>\n",
       "      <th>2262</th>\n",
       "      <td>UNAPPROVED DRUG OTHER</td>\n",
       "      <td>NaN</td>\n",
       "    </tr>\n",
       "    <tr>\n",
       "      <th>2307</th>\n",
       "      <td>UNAPPROVED DRUG OTHER</td>\n",
       "      <td>NaN</td>\n",
       "    </tr>\n",
       "    <tr>\n",
       "      <th>2822</th>\n",
       "      <td>UNAPPROVED DRUG OTHER</td>\n",
       "      <td>NaN</td>\n",
       "    </tr>\n",
       "  </tbody>\n",
       "</table>\n",
       "</div>"
      ],
      "text/plain": [
       "      MARKETINGCATEGORYNAME APPLICATIONNUMBER\n",
       "738   UNAPPROVED DRUG OTHER               NaN\n",
       "750   UNAPPROVED DRUG OTHER               NaN\n",
       "2262  UNAPPROVED DRUG OTHER               NaN\n",
       "2307  UNAPPROVED DRUG OTHER               NaN\n",
       "2822  UNAPPROVED DRUG OTHER               NaN"
      ]
     },
     "execution_count": 53,
     "metadata": {},
     "output_type": "execute_result"
    }
   ],
   "source": [
    "prod[[\"MARKETINGCATEGORYNAME\",\"APPLICATIONNUMBER\"]][prod[\"APPLICATIONNUMBER\"].isnull()].head()"
   ]
  },
  {
   "cell_type": "code",
   "execution_count": 54,
   "metadata": {},
   "outputs": [
    {
     "data": {
      "text/plain": [
       "array(['UNAPPROVED DRUG OTHER', 'UNAPPROVED HOMEOPATHIC',\n",
       "       'UNAPPROVED MEDICAL GAS',\n",
       "       'UNAPPROVED DRUG FOR USE IN DRUG SHORTAGE'], dtype=object)"
      ]
     },
     "execution_count": 54,
     "metadata": {},
     "output_type": "execute_result"
    }
   ],
   "source": [
    "prod[\"MARKETINGCATEGORYNAME\"][prod[\"APPLICATIONNUMBER\"].isnull()].unique()"
   ]
  },
  {
   "attachments": {},
   "cell_type": "markdown",
   "metadata": {},
   "source": [
    "List of the categories where ApplicationNumber prefix does not match MarketingCategoryName show that NDA and AND have some mismatch between the 2 features"
   ]
  },
  {
   "cell_type": "code",
   "execution_count": 55,
   "metadata": {},
   "outputs": [
    {
     "name": "stdout",
     "output_type": "stream",
     "text": [
      "['OTC MONOGRAPH NOT FINAL' 'OTC MONOGRAPH FINAL' 'NDA AUTHORIZED GENERIC'\n",
      " 'NDA' 'ANDA']\n"
     ]
    }
   ],
   "source": [
    "print(prod[[\"MARKETINGCATEGORYNAME\",\"APPLICATIONNUMBER\"]].dropna()[prod[[\"MARKETINGCATEGORYNAME\",\"APPLICATIONNUMBER\"]].dropna().apply(lambda x : x[\"MARKETINGCATEGORYNAME\"] not in x[\"APPLICATIONNUMBER\"], axis=1)][\"MARKETINGCATEGORYNAME\"].unique())"
   ]
  },
  {
   "attachments": {},
   "cell_type": "markdown",
   "metadata": {},
   "source": [
    "OK for OTC MONOGRAPH + NDA AUTHORIZED GENERIC entries according to FDA website"
   ]
  },
  {
   "cell_type": "code",
   "execution_count": 56,
   "metadata": {},
   "outputs": [
    {
     "data": {
      "text/plain": [
       "0"
      ]
     },
     "execution_count": 56,
     "metadata": {},
     "output_type": "execute_result"
    }
   ],
   "source": [
    "# Entries with NDA AUTHORIZED GENERIC AND NOT STARTING WITH NDAXXXXX IN APPLICATION NUMBER\n",
    "prod[[\"MARKETINGCATEGORYNAME\",\"APPLICATIONNUMBER\"]].dropna()[prod[[\"MARKETINGCATEGORYNAME\",\"APPLICATIONNUMBER\"]].dropna().apply(lambda x : x[\"MARKETINGCATEGORYNAME\"] not in x[\"APPLICATIONNUMBER\"] and x[\"MARKETINGCATEGORYNAME\"] == \"NDA AUTHORIZED GENERIC\", axis=1)][\"APPLICATIONNUMBER\"].str.contains(\"^[^NDA]\").sum()"
   ]
  },
  {
   "cell_type": "code",
   "execution_count": 57,
   "metadata": {},
   "outputs": [
    {
     "data": {
      "text/html": [
       "<div>\n",
       "<style scoped>\n",
       "    .dataframe tbody tr th:only-of-type {\n",
       "        vertical-align: middle;\n",
       "    }\n",
       "\n",
       "    .dataframe tbody tr th {\n",
       "        vertical-align: top;\n",
       "    }\n",
       "\n",
       "    .dataframe thead th {\n",
       "        text-align: right;\n",
       "    }\n",
       "</style>\n",
       "<table border=\"1\" class=\"dataframe\">\n",
       "  <thead>\n",
       "    <tr style=\"text-align: right;\">\n",
       "      <th></th>\n",
       "      <th>MARKETINGCATEGORYNAME</th>\n",
       "      <th>APPLICATIONNUMBER</th>\n",
       "    </tr>\n",
       "  </thead>\n",
       "  <tbody>\n",
       "    <tr>\n",
       "      <th>484</th>\n",
       "      <td>OTC MONOGRAPH FINAL</td>\n",
       "      <td>part349</td>\n",
       "    </tr>\n",
       "    <tr>\n",
       "      <th>485</th>\n",
       "      <td>OTC MONOGRAPH FINAL</td>\n",
       "      <td>part349</td>\n",
       "    </tr>\n",
       "    <tr>\n",
       "      <th>488</th>\n",
       "      <td>OTC MONOGRAPH FINAL</td>\n",
       "      <td>part349</td>\n",
       "    </tr>\n",
       "    <tr>\n",
       "      <th>489</th>\n",
       "      <td>OTC MONOGRAPH FINAL</td>\n",
       "      <td>part349</td>\n",
       "    </tr>\n",
       "    <tr>\n",
       "      <th>490</th>\n",
       "      <td>OTC MONOGRAPH FINAL</td>\n",
       "      <td>part349</td>\n",
       "    </tr>\n",
       "  </tbody>\n",
       "</table>\n",
       "</div>"
      ],
      "text/plain": [
       "    MARKETINGCATEGORYNAME APPLICATIONNUMBER\n",
       "484   OTC MONOGRAPH FINAL           part349\n",
       "485   OTC MONOGRAPH FINAL           part349\n",
       "488   OTC MONOGRAPH FINAL           part349\n",
       "489   OTC MONOGRAPH FINAL           part349\n",
       "490   OTC MONOGRAPH FINAL           part349"
      ]
     },
     "execution_count": 57,
     "metadata": {},
     "output_type": "execute_result"
    }
   ],
   "source": [
    "prod[[\"MARKETINGCATEGORYNAME\",\"APPLICATIONNUMBER\"]].dropna()[prod[[\"MARKETINGCATEGORYNAME\",\"APPLICATIONNUMBER\"]].dropna().apply(lambda x : x[\"MARKETINGCATEGORYNAME\"] not in x[\"APPLICATIONNUMBER\"] and x[\"MARKETINGCATEGORYNAME\"] == \"OTC MONOGRAPH FINAL\", axis=1)].head()\n"
   ]
  },
  {
   "cell_type": "code",
   "execution_count": 58,
   "metadata": {},
   "outputs": [
    {
     "data": {
      "text/html": [
       "<div>\n",
       "<style scoped>\n",
       "    .dataframe tbody tr th:only-of-type {\n",
       "        vertical-align: middle;\n",
       "    }\n",
       "\n",
       "    .dataframe tbody tr th {\n",
       "        vertical-align: top;\n",
       "    }\n",
       "\n",
       "    .dataframe thead th {\n",
       "        text-align: right;\n",
       "    }\n",
       "</style>\n",
       "<table border=\"1\" class=\"dataframe\">\n",
       "  <thead>\n",
       "    <tr style=\"text-align: right;\">\n",
       "      <th></th>\n",
       "      <th>MARKETINGCATEGORYNAME</th>\n",
       "      <th>APPLICATIONNUMBER</th>\n",
       "    </tr>\n",
       "  </thead>\n",
       "  <tbody>\n",
       "    <tr>\n",
       "      <th>484</th>\n",
       "      <td>OTC MONOGRAPH FINAL</td>\n",
       "      <td>part349</td>\n",
       "    </tr>\n",
       "    <tr>\n",
       "      <th>485</th>\n",
       "      <td>OTC MONOGRAPH FINAL</td>\n",
       "      <td>part349</td>\n",
       "    </tr>\n",
       "    <tr>\n",
       "      <th>488</th>\n",
       "      <td>OTC MONOGRAPH FINAL</td>\n",
       "      <td>part349</td>\n",
       "    </tr>\n",
       "    <tr>\n",
       "      <th>489</th>\n",
       "      <td>OTC MONOGRAPH FINAL</td>\n",
       "      <td>part349</td>\n",
       "    </tr>\n",
       "    <tr>\n",
       "      <th>490</th>\n",
       "      <td>OTC MONOGRAPH FINAL</td>\n",
       "      <td>part349</td>\n",
       "    </tr>\n",
       "  </tbody>\n",
       "</table>\n",
       "</div>"
      ],
      "text/plain": [
       "    MARKETINGCATEGORYNAME APPLICATIONNUMBER\n",
       "484   OTC MONOGRAPH FINAL           part349\n",
       "485   OTC MONOGRAPH FINAL           part349\n",
       "488   OTC MONOGRAPH FINAL           part349\n",
       "489   OTC MONOGRAPH FINAL           part349\n",
       "490   OTC MONOGRAPH FINAL           part349"
      ]
     },
     "execution_count": 58,
     "metadata": {},
     "output_type": "execute_result"
    }
   ],
   "source": [
    "prod[[\"MARKETINGCATEGORYNAME\",\"APPLICATIONNUMBER\"]].dropna()[prod[[\"MARKETINGCATEGORYNAME\",\"APPLICATIONNUMBER\"]].dropna().apply(lambda x : x[\"MARKETINGCATEGORYNAME\"] not in x[\"APPLICATIONNUMBER\"] and x[\"MARKETINGCATEGORYNAME\"] == \"OTC MONOGRAPH FINAL\", axis=1)].head()\n"
   ]
  },
  {
   "cell_type": "code",
   "execution_count": 59,
   "metadata": {},
   "outputs": [
    {
     "data": {
      "text/html": [
       "<div>\n",
       "<style scoped>\n",
       "    .dataframe tbody tr th:only-of-type {\n",
       "        vertical-align: middle;\n",
       "    }\n",
       "\n",
       "    .dataframe tbody tr th {\n",
       "        vertical-align: top;\n",
       "    }\n",
       "\n",
       "    .dataframe thead th {\n",
       "        text-align: right;\n",
       "    }\n",
       "</style>\n",
       "<table border=\"1\" class=\"dataframe\">\n",
       "  <thead>\n",
       "    <tr style=\"text-align: right;\">\n",
       "      <th></th>\n",
       "      <th>MARKETINGCATEGORYNAME</th>\n",
       "      <th>APPLICATIONNUMBER</th>\n",
       "    </tr>\n",
       "  </thead>\n",
       "  <tbody>\n",
       "    <tr>\n",
       "      <th>996</th>\n",
       "      <td>NDA AUTHORIZED GENERIC</td>\n",
       "      <td>NDA020850</td>\n",
       "    </tr>\n",
       "    <tr>\n",
       "      <th>997</th>\n",
       "      <td>NDA AUTHORIZED GENERIC</td>\n",
       "      <td>NDA020850</td>\n",
       "    </tr>\n",
       "    <tr>\n",
       "      <th>998</th>\n",
       "      <td>NDA AUTHORIZED GENERIC</td>\n",
       "      <td>NDA020850</td>\n",
       "    </tr>\n",
       "    <tr>\n",
       "      <th>999</th>\n",
       "      <td>NDA AUTHORIZED GENERIC</td>\n",
       "      <td>NDA021162</td>\n",
       "    </tr>\n",
       "    <tr>\n",
       "      <th>1000</th>\n",
       "      <td>NDA AUTHORIZED GENERIC</td>\n",
       "      <td>NDA021162</td>\n",
       "    </tr>\n",
       "  </tbody>\n",
       "</table>\n",
       "</div>"
      ],
      "text/plain": [
       "       MARKETINGCATEGORYNAME APPLICATIONNUMBER\n",
       "996   NDA AUTHORIZED GENERIC         NDA020850\n",
       "997   NDA AUTHORIZED GENERIC         NDA020850\n",
       "998   NDA AUTHORIZED GENERIC         NDA020850\n",
       "999   NDA AUTHORIZED GENERIC         NDA021162\n",
       "1000  NDA AUTHORIZED GENERIC         NDA021162"
      ]
     },
     "execution_count": 59,
     "metadata": {},
     "output_type": "execute_result"
    }
   ],
   "source": [
    "prod[[\"MARKETINGCATEGORYNAME\",\"APPLICATIONNUMBER\"]].dropna()[prod[[\"MARKETINGCATEGORYNAME\",\"APPLICATIONNUMBER\"]].dropna().apply(lambda x : x[\"MARKETINGCATEGORYNAME\"] not in x[\"APPLICATIONNUMBER\"] and x[\"MARKETINGCATEGORYNAME\"] == \"NDA AUTHORIZED GENERIC\", axis=1)].head()\n"
   ]
  },
  {
   "attachments": {},
   "cell_type": "markdown",
   "metadata": {},
   "source": [
    "Incongruencies for ANDA and NDA labelled objects in ApplicationNumber"
   ]
  },
  {
   "cell_type": "code",
   "execution_count": 60,
   "metadata": {},
   "outputs": [
    {
     "name": "stdout",
     "output_type": "stream",
     "text": [
      "12 mislabelled ANDA samples\n"
     ]
    },
    {
     "data": {
      "text/html": [
       "<div>\n",
       "<style scoped>\n",
       "    .dataframe tbody tr th:only-of-type {\n",
       "        vertical-align: middle;\n",
       "    }\n",
       "\n",
       "    .dataframe tbody tr th {\n",
       "        vertical-align: top;\n",
       "    }\n",
       "\n",
       "    .dataframe thead th {\n",
       "        text-align: right;\n",
       "    }\n",
       "</style>\n",
       "<table border=\"1\" class=\"dataframe\">\n",
       "  <thead>\n",
       "    <tr style=\"text-align: right;\">\n",
       "      <th></th>\n",
       "      <th>MARKETINGCATEGORYNAME</th>\n",
       "      <th>APPLICATIONNUMBER</th>\n",
       "    </tr>\n",
       "  </thead>\n",
       "  <tbody>\n",
       "    <tr>\n",
       "      <th>9209</th>\n",
       "      <td>ANDA</td>\n",
       "      <td>BA740193</td>\n",
       "    </tr>\n",
       "    <tr>\n",
       "      <th>9228</th>\n",
       "      <td>ANDA</td>\n",
       "      <td>BA720563</td>\n",
       "    </tr>\n",
       "    <tr>\n",
       "      <th>9229</th>\n",
       "      <td>ANDA</td>\n",
       "      <td>BA720562</td>\n",
       "    </tr>\n",
       "    <tr>\n",
       "      <th>16915</th>\n",
       "      <td>ANDA</td>\n",
       "      <td>BA010228</td>\n",
       "    </tr>\n",
       "    <tr>\n",
       "      <th>16916</th>\n",
       "      <td>ANDA</td>\n",
       "      <td>BA010228</td>\n",
       "    </tr>\n",
       "  </tbody>\n",
       "</table>\n",
       "</div>"
      ],
      "text/plain": [
       "      MARKETINGCATEGORYNAME APPLICATIONNUMBER\n",
       "9209                   ANDA          BA740193\n",
       "9228                   ANDA          BA720563\n",
       "9229                   ANDA          BA720562\n",
       "16915                  ANDA          BA010228\n",
       "16916                  ANDA          BA010228"
      ]
     },
     "execution_count": 60,
     "metadata": {},
     "output_type": "execute_result"
    }
   ],
   "source": [
    "# For ANDA in Marketing\n",
    "print(f'{len(prod[[\"MARKETINGCATEGORYNAME\",\"APPLICATIONNUMBER\"]].dropna()[prod[[\"MARKETINGCATEGORYNAME\",\"APPLICATIONNUMBER\"]].dropna().apply(lambda x : x[\"MARKETINGCATEGORYNAME\"] not in x[\"APPLICATIONNUMBER\"] and x[\"MARKETINGCATEGORYNAME\"] == \"ANDA\", axis=1)])} mislabelled ANDA samples')\n",
    "prod[[\"MARKETINGCATEGORYNAME\",\"APPLICATIONNUMBER\"]].dropna()[prod[[\"MARKETINGCATEGORYNAME\",\"APPLICATIONNUMBER\"]].dropna().apply(lambda x : x[\"MARKETINGCATEGORYNAME\"] not in x[\"APPLICATIONNUMBER\"] and x[\"MARKETINGCATEGORYNAME\"] == \"ANDA\", axis=1)].head()\n"
   ]
  },
  {
   "cell_type": "code",
   "execution_count": 61,
   "metadata": {},
   "outputs": [
    {
     "name": "stdout",
     "output_type": "stream",
     "text": [
      "126 mislabelled NDA samples\n"
     ]
    },
    {
     "data": {
      "text/html": [
       "<div>\n",
       "<style scoped>\n",
       "    .dataframe tbody tr th:only-of-type {\n",
       "        vertical-align: middle;\n",
       "    }\n",
       "\n",
       "    .dataframe tbody tr th {\n",
       "        vertical-align: top;\n",
       "    }\n",
       "\n",
       "    .dataframe thead th {\n",
       "        text-align: right;\n",
       "    }\n",
       "</style>\n",
       "<table border=\"1\" class=\"dataframe\">\n",
       "  <thead>\n",
       "    <tr style=\"text-align: right;\">\n",
       "      <th></th>\n",
       "      <th>MARKETINGCATEGORYNAME</th>\n",
       "      <th>APPLICATIONNUMBER</th>\n",
       "    </tr>\n",
       "  </thead>\n",
       "  <tbody>\n",
       "    <tr>\n",
       "      <th>5955</th>\n",
       "      <td>NDA</td>\n",
       "      <td>BN890105</td>\n",
       "    </tr>\n",
       "    <tr>\n",
       "      <th>8905</th>\n",
       "      <td>NDA</td>\n",
       "      <td>BN070012</td>\n",
       "    </tr>\n",
       "    <tr>\n",
       "      <th>8966</th>\n",
       "      <td>NDA</td>\n",
       "      <td>BN200952</td>\n",
       "    </tr>\n",
       "    <tr>\n",
       "      <th>13099</th>\n",
       "      <td>NDA</td>\n",
       "      <td>BN160918</td>\n",
       "    </tr>\n",
       "    <tr>\n",
       "      <th>13100</th>\n",
       "      <td>NDA</td>\n",
       "      <td>BN160918</td>\n",
       "    </tr>\n",
       "  </tbody>\n",
       "</table>\n",
       "</div>"
      ],
      "text/plain": [
       "      MARKETINGCATEGORYNAME APPLICATIONNUMBER\n",
       "5955                    NDA          BN890105\n",
       "8905                    NDA          BN070012\n",
       "8966                    NDA          BN200952\n",
       "13099                   NDA          BN160918\n",
       "13100                   NDA          BN160918"
      ]
     },
     "execution_count": 61,
     "metadata": {},
     "output_type": "execute_result"
    }
   ],
   "source": [
    "# NDA mislabelled\n",
    "print(f'{len(prod[[\"MARKETINGCATEGORYNAME\",\"APPLICATIONNUMBER\"]].dropna()[prod[[\"MARKETINGCATEGORYNAME\",\"APPLICATIONNUMBER\"]].dropna().apply(lambda x : x[\"MARKETINGCATEGORYNAME\"] not in x[\"APPLICATIONNUMBER\"] and x[\"MARKETINGCATEGORYNAME\"] == \"NDA\", axis=1)])} mislabelled NDA samples')\n",
    "prod[[\"MARKETINGCATEGORYNAME\",\"APPLICATIONNUMBER\"]].dropna()[prod[[\"MARKETINGCATEGORYNAME\",\"APPLICATIONNUMBER\"]].dropna().apply(lambda x : x[\"MARKETINGCATEGORYNAME\"] not in x[\"APPLICATIONNUMBER\"] and x[\"MARKETINGCATEGORYNAME\"] == \"NDA\", axis=1)].head()"
   ]
  },
  {
   "attachments": {},
   "cell_type": "markdown",
   "metadata": {},
   "source": [
    "No way to determine which is correct so drop those entries"
   ]
  },
  {
   "cell_type": "code",
   "execution_count": 62,
   "metadata": {},
   "outputs": [],
   "source": [
    "prod = prod.drop(prod[[\"MARKETINGCATEGORYNAME\",\"APPLICATIONNUMBER\"]].dropna()[prod[[\"MARKETINGCATEGORYNAME\",\"APPLICATIONNUMBER\"]].dropna().apply(lambda x : x[\"MARKETINGCATEGORYNAME\"] not in x[\"APPLICATIONNUMBER\"] and x[\"MARKETINGCATEGORYNAME\"] == \"ANDA\", axis=1)].index)\n",
    "prod = prod.drop(prod[[\"MARKETINGCATEGORYNAME\",\"APPLICATIONNUMBER\"]].dropna()[prod[[\"MARKETINGCATEGORYNAME\",\"APPLICATIONNUMBER\"]].dropna().apply(lambda x : x[\"MARKETINGCATEGORYNAME\"] not in x[\"APPLICATIONNUMBER\"] and x[\"MARKETINGCATEGORYNAME\"] == \"NDA\", axis=1)].index)\n"
   ]
  },
  {
   "attachments": {},
   "cell_type": "markdown",
   "metadata": {},
   "source": [
    "ProprietaryName seems all over the place and there are no standard format/regulations for this feature. Maybe delete it later on since it might not bring valuable information. At least convert to upper/lowercase before OneHotEncoding"
   ]
  },
  {
   "cell_type": "code",
   "execution_count": 63,
   "metadata": {},
   "outputs": [
    {
     "name": "stdout",
     "output_type": "stream",
     "text": [
      "['(CHLOROPROCAINE HCI' '.Insulin Aspart Protamine and Insulin Aspart'\n",
      " '0.9% SODIUM CHLORIDE' '02 CUSHION SPF45' '1 Bladder' '1 Detoxification'\n",
      " '1% Hydrocortisone' '1% LIDOCAINE HCI'\n",
      " '1.8OZ HAND SANITIZER WITH CLIP -ASSORTED'\n",
      " '1.8oz Armstrong Hand Sanitizer with Aloe Vera and Vitamin E'\n",
      " '10 Armani Prima Control Glow Moisturizer SBS SPF 35' '10 PARASITE DETOX'\n",
      " '10 Parasite Detox' '10 TREE MIX' '100% Pure Yerba Mate MIst'\n",
      " '1000 Roses CC Color Plus Correct Sheer Tan SPF 30'\n",
      " '1000 Roses CC Color plus Correct Sheer Nude SPF 30'\n",
      " '1000 Roses Daily Shade Facial SPF 18' '1012 Antimicrobial'\n",
      " '10g Colgate plus Toothbrush Kit'\n",
      " '10g Colgate plus Toothbrush plus Floss Kit' '11 Tree Pollen Mix'\n",
      " '111 Medco Benzoyl Peroxide' '12 Hour Nasal' '12 Hour Nasal Decongestant'\n",
      " '12 Hour Original Nasal Decongestant' '12 hour allergy and congestion'\n",
      " '12 hour allergy d' '12 hour decongestant'\n",
      " '12HR Allergy and Congestion Relief' '16OZ HYDORGEN PEROXIDE'\n",
      " '1ST MEDXPATCH' '1st RELIEF TOPICAL' '2 Cockroach Mix' '2 Gallbladder'\n",
      " '2 Lymphatic Drainage' '2 Maple Pollen Mix' '2 Transform' '2 in 1'\n",
      " '2 in 1 Antidandruff' '2 in 1 Dandruff' '2% LIDOCAINE HCI'\n",
      " '2-Count HEAT PATCHES' '2-Pack Hand Sanitizer' '2-Power Fabric SPF 25'\n",
      " '2.25OZ EverDry Ultra Dry Antiperspirant' '2000DL-CL30'\n",
      " '21STAY A Thera Sun Block' '24 Hour Acne Serum' '24 Hour Allergy']\n"
     ]
    }
   ],
   "source": [
    "# Example propname\n",
    "print(prod[\"PROPRIETARYNAME\"].sort_values().unique()[:50])"
   ]
  },
  {
   "cell_type": "code",
   "execution_count": 64,
   "metadata": {},
   "outputs": [],
   "source": [
    "prod[\"PROPRIETARYNAME\"] = prod[\"PROPRIETARYNAME\"].str.upper()"
   ]
  },
  {
   "attachments": {},
   "cell_type": "markdown",
   "metadata": {},
   "source": [
    "There are a lot of similar companies with just slight variations in their name. It might lead to more confusion or decreasing the model metrics such as Accuracy and F1 scores.\n",
    "\n",
    "For example look at the 5 different name variations for 7-eleven"
   ]
  },
  {
   "cell_type": "code",
   "execution_count": 65,
   "metadata": {},
   "outputs": [
    {
     "data": {
      "text/plain": [
       "array(['- INDUSTRIAL WELDING SUPPLY CO. OF HARVEY, INC.',\n",
       "       \"-L'Oreal USA Products Inc\", '.Cardinal Health',\n",
       "       '1 Veterans Health', '10', '101196749', '111 Medco',\n",
       "       '1ST MEDX LLC', '1st Class Pharmaceuticals, Inc.', '2 Transform',\n",
       "       '20Lighter, LLC.', '21st Century Designer Health Products',\n",
       "       '21st Century Formulations', '21st Century Homeopathics',\n",
       "       '21st Century Homeopathics, Inc', '2xl Corporation', '3014704014',\n",
       "       '3D Imaging Drug Design and Development LLC', '3LAB', '3LAB, Inc',\n",
       "       '3LAB, Inc.', '3M Company', '3M ESPE Dental Products',\n",
       "       '3M Health Care', '4E Global, S.A.P.I. de C.V',\n",
       "       '4Life Research USA, LLC', '4e Brands Northamerica LLC',\n",
       "       '4sport D.o.o.', '5 SENCO Inc.', '60 Degrees Pharmaceuticals, LLC',\n",
       "       '65364-110', '7-ELEVEN', '7-ELEVEN, INC.', '7-Eleven',\n",
       "       '7-Eleven Inc', '7-Eleven Inc.', '7-Eleven, Inc.', '7-Select, Inc',\n",
       "       '7-eleven', '714 Essentials LTD', '7T Pharma LLC',\n",
       "       '8.0 IDEAL BALANCE D.O.O. BEOGRAD', 'A & B Welding Supply Co.',\n",
       "       'A & D Healthcare Equipment Repair',\n",
       "       'A & E Mill & Welding Supply Company', 'A + OXYGEN & D.M.E.',\n",
       "       'A OX Welding Supply Company Inc.', 'A Plus Home Medical',\n",
       "       'A&Z Holistic Products, Inc.', 'A&Z Pharmaceutical Inc.'],\n",
       "      dtype=object)"
      ]
     },
     "execution_count": 65,
     "metadata": {},
     "output_type": "execute_result"
    }
   ],
   "source": [
    "prod[\"LABELERNAME\"].sort_values().unique()[:50]"
   ]
  },
  {
   "cell_type": "code",
   "execution_count": 66,
   "metadata": {},
   "outputs": [
    {
     "data": {
      "text/plain": [
       "6599"
      ]
     },
     "execution_count": 66,
     "metadata": {},
     "output_type": "execute_result"
    }
   ],
   "source": [
    "len(prod[\"LABELERNAME\"].unique())"
   ]
  },
  {
   "attachments": {},
   "cell_type": "markdown",
   "metadata": {},
   "source": [
    "Replace to uppercase to control for case-sensitive str"
   ]
  },
  {
   "cell_type": "code",
   "execution_count": 67,
   "metadata": {},
   "outputs": [],
   "source": [
    "prod[\"LABELERNAME\"] = prod[\"LABELERNAME\"].str.upper()"
   ]
  },
  {
   "attachments": {},
   "cell_type": "markdown",
   "metadata": {},
   "source": [
    "We might need to drop the ProprietaryName since it there is no standard and so many different unique categories it won't bring anything good to the model"
   ]
  },
  {
   "cell_type": "code",
   "execution_count": 68,
   "metadata": {},
   "outputs": [
    {
     "data": {
      "text/plain": [
       "29723"
      ]
     },
     "execution_count": 68,
     "metadata": {},
     "output_type": "execute_result"
    }
   ],
   "source": [
    "len(prod[\"PROPRIETARYNAME\"].unique())"
   ]
  },
  {
   "attachments": {},
   "cell_type": "markdown",
   "metadata": {},
   "source": [
    "Suffix feature will mostly not contribute a lot of relevant information since there are not really a standard and many incongruency in naming"
   ]
  },
  {
   "cell_type": "code",
   "execution_count": 69,
   "metadata": {},
   "outputs": [
    {
     "name": "stdout",
     "output_type": "stream",
     "text": [
      "10157 values for PPTsuffix with 4019 unique categories\n"
     ]
    }
   ],
   "source": [
    "print(f\"{len(prod['PROPRIETARYNAMESUFFIX'].dropna())} values for PPTsuffix with {len(prod['PROPRIETARYNAMESUFFIX'].dropna().unique())} unique categories\")"
   ]
  },
  {
   "cell_type": "code",
   "execution_count": 70,
   "metadata": {},
   "outputs": [
    {
     "name": "stdout",
     "output_type": "stream",
     "text": [
      "['Zydis ' 'Mix75/25 ' 'Mix50/50 ' 'Intramuscular ' 'Relprevv ' 'KwikPen '\n",
      " ' Junior KwikPen ' ' Tempo Pen ' 'R ' 'N ']\n"
     ]
    }
   ],
   "source": [
    "# See a few examples\n",
    "print(prod['PROPRIETARYNAMESUFFIX'].dropna().unique()[:10])"
   ]
  },
  {
   "attachments": {},
   "cell_type": "markdown",
   "metadata": {},
   "source": [
    "Transform to a `PROPRIETARYNAMESUFFIX_determined` attribute to account for that high proportion of missing data"
   ]
  },
  {
   "cell_type": "code",
   "execution_count": 71,
   "metadata": {},
   "outputs": [
    {
     "data": {
      "text/plain": [
       "0    82942\n",
       "1    10157\n",
       "dtype: int64"
      ]
     },
     "execution_count": 71,
     "metadata": {},
     "output_type": "execute_result"
    }
   ],
   "source": [
    "pd.DataFrame(np.where(prod[\"PROPRIETARYNAMESUFFIX\"].notnull(), 1, 0)).value_counts()"
   ]
  },
  {
   "cell_type": "code",
   "execution_count": 72,
   "metadata": {},
   "outputs": [],
   "source": [
    "# Replacing vals\n",
    "prod[\"PROPRIETARYNAMESUFFIX_determined\"] = np.where(prod[\"PROPRIETARYNAMESUFFIX\"].notnull(), 1, 0)"
   ]
  },
  {
   "cell_type": "code",
   "execution_count": 73,
   "metadata": {},
   "outputs": [],
   "source": [
    "# Droping original feature\n",
    "prod = prod.drop(columns=\"PROPRIETARYNAMESUFFIX\")"
   ]
  },
  {
   "attachments": {},
   "cell_type": "markdown",
   "metadata": {},
   "source": [
    "**No other cleanup/checkup except to convert to uppercase/lowercase before OneHotEncoding of NonProprietaryName to avoid repeated categories. NonProprietaryName is the list of activate ingredients and has a standard naming convention so it will be usefull for the classification task**"
   ]
  },
  {
   "cell_type": "code",
   "execution_count": 74,
   "metadata": {},
   "outputs": [],
   "source": [
    "prod[\"NONPROPRIETARYNAME\"] = prod[\"NONPROPRIETARYNAME\"].str.upper()"
   ]
  },
  {
   "cell_type": "code",
   "execution_count": 75,
   "metadata": {},
   "outputs": [
    {
     "data": {
      "text/plain": [
       "0             DILUENT\n",
       "1    FLORBETAPIR F 18\n",
       "2         DULAGLUTIDE\n",
       "3         DULAGLUTIDE\n",
       "4        GALCANEZUMAB\n",
       "Name: NONPROPRIETARYNAME, dtype: object"
      ]
     },
     "execution_count": 75,
     "metadata": {},
     "output_type": "execute_result"
    }
   ],
   "source": [
    "prod[\"NONPROPRIETARYNAME\"].head()"
   ]
  },
  {
   "attachments": {},
   "cell_type": "markdown",
   "metadata": {},
   "source": [
    "**SubstanceName, ACTIVATE_NUMERATOR_STRENGTH (which on the FDA website is labelled as StrengthNumber) and ACTIVE_INGRED_UNIT are linked features. They also can have multiple values each when split by a semi colon. Let's look if the number of multiple values match its counterpart in each feature**"
   ]
  },
  {
   "attachments": {},
   "cell_type": "markdown",
   "metadata": {},
   "source": [
    "Looking at the frequency of number of elements per value. They look similar."
   ]
  },
  {
   "cell_type": "code",
   "execution_count": 76,
   "metadata": {},
   "outputs": [
    {
     "data": {
      "text/plain": [
       "1.0    69757\n",
       "2.0     9480\n",
       "3.0     4497\n",
       "4.0     2677\n",
       "nan     2252\n",
       "5.0     1124\n",
       "Name: SUBSTANCENAME, dtype: int64"
      ]
     },
     "execution_count": 76,
     "metadata": {},
     "output_type": "execute_result"
    }
   ],
   "source": [
    "prod[\"SUBSTANCENAME\"].str.split(\";\").str.len().astype(str).value_counts()[:6]"
   ]
  },
  {
   "cell_type": "code",
   "execution_count": 77,
   "metadata": {},
   "outputs": [
    {
     "data": {
      "text/plain": [
       "1.0    69757\n",
       "2.0     9481\n",
       "3.0     4496\n",
       "4.0     2677\n",
       "nan     2252\n",
       "5.0     1124\n",
       "Name: ACTIVE_NUMERATOR_STRENGTH, dtype: int64"
      ]
     },
     "execution_count": 77,
     "metadata": {},
     "output_type": "execute_result"
    }
   ],
   "source": [
    "prod[\"ACTIVE_NUMERATOR_STRENGTH\"].str.split(\";\").str.len().astype(str).value_counts()[:6]"
   ]
  },
  {
   "cell_type": "code",
   "execution_count": 78,
   "metadata": {},
   "outputs": [
    {
     "data": {
      "text/plain": [
       "1.0    69757\n",
       "2.0     9481\n",
       "3.0     4496\n",
       "4.0     2677\n",
       "nan     2252\n",
       "5.0     1124\n",
       "Name: ACTIVE_INGRED_UNIT, dtype: int64"
      ]
     },
     "execution_count": 78,
     "metadata": {},
     "output_type": "execute_result"
    }
   ],
   "source": [
    "prod[\"ACTIVE_INGRED_UNIT\"].str.split(\";\").str.len().astype(str).value_counts()[:6]"
   ]
  },
  {
   "attachments": {},
   "cell_type": "markdown",
   "metadata": {},
   "source": [
    "Looking at differences in amount of categories per objects for SubstanceName and ACTIVE_NUMERATOR_STRENGTH"
   ]
  },
  {
   "cell_type": "code",
   "execution_count": 79,
   "metadata": {},
   "outputs": [
    {
     "data": {
      "text/html": [
       "<div>\n",
       "<style scoped>\n",
       "    .dataframe tbody tr th:only-of-type {\n",
       "        vertical-align: middle;\n",
       "    }\n",
       "\n",
       "    .dataframe tbody tr th {\n",
       "        vertical-align: top;\n",
       "    }\n",
       "\n",
       "    .dataframe thead th {\n",
       "        text-align: right;\n",
       "    }\n",
       "</style>\n",
       "<table border=\"1\" class=\"dataframe\">\n",
       "  <thead>\n",
       "    <tr style=\"text-align: right;\">\n",
       "      <th></th>\n",
       "      <th>SUBSTANCENAME</th>\n",
       "      <th>ACTIVE_NUMERATOR_STRENGTH</th>\n",
       "    </tr>\n",
       "  </thead>\n",
       "  <tbody>\n",
       "    <tr>\n",
       "      <th>49</th>\n",
       "      <td>NaN</td>\n",
       "      <td>NaN</td>\n",
       "    </tr>\n",
       "    <tr>\n",
       "      <th>58</th>\n",
       "      <td>NaN</td>\n",
       "      <td>NaN</td>\n",
       "    </tr>\n",
       "    <tr>\n",
       "      <th>59</th>\n",
       "      <td>NaN</td>\n",
       "      <td>NaN</td>\n",
       "    </tr>\n",
       "    <tr>\n",
       "      <th>60</th>\n",
       "      <td>NaN</td>\n",
       "      <td>NaN</td>\n",
       "    </tr>\n",
       "    <tr>\n",
       "      <th>69</th>\n",
       "      <td>NaN</td>\n",
       "      <td>NaN</td>\n",
       "    </tr>\n",
       "  </tbody>\n",
       "</table>\n",
       "</div>"
      ],
      "text/plain": [
       "   SUBSTANCENAME ACTIVE_NUMERATOR_STRENGTH\n",
       "49           NaN                       NaN\n",
       "58           NaN                       NaN\n",
       "59           NaN                       NaN\n",
       "60           NaN                       NaN\n",
       "69           NaN                       NaN"
      ]
     },
     "execution_count": 79,
     "metadata": {},
     "output_type": "execute_result"
    }
   ],
   "source": [
    "prod[prod[\"SUBSTANCENAME\"].str.split(\";\").str.len() != prod[\"ACTIVE_NUMERATOR_STRENGTH\"].str.split(\";\").str.len()][[\"SUBSTANCENAME\", \"ACTIVE_NUMERATOR_STRENGTH\"]].head()"
   ]
  },
  {
   "attachments": {},
   "cell_type": "markdown",
   "metadata": {},
   "source": [
    "Mostly NaN except..."
   ]
  },
  {
   "cell_type": "code",
   "execution_count": 80,
   "metadata": {},
   "outputs": [
    {
     "data": {
      "text/html": [
       "<div>\n",
       "<style scoped>\n",
       "    .dataframe tbody tr th:only-of-type {\n",
       "        vertical-align: middle;\n",
       "    }\n",
       "\n",
       "    .dataframe tbody tr th {\n",
       "        vertical-align: top;\n",
       "    }\n",
       "\n",
       "    .dataframe thead th {\n",
       "        text-align: right;\n",
       "    }\n",
       "</style>\n",
       "<table border=\"1\" class=\"dataframe\">\n",
       "  <thead>\n",
       "    <tr style=\"text-align: right;\">\n",
       "      <th></th>\n",
       "      <th>SUBSTANCENAME</th>\n",
       "      <th>ACTIVE_NUMERATOR_STRENGTH</th>\n",
       "    </tr>\n",
       "  </thead>\n",
       "  <tbody>\n",
       "    <tr>\n",
       "      <th>90536</th>\n",
       "      <td>GLYCERIN; HYDROLYZED SOY PROTEIN (ENZYMATIC; 2...</td>\n",
       "      <td>10; .12</td>\n",
       "    </tr>\n",
       "  </tbody>\n",
       "</table>\n",
       "</div>"
      ],
      "text/plain": [
       "                                           SUBSTANCENAME  \\\n",
       "90536  GLYCERIN; HYDROLYZED SOY PROTEIN (ENZYMATIC; 2...   \n",
       "\n",
       "      ACTIVE_NUMERATOR_STRENGTH  \n",
       "90536                   10; .12  "
      ]
     },
     "execution_count": 80,
     "metadata": {},
     "output_type": "execute_result"
    }
   ],
   "source": [
    "prod[prod[\"SUBSTANCENAME\"].str.split(\";\").str.len() != prod[\"ACTIVE_NUMERATOR_STRENGTH\"].str.split(\";\").str.len()][[\"SUBSTANCENAME\", \"ACTIVE_NUMERATOR_STRENGTH\"]].dropna()"
   ]
  },
  {
   "cell_type": "code",
   "execution_count": 81,
   "metadata": {},
   "outputs": [
    {
     "data": {
      "text/html": [
       "<div>\n",
       "<style scoped>\n",
       "    .dataframe tbody tr th:only-of-type {\n",
       "        vertical-align: middle;\n",
       "    }\n",
       "\n",
       "    .dataframe tbody tr th {\n",
       "        vertical-align: top;\n",
       "    }\n",
       "\n",
       "    .dataframe thead th {\n",
       "        text-align: right;\n",
       "    }\n",
       "</style>\n",
       "<table border=\"1\" class=\"dataframe\">\n",
       "  <thead>\n",
       "    <tr style=\"text-align: right;\">\n",
       "      <th></th>\n",
       "      <th>ACTIVE_NUMERATOR_STRENGTH</th>\n",
       "      <th>ACTIVE_INGRED_UNIT</th>\n",
       "    </tr>\n",
       "  </thead>\n",
       "  <tbody>\n",
       "  </tbody>\n",
       "</table>\n",
       "</div>"
      ],
      "text/plain": [
       "Empty DataFrame\n",
       "Columns: [ACTIVE_NUMERATOR_STRENGTH, ACTIVE_INGRED_UNIT]\n",
       "Index: []"
      ]
     },
     "execution_count": 81,
     "metadata": {},
     "output_type": "execute_result"
    }
   ],
   "source": [
    "prod[prod[\"ACTIVE_NUMERATOR_STRENGTH\"].str.split(\";\").str.len() != prod[\"ACTIVE_INGRED_UNIT\"].str.split(\";\").str.len()][[\"ACTIVE_NUMERATOR_STRENGTH\", \"ACTIVE_INGRED_UNIT\"]].dropna()"
   ]
  },
  {
   "cell_type": "code",
   "execution_count": 82,
   "metadata": {},
   "outputs": [],
   "source": [
    "# drop the problematic object\n",
    "prod = prod.drop(\n",
    "    prod[prod[\"SUBSTANCENAME\"].str.split(\";\").str.len() != prod[\"ACTIVE_NUMERATOR_STRENGTH\"].str.split(\";\").str.len()][[\"SUBSTANCENAME\", \"ACTIVE_NUMERATOR_STRENGTH\"]].dropna().index\n",
    ")"
   ]
  },
  {
   "attachments": {},
   "cell_type": "markdown",
   "metadata": {},
   "source": [
    "While it does not mean that the number of classes matches the number of substances !"
   ]
  },
  {
   "cell_type": "code",
   "execution_count": 83,
   "metadata": {},
   "outputs": [
    {
     "data": {
      "text/plain": [
       "89302"
      ]
     },
     "execution_count": 83,
     "metadata": {},
     "output_type": "execute_result"
    }
   ],
   "source": [
    "len(prod[prod[\"SUBSTANCENAME\"].str.split(\";\").str.len() != prod[\"PHARM_CLASSES\"].str.split(\",\").str.len()][ \"PHARM_CLASSES\"])"
   ]
  },
  {
   "attachments": {},
   "cell_type": "markdown",
   "metadata": {},
   "source": [
    "Looking now at a possible OneHotEncoding approach to deal with multiple values per instance"
   ]
  },
  {
   "cell_type": "code",
   "execution_count": 84,
   "metadata": {},
   "outputs": [
    {
     "name": "stdout",
     "output_type": "stream",
     "text": [
      "ohe len categories for SubstanceName\n",
      "8949\n",
      "ohe len categories for ACTIVE_NUMERATOR_STRENGTH\n",
      "8737\n",
      "ohe len categories for ACTIVE_INGRED_UNIT\n",
      "2377\n"
     ]
    }
   ],
   "source": [
    "print(\"ohe len categories for SubstanceName\")\n",
    "print(len(OneHotEncoder().fit(pd.DataFrame(prod[\"SUBSTANCENAME\"].str.upper())).categories_[0]))\n",
    "print(\"ohe len categories for ACTIVE_NUMERATOR_STRENGTH\")\n",
    "print(len(OneHotEncoder().fit(pd.DataFrame(prod[\"ACTIVE_NUMERATOR_STRENGTH\"].str.upper())).categories_[0]))\n",
    "print(\"ohe len categories for ACTIVE_INGRED_UNIT\")\n",
    "print(len(OneHotEncoder().fit(pd.DataFrame(prod[\"ACTIVE_INGRED_UNIT\"].str.upper())).categories_[0]))"
   ]
  },
  {
   "attachments": {},
   "cell_type": "markdown",
   "metadata": {},
   "source": [
    "That amount of categories with OneHotEncoding might lead to overfitting, let's look at another avenue to deal with multiple values per instance those features"
   ]
  },
  {
   "cell_type": "code",
   "execution_count": 85,
   "metadata": {},
   "outputs": [],
   "source": [
    "linked_multiple_vals_feats = [\"SUBSTANCENAME\", \"ACTIVE_NUMERATOR_STRENGTH\", \"ACTIVE_INGRED_UNIT\"]"
   ]
  },
  {
   "cell_type": "code",
   "execution_count": 86,
   "metadata": {},
   "outputs": [
    {
     "data": {
      "text/html": [
       "<div>\n",
       "<style scoped>\n",
       "    .dataframe tbody tr th:only-of-type {\n",
       "        vertical-align: middle;\n",
       "    }\n",
       "\n",
       "    .dataframe tbody tr th {\n",
       "        vertical-align: top;\n",
       "    }\n",
       "\n",
       "    .dataframe thead th {\n",
       "        text-align: right;\n",
       "    }\n",
       "</style>\n",
       "<table border=\"1\" class=\"dataframe\">\n",
       "  <thead>\n",
       "    <tr style=\"text-align: right;\">\n",
       "      <th></th>\n",
       "      <th>SUBSTANCENAME</th>\n",
       "      <th>ACTIVE_NUMERATOR_STRENGTH</th>\n",
       "      <th>ACTIVE_INGRED_UNIT</th>\n",
       "    </tr>\n",
       "  </thead>\n",
       "  <tbody>\n",
       "    <tr>\n",
       "      <th>11</th>\n",
       "      <td>OLANZAPINE; FLUOXETINE HYDROCHLORIDE</td>\n",
       "      <td>3; 25</td>\n",
       "      <td>mg/1; mg/1</td>\n",
       "    </tr>\n",
       "    <tr>\n",
       "      <th>12</th>\n",
       "      <td>OLANZAPINE; FLUOXETINE HYDROCHLORIDE</td>\n",
       "      <td>6; 25</td>\n",
       "      <td>mg/1; mg/1</td>\n",
       "    </tr>\n",
       "    <tr>\n",
       "      <th>13</th>\n",
       "      <td>OLANZAPINE; FLUOXETINE HYDROCHLORIDE</td>\n",
       "      <td>6; 50</td>\n",
       "      <td>mg/1; mg/1</td>\n",
       "    </tr>\n",
       "    <tr>\n",
       "      <th>14</th>\n",
       "      <td>OLANZAPINE; FLUOXETINE HYDROCHLORIDE</td>\n",
       "      <td>12; 50</td>\n",
       "      <td>mg/1; mg/1</td>\n",
       "    </tr>\n",
       "    <tr>\n",
       "      <th>121</th>\n",
       "      <td>ATAZANAVIR SULFATE; COBICISTAT</td>\n",
       "      <td>300; 150</td>\n",
       "      <td>mg/1; mg/1</td>\n",
       "    </tr>\n",
       "    <tr>\n",
       "      <th>...</th>\n",
       "      <td>...</td>\n",
       "      <td>...</td>\n",
       "      <td>...</td>\n",
       "    </tr>\n",
       "    <tr>\n",
       "      <th>93131</th>\n",
       "      <td>AVOBENZONE; OCTINOXATE; OCTISALATE; OCTOCRYLENE</td>\n",
       "      <td>.9; 1.3; 1.3; .6</td>\n",
       "      <td>g/30mL; g/30mL; g/30mL; g/30mL</td>\n",
       "    </tr>\n",
       "    <tr>\n",
       "      <th>93161</th>\n",
       "      <td>AVOBENZONE; HOMOSALATE; OCTISALATE; OCTOCRYLENE</td>\n",
       "      <td>.0306; .0816; .051; .0816</td>\n",
       "      <td>g/mL; g/mL; g/mL; g/mL</td>\n",
       "    </tr>\n",
       "    <tr>\n",
       "      <th>93162</th>\n",
       "      <td>MENTHOL; EUCALYPTUS OIL; CAMPHOR (SYNTHETIC)</td>\n",
       "      <td>1; 1; 4.7</td>\n",
       "      <td>g/100g; g/100g; g/100g</td>\n",
       "    </tr>\n",
       "    <tr>\n",
       "      <th>93229</th>\n",
       "      <td>HYDROQUINONE; OXYBENZONE; PADIMATE O</td>\n",
       "      <td>20; 25; 33</td>\n",
       "      <td>mg/g; mg/g; mg/g</td>\n",
       "    </tr>\n",
       "    <tr>\n",
       "      <th>93230</th>\n",
       "      <td>CLINDAMYCIN PHOSPHATE; TRETINOIN</td>\n",
       "      <td>12; .25</td>\n",
       "      <td>mg/g; mg/g</td>\n",
       "    </tr>\n",
       "  </tbody>\n",
       "</table>\n",
       "<p>21089 rows × 3 columns</p>\n",
       "</div>"
      ],
      "text/plain": [
       "                                         SUBSTANCENAME  \\\n",
       "11                OLANZAPINE; FLUOXETINE HYDROCHLORIDE   \n",
       "12                OLANZAPINE; FLUOXETINE HYDROCHLORIDE   \n",
       "13                OLANZAPINE; FLUOXETINE HYDROCHLORIDE   \n",
       "14                OLANZAPINE; FLUOXETINE HYDROCHLORIDE   \n",
       "121                     ATAZANAVIR SULFATE; COBICISTAT   \n",
       "...                                                ...   \n",
       "93131  AVOBENZONE; OCTINOXATE; OCTISALATE; OCTOCRYLENE   \n",
       "93161  AVOBENZONE; HOMOSALATE; OCTISALATE; OCTOCRYLENE   \n",
       "93162     MENTHOL; EUCALYPTUS OIL; CAMPHOR (SYNTHETIC)   \n",
       "93229             HYDROQUINONE; OXYBENZONE; PADIMATE O   \n",
       "93230                 CLINDAMYCIN PHOSPHATE; TRETINOIN   \n",
       "\n",
       "       ACTIVE_NUMERATOR_STRENGTH              ACTIVE_INGRED_UNIT  \n",
       "11                         3; 25                      mg/1; mg/1  \n",
       "12                         6; 25                      mg/1; mg/1  \n",
       "13                         6; 50                      mg/1; mg/1  \n",
       "14                        12; 50                      mg/1; mg/1  \n",
       "121                     300; 150                      mg/1; mg/1  \n",
       "...                          ...                             ...  \n",
       "93131           .9; 1.3; 1.3; .6  g/30mL; g/30mL; g/30mL; g/30mL  \n",
       "93161  .0306; .0816; .051; .0816          g/mL; g/mL; g/mL; g/mL  \n",
       "93162                  1; 1; 4.7          g/100g; g/100g; g/100g  \n",
       "93229                 20; 25; 33                mg/g; mg/g; mg/g  \n",
       "93230                    12; .25                      mg/g; mg/g  \n",
       "\n",
       "[21089 rows x 3 columns]"
      ]
     },
     "execution_count": 86,
     "metadata": {},
     "output_type": "execute_result"
    }
   ],
   "source": [
    "# Example with at least 2 multiple values in those features\n",
    "prod[prod[linked_multiple_vals_feats].apply(lambda x: x.str.split(\";\").str[1]).notnull().any(axis=1)][linked_multiple_vals_feats]"
   ]
  },
  {
   "attachments": {},
   "cell_type": "markdown",
   "metadata": {},
   "source": [
    "We could get all the element positions for the first 5 elements for each of the feature, meaning we would split in 15 new features"
   ]
  },
  {
   "cell_type": "code",
   "execution_count": 87,
   "metadata": {},
   "outputs": [],
   "source": [
    "# Custom dummies-like method for first5\n",
    "for i in range(5):\n",
    "    # print([f\"{feat}_{i}\" for feat in multiple_vals_feats])\n",
    "    prod[[f\"{feat}_{i}\" for feat in linked_multiple_vals_feats]] = prod[linked_multiple_vals_feats].apply(lambda x: x.str.split(\";\").str[i])"
   ]
  },
  {
   "cell_type": "code",
   "execution_count": 88,
   "metadata": {},
   "outputs": [
    {
     "data": {
      "text/plain": [
       "SUBSTANCENAME_0                 2252\n",
       "ACTIVE_NUMERATOR_STRENGTH_0     2252\n",
       "ACTIVE_INGRED_UNIT_0            2252\n",
       "SUBSTANCENAME_1                72009\n",
       "ACTIVE_NUMERATOR_STRENGTH_1    72009\n",
       "ACTIVE_INGRED_UNIT_1           72009\n",
       "SUBSTANCENAME_2                81489\n",
       "ACTIVE_NUMERATOR_STRENGTH_2    81489\n",
       "ACTIVE_INGRED_UNIT_2           81489\n",
       "SUBSTANCENAME_3                85985\n",
       "ACTIVE_NUMERATOR_STRENGTH_3    85985\n",
       "ACTIVE_INGRED_UNIT_3           85985\n",
       "SUBSTANCENAME_4                88662\n",
       "ACTIVE_NUMERATOR_STRENGTH_4    88662\n",
       "ACTIVE_INGRED_UNIT_4           88662\n",
       "dtype: int64"
      ]
     },
     "execution_count": 88,
     "metadata": {},
     "output_type": "execute_result"
    }
   ],
   "source": [
    "prod.isnull().sum()[20:]"
   ]
  },
  {
   "attachments": {},
   "cell_type": "markdown",
   "metadata": {},
   "source": [
    "This is a lot of NaN but we will loose the link to pharm_classes if we only keep those. We have to choose a different approach like OneHotEncoding where the newfeature generated do not have NaN"
   ]
  },
  {
   "cell_type": "code",
   "execution_count": 89,
   "metadata": {},
   "outputs": [],
   "source": [
    "for i in range(5):\n",
    "    for feat in linked_multiple_vals_feats:\n",
    "        prod = prod.drop(columns=f\"{feat}_{i}\")"
   ]
  },
  {
   "cell_type": "code",
   "execution_count": 90,
   "metadata": {},
   "outputs": [
    {
     "data": {
      "text/html": [
       "<div>\n",
       "<style scoped>\n",
       "    .dataframe tbody tr th:only-of-type {\n",
       "        vertical-align: middle;\n",
       "    }\n",
       "\n",
       "    .dataframe tbody tr th {\n",
       "        vertical-align: top;\n",
       "    }\n",
       "\n",
       "    .dataframe thead th {\n",
       "        text-align: right;\n",
       "    }\n",
       "</style>\n",
       "<table border=\"1\" class=\"dataframe\">\n",
       "  <thead>\n",
       "    <tr style=\"text-align: right;\">\n",
       "      <th></th>\n",
       "      <th>PRODUCTID</th>\n",
       "      <th>PRODUCTNDC</th>\n",
       "      <th>PRODUCTTYPENAME</th>\n",
       "      <th>PROPRIETARYNAME</th>\n",
       "      <th>NONPROPRIETARYNAME</th>\n",
       "      <th>DOSAGEFORMNAME</th>\n",
       "      <th>ROUTENAME</th>\n",
       "      <th>STARTMARKETINGDATE</th>\n",
       "      <th>MARKETINGCATEGORYNAME</th>\n",
       "      <th>APPLICATIONNUMBER</th>\n",
       "      <th>LABELERNAME</th>\n",
       "      <th>SUBSTANCENAME</th>\n",
       "      <th>ACTIVE_NUMERATOR_STRENGTH</th>\n",
       "      <th>ACTIVE_INGRED_UNIT</th>\n",
       "      <th>PHARM_CLASSES</th>\n",
       "      <th>NDC_EXCLUDE_FLAG</th>\n",
       "      <th>LISTING_RECORD_CERTIFIED_THROUGH</th>\n",
       "      <th>ENDMARKETINGDATE_determined</th>\n",
       "      <th>DEASCHEDULE_determined</th>\n",
       "      <th>PROPRIETARYNAMESUFFIX_determined</th>\n",
       "    </tr>\n",
       "  </thead>\n",
       "  <tbody>\n",
       "    <tr>\n",
       "      <th>0</th>\n",
       "      <td>NaN</td>\n",
       "      <td>0002-0800</td>\n",
       "      <td>HUMAN OTC DRUG</td>\n",
       "      <td>STERILE DILUENT</td>\n",
       "      <td>DILUENT</td>\n",
       "      <td>INJECTION, SOLUTION</td>\n",
       "      <td>SUBCUTANEOUS</td>\n",
       "      <td>1987-07-10</td>\n",
       "      <td>NDA</td>\n",
       "      <td>NDA018781</td>\n",
       "      <td>10</td>\n",
       "      <td>WATER</td>\n",
       "      <td>1</td>\n",
       "      <td>mL/mL</td>\n",
       "      <td>NaN</td>\n",
       "      <td>N</td>\n",
       "      <td>2020-12-31</td>\n",
       "      <td>0</td>\n",
       "      <td>0</td>\n",
       "      <td>0</td>\n",
       "    </tr>\n",
       "    <tr>\n",
       "      <th>1</th>\n",
       "      <td>NaN</td>\n",
       "      <td>0002-1200</td>\n",
       "      <td>HUMAN PRESCRIPTION DRUG</td>\n",
       "      <td>AMYVID</td>\n",
       "      <td>FLORBETAPIR F 18</td>\n",
       "      <td>INJECTION, SOLUTION</td>\n",
       "      <td>INTRAVENOUS</td>\n",
       "      <td>2012-06-01</td>\n",
       "      <td>NDA</td>\n",
       "      <td>NDA202008</td>\n",
       "      <td>10</td>\n",
       "      <td>FLORBETAPIR F-18</td>\n",
       "      <td>51</td>\n",
       "      <td>mCi/mL</td>\n",
       "      <td>Radioactive Diagnostic Agent [EPC],Positron Em...</td>\n",
       "      <td>N</td>\n",
       "      <td>2021-12-31</td>\n",
       "      <td>0</td>\n",
       "      <td>0</td>\n",
       "      <td>0</td>\n",
       "    </tr>\n",
       "    <tr>\n",
       "      <th>2</th>\n",
       "      <td>NaN</td>\n",
       "      <td>0002-1433</td>\n",
       "      <td>HUMAN PRESCRIPTION DRUG</td>\n",
       "      <td>TRULICITY</td>\n",
       "      <td>DULAGLUTIDE</td>\n",
       "      <td>INJECTION, SOLUTION</td>\n",
       "      <td>SUBCUTANEOUS</td>\n",
       "      <td>2014-09-18</td>\n",
       "      <td>BLA</td>\n",
       "      <td>BLA125469</td>\n",
       "      <td>10</td>\n",
       "      <td>DULAGLUTIDE</td>\n",
       "      <td>.75</td>\n",
       "      <td>mg/.5mL</td>\n",
       "      <td>GLP-1 Receptor Agonist [EPC],Glucagon-Like Pep...</td>\n",
       "      <td>N</td>\n",
       "      <td>2020-12-31</td>\n",
       "      <td>0</td>\n",
       "      <td>0</td>\n",
       "      <td>0</td>\n",
       "    </tr>\n",
       "    <tr>\n",
       "      <th>3</th>\n",
       "      <td>NaN</td>\n",
       "      <td>0002-1434</td>\n",
       "      <td>HUMAN PRESCRIPTION DRUG</td>\n",
       "      <td>TRULICITY</td>\n",
       "      <td>DULAGLUTIDE</td>\n",
       "      <td>INJECTION, SOLUTION</td>\n",
       "      <td>SUBCUTANEOUS</td>\n",
       "      <td>2014-09-18</td>\n",
       "      <td>BLA</td>\n",
       "      <td>BLA125469</td>\n",
       "      <td>10</td>\n",
       "      <td>DULAGLUTIDE</td>\n",
       "      <td>1.5</td>\n",
       "      <td>mg/.5mL</td>\n",
       "      <td>GLP-1 Receptor Agonist [EPC],Glucagon-Like Pep...</td>\n",
       "      <td>N</td>\n",
       "      <td>2020-12-31</td>\n",
       "      <td>0</td>\n",
       "      <td>0</td>\n",
       "      <td>0</td>\n",
       "    </tr>\n",
       "    <tr>\n",
       "      <th>4</th>\n",
       "      <td>NaN</td>\n",
       "      <td>0002-1436</td>\n",
       "      <td>HUMAN PRESCRIPTION DRUG</td>\n",
       "      <td>EMGALITY</td>\n",
       "      <td>GALCANEZUMAB</td>\n",
       "      <td>INJECTION, SOLUTION</td>\n",
       "      <td>SUBCUTANEOUS</td>\n",
       "      <td>2018-09-27</td>\n",
       "      <td>BLA</td>\n",
       "      <td>BLA761063</td>\n",
       "      <td>10</td>\n",
       "      <td>GALCANEZUMAB</td>\n",
       "      <td>120</td>\n",
       "      <td>mg/mL</td>\n",
       "      <td>NaN</td>\n",
       "      <td>N</td>\n",
       "      <td>2020-12-31</td>\n",
       "      <td>0</td>\n",
       "      <td>0</td>\n",
       "      <td>0</td>\n",
       "    </tr>\n",
       "  </tbody>\n",
       "</table>\n",
       "</div>"
      ],
      "text/plain": [
       "  PRODUCTID PRODUCTNDC          PRODUCTTYPENAME  PROPRIETARYNAME  \\\n",
       "0       NaN  0002-0800           HUMAN OTC DRUG  STERILE DILUENT   \n",
       "1       NaN  0002-1200  HUMAN PRESCRIPTION DRUG           AMYVID   \n",
       "2       NaN  0002-1433  HUMAN PRESCRIPTION DRUG        TRULICITY   \n",
       "3       NaN  0002-1434  HUMAN PRESCRIPTION DRUG        TRULICITY   \n",
       "4       NaN  0002-1436  HUMAN PRESCRIPTION DRUG         EMGALITY   \n",
       "\n",
       "  NONPROPRIETARYNAME       DOSAGEFORMNAME     ROUTENAME STARTMARKETINGDATE  \\\n",
       "0            DILUENT  INJECTION, SOLUTION  SUBCUTANEOUS         1987-07-10   \n",
       "1   FLORBETAPIR F 18  INJECTION, SOLUTION   INTRAVENOUS         2012-06-01   \n",
       "2        DULAGLUTIDE  INJECTION, SOLUTION  SUBCUTANEOUS         2014-09-18   \n",
       "3        DULAGLUTIDE  INJECTION, SOLUTION  SUBCUTANEOUS         2014-09-18   \n",
       "4       GALCANEZUMAB  INJECTION, SOLUTION  SUBCUTANEOUS         2018-09-27   \n",
       "\n",
       "  MARKETINGCATEGORYNAME APPLICATIONNUMBER LABELERNAME     SUBSTANCENAME  \\\n",
       "0                   NDA         NDA018781          10             WATER   \n",
       "1                   NDA         NDA202008          10  FLORBETAPIR F-18   \n",
       "2                   BLA         BLA125469          10       DULAGLUTIDE   \n",
       "3                   BLA         BLA125469          10       DULAGLUTIDE   \n",
       "4                   BLA         BLA761063          10      GALCANEZUMAB   \n",
       "\n",
       "  ACTIVE_NUMERATOR_STRENGTH ACTIVE_INGRED_UNIT  \\\n",
       "0                         1              mL/mL   \n",
       "1                        51             mCi/mL   \n",
       "2                       .75            mg/.5mL   \n",
       "3                       1.5            mg/.5mL   \n",
       "4                       120              mg/mL   \n",
       "\n",
       "                                       PHARM_CLASSES NDC_EXCLUDE_FLAG  \\\n",
       "0                                                NaN                N   \n",
       "1  Radioactive Diagnostic Agent [EPC],Positron Em...                N   \n",
       "2  GLP-1 Receptor Agonist [EPC],Glucagon-Like Pep...                N   \n",
       "3  GLP-1 Receptor Agonist [EPC],Glucagon-Like Pep...                N   \n",
       "4                                                NaN                N   \n",
       "\n",
       "  LISTING_RECORD_CERTIFIED_THROUGH  ENDMARKETINGDATE_determined  \\\n",
       "0                       2020-12-31                            0   \n",
       "1                       2021-12-31                            0   \n",
       "2                       2020-12-31                            0   \n",
       "3                       2020-12-31                            0   \n",
       "4                       2020-12-31                            0   \n",
       "\n",
       "   DEASCHEDULE_determined  PROPRIETARYNAMESUFFIX_determined  \n",
       "0                       0                                 0  \n",
       "1                       0                                 0  \n",
       "2                       0                                 0  \n",
       "3                       0                                 0  \n",
       "4                       0                                 0  "
      ]
     },
     "execution_count": 90,
     "metadata": {},
     "output_type": "execute_result"
    }
   ],
   "source": [
    "prod.head()"
   ]
  },
  {
   "attachments": {},
   "cell_type": "markdown",
   "metadata": {},
   "source": [
    "**In the end we will convert the multiple values features in a list (see a few cells below) and probably will go for MultiLabelEncoding when creating our classification model**"
   ]
  },
  {
   "attachments": {},
   "cell_type": "markdown",
   "metadata": {},
   "source": [
    "#### Converting features with multiple values per objects : ROUTENAME and 3 linked attributes of SubstanceName, Activte_NUMERATOR_STRENGHT, Activte_UNIT"
   ]
  },
  {
   "cell_type": "code",
   "execution_count": 91,
   "metadata": {},
   "outputs": [
    {
     "name": "stdout",
     "output_type": "stream",
     "text": [
      "ROUTENAME feature contains 4318 entries with multiple elements\n",
      "SUBSTANCENAME feature contains 21089 entries with multiple elements\n",
      "ACTIVE_NUMERATOR_STRENGTH feature contains 21089 entries with multiple elements\n",
      "ACTIVE_INGRED_UNIT feature contains 21089 entries with multiple elements\n"
     ]
    }
   ],
   "source": [
    "# semicolon separated entries\n",
    "for col in prod.columns:\n",
    "    if not col == \"LABELERNAME\":\n",
    "        if prod[col].astype(str).str.contains(\"; \").sum() > 0:\n",
    "            print(f'{col} feature contains {prod[col].astype(str).str.contains(\";\").sum()} entries with multiple elements')"
   ]
  },
  {
   "cell_type": "code",
   "execution_count": 92,
   "metadata": {},
   "outputs": [
    {
     "name": "stdout",
     "output_type": "stream",
     "text": [
      "PROPRIETARYNAME feature contains 1036 entries with multiple elements\n",
      "NONPROPRIETARYNAME feature contains 14814 entries with multiple elements\n",
      "DOSAGEFORMNAME feature contains 27739 entries with multiple elements\n",
      "APPLICATIONNUMBER feature contains 4 entries with multiple elements\n",
      "LABELERNAME feature contains 34549 entries with multiple elements\n",
      "SUBSTANCENAME feature contains 2073 entries with multiple elements\n",
      "PHARM_CLASSES feature contains 39104 entries with multiple elements\n"
     ]
    }
   ],
   "source": [
    "# comma separated entries\n",
    "for col in prod.columns:\n",
    "    if prod[col].astype(str).str.contains(\",\").sum() > 0:\n",
    "        print(f'{col} feature contains {prod[col].astype(str).str.contains(\",\").sum()} entries with multiple elements')"
   ]
  },
  {
   "attachments": {},
   "cell_type": "markdown",
   "metadata": {},
   "source": [
    "Some of them are not truly multiple elements (see below)"
   ]
  },
  {
   "cell_type": "code",
   "execution_count": 93,
   "metadata": {},
   "outputs": [
    {
     "data": {
      "text/plain": [
       "1.0    86894\n",
       "2.0     2224\n",
       "3.0     1846\n",
       "4.0      188\n",
       "5.0       48\n",
       "6.0        9\n",
       "9.0        2\n",
       "7.0        1\n",
       "Name: ROUTENAME, dtype: int64"
      ]
     },
     "execution_count": 93,
     "metadata": {},
     "output_type": "execute_result"
    }
   ],
   "source": [
    "prod[\"ROUTENAME\"].str.split(\";\").str.len().value_counts()"
   ]
  },
  {
   "attachments": {},
   "cell_type": "markdown",
   "metadata": {},
   "source": [
    "We can filter for routename with 3 elements only and put the rest in another category"
   ]
  },
  {
   "cell_type": "code",
   "execution_count": 94,
   "metadata": {},
   "outputs": [],
   "source": [
    "prod[\"ROUTENAME_list\"] = prod[\"ROUTENAME\"].str.split(\"; \")"
   ]
  },
  {
   "cell_type": "code",
   "execution_count": 95,
   "metadata": {},
   "outputs": [
    {
     "data": {
      "text/html": [
       "<div>\n",
       "<style scoped>\n",
       "    .dataframe tbody tr th:only-of-type {\n",
       "        vertical-align: middle;\n",
       "    }\n",
       "\n",
       "    .dataframe tbody tr th {\n",
       "        vertical-align: top;\n",
       "    }\n",
       "\n",
       "    .dataframe thead th {\n",
       "        text-align: right;\n",
       "    }\n",
       "</style>\n",
       "<table border=\"1\" class=\"dataframe\">\n",
       "  <thead>\n",
       "    <tr style=\"text-align: right;\">\n",
       "      <th></th>\n",
       "      <th>PRODUCTID</th>\n",
       "      <th>PRODUCTNDC</th>\n",
       "      <th>PRODUCTTYPENAME</th>\n",
       "      <th>PROPRIETARYNAME</th>\n",
       "      <th>NONPROPRIETARYNAME</th>\n",
       "      <th>DOSAGEFORMNAME</th>\n",
       "      <th>ROUTENAME</th>\n",
       "      <th>STARTMARKETINGDATE</th>\n",
       "      <th>MARKETINGCATEGORYNAME</th>\n",
       "      <th>APPLICATIONNUMBER</th>\n",
       "      <th>...</th>\n",
       "      <th>SUBSTANCENAME</th>\n",
       "      <th>ACTIVE_NUMERATOR_STRENGTH</th>\n",
       "      <th>ACTIVE_INGRED_UNIT</th>\n",
       "      <th>PHARM_CLASSES</th>\n",
       "      <th>NDC_EXCLUDE_FLAG</th>\n",
       "      <th>LISTING_RECORD_CERTIFIED_THROUGH</th>\n",
       "      <th>ENDMARKETINGDATE_determined</th>\n",
       "      <th>DEASCHEDULE_determined</th>\n",
       "      <th>PROPRIETARYNAMESUFFIX_determined</th>\n",
       "      <th>ROUTENAME_list</th>\n",
       "    </tr>\n",
       "  </thead>\n",
       "  <tbody>\n",
       "    <tr>\n",
       "      <th>69</th>\n",
       "      <td>0002-8031_f43b949f-3a0a-43bf-863d-4de52abe5faf</td>\n",
       "      <td>0002-8031</td>\n",
       "      <td>HUMAN PRESCRIPTION DRUG</td>\n",
       "      <td>GLUCAGON</td>\n",
       "      <td>GLUCAGON</td>\n",
       "      <td>KIT</td>\n",
       "      <td>NaN</td>\n",
       "      <td>1999-03-01</td>\n",
       "      <td>NDA</td>\n",
       "      <td>NDA020928</td>\n",
       "      <td>...</td>\n",
       "      <td>NaN</td>\n",
       "      <td>NaN</td>\n",
       "      <td>NaN</td>\n",
       "      <td>NaN</td>\n",
       "      <td>N</td>\n",
       "      <td>2020-12-31</td>\n",
       "      <td>0</td>\n",
       "      <td>0</td>\n",
       "      <td>0</td>\n",
       "      <td>NaN</td>\n",
       "    </tr>\n",
       "    <tr>\n",
       "      <th>123</th>\n",
       "      <td>0003-3764_507c9bab-1385-4e6b-95c1-fa8578a8a901</td>\n",
       "      <td>0003-3764</td>\n",
       "      <td>HUMAN PRESCRIPTION DRUG</td>\n",
       "      <td>ELIQUIS</td>\n",
       "      <td>APIXABAN</td>\n",
       "      <td>KIT</td>\n",
       "      <td>NaN</td>\n",
       "      <td>2017-11-29</td>\n",
       "      <td>NDA</td>\n",
       "      <td>NDA202155</td>\n",
       "      <td>...</td>\n",
       "      <td>NaN</td>\n",
       "      <td>NaN</td>\n",
       "      <td>NaN</td>\n",
       "      <td>NaN</td>\n",
       "      <td>N</td>\n",
       "      <td>2020-12-31</td>\n",
       "      <td>0</td>\n",
       "      <td>0</td>\n",
       "      <td>1</td>\n",
       "      <td>NaN</td>\n",
       "    </tr>\n",
       "    <tr>\n",
       "      <th>149</th>\n",
       "      <td>0004-0381_0b811e50-d0e0-4679-8d14-d9c91e867334</td>\n",
       "      <td>0004-0381</td>\n",
       "      <td>HUMAN PRESCRIPTION DRUG</td>\n",
       "      <td>FUZEON</td>\n",
       "      <td>ENFUVIRTIDE</td>\n",
       "      <td>KIT</td>\n",
       "      <td>NaN</td>\n",
       "      <td>2012-04-10</td>\n",
       "      <td>NDA</td>\n",
       "      <td>NDA021481</td>\n",
       "      <td>...</td>\n",
       "      <td>NaN</td>\n",
       "      <td>NaN</td>\n",
       "      <td>NaN</td>\n",
       "      <td>NaN</td>\n",
       "      <td>N</td>\n",
       "      <td>2020-12-31</td>\n",
       "      <td>0</td>\n",
       "      <td>0</td>\n",
       "      <td>0</td>\n",
       "      <td>NaN</td>\n",
       "    </tr>\n",
       "    <tr>\n",
       "      <th>222</th>\n",
       "      <td>0006-3862_137e0347-9e23-4cc0-a44a-8c88d8983e17</td>\n",
       "      <td>0006-3862</td>\n",
       "      <td>HUMAN PRESCRIPTION DRUG</td>\n",
       "      <td>EMEND</td>\n",
       "      <td>APREPITANT</td>\n",
       "      <td>KIT</td>\n",
       "      <td>NaN</td>\n",
       "      <td>2003-03-26</td>\n",
       "      <td>NDA</td>\n",
       "      <td>NDA021549</td>\n",
       "      <td>...</td>\n",
       "      <td>NaN</td>\n",
       "      <td>NaN</td>\n",
       "      <td>NaN</td>\n",
       "      <td>NaN</td>\n",
       "      <td>N</td>\n",
       "      <td>2021-12-31</td>\n",
       "      <td>0</td>\n",
       "      <td>0</td>\n",
       "      <td>0</td>\n",
       "      <td>NaN</td>\n",
       "    </tr>\n",
       "    <tr>\n",
       "      <th>264</th>\n",
       "      <td>0006-5424_7ef0f037-02b3-417c-a736-23b9e9c6dd5a</td>\n",
       "      <td>0006-5424</td>\n",
       "      <td>PLASMA DERIVATIVE</td>\n",
       "      <td>ANTIVENIN</td>\n",
       "      <td>LATRODECTUS MACTANS</td>\n",
       "      <td>KIT</td>\n",
       "      <td>NaN</td>\n",
       "      <td>2014-12-01</td>\n",
       "      <td>BLA</td>\n",
       "      <td>BLA101062</td>\n",
       "      <td>...</td>\n",
       "      <td>NaN</td>\n",
       "      <td>NaN</td>\n",
       "      <td>NaN</td>\n",
       "      <td>NaN</td>\n",
       "      <td>N</td>\n",
       "      <td>2020-12-31</td>\n",
       "      <td>0</td>\n",
       "      <td>0</td>\n",
       "      <td>0</td>\n",
       "      <td>NaN</td>\n",
       "    </tr>\n",
       "  </tbody>\n",
       "</table>\n",
       "<p>5 rows × 21 columns</p>\n",
       "</div>"
      ],
      "text/plain": [
       "                                          PRODUCTID PRODUCTNDC  \\\n",
       "69   0002-8031_f43b949f-3a0a-43bf-863d-4de52abe5faf  0002-8031   \n",
       "123  0003-3764_507c9bab-1385-4e6b-95c1-fa8578a8a901  0003-3764   \n",
       "149  0004-0381_0b811e50-d0e0-4679-8d14-d9c91e867334  0004-0381   \n",
       "222  0006-3862_137e0347-9e23-4cc0-a44a-8c88d8983e17  0006-3862   \n",
       "264  0006-5424_7ef0f037-02b3-417c-a736-23b9e9c6dd5a  0006-5424   \n",
       "\n",
       "             PRODUCTTYPENAME PROPRIETARYNAME   NONPROPRIETARYNAME  \\\n",
       "69   HUMAN PRESCRIPTION DRUG        GLUCAGON             GLUCAGON   \n",
       "123  HUMAN PRESCRIPTION DRUG         ELIQUIS             APIXABAN   \n",
       "149  HUMAN PRESCRIPTION DRUG          FUZEON          ENFUVIRTIDE   \n",
       "222  HUMAN PRESCRIPTION DRUG           EMEND           APREPITANT   \n",
       "264        PLASMA DERIVATIVE       ANTIVENIN  LATRODECTUS MACTANS   \n",
       "\n",
       "    DOSAGEFORMNAME ROUTENAME STARTMARKETINGDATE MARKETINGCATEGORYNAME  \\\n",
       "69             KIT       NaN         1999-03-01                   NDA   \n",
       "123            KIT       NaN         2017-11-29                   NDA   \n",
       "149            KIT       NaN         2012-04-10                   NDA   \n",
       "222            KIT       NaN         2003-03-26                   NDA   \n",
       "264            KIT       NaN         2014-12-01                   BLA   \n",
       "\n",
       "    APPLICATIONNUMBER  ... SUBSTANCENAME ACTIVE_NUMERATOR_STRENGTH  \\\n",
       "69          NDA020928  ...           NaN                       NaN   \n",
       "123         NDA202155  ...           NaN                       NaN   \n",
       "149         NDA021481  ...           NaN                       NaN   \n",
       "222         NDA021549  ...           NaN                       NaN   \n",
       "264         BLA101062  ...           NaN                       NaN   \n",
       "\n",
       "    ACTIVE_INGRED_UNIT PHARM_CLASSES NDC_EXCLUDE_FLAG  \\\n",
       "69                 NaN           NaN                N   \n",
       "123                NaN           NaN                N   \n",
       "149                NaN           NaN                N   \n",
       "222                NaN           NaN                N   \n",
       "264                NaN           NaN                N   \n",
       "\n",
       "    LISTING_RECORD_CERTIFIED_THROUGH ENDMARKETINGDATE_determined  \\\n",
       "69                        2020-12-31                           0   \n",
       "123                       2020-12-31                           0   \n",
       "149                       2020-12-31                           0   \n",
       "222                       2021-12-31                           0   \n",
       "264                       2020-12-31                           0   \n",
       "\n",
       "     DEASCHEDULE_determined  PROPRIETARYNAMESUFFIX_determined  ROUTENAME_list  \n",
       "69                        0                                 0             NaN  \n",
       "123                       0                                 1             NaN  \n",
       "149                       0                                 0             NaN  \n",
       "222                       0                                 0             NaN  \n",
       "264                       0                                 0             NaN  \n",
       "\n",
       "[5 rows x 21 columns]"
      ]
     },
     "execution_count": 95,
     "metadata": {},
     "output_type": "execute_result"
    }
   ],
   "source": [
    "prod[prod[\"ROUTENAME_list\"].isnull()].head()"
   ]
  },
  {
   "cell_type": "code",
   "execution_count": 96,
   "metadata": {},
   "outputs": [],
   "source": [
    "# Replace NaN with [UNKNOWN]\n",
    "# prod[\"ROUTENAME_list\"] = prod[\"ROUTENAME_list\"].fillna(\"\").apply(lambda x: [\"UNKNOWN\"] if x == \"\" else x)"
   ]
  },
  {
   "cell_type": "code",
   "execution_count": 97,
   "metadata": {},
   "outputs": [
    {
     "data": {
      "text/plain": [
       "[ORAL]                                       54716\n",
       "[TOPICAL]                                    21557\n",
       "[INTRAVENOUS]                                 3291\n",
       "[INTRADERMAL, PERCUTANEOUS, SUBCUTANEOUS]     1315\n",
       "[RESPIRATORY (INHALATION)]                    1257\n",
       "Name: ROUTENAME_list, dtype: int64"
      ]
     },
     "execution_count": 97,
     "metadata": {},
     "output_type": "execute_result"
    }
   ],
   "source": [
    "prod[\"ROUTENAME_list\"].value_counts().head()"
   ]
  },
  {
   "cell_type": "code",
   "execution_count": 98,
   "metadata": {},
   "outputs": [],
   "source": [
    "# Drop routename\n",
    "prod = prod.drop(columns=\"ROUTENAME\")"
   ]
  },
  {
   "attachments": {},
   "cell_type": "markdown",
   "metadata": {},
   "source": [
    "Transforming multiple labels to list for 3 linked attributes : substancename, Activte_NUMERATOR_STRENGHT, Activte_UNIT"
   ]
  },
  {
   "cell_type": "code",
   "execution_count": 99,
   "metadata": {},
   "outputs": [],
   "source": [
    "prod[\"SUBSTANCENAME_list\"] = prod[\"SUBSTANCENAME\"].str.split(\"; \")\n",
    "prod[\"ACTIVE_NUMERATOR_STRENGTH_list\"] = prod[\"ACTIVE_NUMERATOR_STRENGTH\"].str.split(\"; \")\n",
    "prod[\"ACTIVE_INGRED_UNIT_list\"] = prod[\"ACTIVE_INGRED_UNIT\"].str.split(\"; \")"
   ]
  },
  {
   "cell_type": "code",
   "execution_count": 100,
   "metadata": {},
   "outputs": [],
   "source": [
    "# Dropping the ori feature\n",
    "prod = prod.drop(columns=[\"SUBSTANCENAME\", \"ACTIVE_NUMERATOR_STRENGTH\", \"ACTIVE_INGRED_UNIT\"])"
   ]
  },
  {
   "attachments": {},
   "cell_type": "markdown",
   "metadata": {},
   "source": [
    "**Comma separated values**"
   ]
  },
  {
   "attachments": {},
   "cell_type": "markdown",
   "metadata": {},
   "source": [
    "This one is a bit tricky. I'll just leave it as is and labelencode it later since some are comma separated and some are not"
   ]
  },
  {
   "cell_type": "code",
   "execution_count": 101,
   "metadata": {},
   "outputs": [
    {
     "data": {
      "text/plain": [
       "221      IMIPENEM ANHYDROUS, CILASTATIN, AND RELEBACTAM...\n",
       "228      HUMAN PAPILLOMAVIRUS QUADRIVALENT (TYPES 6, 11...\n",
       "229             ROTAVIRUS VACCINE, LIVE, ORAL, PENTAVALENT\n",
       "234      HUMAN PAPILLOMAVIRUS QUADRIVALENT (TYPES 6, 11...\n",
       "237      MEASLES, MUMPS, RUBELLA AND VARICELLA VIRUS VA...\n",
       "                               ...                        \n",
       "93130    AVOBENZONE, OCTINOXATE, OCTISALATE, AND OCTOCR...\n",
       "93131    AVOBENZONE, OCTINOXATE, OCTISALATE, AND OCTOCR...\n",
       "93161    AVOBENZONE, HOMOSALATE, OCTISALATE, AND OCTOCR...\n",
       "93162                     MENTHOL, CAMPHOR, EUCALYPTUS OIL\n",
       "93229             HYDROQUINONE, OXYBENZONE, AND PADIMATE O\n",
       "Name: NONPROPRIETARYNAME, Length: 10370, dtype: object"
      ]
     },
     "execution_count": 101,
     "metadata": {},
     "output_type": "execute_result"
    }
   ],
   "source": [
    "prod[prod[\"NONPROPRIETARYNAME\"].str.split(\",\").str.len() > 2][\"NONPROPRIETARYNAME\"]"
   ]
  },
  {
   "attachments": {},
   "cell_type": "markdown",
   "metadata": {},
   "source": [
    "We can remove the 4 ApplicationNumber outliers"
   ]
  },
  {
   "cell_type": "code",
   "execution_count": 102,
   "metadata": {},
   "outputs": [
    {
     "data": {
      "text/plain": [
       "64347    part356,part355\n",
       "64348    part356,part355\n",
       "76899    part341,part348\n",
       "85113    part341,part348\n",
       "Name: APPLICATIONNUMBER, dtype: object"
      ]
     },
     "execution_count": 102,
     "metadata": {},
     "output_type": "execute_result"
    }
   ],
   "source": [
    "prod[\"APPLICATIONNUMBER\"].dropna()[prod[\"APPLICATIONNUMBER\"].dropna().str.contains(\",\")]"
   ]
  },
  {
   "cell_type": "code",
   "execution_count": 103,
   "metadata": {},
   "outputs": [],
   "source": [
    "prod = prod.drop(prod[\"APPLICATIONNUMBER\"].dropna()[prod[\"APPLICATIONNUMBER\"].dropna().str.contains(\",\")].index)"
   ]
  },
  {
   "attachments": {},
   "cell_type": "markdown",
   "metadata": {},
   "source": [
    "Let's convert DosageFormName"
   ]
  },
  {
   "cell_type": "code",
   "execution_count": 104,
   "metadata": {},
   "outputs": [
    {
     "data": {
      "text/plain": [
       "1    65355\n",
       "2    25001\n",
       "3     1955\n",
       "4      783\n",
       "Name: DOSAGEFORMNAME, dtype: int64"
      ]
     },
     "execution_count": 104,
     "metadata": {},
     "output_type": "execute_result"
    }
   ],
   "source": [
    "prod[\"DOSAGEFORMNAME\"].str.split(\", \").str.len().value_counts()"
   ]
  },
  {
   "cell_type": "code",
   "execution_count": 105,
   "metadata": {},
   "outputs": [],
   "source": [
    "# Convert and drop ori feature\n",
    "prod[\"DOSAGEFORMNAME_list\"] = prod[\"DOSAGEFORMNAME\"].str.split(\", \")\n"
   ]
  },
  {
   "cell_type": "code",
   "execution_count": 106,
   "metadata": {},
   "outputs": [],
   "source": [
    "prod = prod.drop(columns=\"DOSAGEFORMNAME\")"
   ]
  },
  {
   "cell_type": "code",
   "execution_count": 107,
   "metadata": {},
   "outputs": [
    {
     "data": {
      "text/html": [
       "<div>\n",
       "<style scoped>\n",
       "    .dataframe tbody tr th:only-of-type {\n",
       "        vertical-align: middle;\n",
       "    }\n",
       "\n",
       "    .dataframe tbody tr th {\n",
       "        vertical-align: top;\n",
       "    }\n",
       "\n",
       "    .dataframe thead th {\n",
       "        text-align: right;\n",
       "    }\n",
       "</style>\n",
       "<table border=\"1\" class=\"dataframe\">\n",
       "  <thead>\n",
       "    <tr style=\"text-align: right;\">\n",
       "      <th></th>\n",
       "      <th>PRODUCTID</th>\n",
       "      <th>PRODUCTNDC</th>\n",
       "      <th>PRODUCTTYPENAME</th>\n",
       "      <th>PROPRIETARYNAME</th>\n",
       "      <th>NONPROPRIETARYNAME</th>\n",
       "      <th>STARTMARKETINGDATE</th>\n",
       "      <th>MARKETINGCATEGORYNAME</th>\n",
       "      <th>APPLICATIONNUMBER</th>\n",
       "      <th>LABELERNAME</th>\n",
       "      <th>PHARM_CLASSES</th>\n",
       "      <th>NDC_EXCLUDE_FLAG</th>\n",
       "      <th>LISTING_RECORD_CERTIFIED_THROUGH</th>\n",
       "      <th>ENDMARKETINGDATE_determined</th>\n",
       "      <th>DEASCHEDULE_determined</th>\n",
       "      <th>PROPRIETARYNAMESUFFIX_determined</th>\n",
       "      <th>ROUTENAME_list</th>\n",
       "      <th>SUBSTANCENAME_list</th>\n",
       "      <th>ACTIVE_NUMERATOR_STRENGTH_list</th>\n",
       "      <th>ACTIVE_INGRED_UNIT_list</th>\n",
       "      <th>DOSAGEFORMNAME_list</th>\n",
       "    </tr>\n",
       "  </thead>\n",
       "  <tbody>\n",
       "    <tr>\n",
       "      <th>0</th>\n",
       "      <td>NaN</td>\n",
       "      <td>0002-0800</td>\n",
       "      <td>HUMAN OTC DRUG</td>\n",
       "      <td>STERILE DILUENT</td>\n",
       "      <td>DILUENT</td>\n",
       "      <td>1987-07-10</td>\n",
       "      <td>NDA</td>\n",
       "      <td>NDA018781</td>\n",
       "      <td>10</td>\n",
       "      <td>NaN</td>\n",
       "      <td>N</td>\n",
       "      <td>2020-12-31</td>\n",
       "      <td>0</td>\n",
       "      <td>0</td>\n",
       "      <td>0</td>\n",
       "      <td>[SUBCUTANEOUS]</td>\n",
       "      <td>[WATER]</td>\n",
       "      <td>[1]</td>\n",
       "      <td>[mL/mL]</td>\n",
       "      <td>[INJECTION, SOLUTION]</td>\n",
       "    </tr>\n",
       "    <tr>\n",
       "      <th>1</th>\n",
       "      <td>NaN</td>\n",
       "      <td>0002-1200</td>\n",
       "      <td>HUMAN PRESCRIPTION DRUG</td>\n",
       "      <td>AMYVID</td>\n",
       "      <td>FLORBETAPIR F 18</td>\n",
       "      <td>2012-06-01</td>\n",
       "      <td>NDA</td>\n",
       "      <td>NDA202008</td>\n",
       "      <td>10</td>\n",
       "      <td>Radioactive Diagnostic Agent [EPC],Positron Em...</td>\n",
       "      <td>N</td>\n",
       "      <td>2021-12-31</td>\n",
       "      <td>0</td>\n",
       "      <td>0</td>\n",
       "      <td>0</td>\n",
       "      <td>[INTRAVENOUS]</td>\n",
       "      <td>[FLORBETAPIR F-18]</td>\n",
       "      <td>[51]</td>\n",
       "      <td>[mCi/mL]</td>\n",
       "      <td>[INJECTION, SOLUTION]</td>\n",
       "    </tr>\n",
       "    <tr>\n",
       "      <th>2</th>\n",
       "      <td>NaN</td>\n",
       "      <td>0002-1433</td>\n",
       "      <td>HUMAN PRESCRIPTION DRUG</td>\n",
       "      <td>TRULICITY</td>\n",
       "      <td>DULAGLUTIDE</td>\n",
       "      <td>2014-09-18</td>\n",
       "      <td>BLA</td>\n",
       "      <td>BLA125469</td>\n",
       "      <td>10</td>\n",
       "      <td>GLP-1 Receptor Agonist [EPC],Glucagon-Like Pep...</td>\n",
       "      <td>N</td>\n",
       "      <td>2020-12-31</td>\n",
       "      <td>0</td>\n",
       "      <td>0</td>\n",
       "      <td>0</td>\n",
       "      <td>[SUBCUTANEOUS]</td>\n",
       "      <td>[DULAGLUTIDE]</td>\n",
       "      <td>[.75]</td>\n",
       "      <td>[mg/.5mL]</td>\n",
       "      <td>[INJECTION, SOLUTION]</td>\n",
       "    </tr>\n",
       "    <tr>\n",
       "      <th>3</th>\n",
       "      <td>NaN</td>\n",
       "      <td>0002-1434</td>\n",
       "      <td>HUMAN PRESCRIPTION DRUG</td>\n",
       "      <td>TRULICITY</td>\n",
       "      <td>DULAGLUTIDE</td>\n",
       "      <td>2014-09-18</td>\n",
       "      <td>BLA</td>\n",
       "      <td>BLA125469</td>\n",
       "      <td>10</td>\n",
       "      <td>GLP-1 Receptor Agonist [EPC],Glucagon-Like Pep...</td>\n",
       "      <td>N</td>\n",
       "      <td>2020-12-31</td>\n",
       "      <td>0</td>\n",
       "      <td>0</td>\n",
       "      <td>0</td>\n",
       "      <td>[SUBCUTANEOUS]</td>\n",
       "      <td>[DULAGLUTIDE]</td>\n",
       "      <td>[1.5]</td>\n",
       "      <td>[mg/.5mL]</td>\n",
       "      <td>[INJECTION, SOLUTION]</td>\n",
       "    </tr>\n",
       "    <tr>\n",
       "      <th>4</th>\n",
       "      <td>NaN</td>\n",
       "      <td>0002-1436</td>\n",
       "      <td>HUMAN PRESCRIPTION DRUG</td>\n",
       "      <td>EMGALITY</td>\n",
       "      <td>GALCANEZUMAB</td>\n",
       "      <td>2018-09-27</td>\n",
       "      <td>BLA</td>\n",
       "      <td>BLA761063</td>\n",
       "      <td>10</td>\n",
       "      <td>NaN</td>\n",
       "      <td>N</td>\n",
       "      <td>2020-12-31</td>\n",
       "      <td>0</td>\n",
       "      <td>0</td>\n",
       "      <td>0</td>\n",
       "      <td>[SUBCUTANEOUS]</td>\n",
       "      <td>[GALCANEZUMAB]</td>\n",
       "      <td>[120]</td>\n",
       "      <td>[mg/mL]</td>\n",
       "      <td>[INJECTION, SOLUTION]</td>\n",
       "    </tr>\n",
       "  </tbody>\n",
       "</table>\n",
       "</div>"
      ],
      "text/plain": [
       "  PRODUCTID PRODUCTNDC          PRODUCTTYPENAME  PROPRIETARYNAME  \\\n",
       "0       NaN  0002-0800           HUMAN OTC DRUG  STERILE DILUENT   \n",
       "1       NaN  0002-1200  HUMAN PRESCRIPTION DRUG           AMYVID   \n",
       "2       NaN  0002-1433  HUMAN PRESCRIPTION DRUG        TRULICITY   \n",
       "3       NaN  0002-1434  HUMAN PRESCRIPTION DRUG        TRULICITY   \n",
       "4       NaN  0002-1436  HUMAN PRESCRIPTION DRUG         EMGALITY   \n",
       "\n",
       "  NONPROPRIETARYNAME STARTMARKETINGDATE MARKETINGCATEGORYNAME  \\\n",
       "0            DILUENT         1987-07-10                   NDA   \n",
       "1   FLORBETAPIR F 18         2012-06-01                   NDA   \n",
       "2        DULAGLUTIDE         2014-09-18                   BLA   \n",
       "3        DULAGLUTIDE         2014-09-18                   BLA   \n",
       "4       GALCANEZUMAB         2018-09-27                   BLA   \n",
       "\n",
       "  APPLICATIONNUMBER LABELERNAME  \\\n",
       "0         NDA018781          10   \n",
       "1         NDA202008          10   \n",
       "2         BLA125469          10   \n",
       "3         BLA125469          10   \n",
       "4         BLA761063          10   \n",
       "\n",
       "                                       PHARM_CLASSES NDC_EXCLUDE_FLAG  \\\n",
       "0                                                NaN                N   \n",
       "1  Radioactive Diagnostic Agent [EPC],Positron Em...                N   \n",
       "2  GLP-1 Receptor Agonist [EPC],Glucagon-Like Pep...                N   \n",
       "3  GLP-1 Receptor Agonist [EPC],Glucagon-Like Pep...                N   \n",
       "4                                                NaN                N   \n",
       "\n",
       "  LISTING_RECORD_CERTIFIED_THROUGH  ENDMARKETINGDATE_determined  \\\n",
       "0                       2020-12-31                            0   \n",
       "1                       2021-12-31                            0   \n",
       "2                       2020-12-31                            0   \n",
       "3                       2020-12-31                            0   \n",
       "4                       2020-12-31                            0   \n",
       "\n",
       "   DEASCHEDULE_determined  PROPRIETARYNAMESUFFIX_determined  ROUTENAME_list  \\\n",
       "0                       0                                 0  [SUBCUTANEOUS]   \n",
       "1                       0                                 0   [INTRAVENOUS]   \n",
       "2                       0                                 0  [SUBCUTANEOUS]   \n",
       "3                       0                                 0  [SUBCUTANEOUS]   \n",
       "4                       0                                 0  [SUBCUTANEOUS]   \n",
       "\n",
       "   SUBSTANCENAME_list ACTIVE_NUMERATOR_STRENGTH_list ACTIVE_INGRED_UNIT_list  \\\n",
       "0             [WATER]                            [1]                 [mL/mL]   \n",
       "1  [FLORBETAPIR F-18]                           [51]                [mCi/mL]   \n",
       "2       [DULAGLUTIDE]                          [.75]               [mg/.5mL]   \n",
       "3       [DULAGLUTIDE]                          [1.5]               [mg/.5mL]   \n",
       "4      [GALCANEZUMAB]                          [120]                 [mg/mL]   \n",
       "\n",
       "     DOSAGEFORMNAME_list  \n",
       "0  [INJECTION, SOLUTION]  \n",
       "1  [INJECTION, SOLUTION]  \n",
       "2  [INJECTION, SOLUTION]  \n",
       "3  [INJECTION, SOLUTION]  \n",
       "4  [INJECTION, SOLUTION]  "
      ]
     },
     "execution_count": 107,
     "metadata": {},
     "output_type": "execute_result"
    }
   ],
   "source": [
    "prod.head()"
   ]
  },
  {
   "attachments": {},
   "cell_type": "markdown",
   "metadata": {},
   "source": [
    "**NDC_Exclude_Flag codes verification**"
   ]
  },
  {
   "cell_type": "code",
   "execution_count": 108,
   "metadata": {},
   "outputs": [
    {
     "name": "stdout",
     "output_type": "stream",
     "text": [
      "['N']\n"
     ]
    }
   ],
   "source": [
    "ndc_exclude_codes = [\"E\", \"U\", \"I\"]\n",
    "print([label for label in prod[\"NDC_EXCLUDE_FLAG\"].unique()])"
   ]
  },
  {
   "cell_type": "code",
   "execution_count": 109,
   "metadata": {},
   "outputs": [
    {
     "data": {
      "text/plain": [
       "N    93094\n",
       "Name: NDC_EXCLUDE_FLAG, dtype: int64"
      ]
     },
     "execution_count": 109,
     "metadata": {},
     "output_type": "execute_result"
    }
   ],
   "source": [
    "prod[\"NDC_EXCLUDE_FLAG\"].value_counts()"
   ]
  },
  {
   "attachments": {},
   "cell_type": "markdown",
   "metadata": {},
   "source": [
    "Easy dropping that column since they are all the same value"
   ]
  },
  {
   "cell_type": "code",
   "execution_count": 110,
   "metadata": {},
   "outputs": [],
   "source": [
    "prod = prod.drop(columns=\"NDC_EXCLUDE_FLAG\")"
   ]
  },
  {
   "attachments": {},
   "cell_type": "markdown",
   "metadata": {},
   "source": [
    "**LISTING_RECORD_CERTIFIED_THROUGH dates verification**"
   ]
  },
  {
   "cell_type": "code",
   "execution_count": 111,
   "metadata": {},
   "outputs": [
    {
     "name": "stdout",
     "output_type": "stream",
     "text": [
      "Max time : 2021-12-31 00:00:00\n",
      "Min time : 2020-12-31 00:00:00\n"
     ]
    }
   ],
   "source": [
    "print(f\"Max time : {max(prod['LISTING_RECORD_CERTIFIED_THROUGH'])}\")\n",
    "print(f\"Min time : {min(prod['LISTING_RECORD_CERTIFIED_THROUGH'])}\")"
   ]
  },
  {
   "cell_type": "code",
   "execution_count": 112,
   "metadata": {},
   "outputs": [
    {
     "data": {
      "text/plain": [
       "<Axes: xlabel='LISTING_RECORD_CERTIFIED_THROUGH', ylabel='Count'>"
      ]
     },
     "execution_count": 112,
     "metadata": {},
     "output_type": "execute_result"
    },
    {
     "data": {
      "image/png": "[encoded data removed]",
      "text/plain": [
       "<Figure size 640x480 with 1 Axes>"
      ]
     },
     "metadata": {},
     "output_type": "display_data"
    }
   ],
   "source": [
    "sns.histplot(prod, x=\"LISTING_RECORD_CERTIFIED_THROUGH\")"
   ]
  },
  {
   "cell_type": "code",
   "execution_count": 113,
   "metadata": {},
   "outputs": [
    {
     "name": "stdout",
     "output_type": "stream",
     "text": [
      "There are 3 unique values for LISTING_RECORD_CERTIFIED_THROUGH\n"
     ]
    }
   ],
   "source": [
    "print(f\"There are {len(prod['LISTING_RECORD_CERTIFIED_THROUGH'].unique())} unique values for LISTING_RECORD_CERTIFIED_THROUGH\")"
   ]
  },
  {
   "cell_type": "code",
   "execution_count": 114,
   "metadata": {},
   "outputs": [
    {
     "data": {
      "text/html": [
       "<div>\n",
       "<style scoped>\n",
       "    .dataframe tbody tr th:only-of-type {\n",
       "        vertical-align: middle;\n",
       "    }\n",
       "\n",
       "    .dataframe tbody tr th {\n",
       "        vertical-align: top;\n",
       "    }\n",
       "\n",
       "    .dataframe thead th {\n",
       "        text-align: right;\n",
       "    }\n",
       "</style>\n",
       "<table border=\"1\" class=\"dataframe\">\n",
       "  <thead>\n",
       "    <tr style=\"text-align: right;\">\n",
       "      <th></th>\n",
       "      <th>PRODUCTID</th>\n",
       "      <th>PRODUCTNDC</th>\n",
       "      <th>PRODUCTTYPENAME</th>\n",
       "      <th>PROPRIETARYNAME</th>\n",
       "      <th>NONPROPRIETARYNAME</th>\n",
       "      <th>STARTMARKETINGDATE</th>\n",
       "      <th>MARKETINGCATEGORYNAME</th>\n",
       "      <th>APPLICATIONNUMBER</th>\n",
       "      <th>LABELERNAME</th>\n",
       "      <th>PHARM_CLASSES</th>\n",
       "      <th>LISTING_RECORD_CERTIFIED_THROUGH</th>\n",
       "      <th>ENDMARKETINGDATE_determined</th>\n",
       "      <th>DEASCHEDULE_determined</th>\n",
       "      <th>PROPRIETARYNAMESUFFIX_determined</th>\n",
       "      <th>ROUTENAME_list</th>\n",
       "      <th>SUBSTANCENAME_list</th>\n",
       "      <th>ACTIVE_NUMERATOR_STRENGTH_list</th>\n",
       "      <th>ACTIVE_INGRED_UNIT_list</th>\n",
       "      <th>DOSAGEFORMNAME_list</th>\n",
       "    </tr>\n",
       "  </thead>\n",
       "  <tbody>\n",
       "    <tr>\n",
       "      <th>0</th>\n",
       "      <td>NaN</td>\n",
       "      <td>0002-0800</td>\n",
       "      <td>HUMAN OTC DRUG</td>\n",
       "      <td>STERILE DILUENT</td>\n",
       "      <td>DILUENT</td>\n",
       "      <td>1987-07-10</td>\n",
       "      <td>NDA</td>\n",
       "      <td>NDA018781</td>\n",
       "      <td>10</td>\n",
       "      <td>NaN</td>\n",
       "      <td>2020-12-31</td>\n",
       "      <td>0</td>\n",
       "      <td>0</td>\n",
       "      <td>0</td>\n",
       "      <td>[SUBCUTANEOUS]</td>\n",
       "      <td>[WATER]</td>\n",
       "      <td>[1]</td>\n",
       "      <td>[mL/mL]</td>\n",
       "      <td>[INJECTION, SOLUTION]</td>\n",
       "    </tr>\n",
       "    <tr>\n",
       "      <th>1</th>\n",
       "      <td>NaN</td>\n",
       "      <td>0002-1200</td>\n",
       "      <td>HUMAN PRESCRIPTION DRUG</td>\n",
       "      <td>AMYVID</td>\n",
       "      <td>FLORBETAPIR F 18</td>\n",
       "      <td>2012-06-01</td>\n",
       "      <td>NDA</td>\n",
       "      <td>NDA202008</td>\n",
       "      <td>10</td>\n",
       "      <td>Radioactive Diagnostic Agent [EPC],Positron Em...</td>\n",
       "      <td>2021-12-31</td>\n",
       "      <td>0</td>\n",
       "      <td>0</td>\n",
       "      <td>0</td>\n",
       "      <td>[INTRAVENOUS]</td>\n",
       "      <td>[FLORBETAPIR F-18]</td>\n",
       "      <td>[51]</td>\n",
       "      <td>[mCi/mL]</td>\n",
       "      <td>[INJECTION, SOLUTION]</td>\n",
       "    </tr>\n",
       "    <tr>\n",
       "      <th>2</th>\n",
       "      <td>NaN</td>\n",
       "      <td>0002-1433</td>\n",
       "      <td>HUMAN PRESCRIPTION DRUG</td>\n",
       "      <td>TRULICITY</td>\n",
       "      <td>DULAGLUTIDE</td>\n",
       "      <td>2014-09-18</td>\n",
       "      <td>BLA</td>\n",
       "      <td>BLA125469</td>\n",
       "      <td>10</td>\n",
       "      <td>GLP-1 Receptor Agonist [EPC],Glucagon-Like Pep...</td>\n",
       "      <td>2020-12-31</td>\n",
       "      <td>0</td>\n",
       "      <td>0</td>\n",
       "      <td>0</td>\n",
       "      <td>[SUBCUTANEOUS]</td>\n",
       "      <td>[DULAGLUTIDE]</td>\n",
       "      <td>[.75]</td>\n",
       "      <td>[mg/.5mL]</td>\n",
       "      <td>[INJECTION, SOLUTION]</td>\n",
       "    </tr>\n",
       "    <tr>\n",
       "      <th>3</th>\n",
       "      <td>NaN</td>\n",
       "      <td>0002-1434</td>\n",
       "      <td>HUMAN PRESCRIPTION DRUG</td>\n",
       "      <td>TRULICITY</td>\n",
       "      <td>DULAGLUTIDE</td>\n",
       "      <td>2014-09-18</td>\n",
       "      <td>BLA</td>\n",
       "      <td>BLA125469</td>\n",
       "      <td>10</td>\n",
       "      <td>GLP-1 Receptor Agonist [EPC],Glucagon-Like Pep...</td>\n",
       "      <td>2020-12-31</td>\n",
       "      <td>0</td>\n",
       "      <td>0</td>\n",
       "      <td>0</td>\n",
       "      <td>[SUBCUTANEOUS]</td>\n",
       "      <td>[DULAGLUTIDE]</td>\n",
       "      <td>[1.5]</td>\n",
       "      <td>[mg/.5mL]</td>\n",
       "      <td>[INJECTION, SOLUTION]</td>\n",
       "    </tr>\n",
       "    <tr>\n",
       "      <th>4</th>\n",
       "      <td>NaN</td>\n",
       "      <td>0002-1436</td>\n",
       "      <td>HUMAN PRESCRIPTION DRUG</td>\n",
       "      <td>EMGALITY</td>\n",
       "      <td>GALCANEZUMAB</td>\n",
       "      <td>2018-09-27</td>\n",
       "      <td>BLA</td>\n",
       "      <td>BLA761063</td>\n",
       "      <td>10</td>\n",
       "      <td>NaN</td>\n",
       "      <td>2020-12-31</td>\n",
       "      <td>0</td>\n",
       "      <td>0</td>\n",
       "      <td>0</td>\n",
       "      <td>[SUBCUTANEOUS]</td>\n",
       "      <td>[GALCANEZUMAB]</td>\n",
       "      <td>[120]</td>\n",
       "      <td>[mg/mL]</td>\n",
       "      <td>[INJECTION, SOLUTION]</td>\n",
       "    </tr>\n",
       "  </tbody>\n",
       "</table>\n",
       "</div>"
      ],
      "text/plain": [
       "  PRODUCTID PRODUCTNDC          PRODUCTTYPENAME  PROPRIETARYNAME  \\\n",
       "0       NaN  0002-0800           HUMAN OTC DRUG  STERILE DILUENT   \n",
       "1       NaN  0002-1200  HUMAN PRESCRIPTION DRUG           AMYVID   \n",
       "2       NaN  0002-1433  HUMAN PRESCRIPTION DRUG        TRULICITY   \n",
       "3       NaN  0002-1434  HUMAN PRESCRIPTION DRUG        TRULICITY   \n",
       "4       NaN  0002-1436  HUMAN PRESCRIPTION DRUG         EMGALITY   \n",
       "\n",
       "  NONPROPRIETARYNAME STARTMARKETINGDATE MARKETINGCATEGORYNAME  \\\n",
       "0            DILUENT         1987-07-10                   NDA   \n",
       "1   FLORBETAPIR F 18         2012-06-01                   NDA   \n",
       "2        DULAGLUTIDE         2014-09-18                   BLA   \n",
       "3        DULAGLUTIDE         2014-09-18                   BLA   \n",
       "4       GALCANEZUMAB         2018-09-27                   BLA   \n",
       "\n",
       "  APPLICATIONNUMBER LABELERNAME  \\\n",
       "0         NDA018781          10   \n",
       "1         NDA202008          10   \n",
       "2         BLA125469          10   \n",
       "3         BLA125469          10   \n",
       "4         BLA761063          10   \n",
       "\n",
       "                                       PHARM_CLASSES  \\\n",
       "0                                                NaN   \n",
       "1  Radioactive Diagnostic Agent [EPC],Positron Em...   \n",
       "2  GLP-1 Receptor Agonist [EPC],Glucagon-Like Pep...   \n",
       "3  GLP-1 Receptor Agonist [EPC],Glucagon-Like Pep...   \n",
       "4                                                NaN   \n",
       "\n",
       "  LISTING_RECORD_CERTIFIED_THROUGH  ENDMARKETINGDATE_determined  \\\n",
       "0                       2020-12-31                            0   \n",
       "1                       2021-12-31                            0   \n",
       "2                       2020-12-31                            0   \n",
       "3                       2020-12-31                            0   \n",
       "4                       2020-12-31                            0   \n",
       "\n",
       "   DEASCHEDULE_determined  PROPRIETARYNAMESUFFIX_determined  ROUTENAME_list  \\\n",
       "0                       0                                 0  [SUBCUTANEOUS]   \n",
       "1                       0                                 0   [INTRAVENOUS]   \n",
       "2                       0                                 0  [SUBCUTANEOUS]   \n",
       "3                       0                                 0  [SUBCUTANEOUS]   \n",
       "4                       0                                 0  [SUBCUTANEOUS]   \n",
       "\n",
       "   SUBSTANCENAME_list ACTIVE_NUMERATOR_STRENGTH_list ACTIVE_INGRED_UNIT_list  \\\n",
       "0             [WATER]                            [1]                 [mL/mL]   \n",
       "1  [FLORBETAPIR F-18]                           [51]                [mCi/mL]   \n",
       "2       [DULAGLUTIDE]                          [.75]               [mg/.5mL]   \n",
       "3       [DULAGLUTIDE]                          [1.5]               [mg/.5mL]   \n",
       "4      [GALCANEZUMAB]                          [120]                 [mg/mL]   \n",
       "\n",
       "     DOSAGEFORMNAME_list  \n",
       "0  [INJECTION, SOLUTION]  \n",
       "1  [INJECTION, SOLUTION]  \n",
       "2  [INJECTION, SOLUTION]  \n",
       "3  [INJECTION, SOLUTION]  \n",
       "4  [INJECTION, SOLUTION]  "
      ]
     },
     "execution_count": 114,
     "metadata": {},
     "output_type": "execute_result"
    }
   ],
   "source": [
    "prod.head()"
   ]
  },
  {
   "cell_type": "code",
   "execution_count": 115,
   "metadata": {},
   "outputs": [],
   "source": [
    "# Replace pd.NaT with undetermined str and converting get dummies\n",
    "prod[\"LISTING_RECORD_CERTIFIED_THROUGH\"] = prod[\"LISTING_RECORD_CERTIFIED_THROUGH\"].fillna(\"undetermined\")\n",
    "prod = pd.get_dummies(prod, columns=[\"LISTING_RECORD_CERTIFIED_THROUGH\"])"
   ]
  },
  {
   "cell_type": "code",
   "execution_count": 116,
   "metadata": {},
   "outputs": [
    {
     "data": {
      "text/html": [
       "<div>\n",
       "<style scoped>\n",
       "    .dataframe tbody tr th:only-of-type {\n",
       "        vertical-align: middle;\n",
       "    }\n",
       "\n",
       "    .dataframe tbody tr th {\n",
       "        vertical-align: top;\n",
       "    }\n",
       "\n",
       "    .dataframe thead th {\n",
       "        text-align: right;\n",
       "    }\n",
       "</style>\n",
       "<table border=\"1\" class=\"dataframe\">\n",
       "  <thead>\n",
       "    <tr style=\"text-align: right;\">\n",
       "      <th></th>\n",
       "      <th>PRODUCTID</th>\n",
       "      <th>PRODUCTNDC</th>\n",
       "      <th>PRODUCTTYPENAME</th>\n",
       "      <th>PROPRIETARYNAME</th>\n",
       "      <th>NONPROPRIETARYNAME</th>\n",
       "      <th>STARTMARKETINGDATE</th>\n",
       "      <th>MARKETINGCATEGORYNAME</th>\n",
       "      <th>APPLICATIONNUMBER</th>\n",
       "      <th>LABELERNAME</th>\n",
       "      <th>PHARM_CLASSES</th>\n",
       "      <th>...</th>\n",
       "      <th>DEASCHEDULE_determined</th>\n",
       "      <th>PROPRIETARYNAMESUFFIX_determined</th>\n",
       "      <th>ROUTENAME_list</th>\n",
       "      <th>SUBSTANCENAME_list</th>\n",
       "      <th>ACTIVE_NUMERATOR_STRENGTH_list</th>\n",
       "      <th>ACTIVE_INGRED_UNIT_list</th>\n",
       "      <th>DOSAGEFORMNAME_list</th>\n",
       "      <th>LISTING_RECORD_CERTIFIED_THROUGH_2020-12-31 00:00:00</th>\n",
       "      <th>LISTING_RECORD_CERTIFIED_THROUGH_2021-12-31 00:00:00</th>\n",
       "      <th>LISTING_RECORD_CERTIFIED_THROUGH_undetermined</th>\n",
       "    </tr>\n",
       "  </thead>\n",
       "  <tbody>\n",
       "    <tr>\n",
       "      <th>0</th>\n",
       "      <td>NaN</td>\n",
       "      <td>0002-0800</td>\n",
       "      <td>HUMAN OTC DRUG</td>\n",
       "      <td>STERILE DILUENT</td>\n",
       "      <td>DILUENT</td>\n",
       "      <td>1987-07-10</td>\n",
       "      <td>NDA</td>\n",
       "      <td>NDA018781</td>\n",
       "      <td>10</td>\n",
       "      <td>NaN</td>\n",
       "      <td>...</td>\n",
       "      <td>0</td>\n",
       "      <td>0</td>\n",
       "      <td>[SUBCUTANEOUS]</td>\n",
       "      <td>[WATER]</td>\n",
       "      <td>[1]</td>\n",
       "      <td>[mL/mL]</td>\n",
       "      <td>[INJECTION, SOLUTION]</td>\n",
       "      <td>1</td>\n",
       "      <td>0</td>\n",
       "      <td>0</td>\n",
       "    </tr>\n",
       "    <tr>\n",
       "      <th>1</th>\n",
       "      <td>NaN</td>\n",
       "      <td>0002-1200</td>\n",
       "      <td>HUMAN PRESCRIPTION DRUG</td>\n",
       "      <td>AMYVID</td>\n",
       "      <td>FLORBETAPIR F 18</td>\n",
       "      <td>2012-06-01</td>\n",
       "      <td>NDA</td>\n",
       "      <td>NDA202008</td>\n",
       "      <td>10</td>\n",
       "      <td>Radioactive Diagnostic Agent [EPC],Positron Em...</td>\n",
       "      <td>...</td>\n",
       "      <td>0</td>\n",
       "      <td>0</td>\n",
       "      <td>[INTRAVENOUS]</td>\n",
       "      <td>[FLORBETAPIR F-18]</td>\n",
       "      <td>[51]</td>\n",
       "      <td>[mCi/mL]</td>\n",
       "      <td>[INJECTION, SOLUTION]</td>\n",
       "      <td>0</td>\n",
       "      <td>1</td>\n",
       "      <td>0</td>\n",
       "    </tr>\n",
       "    <tr>\n",
       "      <th>2</th>\n",
       "      <td>NaN</td>\n",
       "      <td>0002-1433</td>\n",
       "      <td>HUMAN PRESCRIPTION DRUG</td>\n",
       "      <td>TRULICITY</td>\n",
       "      <td>DULAGLUTIDE</td>\n",
       "      <td>2014-09-18</td>\n",
       "      <td>BLA</td>\n",
       "      <td>BLA125469</td>\n",
       "      <td>10</td>\n",
       "      <td>GLP-1 Receptor Agonist [EPC],Glucagon-Like Pep...</td>\n",
       "      <td>...</td>\n",
       "      <td>0</td>\n",
       "      <td>0</td>\n",
       "      <td>[SUBCUTANEOUS]</td>\n",
       "      <td>[DULAGLUTIDE]</td>\n",
       "      <td>[.75]</td>\n",
       "      <td>[mg/.5mL]</td>\n",
       "      <td>[INJECTION, SOLUTION]</td>\n",
       "      <td>1</td>\n",
       "      <td>0</td>\n",
       "      <td>0</td>\n",
       "    </tr>\n",
       "    <tr>\n",
       "      <th>3</th>\n",
       "      <td>NaN</td>\n",
       "      <td>0002-1434</td>\n",
       "      <td>HUMAN PRESCRIPTION DRUG</td>\n",
       "      <td>TRULICITY</td>\n",
       "      <td>DULAGLUTIDE</td>\n",
       "      <td>2014-09-18</td>\n",
       "      <td>BLA</td>\n",
       "      <td>BLA125469</td>\n",
       "      <td>10</td>\n",
       "      <td>GLP-1 Receptor Agonist [EPC],Glucagon-Like Pep...</td>\n",
       "      <td>...</td>\n",
       "      <td>0</td>\n",
       "      <td>0</td>\n",
       "      <td>[SUBCUTANEOUS]</td>\n",
       "      <td>[DULAGLUTIDE]</td>\n",
       "      <td>[1.5]</td>\n",
       "      <td>[mg/.5mL]</td>\n",
       "      <td>[INJECTION, SOLUTION]</td>\n",
       "      <td>1</td>\n",
       "      <td>0</td>\n",
       "      <td>0</td>\n",
       "    </tr>\n",
       "    <tr>\n",
       "      <th>4</th>\n",
       "      <td>NaN</td>\n",
       "      <td>0002-1436</td>\n",
       "      <td>HUMAN PRESCRIPTION DRUG</td>\n",
       "      <td>EMGALITY</td>\n",
       "      <td>GALCANEZUMAB</td>\n",
       "      <td>2018-09-27</td>\n",
       "      <td>BLA</td>\n",
       "      <td>BLA761063</td>\n",
       "      <td>10</td>\n",
       "      <td>NaN</td>\n",
       "      <td>...</td>\n",
       "      <td>0</td>\n",
       "      <td>0</td>\n",
       "      <td>[SUBCUTANEOUS]</td>\n",
       "      <td>[GALCANEZUMAB]</td>\n",
       "      <td>[120]</td>\n",
       "      <td>[mg/mL]</td>\n",
       "      <td>[INJECTION, SOLUTION]</td>\n",
       "      <td>1</td>\n",
       "      <td>0</td>\n",
       "      <td>0</td>\n",
       "    </tr>\n",
       "  </tbody>\n",
       "</table>\n",
       "<p>5 rows × 21 columns</p>\n",
       "</div>"
      ],
      "text/plain": [
       "  PRODUCTID PRODUCTNDC          PRODUCTTYPENAME  PROPRIETARYNAME  \\\n",
       "0       NaN  0002-0800           HUMAN OTC DRUG  STERILE DILUENT   \n",
       "1       NaN  0002-1200  HUMAN PRESCRIPTION DRUG           AMYVID   \n",
       "2       NaN  0002-1433  HUMAN PRESCRIPTION DRUG        TRULICITY   \n",
       "3       NaN  0002-1434  HUMAN PRESCRIPTION DRUG        TRULICITY   \n",
       "4       NaN  0002-1436  HUMAN PRESCRIPTION DRUG         EMGALITY   \n",
       "\n",
       "  NONPROPRIETARYNAME STARTMARKETINGDATE MARKETINGCATEGORYNAME  \\\n",
       "0            DILUENT         1987-07-10                   NDA   \n",
       "1   FLORBETAPIR F 18         2012-06-01                   NDA   \n",
       "2        DULAGLUTIDE         2014-09-18                   BLA   \n",
       "3        DULAGLUTIDE         2014-09-18                   BLA   \n",
       "4       GALCANEZUMAB         2018-09-27                   BLA   \n",
       "\n",
       "  APPLICATIONNUMBER LABELERNAME  \\\n",
       "0         NDA018781          10   \n",
       "1         NDA202008          10   \n",
       "2         BLA125469          10   \n",
       "3         BLA125469          10   \n",
       "4         BLA761063          10   \n",
       "\n",
       "                                       PHARM_CLASSES  ...  \\\n",
       "0                                                NaN  ...   \n",
       "1  Radioactive Diagnostic Agent [EPC],Positron Em...  ...   \n",
       "2  GLP-1 Receptor Agonist [EPC],Glucagon-Like Pep...  ...   \n",
       "3  GLP-1 Receptor Agonist [EPC],Glucagon-Like Pep...  ...   \n",
       "4                                                NaN  ...   \n",
       "\n",
       "   DEASCHEDULE_determined  PROPRIETARYNAMESUFFIX_determined  ROUTENAME_list  \\\n",
       "0                       0                                 0  [SUBCUTANEOUS]   \n",
       "1                       0                                 0   [INTRAVENOUS]   \n",
       "2                       0                                 0  [SUBCUTANEOUS]   \n",
       "3                       0                                 0  [SUBCUTANEOUS]   \n",
       "4                       0                                 0  [SUBCUTANEOUS]   \n",
       "\n",
       "   SUBSTANCENAME_list ACTIVE_NUMERATOR_STRENGTH_list ACTIVE_INGRED_UNIT_list  \\\n",
       "0             [WATER]                            [1]                 [mL/mL]   \n",
       "1  [FLORBETAPIR F-18]                           [51]                [mCi/mL]   \n",
       "2       [DULAGLUTIDE]                          [.75]               [mg/.5mL]   \n",
       "3       [DULAGLUTIDE]                          [1.5]               [mg/.5mL]   \n",
       "4      [GALCANEZUMAB]                          [120]                 [mg/mL]   \n",
       "\n",
       "     DOSAGEFORMNAME_list LISTING_RECORD_CERTIFIED_THROUGH_2020-12-31 00:00:00  \\\n",
       "0  [INJECTION, SOLUTION]                                                  1     \n",
       "1  [INJECTION, SOLUTION]                                                  0     \n",
       "2  [INJECTION, SOLUTION]                                                  1     \n",
       "3  [INJECTION, SOLUTION]                                                  1     \n",
       "4  [INJECTION, SOLUTION]                                                  1     \n",
       "\n",
       "   LISTING_RECORD_CERTIFIED_THROUGH_2021-12-31 00:00:00  \\\n",
       "0                                                  0      \n",
       "1                                                  1      \n",
       "2                                                  0      \n",
       "3                                                  0      \n",
       "4                                                  0      \n",
       "\n",
       "   LISTING_RECORD_CERTIFIED_THROUGH_undetermined  \n",
       "0                                              0  \n",
       "1                                              0  \n",
       "2                                              0  \n",
       "3                                              0  \n",
       "4                                              0  \n",
       "\n",
       "[5 rows x 21 columns]"
      ]
     },
     "execution_count": 116,
     "metadata": {},
     "output_type": "execute_result"
    }
   ],
   "source": [
    "prod.head()"
   ]
  },
  {
   "attachments": {},
   "cell_type": "markdown",
   "metadata": {},
   "source": [
    "Not sure how much it will bring to the model. In any case, we can convert it to numerical since there are 3 categories total"
   ]
  },
  {
   "attachments": {},
   "cell_type": "markdown",
   "metadata": {},
   "source": [
    "**PHARM_CLASSES Verification and correction**"
   ]
  },
  {
   "cell_type": "code",
   "execution_count": 117,
   "metadata": {},
   "outputs": [
    {
     "name": "stdout",
     "output_type": "stream",
     "text": [
      "There are 50917 missing values for PHARM_CLASSES\n"
     ]
    }
   ],
   "source": [
    "print(f\"There are {prod['PHARM_CLASSES'].isnull().sum()} missing values for PHARM_CLASSES\")"
   ]
  },
  {
   "cell_type": "code",
   "execution_count": 118,
   "metadata": {},
   "outputs": [
    {
     "data": {
      "text/plain": [
       "nan    50917\n",
       "2.0    23254\n",
       "3.0     5039\n",
       "4.0     3424\n",
       "1.0     3073\n",
       "5.0     3005\n",
       "Name: PHARM_CLASSES, dtype: int64"
      ]
     },
     "execution_count": 118,
     "metadata": {},
     "output_type": "execute_result"
    }
   ],
   "source": [
    "# Counts of Number of classes per objects\n",
    "prod[\"PHARM_CLASSES\"].str.split(\",\").str.len().sort_values().astype(str).value_counts()[:6]"
   ]
  },
  {
   "cell_type": "code",
   "execution_count": 119,
   "metadata": {},
   "outputs": [
    {
     "data": {
      "text/plain": [
       "0                                                  NaN\n",
       "1    Radioactive Diagnostic Agent [EPC],Positron Em...\n",
       "2    GLP-1 Receptor Agonist [EPC],Glucagon-Like Pep...\n",
       "3    GLP-1 Receptor Agonist [EPC],Glucagon-Like Pep...\n",
       "4                                                  NaN\n",
       "Name: PHARM_CLASSES, dtype: object"
      ]
     },
     "execution_count": 119,
     "metadata": {},
     "output_type": "execute_result"
    }
   ],
   "source": [
    "prod[\"PHARM_CLASSES\"].head()"
   ]
  },
  {
   "attachments": {},
   "cell_type": "markdown",
   "metadata": {},
   "source": [
    "**Extracting only the PHARM_CLASS code**"
   ]
  },
  {
   "cell_type": "code",
   "execution_count": 120,
   "metadata": {},
   "outputs": [
    {
     "data": {
      "text/plain": [
       "0                                                  NaN\n",
       "1    Radioactive Diagnostic Agent [EPC],Positron Em...\n",
       "2    GLP-1 Receptor Agonist [EPC],Glucagon-Like Pep...\n",
       "3    GLP-1 Receptor Agonist [EPC],Glucagon-Like Pep...\n",
       "4                                                  NaN\n",
       "Name: PHARM_CLASSES, dtype: object"
      ]
     },
     "execution_count": 120,
     "metadata": {},
     "output_type": "execute_result"
    }
   ],
   "source": [
    "prod[\"PHARM_CLASSES\"].head()"
   ]
  },
  {
   "cell_type": "code",
   "execution_count": 121,
   "metadata": {},
   "outputs": [
    {
     "data": {
      "text/plain": [
       "0               NaN\n",
       "1        [EPC, MoA]\n",
       "2    [EPC, CS, MoA]\n",
       "3    [EPC, CS, MoA]\n",
       "4               NaN\n",
       "Name: PHARM_CLASSES, dtype: object"
      ]
     },
     "execution_count": 121,
     "metadata": {},
     "output_type": "execute_result"
    }
   ],
   "source": [
    "prod[\"PHARM_CLASSES\"].str.findall(\"\\[(.*?)\\]\").head()"
   ]
  },
  {
   "attachments": {},
   "cell_type": "markdown",
   "metadata": {},
   "source": [
    "There are repetitions within pharm_classes because it is linked to the SubstanceName molecules"
   ]
  },
  {
   "cell_type": "code",
   "execution_count": 122,
   "metadata": {},
   "outputs": [
    {
     "data": {
      "text/plain": [
       "11    [EPC, EPC, MoA]\n",
       "12    [EPC, EPC, MoA]\n",
       "13    [EPC, EPC, MoA]\n",
       "14    [EPC, EPC, MoA]\n",
       "15    [MoA, EPC, MoA]\n",
       "Name: PHARM_CLASSES, dtype: object"
      ]
     },
     "execution_count": 122,
     "metadata": {},
     "output_type": "execute_result"
    }
   ],
   "source": [
    "prod[\"PHARM_CLASSES\"].str.findall(\"\\[(.*?)\\]\").dropna()[prod[\"PHARM_CLASSES\"].dropna().str.findall(\"\\[(.*?)\\]\").str.len() > prod[\"PHARM_CLASSES\"].str.findall(\"\\[(.*?)\\]\").dropna().apply(lambda x: set(x)).str.len()].head()"
   ]
  },
  {
   "attachments": {},
   "cell_type": "markdown",
   "metadata": {},
   "source": [
    "**We will need to go back later and extract the PHARM_CLASSES associated with each code and split them into different feature with get_dummies or OHE**"
   ]
  },
  {
   "attachments": {},
   "cell_type": "markdown",
   "metadata": {},
   "source": [
    "### Exploring package data"
   ]
  },
  {
   "cell_type": "code",
   "execution_count": 123,
   "metadata": {},
   "outputs": [
    {
     "data": {
      "text/html": [
       "<div>\n",
       "<style scoped>\n",
       "    .dataframe tbody tr th:only-of-type {\n",
       "        vertical-align: middle;\n",
       "    }\n",
       "\n",
       "    .dataframe tbody tr th {\n",
       "        vertical-align: top;\n",
       "    }\n",
       "\n",
       "    .dataframe thead th {\n",
       "        text-align: right;\n",
       "    }\n",
       "</style>\n",
       "<table border=\"1\" class=\"dataframe\">\n",
       "  <thead>\n",
       "    <tr style=\"text-align: right;\">\n",
       "      <th></th>\n",
       "      <th>PRODUCTID</th>\n",
       "      <th>PRODUCTNDC</th>\n",
       "      <th>NDCPACKAGECODE</th>\n",
       "      <th>PACKAGEDESCRIPTION</th>\n",
       "      <th>STARTMARKETINGDATE</th>\n",
       "      <th>ENDMARKETINGDATE</th>\n",
       "      <th>NDC_EXCLUDE_FLAG</th>\n",
       "      <th>SAMPLE_PACKAGE</th>\n",
       "    </tr>\n",
       "  </thead>\n",
       "  <tbody>\n",
       "    <tr>\n",
       "      <th>0</th>\n",
       "      <td>0002-0800_94c48759-29bb-402d-afff-9a713be11f0e</td>\n",
       "      <td>0002-0800</td>\n",
       "      <td>0002-0800-01</td>\n",
       "      <td>1 VIAL in 1 CARTON (0002-0800-01)  &gt; 10 mL in ...</td>\n",
       "      <td>19870710</td>\n",
       "      <td>NaN</td>\n",
       "      <td>N</td>\n",
       "      <td>N</td>\n",
       "    </tr>\n",
       "    <tr>\n",
       "      <th>1</th>\n",
       "      <td>0002-1200_35551a38-7a8d-43b8-8abd-f6cb7549e932</td>\n",
       "      <td>0002-1200</td>\n",
       "      <td>0002-1200-30</td>\n",
       "      <td>1 VIAL, MULTI-DOSE in 1 CAN (0002-1200-30)  &gt; ...</td>\n",
       "      <td>20120601</td>\n",
       "      <td>NaN</td>\n",
       "      <td>N</td>\n",
       "      <td>N</td>\n",
       "    </tr>\n",
       "    <tr>\n",
       "      <th>2</th>\n",
       "      <td>0002-1200_35551a38-7a8d-43b8-8abd-f6cb7549e932</td>\n",
       "      <td>0002-1200</td>\n",
       "      <td>0002-1200-50</td>\n",
       "      <td>1 VIAL, MULTI-DOSE in 1 CAN (0002-1200-50)  &gt; ...</td>\n",
       "      <td>20120601</td>\n",
       "      <td>NaN</td>\n",
       "      <td>N</td>\n",
       "      <td>N</td>\n",
       "    </tr>\n",
       "    <tr>\n",
       "      <th>3</th>\n",
       "      <td>0002-1433_42a80046-fd68-4b80-819c-a443b7816edb</td>\n",
       "      <td>0002-1433</td>\n",
       "      <td>0002-1433-61</td>\n",
       "      <td>2 SYRINGE in 1 CARTON (0002-1433-61)  &gt; .5 mL ...</td>\n",
       "      <td>20141107</td>\n",
       "      <td>NaN</td>\n",
       "      <td>N</td>\n",
       "      <td>Y</td>\n",
       "    </tr>\n",
       "    <tr>\n",
       "      <th>4</th>\n",
       "      <td>0002-1433_42a80046-fd68-4b80-819c-a443b7816edb</td>\n",
       "      <td>0002-1433</td>\n",
       "      <td>0002-1433-80</td>\n",
       "      <td>4 SYRINGE in 1 CARTON (0002-1433-80)  &gt; .5 mL ...</td>\n",
       "      <td>20141107</td>\n",
       "      <td>NaN</td>\n",
       "      <td>N</td>\n",
       "      <td>N</td>\n",
       "    </tr>\n",
       "  </tbody>\n",
       "</table>\n",
       "</div>"
      ],
      "text/plain": [
       "                                        PRODUCTID PRODUCTNDC NDCPACKAGECODE  \\\n",
       "0  0002-0800_94c48759-29bb-402d-afff-9a713be11f0e  0002-0800   0002-0800-01   \n",
       "1  0002-1200_35551a38-7a8d-43b8-8abd-f6cb7549e932  0002-1200   0002-1200-30   \n",
       "2  0002-1200_35551a38-7a8d-43b8-8abd-f6cb7549e932  0002-1200   0002-1200-50   \n",
       "3  0002-1433_42a80046-fd68-4b80-819c-a443b7816edb  0002-1433   0002-1433-61   \n",
       "4  0002-1433_42a80046-fd68-4b80-819c-a443b7816edb  0002-1433   0002-1433-80   \n",
       "\n",
       "                                  PACKAGEDESCRIPTION  STARTMARKETINGDATE  \\\n",
       "0  1 VIAL in 1 CARTON (0002-0800-01)  > 10 mL in ...            19870710   \n",
       "1  1 VIAL, MULTI-DOSE in 1 CAN (0002-1200-30)  > ...            20120601   \n",
       "2  1 VIAL, MULTI-DOSE in 1 CAN (0002-1200-50)  > ...            20120601   \n",
       "3  2 SYRINGE in 1 CARTON (0002-1433-61)  > .5 mL ...            20141107   \n",
       "4  4 SYRINGE in 1 CARTON (0002-1433-80)  > .5 mL ...            20141107   \n",
       "\n",
       "   ENDMARKETINGDATE NDC_EXCLUDE_FLAG SAMPLE_PACKAGE  \n",
       "0               NaN                N              N  \n",
       "1               NaN                N              N  \n",
       "2               NaN                N              N  \n",
       "3               NaN                N              Y  \n",
       "4               NaN                N              N  "
      ]
     },
     "execution_count": 123,
     "metadata": {},
     "output_type": "execute_result"
    }
   ],
   "source": [
    "pack.head()"
   ]
  },
  {
   "cell_type": "code",
   "execution_count": 124,
   "metadata": {},
   "outputs": [
    {
     "name": "stdout",
     "output_type": "stream",
     "text": [
      "pack dataframe has 173887 objects and 8 columns.\n"
     ]
    }
   ],
   "source": [
    "print(f\"pack dataframe has {pack.shape[0]} objects and {pack.shape[1]} columns.\") "
   ]
  },
  {
   "cell_type": "code",
   "execution_count": 125,
   "metadata": {},
   "outputs": [
    {
     "name": "stdout",
     "output_type": "stream",
     "text": [
      " There are 2 numerical columns :\n",
      "\n",
      "['STARTMARKETINGDATE', 'ENDMARKETINGDATE']\n"
     ]
    }
   ],
   "source": [
    "print(f\" There are {len(pack.dtypes[pack.dtypes != 'object'])} numerical columns :\\n\") \n",
    "print(pack.dtypes[pack.dtypes != \"object\"].index.to_list())"
   ]
  },
  {
   "cell_type": "code",
   "execution_count": 126,
   "metadata": {},
   "outputs": [
    {
     "name": "stdout",
     "output_type": "stream",
     "text": [
      " There are 6 non-numerical columns :\n",
      "\n",
      "['PRODUCTID', 'PRODUCTNDC', 'NDCPACKAGECODE', 'PACKAGEDESCRIPTION', 'NDC_EXCLUDE_FLAG', 'SAMPLE_PACKAGE']\n"
     ]
    }
   ],
   "source": [
    "print(f\" There are {len(pack.dtypes[pack.dtypes == 'object'])} non-numerical columns :\\n\") \n",
    "print(pack.dtypes[pack.dtypes == \"object\"].index.to_list())"
   ]
  },
  {
   "attachments": {},
   "cell_type": "markdown",
   "metadata": {},
   "source": [
    "**Evaluating NaN of all features**"
   ]
  },
  {
   "cell_type": "code",
   "execution_count": 127,
   "metadata": {},
   "outputs": [
    {
     "data": {
      "text/plain": [
       "PRODUCTID                  0\n",
       "PRODUCTNDC              1500\n",
       "NDCPACKAGECODE          2346\n",
       "PACKAGEDESCRIPTION         0\n",
       "STARTMARKETINGDATE         0\n",
       "ENDMARKETINGDATE      167431\n",
       "NDC_EXCLUDE_FLAG           0\n",
       "SAMPLE_PACKAGE             0\n",
       "dtype: int64"
      ]
     },
     "execution_count": 127,
     "metadata": {},
     "output_type": "execute_result"
    }
   ],
   "source": [
    "pack.isnull().sum()"
   ]
  },
  {
   "attachments": {},
   "cell_type": "markdown",
   "metadata": {},
   "source": [
    "**Evaluating PRODUCTNDC, PRODUCTID and NDCPACKAGECODE since they are interelated**"
   ]
  },
  {
   "cell_type": "code",
   "execution_count": 128,
   "metadata": {},
   "outputs": [
    {
     "name": "stdout",
     "output_type": "stream",
     "text": [
      "Num objects with no NA in ProdID/NDC : 172387\n"
     ]
    }
   ],
   "source": [
    "print(f\"Num objects with no NA in ProdID/NDC : {len(pack[['PRODUCTID', 'PRODUCTNDC']].dropna())}\")"
   ]
  },
  {
   "cell_type": "code",
   "execution_count": 129,
   "metadata": {},
   "outputs": [
    {
     "name": "stdout",
     "output_type": "stream",
     "text": [
      "Num objects with NDC code within ID col : 171868\n"
     ]
    }
   ],
   "source": [
    "print(f\"Num objects with NDC code within ID col : {pack[['PRODUCTID', 'PRODUCTNDC']].dropna().apply(lambda x : x.PRODUCTNDC in x.PRODUCTID, axis=1).sum()}\")"
   ]
  },
  {
   "cell_type": "code",
   "execution_count": 130,
   "metadata": {},
   "outputs": [
    {
     "name": "stdout",
     "output_type": "stream",
     "text": [
      "Num objects with incongruences btw ID and NDC : 519\n"
     ]
    }
   ],
   "source": [
    "print(f\"Num objects with incongruences btw ID and NDC : {len(pack[['PRODUCTID', 'PRODUCTNDC']].dropna()) - pack[['PRODUCTID', 'PRODUCTNDC']].dropna().apply(lambda x : x.PRODUCTNDC in x.PRODUCTID, axis=1).sum()}\")"
   ]
  },
  {
   "attachments": {},
   "cell_type": "markdown",
   "metadata": {},
   "source": [
    "Duplication within those 3 features"
   ]
  },
  {
   "cell_type": "code",
   "execution_count": 131,
   "metadata": {},
   "outputs": [
    {
     "data": {
      "text/plain": [
       "81307"
      ]
     },
     "execution_count": 131,
     "metadata": {},
     "output_type": "execute_result"
    }
   ],
   "source": [
    "pack[\"PRODUCTNDC\"].dropna().duplicated().sum()"
   ]
  },
  {
   "cell_type": "code",
   "execution_count": 132,
   "metadata": {},
   "outputs": [
    {
     "data": {
      "text/plain": [
       "80803"
      ]
     },
     "execution_count": 132,
     "metadata": {},
     "output_type": "execute_result"
    }
   ],
   "source": [
    "pack[\"PRODUCTID\"].dropna().duplicated().sum()"
   ]
  },
  {
   "cell_type": "code",
   "execution_count": 133,
   "metadata": {},
   "outputs": [
    {
     "data": {
      "text/plain": [
       "94"
      ]
     },
     "execution_count": 133,
     "metadata": {},
     "output_type": "execute_result"
    }
   ],
   "source": [
    "pack[\"NDCPACKAGECODE\"].dropna().duplicated().sum()"
   ]
  },
  {
   "attachments": {},
   "cell_type": "markdown",
   "metadata": {},
   "source": [
    "Incongruency between the 3 features"
   ]
  },
  {
   "cell_type": "code",
   "execution_count": 134,
   "metadata": {},
   "outputs": [
    {
     "data": {
      "text/html": [
       "<div>\n",
       "<style scoped>\n",
       "    .dataframe tbody tr th:only-of-type {\n",
       "        vertical-align: middle;\n",
       "    }\n",
       "\n",
       "    .dataframe tbody tr th {\n",
       "        vertical-align: top;\n",
       "    }\n",
       "\n",
       "    .dataframe thead th {\n",
       "        text-align: right;\n",
       "    }\n",
       "</style>\n",
       "<table border=\"1\" class=\"dataframe\">\n",
       "  <thead>\n",
       "    <tr style=\"text-align: right;\">\n",
       "      <th></th>\n",
       "      <th>PRODUCTID</th>\n",
       "      <th>PRODUCTNDC</th>\n",
       "      <th>NDCPACKAGECODE</th>\n",
       "      <th>PACKAGEDESCRIPTION</th>\n",
       "      <th>STARTMARKETINGDATE</th>\n",
       "      <th>ENDMARKETINGDATE</th>\n",
       "      <th>NDC_EXCLUDE_FLAG</th>\n",
       "      <th>SAMPLE_PACKAGE</th>\n",
       "    </tr>\n",
       "  </thead>\n",
       "  <tbody>\n",
       "    <tr>\n",
       "      <th>36701</th>\n",
       "      <td>29300-111_4651c75e-b53c-4e27-ad2d-1e8af9111949</td>\n",
       "      <td>20111101</td>\n",
       "      <td>29300-111-01</td>\n",
       "      <td>100 TABLET in 1 BOTTLE, PLASTIC (29300-111-01)</td>\n",
       "      <td>20111101</td>\n",
       "      <td>NaN</td>\n",
       "      <td>N</td>\n",
       "      <td>N</td>\n",
       "    </tr>\n",
       "    <tr>\n",
       "      <th>36702</th>\n",
       "      <td>29300-111_4651c75e-b53c-4e27-ad2d-1e8af9111949</td>\n",
       "      <td>20111101</td>\n",
       "      <td>29300-111-05</td>\n",
       "      <td>500 TABLET in 1 BOTTLE, PLASTIC (29300-111-05)</td>\n",
       "      <td>20111101</td>\n",
       "      <td>NaN</td>\n",
       "      <td>N</td>\n",
       "      <td>N</td>\n",
       "    </tr>\n",
       "    <tr>\n",
       "      <th>36703</th>\n",
       "      <td>29300-111_4651c75e-b53c-4e27-ad2d-1e8af9111949</td>\n",
       "      <td>20111101</td>\n",
       "      <td>29300-111-10</td>\n",
       "      <td>1000 TABLET in 1 BOTTLE, PLASTIC (29300-111-10)</td>\n",
       "      <td>20111101</td>\n",
       "      <td>NaN</td>\n",
       "      <td>N</td>\n",
       "      <td>N</td>\n",
       "    </tr>\n",
       "    <tr>\n",
       "      <th>36704</th>\n",
       "      <td>29300-112_4651c75e-b53c-4e27-ad2d-1e8af9111949</td>\n",
       "      <td>20111101</td>\n",
       "      <td>29300-112-01</td>\n",
       "      <td>100 TABLET in 1 BOTTLE, PLASTIC (29300-112-01)</td>\n",
       "      <td>20111101</td>\n",
       "      <td>NaN</td>\n",
       "      <td>N</td>\n",
       "      <td>N</td>\n",
       "    </tr>\n",
       "    <tr>\n",
       "      <th>36705</th>\n",
       "      <td>29300-112_4651c75e-b53c-4e27-ad2d-1e8af9111949</td>\n",
       "      <td>20111101</td>\n",
       "      <td>29300-112-05</td>\n",
       "      <td>500 TABLET in 1 BOTTLE, PLASTIC (29300-112-05)</td>\n",
       "      <td>20111101</td>\n",
       "      <td>NaN</td>\n",
       "      <td>N</td>\n",
       "      <td>N</td>\n",
       "    </tr>\n",
       "  </tbody>\n",
       "</table>\n",
       "</div>"
      ],
      "text/plain": [
       "                                            PRODUCTID PRODUCTNDC  \\\n",
       "36701  29300-111_4651c75e-b53c-4e27-ad2d-1e8af9111949   20111101   \n",
       "36702  29300-111_4651c75e-b53c-4e27-ad2d-1e8af9111949   20111101   \n",
       "36703  29300-111_4651c75e-b53c-4e27-ad2d-1e8af9111949   20111101   \n",
       "36704  29300-112_4651c75e-b53c-4e27-ad2d-1e8af9111949   20111101   \n",
       "36705  29300-112_4651c75e-b53c-4e27-ad2d-1e8af9111949   20111101   \n",
       "\n",
       "      NDCPACKAGECODE                                PACKAGEDESCRIPTION  \\\n",
       "36701   29300-111-01   100 TABLET in 1 BOTTLE, PLASTIC (29300-111-01)    \n",
       "36702   29300-111-05   500 TABLET in 1 BOTTLE, PLASTIC (29300-111-05)    \n",
       "36703   29300-111-10  1000 TABLET in 1 BOTTLE, PLASTIC (29300-111-10)    \n",
       "36704   29300-112-01   100 TABLET in 1 BOTTLE, PLASTIC (29300-112-01)    \n",
       "36705   29300-112-05   500 TABLET in 1 BOTTLE, PLASTIC (29300-112-05)    \n",
       "\n",
       "       STARTMARKETINGDATE  ENDMARKETINGDATE NDC_EXCLUDE_FLAG SAMPLE_PACKAGE  \n",
       "36701            20111101               NaN                N              N  \n",
       "36702            20111101               NaN                N              N  \n",
       "36703            20111101               NaN                N              N  \n",
       "36704            20111101               NaN                N              N  \n",
       "36705            20111101               NaN                N              N  "
      ]
     },
     "execution_count": 134,
     "metadata": {},
     "output_type": "execute_result"
    }
   ],
   "source": [
    "# Looking at some of those objects\n",
    "pack.iloc[pack[['PRODUCTID', 'PRODUCTNDC']].dropna()[pack[['PRODUCTID', 'PRODUCTNDC']].dropna().apply(lambda x : x.PRODUCTNDC not in x.PRODUCTID, axis=1)].index, :].tail()"
   ]
  },
  {
   "cell_type": "code",
   "execution_count": 135,
   "metadata": {},
   "outputs": [
    {
     "data": {
      "text/html": [
       "<div>\n",
       "<style scoped>\n",
       "    .dataframe tbody tr th:only-of-type {\n",
       "        vertical-align: middle;\n",
       "    }\n",
       "\n",
       "    .dataframe tbody tr th {\n",
       "        vertical-align: top;\n",
       "    }\n",
       "\n",
       "    .dataframe thead th {\n",
       "        text-align: right;\n",
       "    }\n",
       "</style>\n",
       "<table border=\"1\" class=\"dataframe\">\n",
       "  <thead>\n",
       "    <tr style=\"text-align: right;\">\n",
       "      <th></th>\n",
       "      <th>NDCPACKAGECODE</th>\n",
       "      <th>PRODUCTNDC</th>\n",
       "    </tr>\n",
       "  </thead>\n",
       "  <tbody>\n",
       "    <tr>\n",
       "      <th>228</th>\n",
       "      <td>0006-0005-13</td>\n",
       "      <td>05-juin</td>\n",
       "    </tr>\n",
       "    <tr>\n",
       "      <th>229</th>\n",
       "      <td>0006-0005-30</td>\n",
       "      <td>05-juin</td>\n",
       "    </tr>\n",
       "    <tr>\n",
       "      <th>230</th>\n",
       "      <td>0006-0019-54</td>\n",
       "      <td>19-juin</td>\n",
       "    </tr>\n",
       "    <tr>\n",
       "      <th>492</th>\n",
       "      <td>0009-0003-02</td>\n",
       "      <td>03-sept</td>\n",
       "    </tr>\n",
       "    <tr>\n",
       "      <th>493</th>\n",
       "      <td>0009-0005-01</td>\n",
       "      <td>05-sept</td>\n",
       "    </tr>\n",
       "    <tr>\n",
       "      <th>...</th>\n",
       "      <td>...</td>\n",
       "      <td>...</td>\n",
       "    </tr>\n",
       "    <tr>\n",
       "      <th>41910</th>\n",
       "      <td>20200531</td>\n",
       "      <td>37205-941</td>\n",
       "    </tr>\n",
       "    <tr>\n",
       "      <th>41913</th>\n",
       "      <td>20200831</td>\n",
       "      <td>37205-980</td>\n",
       "    </tr>\n",
       "    <tr>\n",
       "      <th>41914</th>\n",
       "      <td>20200831</td>\n",
       "      <td>37205-980</td>\n",
       "    </tr>\n",
       "    <tr>\n",
       "      <th>41928</th>\n",
       "      <td>20201130</td>\n",
       "      <td>37808-018</td>\n",
       "    </tr>\n",
       "    <tr>\n",
       "      <th>41946</th>\n",
       "      <td>20201231</td>\n",
       "      <td>37808-038</td>\n",
       "    </tr>\n",
       "  </tbody>\n",
       "</table>\n",
       "<p>674 rows × 2 columns</p>\n",
       "</div>"
      ],
      "text/plain": [
       "      NDCPACKAGECODE PRODUCTNDC\n",
       "228     0006-0005-13    05-juin\n",
       "229     0006-0005-30    05-juin\n",
       "230     0006-0019-54    19-juin\n",
       "492     0009-0003-02    03-sept\n",
       "493     0009-0005-01    05-sept\n",
       "...              ...        ...\n",
       "41910       20200531  37205-941\n",
       "41913       20200831  37205-980\n",
       "41914       20200831  37205-980\n",
       "41928       20201130  37808-018\n",
       "41946       20201231  37808-038\n",
       "\n",
       "[674 rows x 2 columns]"
      ]
     },
     "execution_count": 135,
     "metadata": {},
     "output_type": "execute_result"
    }
   ],
   "source": [
    "pack[['NDCPACKAGECODE', 'PRODUCTNDC']].dropna()[pack[['NDCPACKAGECODE', 'PRODUCTNDC']].dropna().apply(lambda x : x.PRODUCTNDC not in x.NDCPACKAGECODE, axis=1)]\n"
   ]
  },
  {
   "attachments": {},
   "cell_type": "markdown",
   "metadata": {},
   "source": [
    "Let's drop those since they are mislabelled because they are suppose to be a match"
   ]
  },
  {
   "cell_type": "code",
   "execution_count": 136,
   "metadata": {},
   "outputs": [],
   "source": [
    "pack = pack.drop(pack[['NDCPACKAGECODE', 'PRODUCTNDC']].dropna()[pack[['NDCPACKAGECODE', 'PRODUCTNDC']].dropna().apply(lambda x : x.PRODUCTNDC not in x.NDCPACKAGECODE, axis=1)].index)\n"
   ]
  },
  {
   "attachments": {},
   "cell_type": "markdown",
   "metadata": {},
   "source": [
    "That covers it"
   ]
  },
  {
   "cell_type": "code",
   "execution_count": 137,
   "metadata": {},
   "outputs": [
    {
     "data": {
      "text/plain": [
       "0"
      ]
     },
     "execution_count": 137,
     "metadata": {},
     "output_type": "execute_result"
    }
   ],
   "source": [
    "len(pack[['NDCPACKAGECODE', 'PRODUCTID']].dropna()[pack[['NDCPACKAGECODE', 'PRODUCTID']].dropna().apply(lambda x : x.NDCPACKAGECODE.rsplit(\"-\", 1)[0] not in x.PRODUCTID, axis=1)])\n"
   ]
  },
  {
   "attachments": {},
   "cell_type": "markdown",
   "metadata": {},
   "source": [
    "All in all PRODUCTNDC contains the more mislabels so we can drop that column entirely since it will not be used in the merging of the 2 tables and classification task.\n",
    "NDCPACKAGECODE won't be usefull for merging the two tables since it is absent from the product df"
   ]
  },
  {
   "attachments": {},
   "cell_type": "markdown",
   "metadata": {},
   "source": [
    "From the FDA website about PRODUCTID:\n",
    "> \tProductID is a concatenation of the NDCproduct code and SPL documentID. It is included to help prevent duplicate rows from appearing when joining the product and package files together.  It has no regulatory value or significance."
   ]
  },
  {
   "attachments": {},
   "cell_type": "markdown",
   "metadata": {},
   "source": [
    "**We will use the ProductID to merge the 2 tables. we  can later verify if the product have mismatches after the join. Also we can drop the NDCPACKAGECODE now since it is redundant with the other 2 identification features**"
   ]
  },
  {
   "cell_type": "code",
   "execution_count": 138,
   "metadata": {},
   "outputs": [],
   "source": [
    "pack = pack.drop(columns=\"NDCPACKAGECODE\")"
   ]
  },
  {
   "cell_type": "code",
   "execution_count": 139,
   "metadata": {},
   "outputs": [
    {
     "data": {
      "text/html": [
       "<div>\n",
       "<style scoped>\n",
       "    .dataframe tbody tr th:only-of-type {\n",
       "        vertical-align: middle;\n",
       "    }\n",
       "\n",
       "    .dataframe tbody tr th {\n",
       "        vertical-align: top;\n",
       "    }\n",
       "\n",
       "    .dataframe thead th {\n",
       "        text-align: right;\n",
       "    }\n",
       "</style>\n",
       "<table border=\"1\" class=\"dataframe\">\n",
       "  <thead>\n",
       "    <tr style=\"text-align: right;\">\n",
       "      <th></th>\n",
       "      <th>PRODUCTID</th>\n",
       "      <th>PRODUCTNDC</th>\n",
       "      <th>PACKAGEDESCRIPTION</th>\n",
       "      <th>STARTMARKETINGDATE</th>\n",
       "      <th>ENDMARKETINGDATE</th>\n",
       "      <th>NDC_EXCLUDE_FLAG</th>\n",
       "      <th>SAMPLE_PACKAGE</th>\n",
       "    </tr>\n",
       "  </thead>\n",
       "  <tbody>\n",
       "    <tr>\n",
       "      <th>0</th>\n",
       "      <td>0002-0800_94c48759-29bb-402d-afff-9a713be11f0e</td>\n",
       "      <td>0002-0800</td>\n",
       "      <td>1 VIAL in 1 CARTON (0002-0800-01)  &gt; 10 mL in ...</td>\n",
       "      <td>19870710</td>\n",
       "      <td>NaN</td>\n",
       "      <td>N</td>\n",
       "      <td>N</td>\n",
       "    </tr>\n",
       "    <tr>\n",
       "      <th>1</th>\n",
       "      <td>0002-1200_35551a38-7a8d-43b8-8abd-f6cb7549e932</td>\n",
       "      <td>0002-1200</td>\n",
       "      <td>1 VIAL, MULTI-DOSE in 1 CAN (0002-1200-30)  &gt; ...</td>\n",
       "      <td>20120601</td>\n",
       "      <td>NaN</td>\n",
       "      <td>N</td>\n",
       "      <td>N</td>\n",
       "    </tr>\n",
       "    <tr>\n",
       "      <th>2</th>\n",
       "      <td>0002-1200_35551a38-7a8d-43b8-8abd-f6cb7549e932</td>\n",
       "      <td>0002-1200</td>\n",
       "      <td>1 VIAL, MULTI-DOSE in 1 CAN (0002-1200-50)  &gt; ...</td>\n",
       "      <td>20120601</td>\n",
       "      <td>NaN</td>\n",
       "      <td>N</td>\n",
       "      <td>N</td>\n",
       "    </tr>\n",
       "    <tr>\n",
       "      <th>3</th>\n",
       "      <td>0002-1433_42a80046-fd68-4b80-819c-a443b7816edb</td>\n",
       "      <td>0002-1433</td>\n",
       "      <td>2 SYRINGE in 1 CARTON (0002-1433-61)  &gt; .5 mL ...</td>\n",
       "      <td>20141107</td>\n",
       "      <td>NaN</td>\n",
       "      <td>N</td>\n",
       "      <td>Y</td>\n",
       "    </tr>\n",
       "    <tr>\n",
       "      <th>4</th>\n",
       "      <td>0002-1433_42a80046-fd68-4b80-819c-a443b7816edb</td>\n",
       "      <td>0002-1433</td>\n",
       "      <td>4 SYRINGE in 1 CARTON (0002-1433-80)  &gt; .5 mL ...</td>\n",
       "      <td>20141107</td>\n",
       "      <td>NaN</td>\n",
       "      <td>N</td>\n",
       "      <td>N</td>\n",
       "    </tr>\n",
       "  </tbody>\n",
       "</table>\n",
       "</div>"
      ],
      "text/plain": [
       "                                        PRODUCTID PRODUCTNDC  \\\n",
       "0  0002-0800_94c48759-29bb-402d-afff-9a713be11f0e  0002-0800   \n",
       "1  0002-1200_35551a38-7a8d-43b8-8abd-f6cb7549e932  0002-1200   \n",
       "2  0002-1200_35551a38-7a8d-43b8-8abd-f6cb7549e932  0002-1200   \n",
       "3  0002-1433_42a80046-fd68-4b80-819c-a443b7816edb  0002-1433   \n",
       "4  0002-1433_42a80046-fd68-4b80-819c-a443b7816edb  0002-1433   \n",
       "\n",
       "                                  PACKAGEDESCRIPTION  STARTMARKETINGDATE  \\\n",
       "0  1 VIAL in 1 CARTON (0002-0800-01)  > 10 mL in ...            19870710   \n",
       "1  1 VIAL, MULTI-DOSE in 1 CAN (0002-1200-30)  > ...            20120601   \n",
       "2  1 VIAL, MULTI-DOSE in 1 CAN (0002-1200-50)  > ...            20120601   \n",
       "3  2 SYRINGE in 1 CARTON (0002-1433-61)  > .5 mL ...            20141107   \n",
       "4  4 SYRINGE in 1 CARTON (0002-1433-80)  > .5 mL ...            20141107   \n",
       "\n",
       "   ENDMARKETINGDATE NDC_EXCLUDE_FLAG SAMPLE_PACKAGE  \n",
       "0               NaN                N              N  \n",
       "1               NaN                N              N  \n",
       "2               NaN                N              N  \n",
       "3               NaN                N              Y  \n",
       "4               NaN                N              N  "
      ]
     },
     "execution_count": 139,
     "metadata": {},
     "output_type": "execute_result"
    }
   ],
   "source": [
    "pack.head()"
   ]
  },
  {
   "attachments": {},
   "cell_type": "markdown",
   "metadata": {},
   "source": [
    "**PackageDescription contains some relevant information for a classification task such as volume, type of packaging. However, some information is redundant such as the NDCPACKAGECODE in parenthesis and some information such as the volume will be found in the Units used in the product table**\n",
    "\n",
    "Let's try to extract at least the the size/type of the first occurence. We use regex to get the first occurence of size/type and a second capture group if `>` is present. We then only keep the first group or second based on weither it's present or not"
   ]
  },
  {
   "cell_type": "code",
   "execution_count": 140,
   "metadata": {},
   "outputs": [],
   "source": [
    "pattern = r\"^[^ ]+ ([^ ,]+)|> [^ ]+ ([^ ,\\n]+)\"\n",
    "\n",
    "def extract_group(matches):\n",
    "    if len(matches) == 2:\n",
    "        return matches.iloc[1, 1]\n",
    "    else:\n",
    "        return matches.iloc[0, 0]\n",
    "\n",
    "matches = pack[\"PACKAGEDESCRIPTION\"].str.extractall(pattern)\n",
    "# matches.groupby(level=0).apply(extract_group).values\n",
    "# matches\n",
    "results = matches.groupby(level=0).apply(extract_group)\n",
    "pack[\"PACKAGEDESCRIPTION_FILTERED\"] = results\n",
    "\n"
   ]
  },
  {
   "cell_type": "code",
   "execution_count": 141,
   "metadata": {},
   "outputs": [
    {
     "data": {
      "text/html": [
       "<div>\n",
       "<style scoped>\n",
       "    .dataframe tbody tr th:only-of-type {\n",
       "        vertical-align: middle;\n",
       "    }\n",
       "\n",
       "    .dataframe tbody tr th {\n",
       "        vertical-align: top;\n",
       "    }\n",
       "\n",
       "    .dataframe thead th {\n",
       "        text-align: right;\n",
       "    }\n",
       "</style>\n",
       "<table border=\"1\" class=\"dataframe\">\n",
       "  <thead>\n",
       "    <tr style=\"text-align: right;\">\n",
       "      <th></th>\n",
       "      <th>PACKAGEDESCRIPTION</th>\n",
       "      <th>PACKAGEDESCRIPTION_FILTERED</th>\n",
       "    </tr>\n",
       "  </thead>\n",
       "  <tbody>\n",
       "    <tr>\n",
       "      <th>0</th>\n",
       "      <td>1 VIAL in 1 CARTON (0002-0800-01)  &gt; 10 mL in ...</td>\n",
       "      <td>mL</td>\n",
       "    </tr>\n",
       "    <tr>\n",
       "      <th>1</th>\n",
       "      <td>1 VIAL, MULTI-DOSE in 1 CAN (0002-1200-30)  &gt; ...</td>\n",
       "      <td>mL</td>\n",
       "    </tr>\n",
       "    <tr>\n",
       "      <th>2</th>\n",
       "      <td>1 VIAL, MULTI-DOSE in 1 CAN (0002-1200-50)  &gt; ...</td>\n",
       "      <td>mL</td>\n",
       "    </tr>\n",
       "    <tr>\n",
       "      <th>3</th>\n",
       "      <td>2 SYRINGE in 1 CARTON (0002-1433-61)  &gt; .5 mL ...</td>\n",
       "      <td>mL</td>\n",
       "    </tr>\n",
       "    <tr>\n",
       "      <th>4</th>\n",
       "      <td>4 SYRINGE in 1 CARTON (0002-1433-80)  &gt; .5 mL ...</td>\n",
       "      <td>mL</td>\n",
       "    </tr>\n",
       "    <tr>\n",
       "      <th>5</th>\n",
       "      <td>2 SYRINGE in 1 CARTON (0002-1434-61)  &gt; .5 mL ...</td>\n",
       "      <td>mL</td>\n",
       "    </tr>\n",
       "    <tr>\n",
       "      <th>6</th>\n",
       "      <td>4 SYRINGE in 1 CARTON (0002-1434-80)  &gt; .5 mL ...</td>\n",
       "      <td>mL</td>\n",
       "    </tr>\n",
       "    <tr>\n",
       "      <th>7</th>\n",
       "      <td>1 SYRINGE in 1 CARTON (0002-1436-11)  &gt; 1 mL i...</td>\n",
       "      <td>mL</td>\n",
       "    </tr>\n",
       "    <tr>\n",
       "      <th>8</th>\n",
       "      <td>2 SYRINGE in 1 CARTON (0002-1436-61)  &gt; 1 mL i...</td>\n",
       "      <td>mL</td>\n",
       "    </tr>\n",
       "    <tr>\n",
       "      <th>9</th>\n",
       "      <td>3 SYRINGE in 1 CARTON (0002-1445-09)  &gt; 1 mL i...</td>\n",
       "      <td>mL</td>\n",
       "    </tr>\n",
       "    <tr>\n",
       "      <th>10</th>\n",
       "      <td>1 SYRINGE in 1 CARTON (0002-1445-11)  &gt; 1 mL i...</td>\n",
       "      <td>mL</td>\n",
       "    </tr>\n",
       "    <tr>\n",
       "      <th>11</th>\n",
       "      <td>2 SYRINGE in 1 CARTON (0002-1445-27)  &gt; 1 mL i...</td>\n",
       "      <td>mL</td>\n",
       "    </tr>\n",
       "    <tr>\n",
       "      <th>12</th>\n",
       "      <td>1 SYRINGE in 1 CARTON (0002-1445-61)  &gt; 1 mL i...</td>\n",
       "      <td>mL</td>\n",
       "    </tr>\n",
       "    <tr>\n",
       "      <th>13</th>\n",
       "      <td>1 SYRINGE in 1 CARTON (0002-2377-11)  &gt; 1 mL i...</td>\n",
       "      <td>mL</td>\n",
       "    </tr>\n",
       "    <tr>\n",
       "      <th>14</th>\n",
       "      <td>3 SYRINGE in 1 CARTON (0002-3115-09)  &gt; 1 mL i...</td>\n",
       "      <td>mL</td>\n",
       "    </tr>\n",
       "    <tr>\n",
       "      <th>15</th>\n",
       "      <td>30 CAPSULE in 1 BOTTLE (0002-3227-30)</td>\n",
       "      <td>CAPSULE</td>\n",
       "    </tr>\n",
       "    <tr>\n",
       "      <th>16</th>\n",
       "      <td>30 CAPSULE in 1 BOTTLE (0002-3228-30)</td>\n",
       "      <td>CAPSULE</td>\n",
       "    </tr>\n",
       "    <tr>\n",
       "      <th>17</th>\n",
       "      <td>30 CAPSULE in 1 BOTTLE (0002-3229-30)</td>\n",
       "      <td>CAPSULE</td>\n",
       "    </tr>\n",
       "    <tr>\n",
       "      <th>18</th>\n",
       "      <td>30 CAPSULE in 1 BOTTLE (0002-3230-30)</td>\n",
       "      <td>CAPSULE</td>\n",
       "    </tr>\n",
       "    <tr>\n",
       "      <th>19</th>\n",
       "      <td>30 CAPSULE in 1 BOTTLE (0002-3231-30)</td>\n",
       "      <td>CAPSULE</td>\n",
       "    </tr>\n",
       "    <tr>\n",
       "      <th>20</th>\n",
       "      <td>30 CAPSULE in 1 BOTTLE (0002-3233-30)</td>\n",
       "      <td>CAPSULE</td>\n",
       "    </tr>\n",
       "    <tr>\n",
       "      <th>21</th>\n",
       "      <td>30 CAPSULE in 1 BOTTLE (0002-3234-30)</td>\n",
       "      <td>CAPSULE</td>\n",
       "    </tr>\n",
       "    <tr>\n",
       "      <th>22</th>\n",
       "      <td>60 CAPSULE, DELAYED RELEASE in 1 BOTTLE (0002-...</td>\n",
       "      <td>CAPSULE</td>\n",
       "    </tr>\n",
       "    <tr>\n",
       "      <th>23</th>\n",
       "      <td>30 CAPSULE in 1 BOTTLE (0002-3238-30)</td>\n",
       "      <td>CAPSULE</td>\n",
       "    </tr>\n",
       "    <tr>\n",
       "      <th>24</th>\n",
       "      <td>30 CAPSULE in 1 BOTTLE (0002-3239-30)</td>\n",
       "      <td>CAPSULE</td>\n",
       "    </tr>\n",
       "  </tbody>\n",
       "</table>\n",
       "</div>"
      ],
      "text/plain": [
       "                                   PACKAGEDESCRIPTION  \\\n",
       "0   1 VIAL in 1 CARTON (0002-0800-01)  > 10 mL in ...   \n",
       "1   1 VIAL, MULTI-DOSE in 1 CAN (0002-1200-30)  > ...   \n",
       "2   1 VIAL, MULTI-DOSE in 1 CAN (0002-1200-50)  > ...   \n",
       "3   2 SYRINGE in 1 CARTON (0002-1433-61)  > .5 mL ...   \n",
       "4   4 SYRINGE in 1 CARTON (0002-1433-80)  > .5 mL ...   \n",
       "5   2 SYRINGE in 1 CARTON (0002-1434-61)  > .5 mL ...   \n",
       "6   4 SYRINGE in 1 CARTON (0002-1434-80)  > .5 mL ...   \n",
       "7   1 SYRINGE in 1 CARTON (0002-1436-11)  > 1 mL i...   \n",
       "8   2 SYRINGE in 1 CARTON (0002-1436-61)  > 1 mL i...   \n",
       "9   3 SYRINGE in 1 CARTON (0002-1445-09)  > 1 mL i...   \n",
       "10  1 SYRINGE in 1 CARTON (0002-1445-11)  > 1 mL i...   \n",
       "11  2 SYRINGE in 1 CARTON (0002-1445-27)  > 1 mL i...   \n",
       "12  1 SYRINGE in 1 CARTON (0002-1445-61)  > 1 mL i...   \n",
       "13  1 SYRINGE in 1 CARTON (0002-2377-11)  > 1 mL i...   \n",
       "14  3 SYRINGE in 1 CARTON (0002-3115-09)  > 1 mL i...   \n",
       "15             30 CAPSULE in 1 BOTTLE (0002-3227-30)    \n",
       "16             30 CAPSULE in 1 BOTTLE (0002-3228-30)    \n",
       "17             30 CAPSULE in 1 BOTTLE (0002-3229-30)    \n",
       "18             30 CAPSULE in 1 BOTTLE (0002-3230-30)    \n",
       "19             30 CAPSULE in 1 BOTTLE (0002-3231-30)    \n",
       "20             30 CAPSULE in 1 BOTTLE (0002-3233-30)    \n",
       "21             30 CAPSULE in 1 BOTTLE (0002-3234-30)    \n",
       "22  60 CAPSULE, DELAYED RELEASE in 1 BOTTLE (0002-...   \n",
       "23             30 CAPSULE in 1 BOTTLE (0002-3238-30)    \n",
       "24             30 CAPSULE in 1 BOTTLE (0002-3239-30)    \n",
       "\n",
       "   PACKAGEDESCRIPTION_FILTERED  \n",
       "0                           mL  \n",
       "1                           mL  \n",
       "2                           mL  \n",
       "3                           mL  \n",
       "4                           mL  \n",
       "5                           mL  \n",
       "6                           mL  \n",
       "7                           mL  \n",
       "8                           mL  \n",
       "9                           mL  \n",
       "10                          mL  \n",
       "11                          mL  \n",
       "12                          mL  \n",
       "13                          mL  \n",
       "14                          mL  \n",
       "15                     CAPSULE  \n",
       "16                     CAPSULE  \n",
       "17                     CAPSULE  \n",
       "18                     CAPSULE  \n",
       "19                     CAPSULE  \n",
       "20                     CAPSULE  \n",
       "21                     CAPSULE  \n",
       "22                     CAPSULE  \n",
       "23                     CAPSULE  \n",
       "24                     CAPSULE  "
      ]
     },
     "execution_count": 141,
     "metadata": {},
     "output_type": "execute_result"
    }
   ],
   "source": [
    "pack[[\"PACKAGEDESCRIPTION\", \"PACKAGEDESCRIPTION_FILTERED\"]].head(25)"
   ]
  },
  {
   "cell_type": "code",
   "execution_count": 142,
   "metadata": {},
   "outputs": [
    {
     "name": "stdout",
     "output_type": "stream",
     "text": [
      "We reduced to only 83 categories for package description\n"
     ]
    }
   ],
   "source": [
    "# Exploring the categories\n",
    "print(f'We reduced to only {len(pack[\"PACKAGEDESCRIPTION_FILTERED\"].unique())} categories for package description')"
   ]
  },
  {
   "cell_type": "code",
   "execution_count": 143,
   "metadata": {},
   "outputs": [],
   "source": [
    "pack = pack.drop(columns=\"PACKAGEDESCRIPTION\")"
   ]
  },
  {
   "attachments": {},
   "cell_type": "markdown",
   "metadata": {},
   "source": [
    "**Start/End MarketingDate features will be redundant after the table join. For now let's just verify the logic and validity of the dates**\n",
    "\n",
    "Note : NaN in EndMarketingDate means it has no end scheduled for now"
   ]
  },
  {
   "cell_type": "code",
   "execution_count": 144,
   "metadata": {},
   "outputs": [
    {
     "data": {
      "text/html": [
       "<div>\n",
       "<style scoped>\n",
       "    .dataframe tbody tr th:only-of-type {\n",
       "        vertical-align: middle;\n",
       "    }\n",
       "\n",
       "    .dataframe tbody tr th {\n",
       "        vertical-align: top;\n",
       "    }\n",
       "\n",
       "    .dataframe thead th {\n",
       "        text-align: right;\n",
       "    }\n",
       "</style>\n",
       "<table border=\"1\" class=\"dataframe\">\n",
       "  <thead>\n",
       "    <tr style=\"text-align: right;\">\n",
       "      <th></th>\n",
       "      <th>PRODUCTID</th>\n",
       "      <th>PRODUCTNDC</th>\n",
       "      <th>STARTMARKETINGDATE</th>\n",
       "      <th>ENDMARKETINGDATE</th>\n",
       "      <th>NDC_EXCLUDE_FLAG</th>\n",
       "      <th>SAMPLE_PACKAGE</th>\n",
       "      <th>PACKAGEDESCRIPTION_FILTERED</th>\n",
       "    </tr>\n",
       "  </thead>\n",
       "  <tbody>\n",
       "    <tr>\n",
       "      <th>0</th>\n",
       "      <td>0002-0800_94c48759-29bb-402d-afff-9a713be11f0e</td>\n",
       "      <td>0002-0800</td>\n",
       "      <td>19870710</td>\n",
       "      <td>NaN</td>\n",
       "      <td>N</td>\n",
       "      <td>N</td>\n",
       "      <td>mL</td>\n",
       "    </tr>\n",
       "    <tr>\n",
       "      <th>1</th>\n",
       "      <td>0002-1200_35551a38-7a8d-43b8-8abd-f6cb7549e932</td>\n",
       "      <td>0002-1200</td>\n",
       "      <td>20120601</td>\n",
       "      <td>NaN</td>\n",
       "      <td>N</td>\n",
       "      <td>N</td>\n",
       "      <td>mL</td>\n",
       "    </tr>\n",
       "    <tr>\n",
       "      <th>2</th>\n",
       "      <td>0002-1200_35551a38-7a8d-43b8-8abd-f6cb7549e932</td>\n",
       "      <td>0002-1200</td>\n",
       "      <td>20120601</td>\n",
       "      <td>NaN</td>\n",
       "      <td>N</td>\n",
       "      <td>N</td>\n",
       "      <td>mL</td>\n",
       "    </tr>\n",
       "    <tr>\n",
       "      <th>3</th>\n",
       "      <td>0002-1433_42a80046-fd68-4b80-819c-a443b7816edb</td>\n",
       "      <td>0002-1433</td>\n",
       "      <td>20141107</td>\n",
       "      <td>NaN</td>\n",
       "      <td>N</td>\n",
       "      <td>Y</td>\n",
       "      <td>mL</td>\n",
       "    </tr>\n",
       "    <tr>\n",
       "      <th>4</th>\n",
       "      <td>0002-1433_42a80046-fd68-4b80-819c-a443b7816edb</td>\n",
       "      <td>0002-1433</td>\n",
       "      <td>20141107</td>\n",
       "      <td>NaN</td>\n",
       "      <td>N</td>\n",
       "      <td>N</td>\n",
       "      <td>mL</td>\n",
       "    </tr>\n",
       "  </tbody>\n",
       "</table>\n",
       "</div>"
      ],
      "text/plain": [
       "                                        PRODUCTID PRODUCTNDC  \\\n",
       "0  0002-0800_94c48759-29bb-402d-afff-9a713be11f0e  0002-0800   \n",
       "1  0002-1200_35551a38-7a8d-43b8-8abd-f6cb7549e932  0002-1200   \n",
       "2  0002-1200_35551a38-7a8d-43b8-8abd-f6cb7549e932  0002-1200   \n",
       "3  0002-1433_42a80046-fd68-4b80-819c-a443b7816edb  0002-1433   \n",
       "4  0002-1433_42a80046-fd68-4b80-819c-a443b7816edb  0002-1433   \n",
       "\n",
       "   STARTMARKETINGDATE  ENDMARKETINGDATE NDC_EXCLUDE_FLAG SAMPLE_PACKAGE  \\\n",
       "0            19870710               NaN                N              N   \n",
       "1            20120601               NaN                N              N   \n",
       "2            20120601               NaN                N              N   \n",
       "3            20141107               NaN                N              Y   \n",
       "4            20141107               NaN                N              N   \n",
       "\n",
       "  PACKAGEDESCRIPTION_FILTERED  \n",
       "0                          mL  \n",
       "1                          mL  \n",
       "2                          mL  \n",
       "3                          mL  \n",
       "4                          mL  "
      ]
     },
     "execution_count": 144,
     "metadata": {},
     "output_type": "execute_result"
    }
   ],
   "source": [
    "pack.head()"
   ]
  },
  {
   "attachments": {},
   "cell_type": "markdown",
   "metadata": {},
   "source": [
    "We have an error already when trying to change to datetime:\n",
    "\n",
    "`pd.to_datetime(prod[\"STARTMARKETINGDATE\"], format=\"%Y%m%d\")`\n",
    "`OutOfBoundsDatetime: Out of bounds nanosecond timestamp: 2997-06-23 00:00:00`"
   ]
  },
  {
   "cell_type": "code",
   "execution_count": 145,
   "metadata": {},
   "outputs": [
    {
     "name": "stdout",
     "output_type": "stream",
     "text": [
      "Num objects with incoherent startdate : 243\n"
     ]
    },
    {
     "data": {
      "text/html": [
       "<div>\n",
       "<style scoped>\n",
       "    .dataframe tbody tr th:only-of-type {\n",
       "        vertical-align: middle;\n",
       "    }\n",
       "\n",
       "    .dataframe tbody tr th {\n",
       "        vertical-align: top;\n",
       "    }\n",
       "\n",
       "    .dataframe thead th {\n",
       "        text-align: right;\n",
       "    }\n",
       "</style>\n",
       "<table border=\"1\" class=\"dataframe\">\n",
       "  <thead>\n",
       "    <tr style=\"text-align: right;\">\n",
       "      <th></th>\n",
       "      <th>PRODUCTID</th>\n",
       "      <th>PRODUCTNDC</th>\n",
       "      <th>STARTMARKETINGDATE</th>\n",
       "      <th>ENDMARKETINGDATE</th>\n",
       "      <th>NDC_EXCLUDE_FLAG</th>\n",
       "      <th>SAMPLE_PACKAGE</th>\n",
       "      <th>PACKAGEDESCRIPTION_FILTERED</th>\n",
       "    </tr>\n",
       "  </thead>\n",
       "  <tbody>\n",
       "    <tr>\n",
       "      <th>31</th>\n",
       "      <td>0002-4112_d561034d-ea58-45fe-9d07-2e9eba98c2e4</td>\n",
       "      <td>0002-4112</td>\n",
       "      <td>29970623</td>\n",
       "      <td>NaN</td>\n",
       "      <td>N</td>\n",
       "      <td>N</td>\n",
       "      <td>TABLET</td>\n",
       "    </tr>\n",
       "    <tr>\n",
       "      <th>110</th>\n",
       "      <td>0002-8501_7db61461-cf41-4de9-b5e6-3f88640d928c</td>\n",
       "      <td>0002-8501</td>\n",
       "      <td>29970106</td>\n",
       "      <td>NaN</td>\n",
       "      <td>N</td>\n",
       "      <td>N</td>\n",
       "      <td>mL</td>\n",
       "    </tr>\n",
       "    <tr>\n",
       "      <th>202</th>\n",
       "      <td>0004-0260_4b065b40-4aa6-440b-8120-82f7dbec615b</td>\n",
       "      <td>0004-0260</td>\n",
       "      <td>29970619</td>\n",
       "      <td>NaN</td>\n",
       "      <td>N</td>\n",
       "      <td>N</td>\n",
       "      <td>TABLET</td>\n",
       "    </tr>\n",
       "    <tr>\n",
       "      <th>203</th>\n",
       "      <td>0004-0260_4b065b40-4aa6-440b-8120-82f7dbec615b</td>\n",
       "      <td>0004-0260</td>\n",
       "      <td>29970619</td>\n",
       "      <td>NaN</td>\n",
       "      <td>N</td>\n",
       "      <td>N</td>\n",
       "      <td>TABLET</td>\n",
       "    </tr>\n",
       "    <tr>\n",
       "      <th>235</th>\n",
       "      <td>0006-0071_c24dac53-4c05-4e31-a42e-793efd0e1da4</td>\n",
       "      <td>0006-0071</td>\n",
       "      <td>29971219</td>\n",
       "      <td>NaN</td>\n",
       "      <td>N</td>\n",
       "      <td>N</td>\n",
       "      <td>TABLET</td>\n",
       "    </tr>\n",
       "  </tbody>\n",
       "</table>\n",
       "</div>"
      ],
      "text/plain": [
       "                                          PRODUCTID PRODUCTNDC  \\\n",
       "31   0002-4112_d561034d-ea58-45fe-9d07-2e9eba98c2e4  0002-4112   \n",
       "110  0002-8501_7db61461-cf41-4de9-b5e6-3f88640d928c  0002-8501   \n",
       "202  0004-0260_4b065b40-4aa6-440b-8120-82f7dbec615b  0004-0260   \n",
       "203  0004-0260_4b065b40-4aa6-440b-8120-82f7dbec615b  0004-0260   \n",
       "235  0006-0071_c24dac53-4c05-4e31-a42e-793efd0e1da4  0006-0071   \n",
       "\n",
       "     STARTMARKETINGDATE  ENDMARKETINGDATE NDC_EXCLUDE_FLAG SAMPLE_PACKAGE  \\\n",
       "31             29970623               NaN                N              N   \n",
       "110            29970106               NaN                N              N   \n",
       "202            29970619               NaN                N              N   \n",
       "203            29970619               NaN                N              N   \n",
       "235            29971219               NaN                N              N   \n",
       "\n",
       "    PACKAGEDESCRIPTION_FILTERED  \n",
       "31                       TABLET  \n",
       "110                          mL  \n",
       "202                      TABLET  \n",
       "203                      TABLET  \n",
       "235                      TABLET  "
      ]
     },
     "execution_count": 145,
     "metadata": {},
     "output_type": "execute_result"
    }
   ],
   "source": [
    "# All samples with dates greater than 2024\n",
    "print(f\"Num objects with incoherent startdate : {len(pack[pack['STARTMARKETINGDATE'] > 20240000])}\")\n",
    "pack[pack[\"STARTMARKETINGDATE\"] > 20240000].head()"
   ]
  },
  {
   "cell_type": "code",
   "execution_count": 146,
   "metadata": {},
   "outputs": [
    {
     "name": "stdout",
     "output_type": "stream",
     "text": [
      "[29970623 29970106 29970619 29971219 29970603 29971101 29970502 29970217\n",
      " 29970801 29970516 29970313 29970513 29971224 29970311 29970312 29970130\n",
      " 29970731 29971222 29971001 29970423 29970722 29970808 29971110 29970414\n",
      " 29970803 29970918 29970515 29971007 29970228 29970829 29970605 29970930\n",
      " 29970912 29970127 29970123 29971201 29971125 29971010 29970528 29971208\n",
      " 29970729 29970207 29970805 29970901 29970212 29971218 29970929 29970326]\n"
     ]
    }
   ],
   "source": [
    "print(pack[pack[\"STARTMARKETINGDATE\"] > 20240000][\"STARTMARKETINGDATE\"].unique())"
   ]
  },
  {
   "attachments": {},
   "cell_type": "markdown",
   "metadata": {},
   "source": [
    "It seems like we need to substract 10000000 to the values to get them to the right year in 1997"
   ]
  },
  {
   "cell_type": "code",
   "execution_count": 147,
   "metadata": {},
   "outputs": [
    {
     "name": "stdout",
     "output_type": "stream",
     "text": [
      "0\n"
     ]
    }
   ],
   "source": [
    "# Replace faulty values\n",
    "pack[\"STARTMARKETINGDATE\"] = np.where(pack[\"STARTMARKETINGDATE\"] > 20240000, pack[\"STARTMARKETINGDATE\"] - 10000000, pack[\"STARTMARKETINGDATE\"])\n",
    "print(len(pack[pack['STARTMARKETINGDATE'] > 20240000]))"
   ]
  },
  {
   "cell_type": "code",
   "execution_count": 148,
   "metadata": {},
   "outputs": [],
   "source": [
    "# Converto to datetime START\n",
    "pack[\"STARTMARKETINGDATE\"] = pd.to_datetime(pack[\"STARTMARKETINGDATE\"], format=\"%Y%m%d\")"
   ]
  },
  {
   "cell_type": "code",
   "execution_count": 149,
   "metadata": {},
   "outputs": [
    {
     "data": {
      "text/plain": [
       "<Axes: xlabel='STARTMARKETINGDATE', ylabel='Count'>"
      ]
     },
     "execution_count": 149,
     "metadata": {},
     "output_type": "execute_result"
    },
    {
     "data": {
      "image/png": "[encoded data removed]",
      "text/plain": [
       "<Figure size 640x480 with 1 Axes>"
      ]
     },
     "metadata": {},
     "output_type": "display_data"
    }
   ],
   "source": [
    "sns.histplot(pack, x=\"STARTMARKETINGDATE\")"
   ]
  },
  {
   "cell_type": "code",
   "execution_count": 150,
   "metadata": {},
   "outputs": [
    {
     "data": {
      "text/plain": [
       "1981-09-15    2200\n",
       "2019-05-06    1841\n",
       "2010-02-03    1790\n",
       "1983-03-03    1769\n",
       "2009-09-01    1347\n",
       "              ... \n",
       "2002-06-19       1\n",
       "2014-04-20       1\n",
       "1992-06-18       1\n",
       "2002-06-18       1\n",
       "1997-02-27       1\n",
       "Name: STARTMARKETINGDATE, Length: 7371, dtype: int64"
      ]
     },
     "execution_count": 150,
     "metadata": {},
     "output_type": "execute_result"
    }
   ],
   "source": [
    "pack[\"STARTMARKETINGDATE\"].value_counts()"
   ]
  },
  {
   "attachments": {},
   "cell_type": "markdown",
   "metadata": {},
   "source": [
    "Lot's of data. Later we could split into different time bins to reduce the skewness and encode them into numerical vals"
   ]
  },
  {
   "attachments": {},
   "cell_type": "markdown",
   "metadata": {},
   "source": [
    "Verification for ENDMARKETINGDATE"
   ]
  },
  {
   "cell_type": "code",
   "execution_count": 151,
   "metadata": {},
   "outputs": [],
   "source": [
    "# Converto to datetime END\n",
    "pack[\"ENDMARKETINGDATE\"] = pd.to_datetime(pack[\"ENDMARKETINGDATE\"], format=\"%Y%m%d\")"
   ]
  },
  {
   "cell_type": "code",
   "execution_count": 152,
   "metadata": {},
   "outputs": [
    {
     "name": "stdout",
     "output_type": "stream",
     "text": [
      "There are 166916 null in ENDMARKETINGDATE\n"
     ]
    }
   ],
   "source": [
    "print(f'There are {pack.isnull().sum()[\"ENDMARKETINGDATE\"]} null in ENDMARKETINGDATE')"
   ]
  },
  {
   "cell_type": "code",
   "execution_count": 153,
   "metadata": {},
   "outputs": [
    {
     "name": "stdout",
     "output_type": "stream",
     "text": [
      "['ENDMARKETINGDATE']\n"
     ]
    }
   ],
   "source": [
    "# Over 75% of entries are null\n",
    "na75_threshold = 0.75*len(pack)\n",
    "print(pack.isnull().sum()[pack.isnull().sum() > na75_threshold].index.to_list())"
   ]
  },
  {
   "attachments": {},
   "cell_type": "markdown",
   "metadata": {},
   "source": [
    "Let's convert to a binary since there is over 75% of null vals"
   ]
  },
  {
   "cell_type": "code",
   "execution_count": 154,
   "metadata": {},
   "outputs": [
    {
     "data": {
      "text/plain": [
       "0    166916\n",
       "1      6297\n",
       "dtype: int64"
      ]
     },
     "execution_count": 154,
     "metadata": {},
     "output_type": "execute_result"
    }
   ],
   "source": [
    "pd.DataFrame(np.where(pack[\"ENDMARKETINGDATE\"].notnull(), 1, 0)).value_counts()"
   ]
  },
  {
   "cell_type": "code",
   "execution_count": 155,
   "metadata": {},
   "outputs": [],
   "source": [
    "pack[\"ENDMARKETINGDATE_determined\"] = np.where(pack[\"ENDMARKETINGDATE\"].notnull(), 1, 0)\n",
    "pack = pack.drop(columns=\"ENDMARKETINGDATE\")"
   ]
  },
  {
   "attachments": {},
   "cell_type": "markdown",
   "metadata": {},
   "source": [
    "**NDC_EXCLUDE_FLAG verification**"
   ]
  },
  {
   "cell_type": "code",
   "execution_count": 156,
   "metadata": {},
   "outputs": [
    {
     "data": {
      "text/plain": [
       "N    173213\n",
       "Name: NDC_EXCLUDE_FLAG, dtype: int64"
      ]
     },
     "execution_count": 156,
     "metadata": {},
     "output_type": "execute_result"
    }
   ],
   "source": [
    "# Counts\n",
    "pack[\"NDC_EXCLUDE_FLAG\"].value_counts()"
   ]
  },
  {
   "attachments": {},
   "cell_type": "markdown",
   "metadata": {},
   "source": [
    "Same as in the product table, a single value for every sample. Drop the column"
   ]
  },
  {
   "cell_type": "code",
   "execution_count": 157,
   "metadata": {},
   "outputs": [],
   "source": [
    "pack = pack.drop(columns=\"NDC_EXCLUDE_FLAG\")"
   ]
  },
  {
   "attachments": {},
   "cell_type": "markdown",
   "metadata": {},
   "source": [
    "**SAMPLE_PACKAGE verification + convert to binary**"
   ]
  },
  {
   "cell_type": "code",
   "execution_count": 158,
   "metadata": {},
   "outputs": [
    {
     "data": {
      "text/plain": [
       "N    172554\n",
       "Y       659\n",
       "Name: SAMPLE_PACKAGE, dtype: int64"
      ]
     },
     "execution_count": 158,
     "metadata": {},
     "output_type": "execute_result"
    }
   ],
   "source": [
    "# Possible values\n",
    "pack[\"SAMPLE_PACKAGE\"].value_counts()"
   ]
  },
  {
   "attachments": {},
   "cell_type": "markdown",
   "metadata": {},
   "source": [
    "Binary feature but not in the right type, let's convert to binary"
   ]
  },
  {
   "cell_type": "code",
   "execution_count": 159,
   "metadata": {},
   "outputs": [
    {
     "data": {
      "text/html": [
       "<div>\n",
       "<style scoped>\n",
       "    .dataframe tbody tr th:only-of-type {\n",
       "        vertical-align: middle;\n",
       "    }\n",
       "\n",
       "    .dataframe tbody tr th {\n",
       "        vertical-align: top;\n",
       "    }\n",
       "\n",
       "    .dataframe thead th {\n",
       "        text-align: right;\n",
       "    }\n",
       "</style>\n",
       "<table border=\"1\" class=\"dataframe\">\n",
       "  <thead>\n",
       "    <tr style=\"text-align: right;\">\n",
       "      <th></th>\n",
       "      <th>0</th>\n",
       "    </tr>\n",
       "  </thead>\n",
       "  <tbody>\n",
       "    <tr>\n",
       "      <th>0</th>\n",
       "      <td>0</td>\n",
       "    </tr>\n",
       "    <tr>\n",
       "      <th>1</th>\n",
       "      <td>0</td>\n",
       "    </tr>\n",
       "    <tr>\n",
       "      <th>2</th>\n",
       "      <td>0</td>\n",
       "    </tr>\n",
       "    <tr>\n",
       "      <th>3</th>\n",
       "      <td>1</td>\n",
       "    </tr>\n",
       "    <tr>\n",
       "      <th>4</th>\n",
       "      <td>0</td>\n",
       "    </tr>\n",
       "  </tbody>\n",
       "</table>\n",
       "</div>"
      ],
      "text/plain": [
       "   0\n",
       "0  0\n",
       "1  0\n",
       "2  0\n",
       "3  1\n",
       "4  0"
      ]
     },
     "execution_count": 159,
     "metadata": {},
     "output_type": "execute_result"
    }
   ],
   "source": [
    "pd.DataFrame(np.where(pack[\"SAMPLE_PACKAGE\"] == \"N\", 0, 1)).head()"
   ]
  },
  {
   "cell_type": "code",
   "execution_count": 160,
   "metadata": {},
   "outputs": [],
   "source": [
    "pack[\"SAMPLE_PACKAGE\"] = np.where(pack[\"SAMPLE_PACKAGE\"] == \"N\", 0, 1)"
   ]
  },
  {
   "cell_type": "code",
   "execution_count": 161,
   "metadata": {},
   "outputs": [
    {
     "data": {
      "text/html": [
       "<div>\n",
       "<style scoped>\n",
       "    .dataframe tbody tr th:only-of-type {\n",
       "        vertical-align: middle;\n",
       "    }\n",
       "\n",
       "    .dataframe tbody tr th {\n",
       "        vertical-align: top;\n",
       "    }\n",
       "\n",
       "    .dataframe thead th {\n",
       "        text-align: right;\n",
       "    }\n",
       "</style>\n",
       "<table border=\"1\" class=\"dataframe\">\n",
       "  <thead>\n",
       "    <tr style=\"text-align: right;\">\n",
       "      <th></th>\n",
       "      <th>PRODUCTID</th>\n",
       "      <th>PRODUCTNDC</th>\n",
       "      <th>STARTMARKETINGDATE</th>\n",
       "      <th>SAMPLE_PACKAGE</th>\n",
       "      <th>PACKAGEDESCRIPTION_FILTERED</th>\n",
       "      <th>ENDMARKETINGDATE_determined</th>\n",
       "    </tr>\n",
       "  </thead>\n",
       "  <tbody>\n",
       "    <tr>\n",
       "      <th>0</th>\n",
       "      <td>0002-0800_94c48759-29bb-402d-afff-9a713be11f0e</td>\n",
       "      <td>0002-0800</td>\n",
       "      <td>1987-07-10</td>\n",
       "      <td>0</td>\n",
       "      <td>mL</td>\n",
       "      <td>0</td>\n",
       "    </tr>\n",
       "    <tr>\n",
       "      <th>1</th>\n",
       "      <td>0002-1200_35551a38-7a8d-43b8-8abd-f6cb7549e932</td>\n",
       "      <td>0002-1200</td>\n",
       "      <td>2012-06-01</td>\n",
       "      <td>0</td>\n",
       "      <td>mL</td>\n",
       "      <td>0</td>\n",
       "    </tr>\n",
       "    <tr>\n",
       "      <th>2</th>\n",
       "      <td>0002-1200_35551a38-7a8d-43b8-8abd-f6cb7549e932</td>\n",
       "      <td>0002-1200</td>\n",
       "      <td>2012-06-01</td>\n",
       "      <td>0</td>\n",
       "      <td>mL</td>\n",
       "      <td>0</td>\n",
       "    </tr>\n",
       "    <tr>\n",
       "      <th>3</th>\n",
       "      <td>0002-1433_42a80046-fd68-4b80-819c-a443b7816edb</td>\n",
       "      <td>0002-1433</td>\n",
       "      <td>2014-11-07</td>\n",
       "      <td>1</td>\n",
       "      <td>mL</td>\n",
       "      <td>0</td>\n",
       "    </tr>\n",
       "    <tr>\n",
       "      <th>4</th>\n",
       "      <td>0002-1433_42a80046-fd68-4b80-819c-a443b7816edb</td>\n",
       "      <td>0002-1433</td>\n",
       "      <td>2014-11-07</td>\n",
       "      <td>0</td>\n",
       "      <td>mL</td>\n",
       "      <td>0</td>\n",
       "    </tr>\n",
       "  </tbody>\n",
       "</table>\n",
       "</div>"
      ],
      "text/plain": [
       "                                        PRODUCTID PRODUCTNDC  \\\n",
       "0  0002-0800_94c48759-29bb-402d-afff-9a713be11f0e  0002-0800   \n",
       "1  0002-1200_35551a38-7a8d-43b8-8abd-f6cb7549e932  0002-1200   \n",
       "2  0002-1200_35551a38-7a8d-43b8-8abd-f6cb7549e932  0002-1200   \n",
       "3  0002-1433_42a80046-fd68-4b80-819c-a443b7816edb  0002-1433   \n",
       "4  0002-1433_42a80046-fd68-4b80-819c-a443b7816edb  0002-1433   \n",
       "\n",
       "  STARTMARKETINGDATE  SAMPLE_PACKAGE PACKAGEDESCRIPTION_FILTERED  \\\n",
       "0         1987-07-10               0                          mL   \n",
       "1         2012-06-01               0                          mL   \n",
       "2         2012-06-01               0                          mL   \n",
       "3         2014-11-07               1                          mL   \n",
       "4         2014-11-07               0                          mL   \n",
       "\n",
       "   ENDMARKETINGDATE_determined  \n",
       "0                            0  \n",
       "1                            0  \n",
       "2                            0  \n",
       "3                            0  \n",
       "4                            0  "
      ]
     },
     "execution_count": 161,
     "metadata": {},
     "output_type": "execute_result"
    }
   ],
   "source": [
    "pack.head()"
   ]
  },
  {
   "cell_type": "code",
   "execution_count": 162,
   "metadata": {},
   "outputs": [
    {
     "data": {
      "text/html": [
       "<div>\n",
       "<style scoped>\n",
       "    .dataframe tbody tr th:only-of-type {\n",
       "        vertical-align: middle;\n",
       "    }\n",
       "\n",
       "    .dataframe tbody tr th {\n",
       "        vertical-align: top;\n",
       "    }\n",
       "\n",
       "    .dataframe thead th {\n",
       "        text-align: right;\n",
       "    }\n",
       "</style>\n",
       "<table border=\"1\" class=\"dataframe\">\n",
       "  <thead>\n",
       "    <tr style=\"text-align: right;\">\n",
       "      <th></th>\n",
       "      <th>PRODUCTID</th>\n",
       "      <th>PRODUCTNDC</th>\n",
       "      <th>PRODUCTTYPENAME</th>\n",
       "      <th>PROPRIETARYNAME</th>\n",
       "      <th>NONPROPRIETARYNAME</th>\n",
       "      <th>STARTMARKETINGDATE</th>\n",
       "      <th>MARKETINGCATEGORYNAME</th>\n",
       "      <th>APPLICATIONNUMBER</th>\n",
       "      <th>LABELERNAME</th>\n",
       "      <th>PHARM_CLASSES</th>\n",
       "      <th>...</th>\n",
       "      <th>DEASCHEDULE_determined</th>\n",
       "      <th>PROPRIETARYNAMESUFFIX_determined</th>\n",
       "      <th>ROUTENAME_list</th>\n",
       "      <th>SUBSTANCENAME_list</th>\n",
       "      <th>ACTIVE_NUMERATOR_STRENGTH_list</th>\n",
       "      <th>ACTIVE_INGRED_UNIT_list</th>\n",
       "      <th>DOSAGEFORMNAME_list</th>\n",
       "      <th>LISTING_RECORD_CERTIFIED_THROUGH_2020-12-31 00:00:00</th>\n",
       "      <th>LISTING_RECORD_CERTIFIED_THROUGH_2021-12-31 00:00:00</th>\n",
       "      <th>LISTING_RECORD_CERTIFIED_THROUGH_undetermined</th>\n",
       "    </tr>\n",
       "  </thead>\n",
       "  <tbody>\n",
       "    <tr>\n",
       "      <th>0</th>\n",
       "      <td>NaN</td>\n",
       "      <td>0002-0800</td>\n",
       "      <td>HUMAN OTC DRUG</td>\n",
       "      <td>STERILE DILUENT</td>\n",
       "      <td>DILUENT</td>\n",
       "      <td>1987-07-10</td>\n",
       "      <td>NDA</td>\n",
       "      <td>NDA018781</td>\n",
       "      <td>10</td>\n",
       "      <td>NaN</td>\n",
       "      <td>...</td>\n",
       "      <td>0</td>\n",
       "      <td>0</td>\n",
       "      <td>[SUBCUTANEOUS]</td>\n",
       "      <td>[WATER]</td>\n",
       "      <td>[1]</td>\n",
       "      <td>[mL/mL]</td>\n",
       "      <td>[INJECTION, SOLUTION]</td>\n",
       "      <td>1</td>\n",
       "      <td>0</td>\n",
       "      <td>0</td>\n",
       "    </tr>\n",
       "    <tr>\n",
       "      <th>1</th>\n",
       "      <td>NaN</td>\n",
       "      <td>0002-1200</td>\n",
       "      <td>HUMAN PRESCRIPTION DRUG</td>\n",
       "      <td>AMYVID</td>\n",
       "      <td>FLORBETAPIR F 18</td>\n",
       "      <td>2012-06-01</td>\n",
       "      <td>NDA</td>\n",
       "      <td>NDA202008</td>\n",
       "      <td>10</td>\n",
       "      <td>Radioactive Diagnostic Agent [EPC],Positron Em...</td>\n",
       "      <td>...</td>\n",
       "      <td>0</td>\n",
       "      <td>0</td>\n",
       "      <td>[INTRAVENOUS]</td>\n",
       "      <td>[FLORBETAPIR F-18]</td>\n",
       "      <td>[51]</td>\n",
       "      <td>[mCi/mL]</td>\n",
       "      <td>[INJECTION, SOLUTION]</td>\n",
       "      <td>0</td>\n",
       "      <td>1</td>\n",
       "      <td>0</td>\n",
       "    </tr>\n",
       "    <tr>\n",
       "      <th>2</th>\n",
       "      <td>NaN</td>\n",
       "      <td>0002-1433</td>\n",
       "      <td>HUMAN PRESCRIPTION DRUG</td>\n",
       "      <td>TRULICITY</td>\n",
       "      <td>DULAGLUTIDE</td>\n",
       "      <td>2014-09-18</td>\n",
       "      <td>BLA</td>\n",
       "      <td>BLA125469</td>\n",
       "      <td>10</td>\n",
       "      <td>GLP-1 Receptor Agonist [EPC],Glucagon-Like Pep...</td>\n",
       "      <td>...</td>\n",
       "      <td>0</td>\n",
       "      <td>0</td>\n",
       "      <td>[SUBCUTANEOUS]</td>\n",
       "      <td>[DULAGLUTIDE]</td>\n",
       "      <td>[.75]</td>\n",
       "      <td>[mg/.5mL]</td>\n",
       "      <td>[INJECTION, SOLUTION]</td>\n",
       "      <td>1</td>\n",
       "      <td>0</td>\n",
       "      <td>0</td>\n",
       "    </tr>\n",
       "    <tr>\n",
       "      <th>3</th>\n",
       "      <td>NaN</td>\n",
       "      <td>0002-1434</td>\n",
       "      <td>HUMAN PRESCRIPTION DRUG</td>\n",
       "      <td>TRULICITY</td>\n",
       "      <td>DULAGLUTIDE</td>\n",
       "      <td>2014-09-18</td>\n",
       "      <td>BLA</td>\n",
       "      <td>BLA125469</td>\n",
       "      <td>10</td>\n",
       "      <td>GLP-1 Receptor Agonist [EPC],Glucagon-Like Pep...</td>\n",
       "      <td>...</td>\n",
       "      <td>0</td>\n",
       "      <td>0</td>\n",
       "      <td>[SUBCUTANEOUS]</td>\n",
       "      <td>[DULAGLUTIDE]</td>\n",
       "      <td>[1.5]</td>\n",
       "      <td>[mg/.5mL]</td>\n",
       "      <td>[INJECTION, SOLUTION]</td>\n",
       "      <td>1</td>\n",
       "      <td>0</td>\n",
       "      <td>0</td>\n",
       "    </tr>\n",
       "    <tr>\n",
       "      <th>4</th>\n",
       "      <td>NaN</td>\n",
       "      <td>0002-1436</td>\n",
       "      <td>HUMAN PRESCRIPTION DRUG</td>\n",
       "      <td>EMGALITY</td>\n",
       "      <td>GALCANEZUMAB</td>\n",
       "      <td>2018-09-27</td>\n",
       "      <td>BLA</td>\n",
       "      <td>BLA761063</td>\n",
       "      <td>10</td>\n",
       "      <td>NaN</td>\n",
       "      <td>...</td>\n",
       "      <td>0</td>\n",
       "      <td>0</td>\n",
       "      <td>[SUBCUTANEOUS]</td>\n",
       "      <td>[GALCANEZUMAB]</td>\n",
       "      <td>[120]</td>\n",
       "      <td>[mg/mL]</td>\n",
       "      <td>[INJECTION, SOLUTION]</td>\n",
       "      <td>1</td>\n",
       "      <td>0</td>\n",
       "      <td>0</td>\n",
       "    </tr>\n",
       "  </tbody>\n",
       "</table>\n",
       "<p>5 rows × 21 columns</p>\n",
       "</div>"
      ],
      "text/plain": [
       "  PRODUCTID PRODUCTNDC          PRODUCTTYPENAME  PROPRIETARYNAME  \\\n",
       "0       NaN  0002-0800           HUMAN OTC DRUG  STERILE DILUENT   \n",
       "1       NaN  0002-1200  HUMAN PRESCRIPTION DRUG           AMYVID   \n",
       "2       NaN  0002-1433  HUMAN PRESCRIPTION DRUG        TRULICITY   \n",
       "3       NaN  0002-1434  HUMAN PRESCRIPTION DRUG        TRULICITY   \n",
       "4       NaN  0002-1436  HUMAN PRESCRIPTION DRUG         EMGALITY   \n",
       "\n",
       "  NONPROPRIETARYNAME STARTMARKETINGDATE MARKETINGCATEGORYNAME  \\\n",
       "0            DILUENT         1987-07-10                   NDA   \n",
       "1   FLORBETAPIR F 18         2012-06-01                   NDA   \n",
       "2        DULAGLUTIDE         2014-09-18                   BLA   \n",
       "3        DULAGLUTIDE         2014-09-18                   BLA   \n",
       "4       GALCANEZUMAB         2018-09-27                   BLA   \n",
       "\n",
       "  APPLICATIONNUMBER LABELERNAME  \\\n",
       "0         NDA018781          10   \n",
       "1         NDA202008          10   \n",
       "2         BLA125469          10   \n",
       "3         BLA125469          10   \n",
       "4         BLA761063          10   \n",
       "\n",
       "                                       PHARM_CLASSES  ...  \\\n",
       "0                                                NaN  ...   \n",
       "1  Radioactive Diagnostic Agent [EPC],Positron Em...  ...   \n",
       "2  GLP-1 Receptor Agonist [EPC],Glucagon-Like Pep...  ...   \n",
       "3  GLP-1 Receptor Agonist [EPC],Glucagon-Like Pep...  ...   \n",
       "4                                                NaN  ...   \n",
       "\n",
       "   DEASCHEDULE_determined  PROPRIETARYNAMESUFFIX_determined  ROUTENAME_list  \\\n",
       "0                       0                                 0  [SUBCUTANEOUS]   \n",
       "1                       0                                 0   [INTRAVENOUS]   \n",
       "2                       0                                 0  [SUBCUTANEOUS]   \n",
       "3                       0                                 0  [SUBCUTANEOUS]   \n",
       "4                       0                                 0  [SUBCUTANEOUS]   \n",
       "\n",
       "   SUBSTANCENAME_list ACTIVE_NUMERATOR_STRENGTH_list ACTIVE_INGRED_UNIT_list  \\\n",
       "0             [WATER]                            [1]                 [mL/mL]   \n",
       "1  [FLORBETAPIR F-18]                           [51]                [mCi/mL]   \n",
       "2       [DULAGLUTIDE]                          [.75]               [mg/.5mL]   \n",
       "3       [DULAGLUTIDE]                          [1.5]               [mg/.5mL]   \n",
       "4      [GALCANEZUMAB]                          [120]                 [mg/mL]   \n",
       "\n",
       "     DOSAGEFORMNAME_list LISTING_RECORD_CERTIFIED_THROUGH_2020-12-31 00:00:00  \\\n",
       "0  [INJECTION, SOLUTION]                                                  1     \n",
       "1  [INJECTION, SOLUTION]                                                  0     \n",
       "2  [INJECTION, SOLUTION]                                                  1     \n",
       "3  [INJECTION, SOLUTION]                                                  1     \n",
       "4  [INJECTION, SOLUTION]                                                  1     \n",
       "\n",
       "   LISTING_RECORD_CERTIFIED_THROUGH_2021-12-31 00:00:00  \\\n",
       "0                                                  0      \n",
       "1                                                  1      \n",
       "2                                                  0      \n",
       "3                                                  0      \n",
       "4                                                  0      \n",
       "\n",
       "   LISTING_RECORD_CERTIFIED_THROUGH_undetermined  \n",
       "0                                              0  \n",
       "1                                              0  \n",
       "2                                              0  \n",
       "3                                              0  \n",
       "4                                              0  \n",
       "\n",
       "[5 rows x 21 columns]"
      ]
     },
     "execution_count": 162,
     "metadata": {},
     "output_type": "execute_result"
    }
   ],
   "source": [
    "prod.head()"
   ]
  },
  {
   "attachments": {},
   "cell_type": "markdown",
   "metadata": {},
   "source": [
    "---"
   ]
  },
  {
   "attachments": {},
   "cell_type": "markdown",
   "metadata": {},
   "source": [
    "## 4. Replacing missing values in prod and pack tables\n",
    "\n",
    "**We will need to convert some of the categorical data to numerical data using get_dummies or onehotencoding in both tables**"
   ]
  },
  {
   "attachments": {},
   "cell_type": "markdown",
   "metadata": {},
   "source": [
    "### product table : \n",
    "\n",
    "1. Note that the null values in the PHARM_CLASSES feature are the objects we want to predict the class of. Basically our classification task\n",
    "2. Convert categorical data to proper format for imputation\n",
    "3. Use different imputation techniques for each feature with missing values"
   ]
  },
  {
   "attachments": {},
   "cell_type": "markdown",
   "metadata": {},
   "source": [
    "PHARM_CLASSES missing values (to predict)"
   ]
  },
  {
   "cell_type": "code",
   "execution_count": 163,
   "metadata": {},
   "outputs": [
    {
     "name": "stdout",
     "output_type": "stream",
     "text": [
      "There are 50917 objects we want to predict the PHARM_CLASSES of\n"
     ]
    }
   ],
   "source": [
    "#\n",
    "print(f\"There are {prod['PHARM_CLASSES'].isnull().sum()} objects we want to predict the PHARM_CLASSES of\")"
   ]
  },
  {
   "cell_type": "code",
   "execution_count": 164,
   "metadata": {},
   "outputs": [
    {
     "data": {
      "text/html": [
       "<div>\n",
       "<style scoped>\n",
       "    .dataframe tbody tr th:only-of-type {\n",
       "        vertical-align: middle;\n",
       "    }\n",
       "\n",
       "    .dataframe tbody tr th {\n",
       "        vertical-align: top;\n",
       "    }\n",
       "\n",
       "    .dataframe thead th {\n",
       "        text-align: right;\n",
       "    }\n",
       "</style>\n",
       "<table border=\"1\" class=\"dataframe\">\n",
       "  <thead>\n",
       "    <tr style=\"text-align: right;\">\n",
       "      <th></th>\n",
       "      <th>PRODUCTID</th>\n",
       "      <th>PRODUCTNDC</th>\n",
       "      <th>PRODUCTTYPENAME</th>\n",
       "      <th>PROPRIETARYNAME</th>\n",
       "      <th>NONPROPRIETARYNAME</th>\n",
       "      <th>STARTMARKETINGDATE</th>\n",
       "      <th>MARKETINGCATEGORYNAME</th>\n",
       "      <th>APPLICATIONNUMBER</th>\n",
       "      <th>LABELERNAME</th>\n",
       "      <th>PHARM_CLASSES</th>\n",
       "      <th>...</th>\n",
       "      <th>DEASCHEDULE_determined</th>\n",
       "      <th>PROPRIETARYNAMESUFFIX_determined</th>\n",
       "      <th>ROUTENAME_list</th>\n",
       "      <th>SUBSTANCENAME_list</th>\n",
       "      <th>ACTIVE_NUMERATOR_STRENGTH_list</th>\n",
       "      <th>ACTIVE_INGRED_UNIT_list</th>\n",
       "      <th>DOSAGEFORMNAME_list</th>\n",
       "      <th>LISTING_RECORD_CERTIFIED_THROUGH_2020-12-31 00:00:00</th>\n",
       "      <th>LISTING_RECORD_CERTIFIED_THROUGH_2021-12-31 00:00:00</th>\n",
       "      <th>LISTING_RECORD_CERTIFIED_THROUGH_undetermined</th>\n",
       "    </tr>\n",
       "  </thead>\n",
       "  <tbody>\n",
       "    <tr>\n",
       "      <th>0</th>\n",
       "      <td>NaN</td>\n",
       "      <td>0002-0800</td>\n",
       "      <td>HUMAN OTC DRUG</td>\n",
       "      <td>STERILE DILUENT</td>\n",
       "      <td>DILUENT</td>\n",
       "      <td>1987-07-10</td>\n",
       "      <td>NDA</td>\n",
       "      <td>NDA018781</td>\n",
       "      <td>10</td>\n",
       "      <td>NaN</td>\n",
       "      <td>...</td>\n",
       "      <td>0</td>\n",
       "      <td>0</td>\n",
       "      <td>[SUBCUTANEOUS]</td>\n",
       "      <td>[WATER]</td>\n",
       "      <td>[1]</td>\n",
       "      <td>[mL/mL]</td>\n",
       "      <td>[INJECTION, SOLUTION]</td>\n",
       "      <td>1</td>\n",
       "      <td>0</td>\n",
       "      <td>0</td>\n",
       "    </tr>\n",
       "    <tr>\n",
       "      <th>1</th>\n",
       "      <td>NaN</td>\n",
       "      <td>0002-1200</td>\n",
       "      <td>HUMAN PRESCRIPTION DRUG</td>\n",
       "      <td>AMYVID</td>\n",
       "      <td>FLORBETAPIR F 18</td>\n",
       "      <td>2012-06-01</td>\n",
       "      <td>NDA</td>\n",
       "      <td>NDA202008</td>\n",
       "      <td>10</td>\n",
       "      <td>Radioactive Diagnostic Agent [EPC],Positron Em...</td>\n",
       "      <td>...</td>\n",
       "      <td>0</td>\n",
       "      <td>0</td>\n",
       "      <td>[INTRAVENOUS]</td>\n",
       "      <td>[FLORBETAPIR F-18]</td>\n",
       "      <td>[51]</td>\n",
       "      <td>[mCi/mL]</td>\n",
       "      <td>[INJECTION, SOLUTION]</td>\n",
       "      <td>0</td>\n",
       "      <td>1</td>\n",
       "      <td>0</td>\n",
       "    </tr>\n",
       "    <tr>\n",
       "      <th>2</th>\n",
       "      <td>NaN</td>\n",
       "      <td>0002-1433</td>\n",
       "      <td>HUMAN PRESCRIPTION DRUG</td>\n",
       "      <td>TRULICITY</td>\n",
       "      <td>DULAGLUTIDE</td>\n",
       "      <td>2014-09-18</td>\n",
       "      <td>BLA</td>\n",
       "      <td>BLA125469</td>\n",
       "      <td>10</td>\n",
       "      <td>GLP-1 Receptor Agonist [EPC],Glucagon-Like Pep...</td>\n",
       "      <td>...</td>\n",
       "      <td>0</td>\n",
       "      <td>0</td>\n",
       "      <td>[SUBCUTANEOUS]</td>\n",
       "      <td>[DULAGLUTIDE]</td>\n",
       "      <td>[.75]</td>\n",
       "      <td>[mg/.5mL]</td>\n",
       "      <td>[INJECTION, SOLUTION]</td>\n",
       "      <td>1</td>\n",
       "      <td>0</td>\n",
       "      <td>0</td>\n",
       "    </tr>\n",
       "    <tr>\n",
       "      <th>3</th>\n",
       "      <td>NaN</td>\n",
       "      <td>0002-1434</td>\n",
       "      <td>HUMAN PRESCRIPTION DRUG</td>\n",
       "      <td>TRULICITY</td>\n",
       "      <td>DULAGLUTIDE</td>\n",
       "      <td>2014-09-18</td>\n",
       "      <td>BLA</td>\n",
       "      <td>BLA125469</td>\n",
       "      <td>10</td>\n",
       "      <td>GLP-1 Receptor Agonist [EPC],Glucagon-Like Pep...</td>\n",
       "      <td>...</td>\n",
       "      <td>0</td>\n",
       "      <td>0</td>\n",
       "      <td>[SUBCUTANEOUS]</td>\n",
       "      <td>[DULAGLUTIDE]</td>\n",
       "      <td>[1.5]</td>\n",
       "      <td>[mg/.5mL]</td>\n",
       "      <td>[INJECTION, SOLUTION]</td>\n",
       "      <td>1</td>\n",
       "      <td>0</td>\n",
       "      <td>0</td>\n",
       "    </tr>\n",
       "    <tr>\n",
       "      <th>4</th>\n",
       "      <td>NaN</td>\n",
       "      <td>0002-1436</td>\n",
       "      <td>HUMAN PRESCRIPTION DRUG</td>\n",
       "      <td>EMGALITY</td>\n",
       "      <td>GALCANEZUMAB</td>\n",
       "      <td>2018-09-27</td>\n",
       "      <td>BLA</td>\n",
       "      <td>BLA761063</td>\n",
       "      <td>10</td>\n",
       "      <td>NaN</td>\n",
       "      <td>...</td>\n",
       "      <td>0</td>\n",
       "      <td>0</td>\n",
       "      <td>[SUBCUTANEOUS]</td>\n",
       "      <td>[GALCANEZUMAB]</td>\n",
       "      <td>[120]</td>\n",
       "      <td>[mg/mL]</td>\n",
       "      <td>[INJECTION, SOLUTION]</td>\n",
       "      <td>1</td>\n",
       "      <td>0</td>\n",
       "      <td>0</td>\n",
       "    </tr>\n",
       "  </tbody>\n",
       "</table>\n",
       "<p>5 rows × 21 columns</p>\n",
       "</div>"
      ],
      "text/plain": [
       "  PRODUCTID PRODUCTNDC          PRODUCTTYPENAME  PROPRIETARYNAME  \\\n",
       "0       NaN  0002-0800           HUMAN OTC DRUG  STERILE DILUENT   \n",
       "1       NaN  0002-1200  HUMAN PRESCRIPTION DRUG           AMYVID   \n",
       "2       NaN  0002-1433  HUMAN PRESCRIPTION DRUG        TRULICITY   \n",
       "3       NaN  0002-1434  HUMAN PRESCRIPTION DRUG        TRULICITY   \n",
       "4       NaN  0002-1436  HUMAN PRESCRIPTION DRUG         EMGALITY   \n",
       "\n",
       "  NONPROPRIETARYNAME STARTMARKETINGDATE MARKETINGCATEGORYNAME  \\\n",
       "0            DILUENT         1987-07-10                   NDA   \n",
       "1   FLORBETAPIR F 18         2012-06-01                   NDA   \n",
       "2        DULAGLUTIDE         2014-09-18                   BLA   \n",
       "3        DULAGLUTIDE         2014-09-18                   BLA   \n",
       "4       GALCANEZUMAB         2018-09-27                   BLA   \n",
       "\n",
       "  APPLICATIONNUMBER LABELERNAME  \\\n",
       "0         NDA018781          10   \n",
       "1         NDA202008          10   \n",
       "2         BLA125469          10   \n",
       "3         BLA125469          10   \n",
       "4         BLA761063          10   \n",
       "\n",
       "                                       PHARM_CLASSES  ...  \\\n",
       "0                                                NaN  ...   \n",
       "1  Radioactive Diagnostic Agent [EPC],Positron Em...  ...   \n",
       "2  GLP-1 Receptor Agonist [EPC],Glucagon-Like Pep...  ...   \n",
       "3  GLP-1 Receptor Agonist [EPC],Glucagon-Like Pep...  ...   \n",
       "4                                                NaN  ...   \n",
       "\n",
       "   DEASCHEDULE_determined  PROPRIETARYNAMESUFFIX_determined  ROUTENAME_list  \\\n",
       "0                       0                                 0  [SUBCUTANEOUS]   \n",
       "1                       0                                 0   [INTRAVENOUS]   \n",
       "2                       0                                 0  [SUBCUTANEOUS]   \n",
       "3                       0                                 0  [SUBCUTANEOUS]   \n",
       "4                       0                                 0  [SUBCUTANEOUS]   \n",
       "\n",
       "   SUBSTANCENAME_list ACTIVE_NUMERATOR_STRENGTH_list ACTIVE_INGRED_UNIT_list  \\\n",
       "0             [WATER]                            [1]                 [mL/mL]   \n",
       "1  [FLORBETAPIR F-18]                           [51]                [mCi/mL]   \n",
       "2       [DULAGLUTIDE]                          [.75]               [mg/.5mL]   \n",
       "3       [DULAGLUTIDE]                          [1.5]               [mg/.5mL]   \n",
       "4      [GALCANEZUMAB]                          [120]                 [mg/mL]   \n",
       "\n",
       "     DOSAGEFORMNAME_list LISTING_RECORD_CERTIFIED_THROUGH_2020-12-31 00:00:00  \\\n",
       "0  [INJECTION, SOLUTION]                                                  1     \n",
       "1  [INJECTION, SOLUTION]                                                  0     \n",
       "2  [INJECTION, SOLUTION]                                                  1     \n",
       "3  [INJECTION, SOLUTION]                                                  1     \n",
       "4  [INJECTION, SOLUTION]                                                  1     \n",
       "\n",
       "   LISTING_RECORD_CERTIFIED_THROUGH_2021-12-31 00:00:00  \\\n",
       "0                                                  0      \n",
       "1                                                  1      \n",
       "2                                                  0      \n",
       "3                                                  0      \n",
       "4                                                  0      \n",
       "\n",
       "   LISTING_RECORD_CERTIFIED_THROUGH_undetermined  \n",
       "0                                              0  \n",
       "1                                              0  \n",
       "2                                              0  \n",
       "3                                              0  \n",
       "4                                              0  \n",
       "\n",
       "[5 rows x 21 columns]"
      ]
     },
     "execution_count": 164,
     "metadata": {},
     "output_type": "execute_result"
    }
   ],
   "source": [
    "prod.head()"
   ]
  },
  {
   "attachments": {},
   "cell_type": "markdown",
   "metadata": {},
   "source": [
    "Brief summary of features with missing values:\n",
    "- productID we cannot impute since it is the combination of the NDC and the hashed value of the SPL documentID. We can just replace it with the PRODUCTNDC + some string to identify it differently.\n",
    "- ProprietaryName and NonProprietaryName are logically linked so we can build a model (KNN classif) with one another to impute the missing categories from one another if the NaN are not common\n",
    "- ApplicationNumber for unapproved drugs is null. thus convert all NaN to \"unapproved\"\n",
    "- For RouteName, we can use logically linked attributes such as ProductTypeName, ProprietaryName and NonProprietaryName to train a model (KNN classif) and impute the data of the missing fields\n",
    "- For the 3 linked attributes SUBSTANCENAME_list, ACTIVE_NUMERATOR_STRENGTH_list, ACTIVE_INGRED_UNIT_list we can do the same as above"
   ]
  },
  {
   "cell_type": "code",
   "execution_count": 165,
   "metadata": {},
   "outputs": [
    {
     "data": {
      "text/plain": [
       "PRODUCTID                          1560\n",
       "PROPRIETARYNAME                       6\n",
       "NONPROPRIETARYNAME                    4\n",
       "APPLICATIONNUMBER                 13097\n",
       "ROUTENAME_list                     1886\n",
       "SUBSTANCENAME_list                 2248\n",
       "ACTIVE_NUMERATOR_STRENGTH_list     2248\n",
       "ACTIVE_INGRED_UNIT_list            2248\n",
       "dtype: int64"
      ]
     },
     "execution_count": 165,
     "metadata": {},
     "output_type": "execute_result"
    }
   ],
   "source": [
    "prod.isnull().sum()[prod.isnull().sum() > 0].drop(\"PHARM_CLASSES\")"
   ]
  },
  {
   "attachments": {},
   "cell_type": "markdown",
   "metadata": {},
   "source": [
    "**Add unique ProductIDs**"
   ]
  },
  {
   "cell_type": "code",
   "execution_count": 166,
   "metadata": {},
   "outputs": [
    {
     "name": "stdout",
     "output_type": "stream",
     "text": [
      "0\n"
     ]
    }
   ],
   "source": [
    "# Replacing missing id\n",
    "for i in prod[prod[\"PRODUCTID\"].isnull()][\"PRODUCTID\"].index:\n",
    "    prod.loc[i, \"PRODUCTID\"] = f\"missingID_{i}\"\n",
    "    \n",
    "print(prod[\"PRODUCTID\"].isnull().sum())"
   ]
  },
  {
   "cell_type": "code",
   "execution_count": 167,
   "metadata": {},
   "outputs": [
    {
     "data": {
      "text/html": [
       "<div>\n",
       "<style scoped>\n",
       "    .dataframe tbody tr th:only-of-type {\n",
       "        vertical-align: middle;\n",
       "    }\n",
       "\n",
       "    .dataframe tbody tr th {\n",
       "        vertical-align: top;\n",
       "    }\n",
       "\n",
       "    .dataframe thead th {\n",
       "        text-align: right;\n",
       "    }\n",
       "</style>\n",
       "<table border=\"1\" class=\"dataframe\">\n",
       "  <thead>\n",
       "    <tr style=\"text-align: right;\">\n",
       "      <th></th>\n",
       "      <th>PRODUCTID</th>\n",
       "      <th>PRODUCTNDC</th>\n",
       "      <th>PRODUCTTYPENAME</th>\n",
       "      <th>PROPRIETARYNAME</th>\n",
       "      <th>NONPROPRIETARYNAME</th>\n",
       "      <th>STARTMARKETINGDATE</th>\n",
       "      <th>MARKETINGCATEGORYNAME</th>\n",
       "      <th>APPLICATIONNUMBER</th>\n",
       "      <th>LABELERNAME</th>\n",
       "      <th>PHARM_CLASSES</th>\n",
       "      <th>...</th>\n",
       "      <th>DEASCHEDULE_determined</th>\n",
       "      <th>PROPRIETARYNAMESUFFIX_determined</th>\n",
       "      <th>ROUTENAME_list</th>\n",
       "      <th>SUBSTANCENAME_list</th>\n",
       "      <th>ACTIVE_NUMERATOR_STRENGTH_list</th>\n",
       "      <th>ACTIVE_INGRED_UNIT_list</th>\n",
       "      <th>DOSAGEFORMNAME_list</th>\n",
       "      <th>LISTING_RECORD_CERTIFIED_THROUGH_2020-12-31 00:00:00</th>\n",
       "      <th>LISTING_RECORD_CERTIFIED_THROUGH_2021-12-31 00:00:00</th>\n",
       "      <th>LISTING_RECORD_CERTIFIED_THROUGH_undetermined</th>\n",
       "    </tr>\n",
       "  </thead>\n",
       "  <tbody>\n",
       "    <tr>\n",
       "      <th>0</th>\n",
       "      <td>missingID_0</td>\n",
       "      <td>0002-0800</td>\n",
       "      <td>HUMAN OTC DRUG</td>\n",
       "      <td>STERILE DILUENT</td>\n",
       "      <td>DILUENT</td>\n",
       "      <td>1987-07-10</td>\n",
       "      <td>NDA</td>\n",
       "      <td>NDA018781</td>\n",
       "      <td>10</td>\n",
       "      <td>NaN</td>\n",
       "      <td>...</td>\n",
       "      <td>0</td>\n",
       "      <td>0</td>\n",
       "      <td>[SUBCUTANEOUS]</td>\n",
       "      <td>[WATER]</td>\n",
       "      <td>[1]</td>\n",
       "      <td>[mL/mL]</td>\n",
       "      <td>[INJECTION, SOLUTION]</td>\n",
       "      <td>1</td>\n",
       "      <td>0</td>\n",
       "      <td>0</td>\n",
       "    </tr>\n",
       "    <tr>\n",
       "      <th>1</th>\n",
       "      <td>missingID_1</td>\n",
       "      <td>0002-1200</td>\n",
       "      <td>HUMAN PRESCRIPTION DRUG</td>\n",
       "      <td>AMYVID</td>\n",
       "      <td>FLORBETAPIR F 18</td>\n",
       "      <td>2012-06-01</td>\n",
       "      <td>NDA</td>\n",
       "      <td>NDA202008</td>\n",
       "      <td>10</td>\n",
       "      <td>Radioactive Diagnostic Agent [EPC],Positron Em...</td>\n",
       "      <td>...</td>\n",
       "      <td>0</td>\n",
       "      <td>0</td>\n",
       "      <td>[INTRAVENOUS]</td>\n",
       "      <td>[FLORBETAPIR F-18]</td>\n",
       "      <td>[51]</td>\n",
       "      <td>[mCi/mL]</td>\n",
       "      <td>[INJECTION, SOLUTION]</td>\n",
       "      <td>0</td>\n",
       "      <td>1</td>\n",
       "      <td>0</td>\n",
       "    </tr>\n",
       "    <tr>\n",
       "      <th>2</th>\n",
       "      <td>missingID_2</td>\n",
       "      <td>0002-1433</td>\n",
       "      <td>HUMAN PRESCRIPTION DRUG</td>\n",
       "      <td>TRULICITY</td>\n",
       "      <td>DULAGLUTIDE</td>\n",
       "      <td>2014-09-18</td>\n",
       "      <td>BLA</td>\n",
       "      <td>BLA125469</td>\n",
       "      <td>10</td>\n",
       "      <td>GLP-1 Receptor Agonist [EPC],Glucagon-Like Pep...</td>\n",
       "      <td>...</td>\n",
       "      <td>0</td>\n",
       "      <td>0</td>\n",
       "      <td>[SUBCUTANEOUS]</td>\n",
       "      <td>[DULAGLUTIDE]</td>\n",
       "      <td>[.75]</td>\n",
       "      <td>[mg/.5mL]</td>\n",
       "      <td>[INJECTION, SOLUTION]</td>\n",
       "      <td>1</td>\n",
       "      <td>0</td>\n",
       "      <td>0</td>\n",
       "    </tr>\n",
       "    <tr>\n",
       "      <th>3</th>\n",
       "      <td>missingID_3</td>\n",
       "      <td>0002-1434</td>\n",
       "      <td>HUMAN PRESCRIPTION DRUG</td>\n",
       "      <td>TRULICITY</td>\n",
       "      <td>DULAGLUTIDE</td>\n",
       "      <td>2014-09-18</td>\n",
       "      <td>BLA</td>\n",
       "      <td>BLA125469</td>\n",
       "      <td>10</td>\n",
       "      <td>GLP-1 Receptor Agonist [EPC],Glucagon-Like Pep...</td>\n",
       "      <td>...</td>\n",
       "      <td>0</td>\n",
       "      <td>0</td>\n",
       "      <td>[SUBCUTANEOUS]</td>\n",
       "      <td>[DULAGLUTIDE]</td>\n",
       "      <td>[1.5]</td>\n",
       "      <td>[mg/.5mL]</td>\n",
       "      <td>[INJECTION, SOLUTION]</td>\n",
       "      <td>1</td>\n",
       "      <td>0</td>\n",
       "      <td>0</td>\n",
       "    </tr>\n",
       "    <tr>\n",
       "      <th>4</th>\n",
       "      <td>missingID_4</td>\n",
       "      <td>0002-1436</td>\n",
       "      <td>HUMAN PRESCRIPTION DRUG</td>\n",
       "      <td>EMGALITY</td>\n",
       "      <td>GALCANEZUMAB</td>\n",
       "      <td>2018-09-27</td>\n",
       "      <td>BLA</td>\n",
       "      <td>BLA761063</td>\n",
       "      <td>10</td>\n",
       "      <td>NaN</td>\n",
       "      <td>...</td>\n",
       "      <td>0</td>\n",
       "      <td>0</td>\n",
       "      <td>[SUBCUTANEOUS]</td>\n",
       "      <td>[GALCANEZUMAB]</td>\n",
       "      <td>[120]</td>\n",
       "      <td>[mg/mL]</td>\n",
       "      <td>[INJECTION, SOLUTION]</td>\n",
       "      <td>1</td>\n",
       "      <td>0</td>\n",
       "      <td>0</td>\n",
       "    </tr>\n",
       "  </tbody>\n",
       "</table>\n",
       "<p>5 rows × 21 columns</p>\n",
       "</div>"
      ],
      "text/plain": [
       "     PRODUCTID PRODUCTNDC          PRODUCTTYPENAME  PROPRIETARYNAME  \\\n",
       "0  missingID_0  0002-0800           HUMAN OTC DRUG  STERILE DILUENT   \n",
       "1  missingID_1  0002-1200  HUMAN PRESCRIPTION DRUG           AMYVID   \n",
       "2  missingID_2  0002-1433  HUMAN PRESCRIPTION DRUG        TRULICITY   \n",
       "3  missingID_3  0002-1434  HUMAN PRESCRIPTION DRUG        TRULICITY   \n",
       "4  missingID_4  0002-1436  HUMAN PRESCRIPTION DRUG         EMGALITY   \n",
       "\n",
       "  NONPROPRIETARYNAME STARTMARKETINGDATE MARKETINGCATEGORYNAME  \\\n",
       "0            DILUENT         1987-07-10                   NDA   \n",
       "1   FLORBETAPIR F 18         2012-06-01                   NDA   \n",
       "2        DULAGLUTIDE         2014-09-18                   BLA   \n",
       "3        DULAGLUTIDE         2014-09-18                   BLA   \n",
       "4       GALCANEZUMAB         2018-09-27                   BLA   \n",
       "\n",
       "  APPLICATIONNUMBER LABELERNAME  \\\n",
       "0         NDA018781          10   \n",
       "1         NDA202008          10   \n",
       "2         BLA125469          10   \n",
       "3         BLA125469          10   \n",
       "4         BLA761063          10   \n",
       "\n",
       "                                       PHARM_CLASSES  ...  \\\n",
       "0                                                NaN  ...   \n",
       "1  Radioactive Diagnostic Agent [EPC],Positron Em...  ...   \n",
       "2  GLP-1 Receptor Agonist [EPC],Glucagon-Like Pep...  ...   \n",
       "3  GLP-1 Receptor Agonist [EPC],Glucagon-Like Pep...  ...   \n",
       "4                                                NaN  ...   \n",
       "\n",
       "   DEASCHEDULE_determined  PROPRIETARYNAMESUFFIX_determined  ROUTENAME_list  \\\n",
       "0                       0                                 0  [SUBCUTANEOUS]   \n",
       "1                       0                                 0   [INTRAVENOUS]   \n",
       "2                       0                                 0  [SUBCUTANEOUS]   \n",
       "3                       0                                 0  [SUBCUTANEOUS]   \n",
       "4                       0                                 0  [SUBCUTANEOUS]   \n",
       "\n",
       "   SUBSTANCENAME_list ACTIVE_NUMERATOR_STRENGTH_list ACTIVE_INGRED_UNIT_list  \\\n",
       "0             [WATER]                            [1]                 [mL/mL]   \n",
       "1  [FLORBETAPIR F-18]                           [51]                [mCi/mL]   \n",
       "2       [DULAGLUTIDE]                          [.75]               [mg/.5mL]   \n",
       "3       [DULAGLUTIDE]                          [1.5]               [mg/.5mL]   \n",
       "4      [GALCANEZUMAB]                          [120]                 [mg/mL]   \n",
       "\n",
       "     DOSAGEFORMNAME_list LISTING_RECORD_CERTIFIED_THROUGH_2020-12-31 00:00:00  \\\n",
       "0  [INJECTION, SOLUTION]                                                  1     \n",
       "1  [INJECTION, SOLUTION]                                                  0     \n",
       "2  [INJECTION, SOLUTION]                                                  1     \n",
       "3  [INJECTION, SOLUTION]                                                  1     \n",
       "4  [INJECTION, SOLUTION]                                                  1     \n",
       "\n",
       "   LISTING_RECORD_CERTIFIED_THROUGH_2021-12-31 00:00:00  \\\n",
       "0                                                  0      \n",
       "1                                                  1      \n",
       "2                                                  0      \n",
       "3                                                  0      \n",
       "4                                                  0      \n",
       "\n",
       "   LISTING_RECORD_CERTIFIED_THROUGH_undetermined  \n",
       "0                                              0  \n",
       "1                                              0  \n",
       "2                                              0  \n",
       "3                                              0  \n",
       "4                                              0  \n",
       "\n",
       "[5 rows x 21 columns]"
      ]
     },
     "execution_count": 167,
     "metadata": {},
     "output_type": "execute_result"
    }
   ],
   "source": [
    "prod.head()"
   ]
  },
  {
   "attachments": {},
   "cell_type": "markdown",
   "metadata": {},
   "source": [
    "**Missing values in PROPRIETARYNAME and NONPROPRIETARYNAME**"
   ]
  },
  {
   "cell_type": "code",
   "execution_count": 168,
   "metadata": {},
   "outputs": [
    {
     "data": {
      "text/plain": [
       "PROPRIETARYNAME       6\n",
       "NONPROPRIETARYNAME    4\n",
       "dtype: int64"
      ]
     },
     "execution_count": 168,
     "metadata": {},
     "output_type": "execute_result"
    }
   ],
   "source": [
    "prod.isnull().sum()[prod.isnull().sum() > 0][0:2]"
   ]
  },
  {
   "cell_type": "code",
   "execution_count": 169,
   "metadata": {},
   "outputs": [
    {
     "name": "stdout",
     "output_type": "stream",
     "text": [
      "0\n",
      "0\n"
     ]
    }
   ],
   "source": [
    "# Check if the missing vals in the feat1 are diff then feat2\n",
    "print(prod[prod[\"PROPRIETARYNAME\"].isnull()][\"NONPROPRIETARYNAME\"].isnull().sum())\n",
    "print(prod[prod[\"NONPROPRIETARYNAME\"].isnull()][\"PROPRIETARYNAME\"].isnull().sum())"
   ]
  },
  {
   "attachments": {},
   "cell_type": "markdown",
   "metadata": {},
   "source": [
    "OneHotEncoding and labelEncoding both features/labels alternatively "
   ]
  },
  {
   "cell_type": "code",
   "execution_count": 170,
   "metadata": {},
   "outputs": [
    {
     "data": {
      "text/html": [
       "<div>\n",
       "<style scoped>\n",
       "    .dataframe tbody tr th:only-of-type {\n",
       "        vertical-align: middle;\n",
       "    }\n",
       "\n",
       "    .dataframe tbody tr th {\n",
       "        vertical-align: top;\n",
       "    }\n",
       "\n",
       "    .dataframe thead th {\n",
       "        text-align: right;\n",
       "    }\n",
       "</style>\n",
       "<table border=\"1\" class=\"dataframe\">\n",
       "  <thead>\n",
       "    <tr style=\"text-align: right;\">\n",
       "      <th></th>\n",
       "      <th>PROPRIETARYNAME</th>\n",
       "      <th>NONPROPRIETARYNAME</th>\n",
       "    </tr>\n",
       "  </thead>\n",
       "  <tbody>\n",
       "    <tr>\n",
       "      <th>0</th>\n",
       "      <td>STERILE DILUENT</td>\n",
       "      <td>DILUENT</td>\n",
       "    </tr>\n",
       "    <tr>\n",
       "      <th>1</th>\n",
       "      <td>AMYVID</td>\n",
       "      <td>FLORBETAPIR F 18</td>\n",
       "    </tr>\n",
       "    <tr>\n",
       "      <th>2</th>\n",
       "      <td>TRULICITY</td>\n",
       "      <td>DULAGLUTIDE</td>\n",
       "    </tr>\n",
       "    <tr>\n",
       "      <th>3</th>\n",
       "      <td>TRULICITY</td>\n",
       "      <td>DULAGLUTIDE</td>\n",
       "    </tr>\n",
       "    <tr>\n",
       "      <th>4</th>\n",
       "      <td>EMGALITY</td>\n",
       "      <td>GALCANEZUMAB</td>\n",
       "    </tr>\n",
       "  </tbody>\n",
       "</table>\n",
       "</div>"
      ],
      "text/plain": [
       "   PROPRIETARYNAME NONPROPRIETARYNAME\n",
       "0  STERILE DILUENT            DILUENT\n",
       "1           AMYVID   FLORBETAPIR F 18\n",
       "2        TRULICITY        DULAGLUTIDE\n",
       "3        TRULICITY        DULAGLUTIDE\n",
       "4         EMGALITY       GALCANEZUMAB"
      ]
     },
     "execution_count": 170,
     "metadata": {},
     "output_type": "execute_result"
    }
   ],
   "source": [
    "# extracting non-NaNs data\n",
    "pnp_df = prod[[\"PROPRIETARYNAME\", \"NONPROPRIETARYNAME\"]]\n",
    "pnp_df = pnp_df.dropna()\n",
    "pnp_df.head()"
   ]
  },
  {
   "cell_type": "code",
   "execution_count": 171,
   "metadata": {},
   "outputs": [],
   "source": [
    "# Imputing ProprietaryName first, so ohe on Non-Pname and labelencoding on Pname\n",
    "# X = pnp_df[\"NONPROPRIETARYNAME\"]\n",
    "# y = pnp_df[\"PROPRIETARYNAME\"]\n",
    "# ohe on nonpname feature\n",
    "ohe = OneHotEncoder()\n",
    "X = ohe.fit_transform(pnp_df[[\"NONPROPRIETARYNAME\"]]).toarray()\n",
    "le = LabelEncoder()\n",
    "le.fit(pnp_df[\"PROPRIETARYNAME\"])\n",
    "y = le.transform(pnp_df[\"PROPRIETARYNAME\"])"
   ]
  },
  {
   "cell_type": "code",
   "execution_count": 172,
   "metadata": {},
   "outputs": [],
   "source": [
    "#Split in train_test with 80/20\n",
    "X_train, X_test, y_train, y_test = train_test_split(X, y, test_size=0.2)"
   ]
  },
  {
   "attachments": {},
   "cell_type": "markdown",
   "metadata": {},
   "source": [
    "Optimize the K for KNN"
   ]
  },
  {
   "cell_type": "code",
   "execution_count": 173,
   "metadata": {},
   "outputs": [],
   "source": [
    "# Optimize K\n",
    "def optimize_k_knnclassif(min_k, max_k, X_train, X_test, y_train, y_test):\n",
    "    highest_score = None\n",
    "    best_k = None\n",
    "    for k in range(min_k, max_k+1):\n",
    "        knn = KNeighborsClassifier(n_neighbors=k)\n",
    "        knn.fit(X_train, y_train)    # Train the model\n",
    "        # Predictions\n",
    "        y_pred = knn.predict(X_test)\n",
    "\n",
    "        print(f\"Training set mean accuracy for k={k}: {knn.score(X_train, y_train):.4f}\")\n",
    "        print(f\"Test set mean accuracy for k={k}: {metrics.accuracy_score(y_test, y_pred):.4f}\")\n",
    "        test_score = metrics.accuracy_score(y_test, y_pred)\n",
    "        if highest_score is None:\n",
    "            highest_score = test_score\n",
    "            best_k = k\n",
    "        if highest_score < test_score:\n",
    "            highest_score = test_score\n",
    "            best_k = k\n",
    "    print(f\"Highest test score is {highest_score:.4f} with k={best_k}\")"
   ]
  },
  {
   "cell_type": "code",
   "execution_count": 174,
   "metadata": {},
   "outputs": [],
   "source": [
    "#optimize_k(3, 3, X_train, X_test, y_train, y_test)"
   ]
  },
  {
   "attachments": {},
   "cell_type": "markdown",
   "metadata": {},
   "source": [
    "Too many categories to train the model (+10 min later for a single k=3 iteration incomplete)"
   ]
  },
  {
   "cell_type": "code",
   "execution_count": 175,
   "metadata": {},
   "outputs": [],
   "source": [
    "# DecTree \n",
    "# clf = DecisionTreeClassifier()\n",
    "# clf.fit(X_train, y_train)\n",
    "# y_pred = clf.predict(X_test)\n",
    "# print(f\"Training set mean accuracy : {clf.score(X_train, y_train):.4f}\")\n",
    "# print(f\"Test set mean accuracy : {metrics.accuracy_score(y_test, y_pred):.4f}\")"
   ]
  },
  {
   "attachments": {},
   "cell_type": "markdown",
   "metadata": {},
   "source": [
    "Again too long to train the model (+10 min later for a single iteration incomplete)"
   ]
  },
  {
   "attachments": {},
   "cell_type": "markdown",
   "metadata": {},
   "source": [
    "We will use a simpler imputation technique to just use the most frequent value based on the other feature respectively"
   ]
  },
  {
   "cell_type": "code",
   "execution_count": 176,
   "metadata": {},
   "outputs": [
    {
     "data": {
      "text/html": [
       "<div>\n",
       "<style scoped>\n",
       "    .dataframe tbody tr th:only-of-type {\n",
       "        vertical-align: middle;\n",
       "    }\n",
       "\n",
       "    .dataframe tbody tr th {\n",
       "        vertical-align: top;\n",
       "    }\n",
       "\n",
       "    .dataframe thead th {\n",
       "        text-align: right;\n",
       "    }\n",
       "</style>\n",
       "<table border=\"1\" class=\"dataframe\">\n",
       "  <thead>\n",
       "    <tr style=\"text-align: right;\">\n",
       "      <th></th>\n",
       "      <th>PROPRIETARYNAME</th>\n",
       "      <th>NONPROPRIETARYNAME</th>\n",
       "    </tr>\n",
       "  </thead>\n",
       "  <tbody>\n",
       "    <tr>\n",
       "      <th>0</th>\n",
       "      <td>STERILE DILUENT</td>\n",
       "      <td>DILUENT</td>\n",
       "    </tr>\n",
       "    <tr>\n",
       "      <th>1</th>\n",
       "      <td>AMYVID</td>\n",
       "      <td>FLORBETAPIR F 18</td>\n",
       "    </tr>\n",
       "    <tr>\n",
       "      <th>2</th>\n",
       "      <td>TRULICITY</td>\n",
       "      <td>DULAGLUTIDE</td>\n",
       "    </tr>\n",
       "    <tr>\n",
       "      <th>3</th>\n",
       "      <td>TRULICITY</td>\n",
       "      <td>DULAGLUTIDE</td>\n",
       "    </tr>\n",
       "    <tr>\n",
       "      <th>4</th>\n",
       "      <td>EMGALITY</td>\n",
       "      <td>GALCANEZUMAB</td>\n",
       "    </tr>\n",
       "  </tbody>\n",
       "</table>\n",
       "</div>"
      ],
      "text/plain": [
       "   PROPRIETARYNAME NONPROPRIETARYNAME\n",
       "0  STERILE DILUENT            DILUENT\n",
       "1           AMYVID   FLORBETAPIR F 18\n",
       "2        TRULICITY        DULAGLUTIDE\n",
       "3        TRULICITY        DULAGLUTIDE\n",
       "4         EMGALITY       GALCANEZUMAB"
      ]
     },
     "execution_count": 176,
     "metadata": {},
     "output_type": "execute_result"
    }
   ],
   "source": [
    "pnp_df = prod[[\"PROPRIETARYNAME\", \"NONPROPRIETARYNAME\"]]\n",
    "pnp_df.head()"
   ]
  },
  {
   "cell_type": "code",
   "execution_count": 177,
   "metadata": {},
   "outputs": [
    {
     "data": {
      "text/plain": [
       "80717              DULOXETINE DELAYED-RELEASE CAPSULES\n",
       "80718              DULOXETINE DELAYED-RELEASE CAPSULES\n",
       "80719              DULOXETINE DELAYED-RELEASE CAPSULES\n",
       "85212    ATROPINE SULFATE INJECTION USP, 0.5 MG/0.7 ML\n",
       "85213      ATROPINE SULFATE INJECTION USP, 1 MG/0.7 ML\n",
       "85214                         ATROPINE INJECTION, 2 MG\n",
       "Name: NONPROPRIETARYNAME, dtype: object"
      ]
     },
     "execution_count": 177,
     "metadata": {},
     "output_type": "execute_result"
    }
   ],
   "source": [
    "np_vals_pname_unknowns = pnp_df[pnp_df[\"PROPRIETARYNAME\"].isnull()][\"NONPROPRIETARYNAME\"]\n",
    "np_vals_pname_unknowns"
   ]
  },
  {
   "cell_type": "code",
   "execution_count": 178,
   "metadata": {},
   "outputs": [
    {
     "name": "stdout",
     "output_type": "stream",
     "text": [
      "[nan nan nan]\n",
      "[nan]\n",
      "[nan]\n",
      "[nan]\n"
     ]
    }
   ],
   "source": [
    "for val in np_vals_pname_unknowns.unique():\n",
    "    print(pnp_df[pnp_df[\"NONPROPRIETARYNAME\"] == val][\"PROPRIETARYNAME\"].values)"
   ]
  },
  {
   "cell_type": "code",
   "execution_count": 179,
   "metadata": {},
   "outputs": [
    {
     "name": "stdout",
     "output_type": "stream",
     "text": [
      "38786    NaN\n",
      "Name: NONPROPRIETARYNAME, dtype: object\n",
      "38789    NaN\n",
      "Name: NONPROPRIETARYNAME, dtype: object\n",
      "38797    NaN\n",
      "Name: NONPROPRIETARYNAME, dtype: object\n",
      "38798    NaN\n",
      "Name: NONPROPRIETARYNAME, dtype: object\n"
     ]
    }
   ],
   "source": [
    "for val in pnp_df[pnp_df[\"NONPROPRIETARYNAME\"].isnull()][\"PROPRIETARYNAME\"].unique():\n",
    "    print(pnp_df[pnp_df[\"PROPRIETARYNAME\"] == val][\"NONPROPRIETARYNAME\"])"
   ]
  },
  {
   "attachments": {},
   "cell_type": "markdown",
   "metadata": {},
   "source": [
    "Well all of the values are NaN so we can't do anything with approach meaning the missing values are unique categories only appearing once. Let's just drop the objects then"
   ]
  },
  {
   "cell_type": "code",
   "execution_count": 180,
   "metadata": {},
   "outputs": [
    {
     "data": {
      "text/html": [
       "<div>\n",
       "<style scoped>\n",
       "    .dataframe tbody tr th:only-of-type {\n",
       "        vertical-align: middle;\n",
       "    }\n",
       "\n",
       "    .dataframe tbody tr th {\n",
       "        vertical-align: top;\n",
       "    }\n",
       "\n",
       "    .dataframe thead th {\n",
       "        text-align: right;\n",
       "    }\n",
       "</style>\n",
       "<table border=\"1\" class=\"dataframe\">\n",
       "  <thead>\n",
       "    <tr style=\"text-align: right;\">\n",
       "      <th></th>\n",
       "      <th>PRODUCTID</th>\n",
       "      <th>PRODUCTNDC</th>\n",
       "      <th>PRODUCTTYPENAME</th>\n",
       "      <th>PROPRIETARYNAME</th>\n",
       "      <th>NONPROPRIETARYNAME</th>\n",
       "      <th>STARTMARKETINGDATE</th>\n",
       "      <th>MARKETINGCATEGORYNAME</th>\n",
       "      <th>APPLICATIONNUMBER</th>\n",
       "      <th>LABELERNAME</th>\n",
       "      <th>PHARM_CLASSES</th>\n",
       "      <th>...</th>\n",
       "      <th>DEASCHEDULE_determined</th>\n",
       "      <th>PROPRIETARYNAMESUFFIX_determined</th>\n",
       "      <th>ROUTENAME_list</th>\n",
       "      <th>SUBSTANCENAME_list</th>\n",
       "      <th>ACTIVE_NUMERATOR_STRENGTH_list</th>\n",
       "      <th>ACTIVE_INGRED_UNIT_list</th>\n",
       "      <th>DOSAGEFORMNAME_list</th>\n",
       "      <th>LISTING_RECORD_CERTIFIED_THROUGH_2020-12-31 00:00:00</th>\n",
       "      <th>LISTING_RECORD_CERTIFIED_THROUGH_2021-12-31 00:00:00</th>\n",
       "      <th>LISTING_RECORD_CERTIFIED_THROUGH_undetermined</th>\n",
       "    </tr>\n",
       "  </thead>\n",
       "  <tbody>\n",
       "    <tr>\n",
       "      <th>0</th>\n",
       "      <td>missingID_0</td>\n",
       "      <td>0002-0800</td>\n",
       "      <td>HUMAN OTC DRUG</td>\n",
       "      <td>STERILE DILUENT</td>\n",
       "      <td>DILUENT</td>\n",
       "      <td>1987-07-10</td>\n",
       "      <td>NDA</td>\n",
       "      <td>NDA018781</td>\n",
       "      <td>10</td>\n",
       "      <td>NaN</td>\n",
       "      <td>...</td>\n",
       "      <td>0</td>\n",
       "      <td>0</td>\n",
       "      <td>[SUBCUTANEOUS]</td>\n",
       "      <td>[WATER]</td>\n",
       "      <td>[1]</td>\n",
       "      <td>[mL/mL]</td>\n",
       "      <td>[INJECTION, SOLUTION]</td>\n",
       "      <td>1</td>\n",
       "      <td>0</td>\n",
       "      <td>0</td>\n",
       "    </tr>\n",
       "    <tr>\n",
       "      <th>1</th>\n",
       "      <td>missingID_1</td>\n",
       "      <td>0002-1200</td>\n",
       "      <td>HUMAN PRESCRIPTION DRUG</td>\n",
       "      <td>AMYVID</td>\n",
       "      <td>FLORBETAPIR F 18</td>\n",
       "      <td>2012-06-01</td>\n",
       "      <td>NDA</td>\n",
       "      <td>NDA202008</td>\n",
       "      <td>10</td>\n",
       "      <td>Radioactive Diagnostic Agent [EPC],Positron Em...</td>\n",
       "      <td>...</td>\n",
       "      <td>0</td>\n",
       "      <td>0</td>\n",
       "      <td>[INTRAVENOUS]</td>\n",
       "      <td>[FLORBETAPIR F-18]</td>\n",
       "      <td>[51]</td>\n",
       "      <td>[mCi/mL]</td>\n",
       "      <td>[INJECTION, SOLUTION]</td>\n",
       "      <td>0</td>\n",
       "      <td>1</td>\n",
       "      <td>0</td>\n",
       "    </tr>\n",
       "    <tr>\n",
       "      <th>2</th>\n",
       "      <td>missingID_2</td>\n",
       "      <td>0002-1433</td>\n",
       "      <td>HUMAN PRESCRIPTION DRUG</td>\n",
       "      <td>TRULICITY</td>\n",
       "      <td>DULAGLUTIDE</td>\n",
       "      <td>2014-09-18</td>\n",
       "      <td>BLA</td>\n",
       "      <td>BLA125469</td>\n",
       "      <td>10</td>\n",
       "      <td>GLP-1 Receptor Agonist [EPC],Glucagon-Like Pep...</td>\n",
       "      <td>...</td>\n",
       "      <td>0</td>\n",
       "      <td>0</td>\n",
       "      <td>[SUBCUTANEOUS]</td>\n",
       "      <td>[DULAGLUTIDE]</td>\n",
       "      <td>[.75]</td>\n",
       "      <td>[mg/.5mL]</td>\n",
       "      <td>[INJECTION, SOLUTION]</td>\n",
       "      <td>1</td>\n",
       "      <td>0</td>\n",
       "      <td>0</td>\n",
       "    </tr>\n",
       "    <tr>\n",
       "      <th>3</th>\n",
       "      <td>missingID_3</td>\n",
       "      <td>0002-1434</td>\n",
       "      <td>HUMAN PRESCRIPTION DRUG</td>\n",
       "      <td>TRULICITY</td>\n",
       "      <td>DULAGLUTIDE</td>\n",
       "      <td>2014-09-18</td>\n",
       "      <td>BLA</td>\n",
       "      <td>BLA125469</td>\n",
       "      <td>10</td>\n",
       "      <td>GLP-1 Receptor Agonist [EPC],Glucagon-Like Pep...</td>\n",
       "      <td>...</td>\n",
       "      <td>0</td>\n",
       "      <td>0</td>\n",
       "      <td>[SUBCUTANEOUS]</td>\n",
       "      <td>[DULAGLUTIDE]</td>\n",
       "      <td>[1.5]</td>\n",
       "      <td>[mg/.5mL]</td>\n",
       "      <td>[INJECTION, SOLUTION]</td>\n",
       "      <td>1</td>\n",
       "      <td>0</td>\n",
       "      <td>0</td>\n",
       "    </tr>\n",
       "    <tr>\n",
       "      <th>4</th>\n",
       "      <td>missingID_4</td>\n",
       "      <td>0002-1436</td>\n",
       "      <td>HUMAN PRESCRIPTION DRUG</td>\n",
       "      <td>EMGALITY</td>\n",
       "      <td>GALCANEZUMAB</td>\n",
       "      <td>2018-09-27</td>\n",
       "      <td>BLA</td>\n",
       "      <td>BLA761063</td>\n",
       "      <td>10</td>\n",
       "      <td>NaN</td>\n",
       "      <td>...</td>\n",
       "      <td>0</td>\n",
       "      <td>0</td>\n",
       "      <td>[SUBCUTANEOUS]</td>\n",
       "      <td>[GALCANEZUMAB]</td>\n",
       "      <td>[120]</td>\n",
       "      <td>[mg/mL]</td>\n",
       "      <td>[INJECTION, SOLUTION]</td>\n",
       "      <td>1</td>\n",
       "      <td>0</td>\n",
       "      <td>0</td>\n",
       "    </tr>\n",
       "  </tbody>\n",
       "</table>\n",
       "<p>5 rows × 21 columns</p>\n",
       "</div>"
      ],
      "text/plain": [
       "     PRODUCTID PRODUCTNDC          PRODUCTTYPENAME  PROPRIETARYNAME  \\\n",
       "0  missingID_0  0002-0800           HUMAN OTC DRUG  STERILE DILUENT   \n",
       "1  missingID_1  0002-1200  HUMAN PRESCRIPTION DRUG           AMYVID   \n",
       "2  missingID_2  0002-1433  HUMAN PRESCRIPTION DRUG        TRULICITY   \n",
       "3  missingID_3  0002-1434  HUMAN PRESCRIPTION DRUG        TRULICITY   \n",
       "4  missingID_4  0002-1436  HUMAN PRESCRIPTION DRUG         EMGALITY   \n",
       "\n",
       "  NONPROPRIETARYNAME STARTMARKETINGDATE MARKETINGCATEGORYNAME  \\\n",
       "0            DILUENT         1987-07-10                   NDA   \n",
       "1   FLORBETAPIR F 18         2012-06-01                   NDA   \n",
       "2        DULAGLUTIDE         2014-09-18                   BLA   \n",
       "3        DULAGLUTIDE         2014-09-18                   BLA   \n",
       "4       GALCANEZUMAB         2018-09-27                   BLA   \n",
       "\n",
       "  APPLICATIONNUMBER LABELERNAME  \\\n",
       "0         NDA018781          10   \n",
       "1         NDA202008          10   \n",
       "2         BLA125469          10   \n",
       "3         BLA125469          10   \n",
       "4         BLA761063          10   \n",
       "\n",
       "                                       PHARM_CLASSES  ...  \\\n",
       "0                                                NaN  ...   \n",
       "1  Radioactive Diagnostic Agent [EPC],Positron Em...  ...   \n",
       "2  GLP-1 Receptor Agonist [EPC],Glucagon-Like Pep...  ...   \n",
       "3  GLP-1 Receptor Agonist [EPC],Glucagon-Like Pep...  ...   \n",
       "4                                                NaN  ...   \n",
       "\n",
       "   DEASCHEDULE_determined  PROPRIETARYNAMESUFFIX_determined  ROUTENAME_list  \\\n",
       "0                       0                                 0  [SUBCUTANEOUS]   \n",
       "1                       0                                 0   [INTRAVENOUS]   \n",
       "2                       0                                 0  [SUBCUTANEOUS]   \n",
       "3                       0                                 0  [SUBCUTANEOUS]   \n",
       "4                       0                                 0  [SUBCUTANEOUS]   \n",
       "\n",
       "   SUBSTANCENAME_list ACTIVE_NUMERATOR_STRENGTH_list ACTIVE_INGRED_UNIT_list  \\\n",
       "0             [WATER]                            [1]                 [mL/mL]   \n",
       "1  [FLORBETAPIR F-18]                           [51]                [mCi/mL]   \n",
       "2       [DULAGLUTIDE]                          [.75]               [mg/.5mL]   \n",
       "3       [DULAGLUTIDE]                          [1.5]               [mg/.5mL]   \n",
       "4      [GALCANEZUMAB]                          [120]                 [mg/mL]   \n",
       "\n",
       "     DOSAGEFORMNAME_list LISTING_RECORD_CERTIFIED_THROUGH_2020-12-31 00:00:00  \\\n",
       "0  [INJECTION, SOLUTION]                                                  1     \n",
       "1  [INJECTION, SOLUTION]                                                  0     \n",
       "2  [INJECTION, SOLUTION]                                                  1     \n",
       "3  [INJECTION, SOLUTION]                                                  1     \n",
       "4  [INJECTION, SOLUTION]                                                  1     \n",
       "\n",
       "   LISTING_RECORD_CERTIFIED_THROUGH_2021-12-31 00:00:00  \\\n",
       "0                                                  0      \n",
       "1                                                  1      \n",
       "2                                                  0      \n",
       "3                                                  0      \n",
       "4                                                  0      \n",
       "\n",
       "   LISTING_RECORD_CERTIFIED_THROUGH_undetermined  \n",
       "0                                              0  \n",
       "1                                              0  \n",
       "2                                              0  \n",
       "3                                              0  \n",
       "4                                              0  \n",
       "\n",
       "[5 rows x 21 columns]"
      ]
     },
     "execution_count": 180,
     "metadata": {},
     "output_type": "execute_result"
    }
   ],
   "source": [
    "prod.head()"
   ]
  },
  {
   "cell_type": "code",
   "execution_count": 181,
   "metadata": {},
   "outputs": [],
   "source": [
    "# Dropping the problematic objects\n",
    "prod = prod.drop(prod[prod[\"PROPRIETARYNAME\"].isnull()].index)\n",
    "prod = prod.drop(prod[prod[\"NONPROPRIETARYNAME\"].isnull()].index)"
   ]
  },
  {
   "attachments": {},
   "cell_type": "markdown",
   "metadata": {},
   "source": [
    "**Convert Nulls in ApplicationNumber to *unapproved* category**"
   ]
  },
  {
   "cell_type": "code",
   "execution_count": 182,
   "metadata": {},
   "outputs": [],
   "source": [
    "prod[\"APPLICATIONNUMBER\"] = prod[\"APPLICATIONNUMBER\"].fillna(\"unapproved\")"
   ]
  },
  {
   "cell_type": "code",
   "execution_count": 183,
   "metadata": {},
   "outputs": [
    {
     "data": {
      "text/plain": [
       "0"
      ]
     },
     "execution_count": 183,
     "metadata": {},
     "output_type": "execute_result"
    }
   ],
   "source": [
    "len(prod[prod[\"APPLICATIONNUMBER\"].isnull()])"
   ]
  },
  {
   "attachments": {},
   "cell_type": "markdown",
   "metadata": {},
   "source": [
    "**Imputing NaNs for ROUTENAME with PRODUCTTYPENAME since it makes for a logical approach and also fewer categories so we will be able to train a KNNClassif with this subset of data**"
   ]
  },
  {
   "cell_type": "code",
   "execution_count": 184,
   "metadata": {},
   "outputs": [
    {
     "name": "stdout",
     "output_type": "stream",
     "text": [
      "There are 1886 missing values in RouteName_list\n"
     ]
    }
   ],
   "source": [
    "print(f'There are {prod[\"ROUTENAME_list\"].isnull().sum()} missing values in RouteName_list')"
   ]
  },
  {
   "attachments": {},
   "cell_type": "markdown",
   "metadata": {},
   "source": [
    "Converting ProductTypeName and RouteName_list to numerical with"
   ]
  },
  {
   "cell_type": "code",
   "execution_count": 185,
   "metadata": {},
   "outputs": [
    {
     "data": {
      "text/plain": [
       "7"
      ]
     },
     "execution_count": 185,
     "metadata": {},
     "output_type": "execute_result"
    }
   ],
   "source": [
    "len(prod[\"PRODUCTTYPENAME\"].unique())"
   ]
  },
  {
   "attachments": {},
   "cell_type": "markdown",
   "metadata": {},
   "source": [
    "We need to reduce the amount of repetitions for multiple values to a minimum, let's compare with a sorted list then convert to set if we reduce the amount of categories"
   ]
  },
  {
   "cell_type": "code",
   "execution_count": 186,
   "metadata": {},
   "outputs": [
    {
     "name": "stdout",
     "output_type": "stream",
     "text": [
      "There are initially 174 categories\n",
      "There will be 173 with sorted/set/list strategy\n"
     ]
    }
   ],
   "source": [
    "print(f'There are initially {len(prod[\"ROUTENAME_list\"].fillna(\"MISSING\").value_counts())} categories')\n",
    "print(f'There will be {len(prod[\"ROUTENAME_list\"].fillna(\"MISSING\").apply(lambda x: list(set(sorted(x)))).value_counts())} with sorted/set/list strategy')"
   ]
  },
  {
   "cell_type": "code",
   "execution_count": 187,
   "metadata": {},
   "outputs": [],
   "source": [
    "# Filtering and transforming NaN to MISSING cat\n",
    "prod[\"ROUTENAME_list\"] = prod[\"ROUTENAME_list\"].fillna(\"MISSING\").apply(lambda x: list(set(sorted(x))) if x != \"MISSING\" else x)\n",
    "\n",
    "# Converting back to NaN\n",
    "prod[\"ROUTENAME_list\"] = prod[\"ROUTENAME_list\"].replace(\"MISSING\", np.nan)"
   ]
  },
  {
   "cell_type": "code",
   "execution_count": 188,
   "metadata": {},
   "outputs": [
    {
     "data": {
      "text/html": [
       "<div>\n",
       "<style scoped>\n",
       "    .dataframe tbody tr th:only-of-type {\n",
       "        vertical-align: middle;\n",
       "    }\n",
       "\n",
       "    .dataframe tbody tr th {\n",
       "        vertical-align: top;\n",
       "    }\n",
       "\n",
       "    .dataframe thead th {\n",
       "        text-align: right;\n",
       "    }\n",
       "</style>\n",
       "<table border=\"1\" class=\"dataframe\">\n",
       "  <thead>\n",
       "    <tr style=\"text-align: right;\">\n",
       "      <th></th>\n",
       "      <th>PRODUCTTYPENAME</th>\n",
       "      <th>ROUTENAME_list</th>\n",
       "    </tr>\n",
       "  </thead>\n",
       "  <tbody>\n",
       "    <tr>\n",
       "      <th>0</th>\n",
       "      <td>HUMAN OTC DRUG</td>\n",
       "      <td>[SUBCUTANEOUS]</td>\n",
       "    </tr>\n",
       "    <tr>\n",
       "      <th>1</th>\n",
       "      <td>HUMAN PRESCRIPTION DRUG</td>\n",
       "      <td>[INTRAVENOUS]</td>\n",
       "    </tr>\n",
       "    <tr>\n",
       "      <th>2</th>\n",
       "      <td>HUMAN PRESCRIPTION DRUG</td>\n",
       "      <td>[SUBCUTANEOUS]</td>\n",
       "    </tr>\n",
       "    <tr>\n",
       "      <th>3</th>\n",
       "      <td>HUMAN PRESCRIPTION DRUG</td>\n",
       "      <td>[SUBCUTANEOUS]</td>\n",
       "    </tr>\n",
       "    <tr>\n",
       "      <th>4</th>\n",
       "      <td>HUMAN PRESCRIPTION DRUG</td>\n",
       "      <td>[SUBCUTANEOUS]</td>\n",
       "    </tr>\n",
       "  </tbody>\n",
       "</table>\n",
       "</div>"
      ],
      "text/plain": [
       "           PRODUCTTYPENAME  ROUTENAME_list\n",
       "0           HUMAN OTC DRUG  [SUBCUTANEOUS]\n",
       "1  HUMAN PRESCRIPTION DRUG   [INTRAVENOUS]\n",
       "2  HUMAN PRESCRIPTION DRUG  [SUBCUTANEOUS]\n",
       "3  HUMAN PRESCRIPTION DRUG  [SUBCUTANEOUS]\n",
       "4  HUMAN PRESCRIPTION DRUG  [SUBCUTANEOUS]"
      ]
     },
     "execution_count": 188,
     "metadata": {},
     "output_type": "execute_result"
    }
   ],
   "source": [
    "df_pt_rn = prod[[\"PRODUCTTYPENAME\", \"ROUTENAME_list\"]]\n",
    "df_pt_rn.head()"
   ]
  },
  {
   "cell_type": "code",
   "execution_count": 189,
   "metadata": {},
   "outputs": [],
   "source": [
    "# Save unknowns and remove from df\n",
    "rn_unknowns = df_pt_rn[df_pt_rn[\"ROUTENAME_list\"].isnull()]\n",
    "df_pt_rn = df_pt_rn.drop(rn_unknowns.index)"
   ]
  },
  {
   "cell_type": "code",
   "execution_count": 190,
   "metadata": {},
   "outputs": [],
   "source": [
    "# df_pt_rn[\"ROUTENAME_list\"].str.join(\" \").str.split(\" \")"
   ]
  },
  {
   "cell_type": "code",
   "execution_count": 191,
   "metadata": {},
   "outputs": [],
   "source": [
    "# Encoding feature\n",
    "ohe = OneHotEncoder()\n",
    "ohe.fit(df_pt_rn[[\"PRODUCTTYPENAME\"]])\n",
    "X = ohe.transform(df_pt_rn[[\"PRODUCTTYPENAME\"]]).toarray()\n",
    "\n",
    "# Encoding label\n",
    "le = LabelEncoder()\n",
    "le.fit(df_pt_rn[\"ROUTENAME_list\"].str.join(\" \"))\n",
    "y = le.transform(df_pt_rn[\"ROUTENAME_list\"].str.join(\" \"))"
   ]
  },
  {
   "cell_type": "code",
   "execution_count": 192,
   "metadata": {},
   "outputs": [],
   "source": [
    "# Split in training and test set\n",
    "X_train, X_test, y_train, y_test = train_test_split(X, y, test_size=0.2)\n"
   ]
  },
  {
   "cell_type": "code",
   "execution_count": 193,
   "metadata": {},
   "outputs": [
    {
     "name": "stdout",
     "output_type": "stream",
     "text": [
      "Training set mean accuracy for k=3: 0.3774\n",
      "Test set mean accuracy for k=3: 0.3749\n",
      "Training set mean accuracy for k=4: 0.6149\n",
      "Test set mean accuracy for k=4: 0.6152\n",
      "Highest test score is 0.6152 with k=4\n"
     ]
    }
   ],
   "source": [
    "optimize_k_knnclassif(3, 4, X_train, X_test, y_train, y_test)"
   ]
  },
  {
   "cell_type": "code",
   "execution_count": 194,
   "metadata": {},
   "outputs": [
    {
     "name": "stdout",
     "output_type": "stream",
     "text": [
      "Training set mean accuracy for k=5: 0.6149\n",
      "Test set mean accuracy for k=5: 0.6152\n",
      "Training set mean accuracy for k=6: 0.6149\n",
      "Test set mean accuracy for k=6: 0.6152\n",
      "Training set mean accuracy for k=7: 0.6149\n",
      "Test set mean accuracy for k=7: 0.6151\n",
      "Highest test score is 0.6152 with k=5\n"
     ]
    }
   ],
   "source": [
    "optimize_k_knnclassif(5, 7, X_train, X_test, y_train, y_test)"
   ]
  },
  {
   "attachments": {},
   "cell_type": "markdown",
   "metadata": {},
   "source": [
    "k=5 is the best but it is computationnaly expensive compared to decision tree which yields same accuracy"
   ]
  },
  {
   "cell_type": "code",
   "execution_count": 195,
   "metadata": {},
   "outputs": [
    {
     "name": "stdout",
     "output_type": "stream",
     "text": [
      "Training set mean accuracy : 0.6163\n",
      "Test set mean accuracy : 0.6165\n"
     ]
    },
    {
     "name": "stderr",
     "output_type": "stream",
     "text": [
      "/home/local/USHERBROOKE/lals2906/programming/py_env/py3_ds/lib/python3.8/site-packages/sklearn/model_selection/_split.py:700: UserWarning: The least populated class in y has only 1 members, which is less than n_splits=10.\n",
      "  warnings.warn(\n"
     ]
    },
    {
     "name": "stdout",
     "output_type": "stream",
     "text": [
      "Mean from 10 folds cv : 0.61605523603119\n"
     ]
    }
   ],
   "source": [
    "# DecTree \n",
    "clf = DecisionTreeClassifier()\n",
    "clf.fit(X_train, y_train)\n",
    "y_pred = clf.predict(X_test)\n",
    "print(f\"Training set mean accuracy : {clf.score(X_train, y_train):.4f}\")\n",
    "print(f\"Test set mean accuracy : {metrics.accuracy_score(y_test, y_pred):.4f}\")\n",
    "\n",
    "print(f\"Mean from 10 folds cv : {np.mean(cross_val_score(clf, X, y, cv=10))}\")"
   ]
  },
  {
   "attachments": {},
   "cell_type": "markdown",
   "metadata": {},
   "source": [
    "Let's use the decision tree to impute our missing vals since it's super fast and as accurate"
   ]
  },
  {
   "cell_type": "code",
   "execution_count": 196,
   "metadata": {},
   "outputs": [],
   "source": [
    "# Getting predictions\n",
    "y_pred = clf.predict(ohe.transform(rn_unknowns[[\"PRODUCTTYPENAME\"]]))"
   ]
  },
  {
   "cell_type": "code",
   "execution_count": 197,
   "metadata": {},
   "outputs": [],
   "source": [
    "# transform to str objects\n",
    "rn_imputed = le.inverse_transform(y_pred)"
   ]
  },
  {
   "cell_type": "code",
   "execution_count": 198,
   "metadata": {},
   "outputs": [],
   "source": [
    "# replace unknown df\n",
    "rn_unknowns[\"ROUTENAME_list\"] = rn_imputed"
   ]
  },
  {
   "cell_type": "code",
   "execution_count": 199,
   "metadata": {},
   "outputs": [],
   "source": [
    "# Convert back to list type\n",
    "rn_unknowns[\"ROUTENAME_list\"] = rn_unknowns[\"ROUTENAME_list\"].str.split(\" \")"
   ]
  },
  {
   "cell_type": "code",
   "execution_count": 200,
   "metadata": {},
   "outputs": [],
   "source": [
    "# Replace in original df\n",
    "prod.loc[rn_unknowns[\"ROUTENAME_list\"].index, \"ROUTENAME_list\"] = rn_unknowns[\"ROUTENAME_list\"]"
   ]
  },
  {
   "cell_type": "code",
   "execution_count": 201,
   "metadata": {},
   "outputs": [
    {
     "data": {
      "text/plain": [
       "0"
      ]
     },
     "execution_count": 201,
     "metadata": {},
     "output_type": "execute_result"
    }
   ],
   "source": [
    "# Sanity check\n",
    "prod[\"ROUTENAME_list\"].isnull().sum()"
   ]
  },
  {
   "cell_type": "code",
   "execution_count": 202,
   "metadata": {},
   "outputs": [
    {
     "data": {
      "text/plain": [
       "[ORAL]             1728\n",
       "[INTRAVENOUS]       139\n",
       "[INTRAMUSCULAR]      19\n",
       "Name: ROUTENAME_list, dtype: int64"
      ]
     },
     "execution_count": 202,
     "metadata": {},
     "output_type": "execute_result"
    }
   ],
   "source": [
    "rn_unknowns[\"ROUTENAME_list\"].value_counts()"
   ]
  },
  {
   "attachments": {},
   "cell_type": "markdown",
   "metadata": {},
   "source": [
    "**Imputing the 3 linked attributes for UBSTANCENAME_list, ACTIVE_NUMERATOR_STRENGTH_list, ACTIVE_INGRED_UNIT_list**"
   ]
  },
  {
   "attachments": {},
   "cell_type": "markdown",
   "metadata": {},
   "source": [
    "We need to reduce the amount of repetitions for multiple values to a minimum, let's compare with a sorted list then convert to set if we reduce the amount of categories"
   ]
  },
  {
   "cell_type": "code",
   "execution_count": 203,
   "metadata": {},
   "outputs": [
    {
     "data": {
      "text/plain": [
       "0          [mL/mL]\n",
       "1         [mCi/mL]\n",
       "2        [mg/.5mL]\n",
       "3        [mg/.5mL]\n",
       "4          [mg/mL]\n",
       "           ...    \n",
       "93233       [mg/1]\n",
       "93234       [mg/1]\n",
       "93235       [mg/1]\n",
       "93236       [mg/g]\n",
       "93237       [mg/g]\n",
       "Name: ACTIVE_INGRED_UNIT_list, Length: 93084, dtype: object"
      ]
     },
     "execution_count": 203,
     "metadata": {},
     "output_type": "execute_result"
    }
   ],
   "source": [
    "prod[\"ACTIVE_INGRED_UNIT_list\"]"
   ]
  },
  {
   "cell_type": "code",
   "execution_count": 204,
   "metadata": {},
   "outputs": [
    {
     "name": "stdout",
     "output_type": "stream",
     "text": [
      "There are initially 8949 categories for SUBSTANCENAME_list\n",
      "There will be 7904 with sorted/set/list strategy for SUBSTANCENAME_list\n"
     ]
    }
   ],
   "source": [
    "print(f'There are initially {len(prod[\"SUBSTANCENAME_list\"].fillna(\"MISSING\").value_counts())} categories for SUBSTANCENAME_list')\n",
    "print(f'There will be {len(prod[\"SUBSTANCENAME_list\"].fillna(\"MISSING\").apply(lambda x: list(set(sorted(x)))).value_counts())} with sorted/set/list strategy for SUBSTANCENAME_list')"
   ]
  },
  {
   "cell_type": "code",
   "execution_count": 205,
   "metadata": {},
   "outputs": [],
   "source": [
    "# Filtering and transforming NaN to MISSING cat\n",
    "prod[\"SUBSTANCENAME_list\"] = prod[\"SUBSTANCENAME_list\"].fillna(\"MISSING\").apply(lambda x: list(set(sorted(x))) if x != \"MISSING\" else x)\n",
    "\n",
    "# Converting back to NaN\n",
    "prod[\"SUBSTANCENAME_list\"] = prod[\"SUBSTANCENAME_list\"].replace(\"MISSING\", np.nan)"
   ]
  },
  {
   "cell_type": "code",
   "execution_count": 206,
   "metadata": {},
   "outputs": [
    {
     "name": "stdout",
     "output_type": "stream",
     "text": [
      "There are initially 8737 categories for ACTIVE_NUMERATOR_STRENGTH_list\n",
      "There will be 5920 with sorted/set/list strategy for ACTIVE_NUMERATOR_STRENGTH_list\n"
     ]
    }
   ],
   "source": [
    "print(f'There are initially {len(prod[\"ACTIVE_NUMERATOR_STRENGTH_list\"].fillna(\"MISSING\").value_counts())} categories for ACTIVE_NUMERATOR_STRENGTH_list')\n",
    "print(f'There will be {len(prod[\"ACTIVE_NUMERATOR_STRENGTH_list\"].fillna(\"MISSING\").apply(lambda x: list(set(sorted(x)))).value_counts())} with sorted/set/list strategy for ACTIVE_NUMERATOR_STRENGTH_list')"
   ]
  },
  {
   "cell_type": "code",
   "execution_count": 207,
   "metadata": {},
   "outputs": [],
   "source": [
    "# Filtering and transforming NaN to MISSING cat\n",
    "prod[\"ACTIVE_NUMERATOR_STRENGTH_list\"] = prod[\"ACTIVE_NUMERATOR_STRENGTH_list\"].fillna(\"MISSING\").apply(lambda x: list(set(sorted(x))) if x != \"MISSING\" else x)\n",
    "\n",
    "# Converting back to NaN\n",
    "prod[\"ACTIVE_NUMERATOR_STRENGTH_list\"] = prod[\"ACTIVE_NUMERATOR_STRENGTH_list\"].replace(\"MISSING\", np.nan)"
   ]
  },
  {
   "attachments": {},
   "cell_type": "markdown",
   "metadata": {},
   "source": [
    "First convert to uppercase for ACTIVE_INGRED_UNIT_list since I forgot to do it previously"
   ]
  },
  {
   "cell_type": "code",
   "execution_count": 208,
   "metadata": {},
   "outputs": [
    {
     "name": "stdout",
     "output_type": "stream",
     "text": [
      "There are initially 2377 categories for ACTIVE_INGRED_UNIT_list\n",
      "There will be 1026 with sorted/set/list strategy for ACTIVE_INGRED_UNIT_list\n"
     ]
    }
   ],
   "source": [
    "print(f'There are initially {len(prod[\"ACTIVE_INGRED_UNIT_list\"].fillna(\"MISSING\").value_counts())} categories for ACTIVE_INGRED_UNIT_list')\n",
    "print(f'There will be {len(prod[\"ACTIVE_INGRED_UNIT_list\"].fillna(\"MISSING\").apply(lambda x: list(set(sorted(x)))).value_counts())} with sorted/set/list strategy for ACTIVE_INGRED_UNIT_list')"
   ]
  },
  {
   "cell_type": "code",
   "execution_count": 209,
   "metadata": {},
   "outputs": [],
   "source": [
    "# Filtering and transforming NaN to MISSING cat\n",
    "prod[\"ACTIVE_INGRED_UNIT_list\"] = prod[\"ACTIVE_INGRED_UNIT_list\"].fillna(\"MISSING\").apply(lambda x: list(set(sorted(x))) if x != \"MISSING\" else x)"
   ]
  },
  {
   "cell_type": "code",
   "execution_count": 210,
   "metadata": {},
   "outputs": [
    {
     "data": {
      "text/plain": [
       "0"
      ]
     },
     "execution_count": 210,
     "metadata": {},
     "output_type": "execute_result"
    }
   ],
   "source": [
    "prod[\"ACTIVE_INGRED_UNIT_list\"].isnull().sum()"
   ]
  },
  {
   "cell_type": "code",
   "execution_count": 211,
   "metadata": {},
   "outputs": [],
   "source": [
    "# Convert to uppercase\n",
    "def convert_list_ele_upper(row):\n",
    "    if row != \"MISSING\":\n",
    "        changed_cased = [ele.upper() for ele in row if ele]\n",
    "        return changed_cased\n",
    "    else:\n",
    "        return row\n",
    "\n",
    "prod[\"ACTIVE_INGRED_UNIT_list\"] = prod[\"ACTIVE_INGRED_UNIT_list\"].apply(convert_list_ele_upper)"
   ]
  },
  {
   "cell_type": "code",
   "execution_count": 212,
   "metadata": {},
   "outputs": [],
   "source": [
    "# Converting back to NaN\n",
    "prod[\"ACTIVE_INGRED_UNIT_list\"] = prod[\"ACTIVE_INGRED_UNIT_list\"].replace(\"MISSING\", np.nan)"
   ]
  },
  {
   "attachments": {},
   "cell_type": "markdown",
   "metadata": {},
   "source": [
    "**Using a simple DecisionTreeClassifier to impute missing data in all 3 linked attributes**"
   ]
  },
  {
   "attachments": {},
   "cell_type": "markdown",
   "metadata": {},
   "source": [
    "Using RouteName and DOSAGEFORMNAME as features for our decisionTree imputer. First we need to convert these 2 features to numerical using a MultiLabelBinarizer"
   ]
  },
  {
   "cell_type": "code",
   "execution_count": 213,
   "metadata": {},
   "outputs": [],
   "source": [
    "# Convert to str temporarily\n",
    "temp_df = prod[[\"ROUTENAME_list\", \"DOSAGEFORMNAME_list\", \"SUBSTANCENAME_list\", \"ACTIVE_NUMERATOR_STRENGTH_list\", \"ACTIVE_INGRED_UNIT_list\"]]\n",
    "# route_dosage_name_df[\"ROUTENAME_list\"] = route_dosage_name_df[\"ROUTENAME_list\"].str.join(\" \")\n",
    "# route_dosage_name_df[\"DOSAGEFORMNAME_list\"] = route_dosage_name_df[\"DOSAGEFORMNAME_list\"].str.join(\" \")\n",
    "\n",
    "# # Encoding label\n",
    "# le = LabelEncoder()\n",
    "# le.fit(df[y_col].dropna().str.join(\" \"))\n",
    "# y = le.transform(df[y].str.join(\" \"))\n"
   ]
  },
  {
   "cell_type": "code",
   "execution_count": 214,
   "metadata": {},
   "outputs": [],
   "source": [
    "temp_df_unknowns = temp_df[temp_df.isnull().any(axis=1)]\n",
    "temp_df_knowns = temp_df.dropna()"
   ]
  },
  {
   "cell_type": "code",
   "execution_count": 215,
   "metadata": {},
   "outputs": [
    {
     "name": "stderr",
     "output_type": "stream",
     "text": [
      "/home/local/USHERBROOKE/lals2906/programming/py_env/py3_ds/lib/python3.8/site-packages/sklearn/preprocessing/_label.py:895: UserWarning: unknown class(es) ['ELECTRO-OSMOSIS'] will be ignored\n",
      "  warnings.warn(\n"
     ]
    }
   ],
   "source": [
    "# MultiLabelBinarizer for RouteName\n",
    "mlb = MultiLabelBinarizer()\n",
    "mlb.fit(temp_df_knowns[\"ROUTENAME_list\"])\n",
    "rn_col_names = [f\"MLB_ROUTENAME_{col}\" for col in mlb.classes_]\n",
    "rn_col_names\n",
    "rn_df = pd.DataFrame(mlb.transform(temp_df_knowns[\"ROUTENAME_list\"]), columns=rn_col_names,index=temp_df_knowns[\"ROUTENAME_list\"].index)\n",
    "rn_df_unknowns = pd.DataFrame(mlb.transform(temp_df_unknowns[\"ROUTENAME_list\"]), columns=rn_col_names,index=temp_df_unknowns[\"ROUTENAME_list\"].index)"
   ]
  },
  {
   "cell_type": "code",
   "execution_count": 216,
   "metadata": {},
   "outputs": [
    {
     "name": "stderr",
     "output_type": "stream",
     "text": [
      "/home/local/USHERBROOKE/lals2906/programming/py_env/py3_ds/lib/python3.8/site-packages/sklearn/preprocessing/_label.py:895: UserWarning: unknown class(es) ['KIT'] will be ignored\n",
      "  warnings.warn(\n"
     ]
    }
   ],
   "source": [
    "# MultiLabelBinarizer for DosageFormName\n",
    "mlb = MultiLabelBinarizer()\n",
    "mlb.fit(temp_df_knowns[\"DOSAGEFORMNAME_list\"])\n",
    "dosage_col_names = [f\"MLB_DOSAGE_{col}\" for col in mlb.classes_]\n",
    "dosage_col_names\n",
    "dosage_df = pd.DataFrame(mlb.transform(temp_df_knowns[\"DOSAGEFORMNAME_list\"]), columns=dosage_col_names,index=temp_df_knowns[\"DOSAGEFORMNAME_list\"].index)\n",
    "dosage_df_unknowns = pd.DataFrame(mlb.transform(temp_df_unknowns[\"DOSAGEFORMNAME_list\"]), columns=dosage_col_names,index=temp_df_unknowns[\"DOSAGEFORMNAME_list\"].index)"
   ]
  },
  {
   "cell_type": "code",
   "execution_count": 217,
   "metadata": {},
   "outputs": [],
   "source": [
    "rn_dosage_df = pd.merge(rn_df, dosage_df, left_index=True, right_index=True)\n",
    "rn_dosage_df_unknowns = pd.merge(rn_df_unknowns, dosage_df_unknowns, left_index=True, right_index=True)"
   ]
  },
  {
   "cell_type": "code",
   "execution_count": 218,
   "metadata": {},
   "outputs": [],
   "source": [
    "X = rn_dosage_df"
   ]
  },
  {
   "cell_type": "code",
   "execution_count": 219,
   "metadata": {},
   "outputs": [],
   "source": [
    "# Encoding SUBSTANCENAME_list\n",
    "le = LabelEncoder()\n",
    "le.fit(temp_df_knowns[\"SUBSTANCENAME_list\"].str.join(\" \"))\n",
    "y = le.transform(temp_df_knowns[\"SUBSTANCENAME_list\"].str.join(\" \"))"
   ]
  },
  {
   "cell_type": "code",
   "execution_count": 220,
   "metadata": {},
   "outputs": [],
   "source": [
    "# Split in training and test set\n",
    "X_train, X_test, y_train, y_test = train_test_split(X, y, test_size=0.2)"
   ]
  },
  {
   "cell_type": "code",
   "execution_count": 221,
   "metadata": {},
   "outputs": [
    {
     "name": "stdout",
     "output_type": "stream",
     "text": [
      "DecisionTree for SUBSTANCENAME_list\n",
      "\n",
      "Training set mean accuracy : 0.1473\n",
      "Test set mean accuracy : 0.1421\n"
     ]
    },
    {
     "name": "stderr",
     "output_type": "stream",
     "text": [
      "/home/local/USHERBROOKE/lals2906/programming/py_env/py3_ds/lib/python3.8/site-packages/sklearn/model_selection/_split.py:700: UserWarning: The least populated class in y has only 1 members, which is less than n_splits=10.\n",
      "  warnings.warn(\n"
     ]
    },
    {
     "name": "stdout",
     "output_type": "stream",
     "text": [
      "Mean from 10 folds cv : 0.13758861292547764\n",
      "Full set model accuracy : 0.1472\n"
     ]
    }
   ],
   "source": [
    "# DecTree to predict SUBSTANCENAME_list \n",
    "clf = DecisionTreeClassifier()\n",
    "clf.fit(X_train, y_train)\n",
    "y_pred = clf.predict(X_test)\n",
    "print(\"DecisionTree for SUBSTANCENAME_list\\n\")\n",
    "print(f\"Training set mean accuracy : {clf.score(X_train, y_train):.4f}\")\n",
    "print(f\"Test set mean accuracy : {metrics.accuracy_score(y_test, y_pred):.4f}\")\n",
    "\n",
    "print(f\"Mean from 10 folds cv : {np.mean(cross_val_score(clf, X, y, cv=10))}\")\n",
    "\n",
    "# retrain on full dataset\n",
    "clf.fit(X, y)\n",
    "print(f\"Full set model accuracy : {clf.score(X, y):.4f}\")"
   ]
  },
  {
   "cell_type": "code",
   "execution_count": 222,
   "metadata": {},
   "outputs": [],
   "source": [
    "# Impute missing data for \n",
    "subname_imputed = le.inverse_transform(clf.predict(rn_dosage_df_unknowns))"
   ]
  },
  {
   "cell_type": "code",
   "execution_count": 223,
   "metadata": {},
   "outputs": [
    {
     "name": "stderr",
     "output_type": "stream",
     "text": [
      "/tmp/ipykernel_168064/2745823623.py:2: SettingWithCopyWarning: \n",
      "A value is trying to be set on a copy of a slice from a DataFrame.\n",
      "Try using .loc[row_indexer,col_indexer] = value instead\n",
      "\n",
      "See the caveats in the documentation: https://pandas.pydata.org/pandas-docs/stable/user_guide/indexing.html#returning-a-view-versus-a-copy\n",
      "  temp_df_unknowns[\"SUBSTANCENAME_list\"] = subname_imputed\n"
     ]
    }
   ],
   "source": [
    "# Replace on unknown df\n",
    "temp_df_unknowns[\"SUBSTANCENAME_list\"] = subname_imputed"
   ]
  },
  {
   "cell_type": "code",
   "execution_count": 224,
   "metadata": {},
   "outputs": [
    {
     "name": "stderr",
     "output_type": "stream",
     "text": [
      "/tmp/ipykernel_168064/11294253.py:2: SettingWithCopyWarning: \n",
      "A value is trying to be set on a copy of a slice from a DataFrame.\n",
      "Try using .loc[row_indexer,col_indexer] = value instead\n",
      "\n",
      "See the caveats in the documentation: https://pandas.pydata.org/pandas-docs/stable/user_guide/indexing.html#returning-a-view-versus-a-copy\n",
      "  temp_df_unknowns[\"SUBSTANCENAME_list\"] = temp_df_unknowns[\"SUBSTANCENAME_list\"].str.split(\" \")\n"
     ]
    }
   ],
   "source": [
    "# Convert back to list type\n",
    "temp_df_unknowns[\"SUBSTANCENAME_list\"] = temp_df_unknowns[\"SUBSTANCENAME_list\"].str.split(\" \")"
   ]
  },
  {
   "cell_type": "code",
   "execution_count": 225,
   "metadata": {},
   "outputs": [],
   "source": [
    "# Replace in original df\n",
    "prod.loc[temp_df_unknowns[\"SUBSTANCENAME_list\"].index, \"SUBSTANCENAME_list\"] = temp_df_unknowns[\"SUBSTANCENAME_list\"]"
   ]
  },
  {
   "cell_type": "code",
   "execution_count": 226,
   "metadata": {},
   "outputs": [
    {
     "data": {
      "text/plain": [
       "0"
      ]
     },
     "execution_count": 226,
     "metadata": {},
     "output_type": "execute_result"
    }
   ],
   "source": [
    "# Sanity check\n",
    "prod[\"SUBSTANCENAME_list\"].isnull().sum()"
   ]
  },
  {
   "cell_type": "code",
   "execution_count": 227,
   "metadata": {},
   "outputs": [],
   "source": [
    "# Encoding ACTIVE_NUMERATOR_STRENGTH_list\n",
    "le = LabelEncoder()\n",
    "le.fit(temp_df_knowns[\"ACTIVE_NUMERATOR_STRENGTH_list\"].str.join(\" \"))\n",
    "y = le.transform(temp_df_knowns[\"ACTIVE_NUMERATOR_STRENGTH_list\"].str.join(\" \"))"
   ]
  },
  {
   "cell_type": "code",
   "execution_count": 228,
   "metadata": {},
   "outputs": [],
   "source": [
    "# Split in training and test set\n",
    "X_train, X_test, y_train, y_test = train_test_split(X, y, test_size=0.2)"
   ]
  },
  {
   "cell_type": "code",
   "execution_count": 229,
   "metadata": {},
   "outputs": [
    {
     "name": "stdout",
     "output_type": "stream",
     "text": [
      "DecisionTree for ACTIVE_NUMERATOR_STRENGTH_list\n",
      "\n",
      "Training set mean accuracy : 0.1645\n",
      "Test set mean accuracy : 0.1571\n"
     ]
    },
    {
     "name": "stderr",
     "output_type": "stream",
     "text": [
      "/home/local/USHERBROOKE/lals2906/programming/py_env/py3_ds/lib/python3.8/site-packages/sklearn/model_selection/_split.py:700: UserWarning: The least populated class in y has only 1 members, which is less than n_splits=10.\n",
      "  warnings.warn(\n"
     ]
    },
    {
     "name": "stdout",
     "output_type": "stream",
     "text": [
      "Mean from 10 folds cv : 0.14846554789765293\n",
      "Full set model accuracy : 0.1639\n"
     ]
    }
   ],
   "source": [
    "# DecTree to predict ACTIVE_NUMERATOR_STRENGTH_list \n",
    "clf = DecisionTreeClassifier()\n",
    "clf.fit(X_train, y_train)\n",
    "y_pred = clf.predict(X_test)\n",
    "print(\"DecisionTree for ACTIVE_NUMERATOR_STRENGTH_list\\n\")\n",
    "print(f\"Training set mean accuracy : {clf.score(X_train, y_train):.4f}\")\n",
    "print(f\"Test set mean accuracy : {metrics.accuracy_score(y_test, y_pred):.4f}\")\n",
    "\n",
    "print(f\"Mean from 10 folds cv : {np.mean(cross_val_score(clf, X, y, cv=10))}\")\n",
    "\n",
    "# retrain on full dataset\n",
    "clf.fit(X, y)\n",
    "print(f\"Full set model accuracy : {clf.score(X, y):.4f}\")"
   ]
  },
  {
   "cell_type": "code",
   "execution_count": 230,
   "metadata": {},
   "outputs": [],
   "source": [
    "# Impute missing data for \n",
    "activnum_imputed = le.inverse_transform(clf.predict(rn_dosage_df_unknowns))"
   ]
  },
  {
   "cell_type": "code",
   "execution_count": 231,
   "metadata": {},
   "outputs": [
    {
     "name": "stderr",
     "output_type": "stream",
     "text": [
      "/tmp/ipykernel_168064/652203488.py:2: SettingWithCopyWarning: \n",
      "A value is trying to be set on a copy of a slice from a DataFrame.\n",
      "Try using .loc[row_indexer,col_indexer] = value instead\n",
      "\n",
      "See the caveats in the documentation: https://pandas.pydata.org/pandas-docs/stable/user_guide/indexing.html#returning-a-view-versus-a-copy\n",
      "  temp_df_unknowns[\"ACTIVE_NUMERATOR_STRENGTH_list\"] = activnum_imputed\n"
     ]
    }
   ],
   "source": [
    "# Replace on unknown df\n",
    "temp_df_unknowns[\"ACTIVE_NUMERATOR_STRENGTH_list\"] = activnum_imputed"
   ]
  },
  {
   "cell_type": "code",
   "execution_count": 232,
   "metadata": {},
   "outputs": [
    {
     "name": "stderr",
     "output_type": "stream",
     "text": [
      "/tmp/ipykernel_168064/4165550991.py:2: SettingWithCopyWarning: \n",
      "A value is trying to be set on a copy of a slice from a DataFrame.\n",
      "Try using .loc[row_indexer,col_indexer] = value instead\n",
      "\n",
      "See the caveats in the documentation: https://pandas.pydata.org/pandas-docs/stable/user_guide/indexing.html#returning-a-view-versus-a-copy\n",
      "  temp_df_unknowns[\"ACTIVE_NUMERATOR_STRENGTH_list\"] = temp_df_unknowns[\"ACTIVE_NUMERATOR_STRENGTH_list\"].str.split(\" \")\n"
     ]
    }
   ],
   "source": [
    "# Convert back to list type\n",
    "temp_df_unknowns[\"ACTIVE_NUMERATOR_STRENGTH_list\"] = temp_df_unknowns[\"ACTIVE_NUMERATOR_STRENGTH_list\"].str.split(\" \")"
   ]
  },
  {
   "cell_type": "code",
   "execution_count": 233,
   "metadata": {},
   "outputs": [],
   "source": [
    "# Replace in original df\n",
    "prod.loc[temp_df_unknowns[\"ACTIVE_NUMERATOR_STRENGTH_list\"].index, \"ACTIVE_NUMERATOR_STRENGTH_list\"] = temp_df_unknowns[\"ACTIVE_NUMERATOR_STRENGTH_list\"]"
   ]
  },
  {
   "cell_type": "code",
   "execution_count": 234,
   "metadata": {},
   "outputs": [
    {
     "data": {
      "text/plain": [
       "0"
      ]
     },
     "execution_count": 234,
     "metadata": {},
     "output_type": "execute_result"
    }
   ],
   "source": [
    "# Sanity check\n",
    "prod[\"ACTIVE_NUMERATOR_STRENGTH_list\"].isnull().sum()"
   ]
  },
  {
   "cell_type": "code",
   "execution_count": 235,
   "metadata": {},
   "outputs": [],
   "source": [
    "# Encoding ACTIVE_INGRED_UNIT_list\n",
    "le = LabelEncoder()\n",
    "le.fit(temp_df_knowns[\"ACTIVE_INGRED_UNIT_list\"].str.join(\" \"))\n",
    "y = le.transform(temp_df_knowns[\"ACTIVE_INGRED_UNIT_list\"].str.join(\" \"))"
   ]
  },
  {
   "cell_type": "code",
   "execution_count": 236,
   "metadata": {},
   "outputs": [],
   "source": [
    "# Split in training and test set\n",
    "X_train, X_test, y_train, y_test = train_test_split(X, y, test_size=0.2)"
   ]
  },
  {
   "cell_type": "code",
   "execution_count": 237,
   "metadata": {},
   "outputs": [
    {
     "name": "stdout",
     "output_type": "stream",
     "text": [
      "DecisionTree for ACTIVE_INGRED_UNIT_list\n",
      "\n",
      "Training set mean accuracy : 0.6846\n",
      "Test set mean accuracy : 0.6782\n"
     ]
    },
    {
     "name": "stderr",
     "output_type": "stream",
     "text": [
      "/home/local/USHERBROOKE/lals2906/programming/py_env/py3_ds/lib/python3.8/site-packages/sklearn/model_selection/_split.py:700: UserWarning: The least populated class in y has only 1 members, which is less than n_splits=10.\n",
      "  warnings.warn(\n"
     ]
    },
    {
     "name": "stdout",
     "output_type": "stream",
     "text": [
      "Mean from 10 folds cv : 0.6731908223166043\n",
      "Full set model accuracy : 0.6837\n"
     ]
    }
   ],
   "source": [
    "# DecTree to predict ACTIVE_INGRED_UNIT_list \n",
    "clf = DecisionTreeClassifier()\n",
    "clf.fit(X_train, y_train)\n",
    "y_pred = clf.predict(X_test)\n",
    "print(\"DecisionTree for ACTIVE_INGRED_UNIT_list\\n\")\n",
    "print(f\"Training set mean accuracy : {clf.score(X_train, y_train):.4f}\")\n",
    "print(f\"Test set mean accuracy : {metrics.accuracy_score(y_test, y_pred):.4f}\")\n",
    "\n",
    "print(f\"Mean from 10 folds cv : {np.mean(cross_val_score(clf, X, y, cv=10))}\")\n",
    "\n",
    "# retrain on full dataset\n",
    "clf.fit(X, y)\n",
    "print(f\"Full set model accuracy : {clf.score(X, y):.4f}\")"
   ]
  },
  {
   "cell_type": "code",
   "execution_count": 238,
   "metadata": {},
   "outputs": [],
   "source": [
    "# Impute missing data for \n",
    "activeing_imputed = le.inverse_transform(clf.predict(rn_dosage_df_unknowns))"
   ]
  },
  {
   "cell_type": "code",
   "execution_count": 239,
   "metadata": {},
   "outputs": [
    {
     "name": "stderr",
     "output_type": "stream",
     "text": [
      "/tmp/ipykernel_168064/4016197542.py:2: SettingWithCopyWarning: \n",
      "A value is trying to be set on a copy of a slice from a DataFrame.\n",
      "Try using .loc[row_indexer,col_indexer] = value instead\n",
      "\n",
      "See the caveats in the documentation: https://pandas.pydata.org/pandas-docs/stable/user_guide/indexing.html#returning-a-view-versus-a-copy\n",
      "  temp_df_unknowns[\"ACTIVE_INGRED_UNIT_list\"] = activeing_imputed\n"
     ]
    }
   ],
   "source": [
    "# Replace on unknown df\n",
    "temp_df_unknowns[\"ACTIVE_INGRED_UNIT_list\"] = activeing_imputed"
   ]
  },
  {
   "cell_type": "code",
   "execution_count": 240,
   "metadata": {},
   "outputs": [
    {
     "name": "stderr",
     "output_type": "stream",
     "text": [
      "/tmp/ipykernel_168064/1428331301.py:2: SettingWithCopyWarning: \n",
      "A value is trying to be set on a copy of a slice from a DataFrame.\n",
      "Try using .loc[row_indexer,col_indexer] = value instead\n",
      "\n",
      "See the caveats in the documentation: https://pandas.pydata.org/pandas-docs/stable/user_guide/indexing.html#returning-a-view-versus-a-copy\n",
      "  temp_df_unknowns[\"ACTIVE_INGRED_UNIT_list\"] = temp_df_unknowns[\"ACTIVE_INGRED_UNIT_list\"].str.split(\" \")\n"
     ]
    }
   ],
   "source": [
    "# Convert back to list type\n",
    "temp_df_unknowns[\"ACTIVE_INGRED_UNIT_list\"] = temp_df_unknowns[\"ACTIVE_INGRED_UNIT_list\"].str.split(\" \")"
   ]
  },
  {
   "cell_type": "code",
   "execution_count": 241,
   "metadata": {},
   "outputs": [],
   "source": [
    "# Replace in original df\n",
    "prod.loc[temp_df_unknowns[\"ACTIVE_INGRED_UNIT_list\"].index, \"ACTIVE_INGRED_UNIT_list\"] = temp_df_unknowns[\"ACTIVE_INGRED_UNIT_list\"]"
   ]
  },
  {
   "cell_type": "code",
   "execution_count": 242,
   "metadata": {},
   "outputs": [
    {
     "data": {
      "text/plain": [
       "0"
      ]
     },
     "execution_count": 242,
     "metadata": {},
     "output_type": "execute_result"
    }
   ],
   "source": [
    "# Sanity check\n",
    "prod[\"ACTIVE_INGRED_UNIT_list\"].isnull().sum()"
   ]
  },
  {
   "cell_type": "code",
   "execution_count": 243,
   "metadata": {},
   "outputs": [
    {
     "data": {
      "text/plain": [
       "PHARM_CLASSES    50913\n",
       "dtype: int64"
      ]
     },
     "execution_count": 243,
     "metadata": {},
     "output_type": "execute_result"
    }
   ],
   "source": [
    "prod.isnull().sum()[prod.isnull().sum() > 0]"
   ]
  },
  {
   "attachments": {},
   "cell_type": "markdown",
   "metadata": {},
   "source": [
    "---"
   ]
  },
  {
   "attachments": {},
   "cell_type": "markdown",
   "metadata": {},
   "source": [
    "### pack table replacing NaNs\n",
    "\n",
    "We only have productNDC to deal with"
   ]
  },
  {
   "cell_type": "code",
   "execution_count": 244,
   "metadata": {},
   "outputs": [
    {
     "data": {
      "text/plain": [
       "PRODUCTNDC    1500\n",
       "dtype: int64"
      ]
     },
     "execution_count": 244,
     "metadata": {},
     "output_type": "execute_result"
    }
   ],
   "source": [
    "pack.isnull().sum()[pack.isnull().sum() > 0]"
   ]
  },
  {
   "cell_type": "code",
   "execution_count": 245,
   "metadata": {},
   "outputs": [
    {
     "data": {
      "text/html": [
       "<div>\n",
       "<style scoped>\n",
       "    .dataframe tbody tr th:only-of-type {\n",
       "        vertical-align: middle;\n",
       "    }\n",
       "\n",
       "    .dataframe tbody tr th {\n",
       "        vertical-align: top;\n",
       "    }\n",
       "\n",
       "    .dataframe thead th {\n",
       "        text-align: right;\n",
       "    }\n",
       "</style>\n",
       "<table border=\"1\" class=\"dataframe\">\n",
       "  <thead>\n",
       "    <tr style=\"text-align: right;\">\n",
       "      <th></th>\n",
       "      <th>PRODUCTID</th>\n",
       "      <th>PRODUCTNDC</th>\n",
       "      <th>STARTMARKETINGDATE</th>\n",
       "      <th>SAMPLE_PACKAGE</th>\n",
       "      <th>PACKAGEDESCRIPTION_FILTERED</th>\n",
       "      <th>ENDMARKETINGDATE_determined</th>\n",
       "    </tr>\n",
       "  </thead>\n",
       "  <tbody>\n",
       "    <tr>\n",
       "      <th>0</th>\n",
       "      <td>0002-0800_94c48759-29bb-402d-afff-9a713be11f0e</td>\n",
       "      <td>0002-0800</td>\n",
       "      <td>1987-07-10</td>\n",
       "      <td>0</td>\n",
       "      <td>mL</td>\n",
       "      <td>0</td>\n",
       "    </tr>\n",
       "    <tr>\n",
       "      <th>1</th>\n",
       "      <td>0002-1200_35551a38-7a8d-43b8-8abd-f6cb7549e932</td>\n",
       "      <td>0002-1200</td>\n",
       "      <td>2012-06-01</td>\n",
       "      <td>0</td>\n",
       "      <td>mL</td>\n",
       "      <td>0</td>\n",
       "    </tr>\n",
       "    <tr>\n",
       "      <th>2</th>\n",
       "      <td>0002-1200_35551a38-7a8d-43b8-8abd-f6cb7549e932</td>\n",
       "      <td>0002-1200</td>\n",
       "      <td>2012-06-01</td>\n",
       "      <td>0</td>\n",
       "      <td>mL</td>\n",
       "      <td>0</td>\n",
       "    </tr>\n",
       "    <tr>\n",
       "      <th>3</th>\n",
       "      <td>0002-1433_42a80046-fd68-4b80-819c-a443b7816edb</td>\n",
       "      <td>0002-1433</td>\n",
       "      <td>2014-11-07</td>\n",
       "      <td>1</td>\n",
       "      <td>mL</td>\n",
       "      <td>0</td>\n",
       "    </tr>\n",
       "    <tr>\n",
       "      <th>4</th>\n",
       "      <td>0002-1433_42a80046-fd68-4b80-819c-a443b7816edb</td>\n",
       "      <td>0002-1433</td>\n",
       "      <td>2014-11-07</td>\n",
       "      <td>0</td>\n",
       "      <td>mL</td>\n",
       "      <td>0</td>\n",
       "    </tr>\n",
       "  </tbody>\n",
       "</table>\n",
       "</div>"
      ],
      "text/plain": [
       "                                        PRODUCTID PRODUCTNDC  \\\n",
       "0  0002-0800_94c48759-29bb-402d-afff-9a713be11f0e  0002-0800   \n",
       "1  0002-1200_35551a38-7a8d-43b8-8abd-f6cb7549e932  0002-1200   \n",
       "2  0002-1200_35551a38-7a8d-43b8-8abd-f6cb7549e932  0002-1200   \n",
       "3  0002-1433_42a80046-fd68-4b80-819c-a443b7816edb  0002-1433   \n",
       "4  0002-1433_42a80046-fd68-4b80-819c-a443b7816edb  0002-1433   \n",
       "\n",
       "  STARTMARKETINGDATE  SAMPLE_PACKAGE PACKAGEDESCRIPTION_FILTERED  \\\n",
       "0         1987-07-10               0                          mL   \n",
       "1         2012-06-01               0                          mL   \n",
       "2         2012-06-01               0                          mL   \n",
       "3         2014-11-07               1                          mL   \n",
       "4         2014-11-07               0                          mL   \n",
       "\n",
       "   ENDMARKETINGDATE_determined  \n",
       "0                            0  \n",
       "1                            0  \n",
       "2                            0  \n",
       "3                            0  \n",
       "4                            0  "
      ]
     },
     "execution_count": 245,
     "metadata": {},
     "output_type": "execute_result"
    }
   ],
   "source": [
    "pack.head()"
   ]
  },
  {
   "attachments": {},
   "cell_type": "markdown",
   "metadata": {},
   "source": [
    "**Since product NDC is used as the first part before the underscore for the PRODUCTID, we can complete missing values from the PRODUCTID feature col**"
   ]
  },
  {
   "cell_type": "code",
   "execution_count": 246,
   "metadata": {},
   "outputs": [
    {
     "data": {
      "text/html": [
       "<div>\n",
       "<style scoped>\n",
       "    .dataframe tbody tr th:only-of-type {\n",
       "        vertical-align: middle;\n",
       "    }\n",
       "\n",
       "    .dataframe tbody tr th {\n",
       "        vertical-align: top;\n",
       "    }\n",
       "\n",
       "    .dataframe thead th {\n",
       "        text-align: right;\n",
       "    }\n",
       "</style>\n",
       "<table border=\"1\" class=\"dataframe\">\n",
       "  <thead>\n",
       "    <tr style=\"text-align: right;\">\n",
       "      <th></th>\n",
       "      <th>PRODUCTID</th>\n",
       "      <th>PRODUCTNDC</th>\n",
       "      <th>STARTMARKETINGDATE</th>\n",
       "      <th>SAMPLE_PACKAGE</th>\n",
       "      <th>PACKAGEDESCRIPTION_FILTERED</th>\n",
       "      <th>ENDMARKETINGDATE_determined</th>\n",
       "    </tr>\n",
       "  </thead>\n",
       "  <tbody>\n",
       "    <tr>\n",
       "      <th>26357</th>\n",
       "      <td>13107-001_ae272efb-da52-4ff3-9ea9-353cef42a174</td>\n",
       "      <td>NaN</td>\n",
       "      <td>2009-08-17</td>\n",
       "      <td>0</td>\n",
       "      <td>TABLET</td>\n",
       "      <td>0</td>\n",
       "    </tr>\n",
       "    <tr>\n",
       "      <th>26358</th>\n",
       "      <td>13107-001_ae272efb-da52-4ff3-9ea9-353cef42a174</td>\n",
       "      <td>NaN</td>\n",
       "      <td>2009-08-17</td>\n",
       "      <td>0</td>\n",
       "      <td>TABLET</td>\n",
       "      <td>0</td>\n",
       "    </tr>\n",
       "    <tr>\n",
       "      <th>26359</th>\n",
       "      <td>13107-001_ae272efb-da52-4ff3-9ea9-353cef42a174</td>\n",
       "      <td>NaN</td>\n",
       "      <td>2009-08-17</td>\n",
       "      <td>0</td>\n",
       "      <td>TABLET</td>\n",
       "      <td>0</td>\n",
       "    </tr>\n",
       "    <tr>\n",
       "      <th>26360</th>\n",
       "      <td>13107-001_ae272efb-da52-4ff3-9ea9-353cef42a174</td>\n",
       "      <td>NaN</td>\n",
       "      <td>2009-08-17</td>\n",
       "      <td>0</td>\n",
       "      <td>TABLET</td>\n",
       "      <td>0</td>\n",
       "    </tr>\n",
       "    <tr>\n",
       "      <th>26361</th>\n",
       "      <td>13107-001_ae272efb-da52-4ff3-9ea9-353cef42a174</td>\n",
       "      <td>NaN</td>\n",
       "      <td>2009-08-17</td>\n",
       "      <td>0</td>\n",
       "      <td>TABLET</td>\n",
       "      <td>0</td>\n",
       "    </tr>\n",
       "  </tbody>\n",
       "</table>\n",
       "</div>"
      ],
      "text/plain": [
       "                                            PRODUCTID PRODUCTNDC  \\\n",
       "26357  13107-001_ae272efb-da52-4ff3-9ea9-353cef42a174        NaN   \n",
       "26358  13107-001_ae272efb-da52-4ff3-9ea9-353cef42a174        NaN   \n",
       "26359  13107-001_ae272efb-da52-4ff3-9ea9-353cef42a174        NaN   \n",
       "26360  13107-001_ae272efb-da52-4ff3-9ea9-353cef42a174        NaN   \n",
       "26361  13107-001_ae272efb-da52-4ff3-9ea9-353cef42a174        NaN   \n",
       "\n",
       "      STARTMARKETINGDATE  SAMPLE_PACKAGE PACKAGEDESCRIPTION_FILTERED  \\\n",
       "26357         2009-08-17               0                      TABLET   \n",
       "26358         2009-08-17               0                      TABLET   \n",
       "26359         2009-08-17               0                      TABLET   \n",
       "26360         2009-08-17               0                      TABLET   \n",
       "26361         2009-08-17               0                      TABLET   \n",
       "\n",
       "       ENDMARKETINGDATE_determined  \n",
       "26357                            0  \n",
       "26358                            0  \n",
       "26359                            0  \n",
       "26360                            0  \n",
       "26361                            0  "
      ]
     },
     "execution_count": 246,
     "metadata": {},
     "output_type": "execute_result"
    }
   ],
   "source": [
    "pack[pack[\"PRODUCTNDC\"].isnull()].head()"
   ]
  },
  {
   "cell_type": "code",
   "execution_count": 247,
   "metadata": {},
   "outputs": [
    {
     "data": {
      "text/html": [
       "<div>\n",
       "<style scoped>\n",
       "    .dataframe tbody tr th:only-of-type {\n",
       "        vertical-align: middle;\n",
       "    }\n",
       "\n",
       "    .dataframe tbody tr th {\n",
       "        vertical-align: top;\n",
       "    }\n",
       "\n",
       "    .dataframe thead th {\n",
       "        text-align: right;\n",
       "    }\n",
       "</style>\n",
       "<table border=\"1\" class=\"dataframe\">\n",
       "  <thead>\n",
       "    <tr style=\"text-align: right;\">\n",
       "      <th></th>\n",
       "      <th>0</th>\n",
       "    </tr>\n",
       "  </thead>\n",
       "  <tbody>\n",
       "    <tr>\n",
       "      <th>26357</th>\n",
       "      <td>13107-001</td>\n",
       "    </tr>\n",
       "    <tr>\n",
       "      <th>26358</th>\n",
       "      <td>13107-001</td>\n",
       "    </tr>\n",
       "    <tr>\n",
       "      <th>26359</th>\n",
       "      <td>13107-001</td>\n",
       "    </tr>\n",
       "    <tr>\n",
       "      <th>26360</th>\n",
       "      <td>13107-001</td>\n",
       "    </tr>\n",
       "    <tr>\n",
       "      <th>26361</th>\n",
       "      <td>13107-001</td>\n",
       "    </tr>\n",
       "  </tbody>\n",
       "</table>\n",
       "</div>"
      ],
      "text/plain": [
       "               0\n",
       "26357  13107-001\n",
       "26358  13107-001\n",
       "26359  13107-001\n",
       "26360  13107-001\n",
       "26361  13107-001"
      ]
     },
     "execution_count": 247,
     "metadata": {},
     "output_type": "execute_result"
    }
   ],
   "source": [
    "pack[pack[\"PRODUCTNDC\"].isnull()][\"PRODUCTID\"].str.extract(\"^([0-9]*-[0-9]*)_\").head()"
   ]
  },
  {
   "cell_type": "code",
   "execution_count": 248,
   "metadata": {},
   "outputs": [],
   "source": [
    "def get_missing_ndc(row):\n",
    "    pattern = r\"^([0-9]*-[0-9]*)_\" \n",
    "    # Apply the regex pattern to column A and extract the result\n",
    "    match = re.match(pattern, row[\"PRODUCTID\"])\n",
    "    # If column B is NaN for this row, replace it with the result from column A\n",
    "    if match:\n",
    "        result = match.group(1)\n",
    "        # print(result)\n",
    "        if pd.isna(row[\"PRODUCTNDC\"]):\n",
    "            row[\"PRODUCTNDC\"] = result\n",
    "        return row\n",
    "\n",
    "pack = pack.apply(get_missing_ndc, axis=1)\n"
   ]
  },
  {
   "cell_type": "code",
   "execution_count": 249,
   "metadata": {},
   "outputs": [
    {
     "data": {
      "text/plain": [
       "PRODUCTID                      0\n",
       "PRODUCTNDC                     0\n",
       "STARTMARKETINGDATE             0\n",
       "SAMPLE_PACKAGE                 0\n",
       "PACKAGEDESCRIPTION_FILTERED    0\n",
       "ENDMARKETINGDATE_determined    0\n",
       "dtype: int64"
      ]
     },
     "execution_count": 249,
     "metadata": {},
     "output_type": "execute_result"
    }
   ],
   "source": [
    "pack.isnull().sum()"
   ]
  },
  {
   "attachments": {},
   "cell_type": "markdown",
   "metadata": {},
   "source": [
    "### 5. Remove duplicates in each tables"
   ]
  },
  {
   "attachments": {},
   "cell_type": "markdown",
   "metadata": {},
   "source": [
    "#### Duplicates in prod table"
   ]
  },
  {
   "cell_type": "code",
   "execution_count": 250,
   "metadata": {},
   "outputs": [
    {
     "name": "stdout",
     "output_type": "stream",
     "text": [
      "Number of rows total with duplication for all rows except the UniqueID first column :\n",
      "1112\n"
     ]
    }
   ],
   "source": [
    "# Not considering the unique ID col\n",
    "print(\"Number of rows total with duplication for all rows except the UniqueID first column :\")\n",
    "print(prod.iloc[:, 1:].astype(str).duplicated(keep=False).sum())"
   ]
  },
  {
   "cell_type": "code",
   "execution_count": 251,
   "metadata": {},
   "outputs": [
    {
     "data": {
      "text/html": [
       "<div>\n",
       "<style scoped>\n",
       "    .dataframe tbody tr th:only-of-type {\n",
       "        vertical-align: middle;\n",
       "    }\n",
       "\n",
       "    .dataframe tbody tr th {\n",
       "        vertical-align: top;\n",
       "    }\n",
       "\n",
       "    .dataframe thead th {\n",
       "        text-align: right;\n",
       "    }\n",
       "</style>\n",
       "<table border=\"1\" class=\"dataframe\">\n",
       "  <thead>\n",
       "    <tr style=\"text-align: right;\">\n",
       "      <th></th>\n",
       "      <th>PRODUCTID</th>\n",
       "      <th>PRODUCTNDC</th>\n",
       "      <th>PRODUCTTYPENAME</th>\n",
       "      <th>PROPRIETARYNAME</th>\n",
       "      <th>NONPROPRIETARYNAME</th>\n",
       "      <th>STARTMARKETINGDATE</th>\n",
       "      <th>MARKETINGCATEGORYNAME</th>\n",
       "      <th>APPLICATIONNUMBER</th>\n",
       "      <th>LABELERNAME</th>\n",
       "      <th>PHARM_CLASSES</th>\n",
       "      <th>...</th>\n",
       "      <th>DEASCHEDULE_determined</th>\n",
       "      <th>PROPRIETARYNAMESUFFIX_determined</th>\n",
       "      <th>ROUTENAME_list</th>\n",
       "      <th>SUBSTANCENAME_list</th>\n",
       "      <th>ACTIVE_NUMERATOR_STRENGTH_list</th>\n",
       "      <th>ACTIVE_INGRED_UNIT_list</th>\n",
       "      <th>DOSAGEFORMNAME_list</th>\n",
       "      <th>LISTING_RECORD_CERTIFIED_THROUGH_2020-12-31 00:00:00</th>\n",
       "      <th>LISTING_RECORD_CERTIFIED_THROUGH_2021-12-31 00:00:00</th>\n",
       "      <th>LISTING_RECORD_CERTIFIED_THROUGH_undetermined</th>\n",
       "    </tr>\n",
       "  </thead>\n",
       "  <tbody>\n",
       "    <tr>\n",
       "      <th>204</th>\n",
       "      <td>0006-3061_26fbe70d-7ea0-4ba1-90ad-8e7831eae0e1</td>\n",
       "      <td>0006-3061</td>\n",
       "      <td>HUMAN PRESCRIPTION DRUG</td>\n",
       "      <td>EMEND</td>\n",
       "      <td>FOSAPREPITANT DIMEGLUMINE</td>\n",
       "      <td>2017-02-03</td>\n",
       "      <td>NDA</td>\n",
       "      <td>NDA022023</td>\n",
       "      <td>10</td>\n",
       "      <td>Neurokinin 1 Antagonists [MoA],Substance P/Neu...</td>\n",
       "      <td>...</td>\n",
       "      <td>0</td>\n",
       "      <td>0</td>\n",
       "      <td>[INTRAVENOUS]</td>\n",
       "      <td>[FOSAPREPITANT DIMEGLUMINE]</td>\n",
       "      <td>[150]</td>\n",
       "      <td>[MG/5ML]</td>\n",
       "      <td>[INJECTION, POWDER, LYOPHILIZED, FOR SOLUTION]</td>\n",
       "      <td>0</td>\n",
       "      <td>1</td>\n",
       "      <td>0</td>\n",
       "    </tr>\n",
       "    <tr>\n",
       "      <th>205</th>\n",
       "      <td>0006-3061_53594fbb-5366-49af-b556-1a10a6d8d4b2</td>\n",
       "      <td>0006-3061</td>\n",
       "      <td>HUMAN PRESCRIPTION DRUG</td>\n",
       "      <td>EMEND</td>\n",
       "      <td>FOSAPREPITANT DIMEGLUMINE</td>\n",
       "      <td>2017-02-03</td>\n",
       "      <td>NDA</td>\n",
       "      <td>NDA022023</td>\n",
       "      <td>10</td>\n",
       "      <td>Neurokinin 1 Antagonists [MoA],Substance P/Neu...</td>\n",
       "      <td>...</td>\n",
       "      <td>0</td>\n",
       "      <td>0</td>\n",
       "      <td>[INTRAVENOUS]</td>\n",
       "      <td>[FOSAPREPITANT DIMEGLUMINE]</td>\n",
       "      <td>[150]</td>\n",
       "      <td>[MG/5ML]</td>\n",
       "      <td>[INJECTION, POWDER, LYOPHILIZED, FOR SOLUTION]</td>\n",
       "      <td>0</td>\n",
       "      <td>1</td>\n",
       "      <td>0</td>\n",
       "    </tr>\n",
       "    <tr>\n",
       "      <th>322</th>\n",
       "      <td>0009-0039_67759a7c-ea06-4151-87e1-a301c44d67cd</td>\n",
       "      <td>0009-0039</td>\n",
       "      <td>HUMAN PRESCRIPTION DRUG</td>\n",
       "      <td>SOLU-MEDROL</td>\n",
       "      <td>METHYLPREDNISOLONE SODIUM SUCCINATE</td>\n",
       "      <td>1959-04-02</td>\n",
       "      <td>NDA</td>\n",
       "      <td>NDA011856</td>\n",
       "      <td>PHARMACIA AND UPJOHN COMPANY LLC</td>\n",
       "      <td>Corticosteroid [EPC],Corticosteroid Hormone Re...</td>\n",
       "      <td>...</td>\n",
       "      <td>0</td>\n",
       "      <td>0</td>\n",
       "      <td>[INTRAVENOUS, INTRAMUSCULAR]</td>\n",
       "      <td>[METHYLPREDNISOLONE SODIUM SUCCINATE]</td>\n",
       "      <td>[40]</td>\n",
       "      <td>[MG/ML]</td>\n",
       "      <td>[INJECTION, POWDER, FOR SOLUTION]</td>\n",
       "      <td>1</td>\n",
       "      <td>0</td>\n",
       "      <td>0</td>\n",
       "    </tr>\n",
       "    <tr>\n",
       "      <th>323</th>\n",
       "      <td>0009-0039_95289567-4341-4b6c-bc3c-aa13036bc9b4</td>\n",
       "      <td>0009-0039</td>\n",
       "      <td>HUMAN PRESCRIPTION DRUG</td>\n",
       "      <td>SOLU-MEDROL</td>\n",
       "      <td>METHYLPREDNISOLONE SODIUM SUCCINATE</td>\n",
       "      <td>1959-04-02</td>\n",
       "      <td>NDA</td>\n",
       "      <td>NDA011856</td>\n",
       "      <td>PHARMACIA AND UPJOHN COMPANY LLC</td>\n",
       "      <td>Corticosteroid [EPC],Corticosteroid Hormone Re...</td>\n",
       "      <td>...</td>\n",
       "      <td>0</td>\n",
       "      <td>0</td>\n",
       "      <td>[INTRAVENOUS, INTRAMUSCULAR]</td>\n",
       "      <td>[METHYLPREDNISOLONE SODIUM SUCCINATE]</td>\n",
       "      <td>[40]</td>\n",
       "      <td>[MG/ML]</td>\n",
       "      <td>[INJECTION, POWDER, FOR SOLUTION]</td>\n",
       "      <td>1</td>\n",
       "      <td>0</td>\n",
       "      <td>0</td>\n",
       "    </tr>\n",
       "    <tr>\n",
       "      <th>325</th>\n",
       "      <td>0009-0047_67759a7c-ea06-4151-87e1-a301c44d67cd</td>\n",
       "      <td>0009-0047</td>\n",
       "      <td>HUMAN PRESCRIPTION DRUG</td>\n",
       "      <td>SOLU-MEDROL</td>\n",
       "      <td>METHYLPREDNISOLONE SODIUM SUCCINATE</td>\n",
       "      <td>1959-04-02</td>\n",
       "      <td>NDA</td>\n",
       "      <td>NDA011856</td>\n",
       "      <td>PHARMACIA AND UPJOHN COMPANY LLC</td>\n",
       "      <td>Corticosteroid [EPC],Corticosteroid Hormone Re...</td>\n",
       "      <td>...</td>\n",
       "      <td>0</td>\n",
       "      <td>0</td>\n",
       "      <td>[INTRAVENOUS, INTRAMUSCULAR]</td>\n",
       "      <td>[METHYLPREDNISOLONE SODIUM SUCCINATE]</td>\n",
       "      <td>[125]</td>\n",
       "      <td>[MG/2ML]</td>\n",
       "      <td>[INJECTION, POWDER, FOR SOLUTION]</td>\n",
       "      <td>1</td>\n",
       "      <td>0</td>\n",
       "      <td>0</td>\n",
       "    </tr>\n",
       "  </tbody>\n",
       "</table>\n",
       "<p>5 rows × 21 columns</p>\n",
       "</div>"
      ],
      "text/plain": [
       "                                          PRODUCTID PRODUCTNDC  \\\n",
       "204  0006-3061_26fbe70d-7ea0-4ba1-90ad-8e7831eae0e1  0006-3061   \n",
       "205  0006-3061_53594fbb-5366-49af-b556-1a10a6d8d4b2  0006-3061   \n",
       "322  0009-0039_67759a7c-ea06-4151-87e1-a301c44d67cd  0009-0039   \n",
       "323  0009-0039_95289567-4341-4b6c-bc3c-aa13036bc9b4  0009-0039   \n",
       "325  0009-0047_67759a7c-ea06-4151-87e1-a301c44d67cd  0009-0047   \n",
       "\n",
       "             PRODUCTTYPENAME PROPRIETARYNAME  \\\n",
       "204  HUMAN PRESCRIPTION DRUG           EMEND   \n",
       "205  HUMAN PRESCRIPTION DRUG           EMEND   \n",
       "322  HUMAN PRESCRIPTION DRUG     SOLU-MEDROL   \n",
       "323  HUMAN PRESCRIPTION DRUG     SOLU-MEDROL   \n",
       "325  HUMAN PRESCRIPTION DRUG     SOLU-MEDROL   \n",
       "\n",
       "                      NONPROPRIETARYNAME STARTMARKETINGDATE  \\\n",
       "204            FOSAPREPITANT DIMEGLUMINE         2017-02-03   \n",
       "205            FOSAPREPITANT DIMEGLUMINE         2017-02-03   \n",
       "322  METHYLPREDNISOLONE SODIUM SUCCINATE         1959-04-02   \n",
       "323  METHYLPREDNISOLONE SODIUM SUCCINATE         1959-04-02   \n",
       "325  METHYLPREDNISOLONE SODIUM SUCCINATE         1959-04-02   \n",
       "\n",
       "    MARKETINGCATEGORYNAME APPLICATIONNUMBER                       LABELERNAME  \\\n",
       "204                   NDA         NDA022023                                10   \n",
       "205                   NDA         NDA022023                                10   \n",
       "322                   NDA         NDA011856  PHARMACIA AND UPJOHN COMPANY LLC   \n",
       "323                   NDA         NDA011856  PHARMACIA AND UPJOHN COMPANY LLC   \n",
       "325                   NDA         NDA011856  PHARMACIA AND UPJOHN COMPANY LLC   \n",
       "\n",
       "                                         PHARM_CLASSES  ...  \\\n",
       "204  Neurokinin 1 Antagonists [MoA],Substance P/Neu...  ...   \n",
       "205  Neurokinin 1 Antagonists [MoA],Substance P/Neu...  ...   \n",
       "322  Corticosteroid [EPC],Corticosteroid Hormone Re...  ...   \n",
       "323  Corticosteroid [EPC],Corticosteroid Hormone Re...  ...   \n",
       "325  Corticosteroid [EPC],Corticosteroid Hormone Re...  ...   \n",
       "\n",
       "     DEASCHEDULE_determined  PROPRIETARYNAMESUFFIX_determined  \\\n",
       "204                       0                                 0   \n",
       "205                       0                                 0   \n",
       "322                       0                                 0   \n",
       "323                       0                                 0   \n",
       "325                       0                                 0   \n",
       "\n",
       "                   ROUTENAME_list                     SUBSTANCENAME_list  \\\n",
       "204                 [INTRAVENOUS]            [FOSAPREPITANT DIMEGLUMINE]   \n",
       "205                 [INTRAVENOUS]            [FOSAPREPITANT DIMEGLUMINE]   \n",
       "322  [INTRAVENOUS, INTRAMUSCULAR]  [METHYLPREDNISOLONE SODIUM SUCCINATE]   \n",
       "323  [INTRAVENOUS, INTRAMUSCULAR]  [METHYLPREDNISOLONE SODIUM SUCCINATE]   \n",
       "325  [INTRAVENOUS, INTRAMUSCULAR]  [METHYLPREDNISOLONE SODIUM SUCCINATE]   \n",
       "\n",
       "    ACTIVE_NUMERATOR_STRENGTH_list ACTIVE_INGRED_UNIT_list  \\\n",
       "204                          [150]                [MG/5ML]   \n",
       "205                          [150]                [MG/5ML]   \n",
       "322                           [40]                 [MG/ML]   \n",
       "323                           [40]                 [MG/ML]   \n",
       "325                          [125]                [MG/2ML]   \n",
       "\n",
       "                                DOSAGEFORMNAME_list  \\\n",
       "204  [INJECTION, POWDER, LYOPHILIZED, FOR SOLUTION]   \n",
       "205  [INJECTION, POWDER, LYOPHILIZED, FOR SOLUTION]   \n",
       "322               [INJECTION, POWDER, FOR SOLUTION]   \n",
       "323               [INJECTION, POWDER, FOR SOLUTION]   \n",
       "325               [INJECTION, POWDER, FOR SOLUTION]   \n",
       "\n",
       "    LISTING_RECORD_CERTIFIED_THROUGH_2020-12-31 00:00:00  \\\n",
       "204                                                  0     \n",
       "205                                                  0     \n",
       "322                                                  1     \n",
       "323                                                  1     \n",
       "325                                                  1     \n",
       "\n",
       "     LISTING_RECORD_CERTIFIED_THROUGH_2021-12-31 00:00:00  \\\n",
       "204                                                  1      \n",
       "205                                                  1      \n",
       "322                                                  0      \n",
       "323                                                  0      \n",
       "325                                                  0      \n",
       "\n",
       "     LISTING_RECORD_CERTIFIED_THROUGH_undetermined  \n",
       "204                                              0  \n",
       "205                                              0  \n",
       "322                                              0  \n",
       "323                                              0  \n",
       "325                                              0  \n",
       "\n",
       "[5 rows x 21 columns]"
      ]
     },
     "execution_count": 251,
     "metadata": {},
     "output_type": "execute_result"
    }
   ],
   "source": [
    "# Example\n",
    "prod[prod.iloc[:, 1:].astype(str).duplicated(keep=False)].head()"
   ]
  },
  {
   "cell_type": "code",
   "execution_count": 252,
   "metadata": {},
   "outputs": [
    {
     "name": "stdout",
     "output_type": "stream",
     "text": [
      "Removing 659 rows\n"
     ]
    }
   ],
   "source": [
    "print(f\"Removing {prod.iloc[:, 1:].astype(str).duplicated().sum()} rows\")"
   ]
  },
  {
   "cell_type": "code",
   "execution_count": 253,
   "metadata": {},
   "outputs": [],
   "source": [
    "# Removing all duplicates except first row\n",
    "prod = prod.drop(prod[prod.iloc[:, 1:].astype(str).duplicated()].index)"
   ]
  },
  {
   "cell_type": "code",
   "execution_count": 254,
   "metadata": {},
   "outputs": [
    {
     "name": "stdout",
     "output_type": "stream",
     "text": [
      "No duplication in the PRODUCTID col\n"
     ]
    },
    {
     "data": {
      "text/plain": [
       "0"
      ]
     },
     "execution_count": 254,
     "metadata": {},
     "output_type": "execute_result"
    }
   ],
   "source": [
    "print(\"No duplication in the PRODUCTID col\")\n",
    "prod[\"PRODUCTID\"].duplicated(keep=False).sum()"
   ]
  },
  {
   "attachments": {},
   "cell_type": "markdown",
   "metadata": {},
   "source": [
    "#### Duplicates in package table"
   ]
  },
  {
   "cell_type": "code",
   "execution_count": 255,
   "metadata": {},
   "outputs": [
    {
     "name": "stdout",
     "output_type": "stream",
     "text": [
      "Number of rows total with duplication INCLUDING THE PRODUCTID :\n",
      "101541\n"
     ]
    }
   ],
   "source": [
    "# Not considering the unique ID col\n",
    "print(\"Number of rows total with duplication INCLUDING THE PRODUCTID :\")\n",
    "print(pack.duplicated(keep=False).sum())"
   ]
  },
  {
   "cell_type": "code",
   "execution_count": 256,
   "metadata": {},
   "outputs": [
    {
     "data": {
      "text/html": [
       "<div>\n",
       "<style scoped>\n",
       "    .dataframe tbody tr th:only-of-type {\n",
       "        vertical-align: middle;\n",
       "    }\n",
       "\n",
       "    .dataframe tbody tr th {\n",
       "        vertical-align: top;\n",
       "    }\n",
       "\n",
       "    .dataframe thead th {\n",
       "        text-align: right;\n",
       "    }\n",
       "</style>\n",
       "<table border=\"1\" class=\"dataframe\">\n",
       "  <thead>\n",
       "    <tr style=\"text-align: right;\">\n",
       "      <th></th>\n",
       "      <th>PRODUCTID</th>\n",
       "      <th>PRODUCTNDC</th>\n",
       "      <th>STARTMARKETINGDATE</th>\n",
       "      <th>SAMPLE_PACKAGE</th>\n",
       "      <th>PACKAGEDESCRIPTION_FILTERED</th>\n",
       "      <th>ENDMARKETINGDATE_determined</th>\n",
       "    </tr>\n",
       "  </thead>\n",
       "  <tbody>\n",
       "    <tr>\n",
       "      <th>1</th>\n",
       "      <td>0002-1200_35551a38-7a8d-43b8-8abd-f6cb7549e932</td>\n",
       "      <td>0002-1200</td>\n",
       "      <td>2012-06-01</td>\n",
       "      <td>0</td>\n",
       "      <td>mL</td>\n",
       "      <td>0</td>\n",
       "    </tr>\n",
       "    <tr>\n",
       "      <th>2</th>\n",
       "      <td>0002-1200_35551a38-7a8d-43b8-8abd-f6cb7549e932</td>\n",
       "      <td>0002-1200</td>\n",
       "      <td>2012-06-01</td>\n",
       "      <td>0</td>\n",
       "      <td>mL</td>\n",
       "      <td>0</td>\n",
       "    </tr>\n",
       "    <tr>\n",
       "      <th>9</th>\n",
       "      <td>0002-1445_05ca6b40-080f-4d27-930c-9bbdc0d06afa</td>\n",
       "      <td>0002-1445</td>\n",
       "      <td>2016-03-22</td>\n",
       "      <td>0</td>\n",
       "      <td>mL</td>\n",
       "      <td>0</td>\n",
       "    </tr>\n",
       "    <tr>\n",
       "      <th>10</th>\n",
       "      <td>0002-1445_05ca6b40-080f-4d27-930c-9bbdc0d06afa</td>\n",
       "      <td>0002-1445</td>\n",
       "      <td>2016-03-22</td>\n",
       "      <td>0</td>\n",
       "      <td>mL</td>\n",
       "      <td>0</td>\n",
       "    </tr>\n",
       "    <tr>\n",
       "      <th>11</th>\n",
       "      <td>0002-1445_05ca6b40-080f-4d27-930c-9bbdc0d06afa</td>\n",
       "      <td>0002-1445</td>\n",
       "      <td>2016-03-22</td>\n",
       "      <td>0</td>\n",
       "      <td>mL</td>\n",
       "      <td>0</td>\n",
       "    </tr>\n",
       "  </tbody>\n",
       "</table>\n",
       "</div>"
      ],
      "text/plain": [
       "                                         PRODUCTID PRODUCTNDC  \\\n",
       "1   0002-1200_35551a38-7a8d-43b8-8abd-f6cb7549e932  0002-1200   \n",
       "2   0002-1200_35551a38-7a8d-43b8-8abd-f6cb7549e932  0002-1200   \n",
       "9   0002-1445_05ca6b40-080f-4d27-930c-9bbdc0d06afa  0002-1445   \n",
       "10  0002-1445_05ca6b40-080f-4d27-930c-9bbdc0d06afa  0002-1445   \n",
       "11  0002-1445_05ca6b40-080f-4d27-930c-9bbdc0d06afa  0002-1445   \n",
       "\n",
       "   STARTMARKETINGDATE  SAMPLE_PACKAGE PACKAGEDESCRIPTION_FILTERED  \\\n",
       "1          2012-06-01               0                          mL   \n",
       "2          2012-06-01               0                          mL   \n",
       "9          2016-03-22               0                          mL   \n",
       "10         2016-03-22               0                          mL   \n",
       "11         2016-03-22               0                          mL   \n",
       "\n",
       "    ENDMARKETINGDATE_determined  \n",
       "1                             0  \n",
       "2                             0  \n",
       "9                             0  \n",
       "10                            0  \n",
       "11                            0  "
      ]
     },
     "execution_count": 256,
     "metadata": {},
     "output_type": "execute_result"
    }
   ],
   "source": [
    "pack[pack.duplicated(keep=False)].head()"
   ]
  },
  {
   "cell_type": "code",
   "execution_count": 257,
   "metadata": {},
   "outputs": [
    {
     "name": "stdout",
     "output_type": "stream",
     "text": [
      "Removing 71998 rows\n"
     ]
    }
   ],
   "source": [
    "print(f\"Removing {pack.duplicated().sum()} rows\")"
   ]
  },
  {
   "cell_type": "code",
   "execution_count": 258,
   "metadata": {},
   "outputs": [],
   "source": [
    "pack = pack.drop(pack[pack.duplicated()].index)"
   ]
  },
  {
   "cell_type": "code",
   "execution_count": 261,
   "metadata": {},
   "outputs": [
    {
     "data": {
      "text/html": [
       "<div>\n",
       "<style scoped>\n",
       "    .dataframe tbody tr th:only-of-type {\n",
       "        vertical-align: middle;\n",
       "    }\n",
       "\n",
       "    .dataframe tbody tr th {\n",
       "        vertical-align: top;\n",
       "    }\n",
       "\n",
       "    .dataframe thead th {\n",
       "        text-align: right;\n",
       "    }\n",
       "</style>\n",
       "<table border=\"1\" class=\"dataframe\">\n",
       "  <thead>\n",
       "    <tr style=\"text-align: right;\">\n",
       "      <th></th>\n",
       "      <th>PRODUCTID</th>\n",
       "      <th>PRODUCTNDC</th>\n",
       "      <th>STARTMARKETINGDATE</th>\n",
       "      <th>SAMPLE_PACKAGE</th>\n",
       "      <th>PACKAGEDESCRIPTION_FILTERED</th>\n",
       "      <th>ENDMARKETINGDATE_determined</th>\n",
       "    </tr>\n",
       "  </thead>\n",
       "  <tbody>\n",
       "    <tr>\n",
       "      <th>0</th>\n",
       "      <td>0002-0800_94c48759-29bb-402d-afff-9a713be11f0e</td>\n",
       "      <td>0002-0800</td>\n",
       "      <td>1987-07-10</td>\n",
       "      <td>0</td>\n",
       "      <td>mL</td>\n",
       "      <td>0</td>\n",
       "    </tr>\n",
       "    <tr>\n",
       "      <th>1</th>\n",
       "      <td>0002-1200_35551a38-7a8d-43b8-8abd-f6cb7549e932</td>\n",
       "      <td>0002-1200</td>\n",
       "      <td>2012-06-01</td>\n",
       "      <td>0</td>\n",
       "      <td>mL</td>\n",
       "      <td>0</td>\n",
       "    </tr>\n",
       "    <tr>\n",
       "      <th>3</th>\n",
       "      <td>0002-1433_42a80046-fd68-4b80-819c-a443b7816edb</td>\n",
       "      <td>0002-1433</td>\n",
       "      <td>2014-11-07</td>\n",
       "      <td>1</td>\n",
       "      <td>mL</td>\n",
       "      <td>0</td>\n",
       "    </tr>\n",
       "    <tr>\n",
       "      <th>4</th>\n",
       "      <td>0002-1433_42a80046-fd68-4b80-819c-a443b7816edb</td>\n",
       "      <td>0002-1433</td>\n",
       "      <td>2014-11-07</td>\n",
       "      <td>0</td>\n",
       "      <td>mL</td>\n",
       "      <td>0</td>\n",
       "    </tr>\n",
       "    <tr>\n",
       "      <th>5</th>\n",
       "      <td>0002-1434_42a80046-fd68-4b80-819c-a443b7816edb</td>\n",
       "      <td>0002-1434</td>\n",
       "      <td>2014-11-07</td>\n",
       "      <td>1</td>\n",
       "      <td>mL</td>\n",
       "      <td>0</td>\n",
       "    </tr>\n",
       "    <tr>\n",
       "      <th>...</th>\n",
       "      <td>...</td>\n",
       "      <td>...</td>\n",
       "      <td>...</td>\n",
       "      <td>...</td>\n",
       "      <td>...</td>\n",
       "      <td>...</td>\n",
       "    </tr>\n",
       "    <tr>\n",
       "      <th>173877</th>\n",
       "      <td>99207-466_7578e84a-41ed-498d-8c2b-56a9931679db</td>\n",
       "      <td>99207-466</td>\n",
       "      <td>2010-09-27</td>\n",
       "      <td>0</td>\n",
       "      <td>TABLET</td>\n",
       "      <td>0</td>\n",
       "    </tr>\n",
       "    <tr>\n",
       "      <th>173879</th>\n",
       "      <td>99207-467_7578e84a-41ed-498d-8c2b-56a9931679db</td>\n",
       "      <td>99207-467</td>\n",
       "      <td>2010-09-27</td>\n",
       "      <td>0</td>\n",
       "      <td>TABLET</td>\n",
       "      <td>0</td>\n",
       "    </tr>\n",
       "    <tr>\n",
       "      <th>173881</th>\n",
       "      <td>99207-525_d47eda34-3952-463c-9597-4225a19dbf13</td>\n",
       "      <td>99207-525</td>\n",
       "      <td>2006-03-13</td>\n",
       "      <td>0</td>\n",
       "      <td>g</td>\n",
       "      <td>0</td>\n",
       "    </tr>\n",
       "    <tr>\n",
       "      <th>173885</th>\n",
       "      <td>99207-850_76ac026f-e6f1-4d1f-8144-9b5492e2d1bb</td>\n",
       "      <td>99207-850</td>\n",
       "      <td>2013-11-14</td>\n",
       "      <td>1</td>\n",
       "      <td>g</td>\n",
       "      <td>0</td>\n",
       "    </tr>\n",
       "    <tr>\n",
       "      <th>173886</th>\n",
       "      <td>99207-850_76ac026f-e6f1-4d1f-8144-9b5492e2d1bb</td>\n",
       "      <td>99207-850</td>\n",
       "      <td>2013-11-14</td>\n",
       "      <td>0</td>\n",
       "      <td>g</td>\n",
       "      <td>0</td>\n",
       "    </tr>\n",
       "  </tbody>\n",
       "</table>\n",
       "<p>101215 rows × 6 columns</p>\n",
       "</div>"
      ],
      "text/plain": [
       "                                             PRODUCTID PRODUCTNDC  \\\n",
       "0       0002-0800_94c48759-29bb-402d-afff-9a713be11f0e  0002-0800   \n",
       "1       0002-1200_35551a38-7a8d-43b8-8abd-f6cb7549e932  0002-1200   \n",
       "3       0002-1433_42a80046-fd68-4b80-819c-a443b7816edb  0002-1433   \n",
       "4       0002-1433_42a80046-fd68-4b80-819c-a443b7816edb  0002-1433   \n",
       "5       0002-1434_42a80046-fd68-4b80-819c-a443b7816edb  0002-1434   \n",
       "...                                                ...        ...   \n",
       "173877  99207-466_7578e84a-41ed-498d-8c2b-56a9931679db  99207-466   \n",
       "173879  99207-467_7578e84a-41ed-498d-8c2b-56a9931679db  99207-467   \n",
       "173881  99207-525_d47eda34-3952-463c-9597-4225a19dbf13  99207-525   \n",
       "173885  99207-850_76ac026f-e6f1-4d1f-8144-9b5492e2d1bb  99207-850   \n",
       "173886  99207-850_76ac026f-e6f1-4d1f-8144-9b5492e2d1bb  99207-850   \n",
       "\n",
       "       STARTMARKETINGDATE  SAMPLE_PACKAGE PACKAGEDESCRIPTION_FILTERED  \\\n",
       "0              1987-07-10               0                          mL   \n",
       "1              2012-06-01               0                          mL   \n",
       "3              2014-11-07               1                          mL   \n",
       "4              2014-11-07               0                          mL   \n",
       "5              2014-11-07               1                          mL   \n",
       "...                   ...             ...                         ...   \n",
       "173877         2010-09-27               0                      TABLET   \n",
       "173879         2010-09-27               0                      TABLET   \n",
       "173881         2006-03-13               0                           g   \n",
       "173885         2013-11-14               1                           g   \n",
       "173886         2013-11-14               0                           g   \n",
       "\n",
       "        ENDMARKETINGDATE_determined  \n",
       "0                                 0  \n",
       "1                                 0  \n",
       "3                                 0  \n",
       "4                                 0  \n",
       "5                                 0  \n",
       "...                             ...  \n",
       "173877                            0  \n",
       "173879                            0  \n",
       "173881                            0  \n",
       "173885                            0  \n",
       "173886                            0  \n",
       "\n",
       "[101215 rows x 6 columns]"
      ]
     },
     "execution_count": 261,
     "metadata": {},
     "output_type": "execute_result"
    }
   ],
   "source": [
    "pack"
   ]
  },
  {
   "attachments": {},
   "cell_type": "markdown",
   "metadata": {},
   "source": [
    "**There are still some duplication in the PRODUCTID rows, we need to remove them**"
   ]
  },
  {
   "cell_type": "code",
   "execution_count": 266,
   "metadata": {},
   "outputs": [
    {
     "name": "stdout",
     "output_type": "stream",
     "text": [
      "8469 rows to remove\n"
     ]
    }
   ],
   "source": [
    "print(f'{pack[\"PRODUCTID\"].duplicated().sum()} rows to remove')"
   ]
  },
  {
   "cell_type": "code",
   "execution_count": 270,
   "metadata": {},
   "outputs": [
    {
     "data": {
      "text/html": [
       "<div>\n",
       "<style scoped>\n",
       "    .dataframe tbody tr th:only-of-type {\n",
       "        vertical-align: middle;\n",
       "    }\n",
       "\n",
       "    .dataframe tbody tr th {\n",
       "        vertical-align: top;\n",
       "    }\n",
       "\n",
       "    .dataframe thead th {\n",
       "        text-align: right;\n",
       "    }\n",
       "</style>\n",
       "<table border=\"1\" class=\"dataframe\">\n",
       "  <thead>\n",
       "    <tr style=\"text-align: right;\">\n",
       "      <th></th>\n",
       "      <th>PRODUCTID</th>\n",
       "      <th>PRODUCTNDC</th>\n",
       "      <th>STARTMARKETINGDATE</th>\n",
       "      <th>SAMPLE_PACKAGE</th>\n",
       "      <th>PACKAGEDESCRIPTION_FILTERED</th>\n",
       "      <th>ENDMARKETINGDATE_determined</th>\n",
       "    </tr>\n",
       "  </thead>\n",
       "  <tbody>\n",
       "    <tr>\n",
       "      <th>3</th>\n",
       "      <td>0002-1433_42a80046-fd68-4b80-819c-a443b7816edb</td>\n",
       "      <td>0002-1433</td>\n",
       "      <td>2014-11-07</td>\n",
       "      <td>1</td>\n",
       "      <td>mL</td>\n",
       "      <td>0</td>\n",
       "    </tr>\n",
       "    <tr>\n",
       "      <th>4</th>\n",
       "      <td>0002-1433_42a80046-fd68-4b80-819c-a443b7816edb</td>\n",
       "      <td>0002-1433</td>\n",
       "      <td>2014-11-07</td>\n",
       "      <td>0</td>\n",
       "      <td>mL</td>\n",
       "      <td>0</td>\n",
       "    </tr>\n",
       "    <tr>\n",
       "      <th>5</th>\n",
       "      <td>0002-1434_42a80046-fd68-4b80-819c-a443b7816edb</td>\n",
       "      <td>0002-1434</td>\n",
       "      <td>2014-11-07</td>\n",
       "      <td>1</td>\n",
       "      <td>mL</td>\n",
       "      <td>0</td>\n",
       "    </tr>\n",
       "    <tr>\n",
       "      <th>6</th>\n",
       "      <td>0002-1434_42a80046-fd68-4b80-819c-a443b7816edb</td>\n",
       "      <td>0002-1434</td>\n",
       "      <td>2014-11-07</td>\n",
       "      <td>0</td>\n",
       "      <td>mL</td>\n",
       "      <td>0</td>\n",
       "    </tr>\n",
       "    <tr>\n",
       "      <th>7</th>\n",
       "      <td>0002-1436_dd7f66eb-66e1-4ad0-a593-417dbf2c74e2</td>\n",
       "      <td>0002-1436</td>\n",
       "      <td>2018-09-27</td>\n",
       "      <td>0</td>\n",
       "      <td>mL</td>\n",
       "      <td>0</td>\n",
       "    </tr>\n",
       "    <tr>\n",
       "      <th>8</th>\n",
       "      <td>0002-1436_dd7f66eb-66e1-4ad0-a593-417dbf2c74e2</td>\n",
       "      <td>0002-1436</td>\n",
       "      <td>2018-09-27</td>\n",
       "      <td>1</td>\n",
       "      <td>mL</td>\n",
       "      <td>0</td>\n",
       "    </tr>\n",
       "  </tbody>\n",
       "</table>\n",
       "</div>"
      ],
      "text/plain": [
       "                                        PRODUCTID PRODUCTNDC  \\\n",
       "3  0002-1433_42a80046-fd68-4b80-819c-a443b7816edb  0002-1433   \n",
       "4  0002-1433_42a80046-fd68-4b80-819c-a443b7816edb  0002-1433   \n",
       "5  0002-1434_42a80046-fd68-4b80-819c-a443b7816edb  0002-1434   \n",
       "6  0002-1434_42a80046-fd68-4b80-819c-a443b7816edb  0002-1434   \n",
       "7  0002-1436_dd7f66eb-66e1-4ad0-a593-417dbf2c74e2  0002-1436   \n",
       "8  0002-1436_dd7f66eb-66e1-4ad0-a593-417dbf2c74e2  0002-1436   \n",
       "\n",
       "  STARTMARKETINGDATE  SAMPLE_PACKAGE PACKAGEDESCRIPTION_FILTERED  \\\n",
       "3         2014-11-07               1                          mL   \n",
       "4         2014-11-07               0                          mL   \n",
       "5         2014-11-07               1                          mL   \n",
       "6         2014-11-07               0                          mL   \n",
       "7         2018-09-27               0                          mL   \n",
       "8         2018-09-27               1                          mL   \n",
       "\n",
       "   ENDMARKETINGDATE_determined  \n",
       "3                            0  \n",
       "4                            0  \n",
       "5                            0  \n",
       "6                            0  \n",
       "7                            0  \n",
       "8                            0  "
      ]
     },
     "execution_count": 270,
     "metadata": {},
     "output_type": "execute_result"
    }
   ],
   "source": [
    "pack[pack[\"PRODUCTID\"].duplicated(keep=False)].head(6)"
   ]
  },
  {
   "cell_type": "code",
   "execution_count": 273,
   "metadata": {},
   "outputs": [],
   "source": [
    "pack = pack.drop(pack[pack[\"PRODUCTID\"].duplicated()].index)"
   ]
  },
  {
   "attachments": {},
   "cell_type": "markdown",
   "metadata": {},
   "source": [
    "### 6. Join product and package tables"
   ]
  },
  {
   "cell_type": "code",
   "execution_count": 282,
   "metadata": {},
   "outputs": [],
   "source": [
    "rx_df = pd.merge(prod, pack, how=\"inner\", on=\"PRODUCTID\")"
   ]
  },
  {
   "cell_type": "code",
   "execution_count": 283,
   "metadata": {},
   "outputs": [
    {
     "data": {
      "text/plain": [
       "(90378, 26)"
      ]
     },
     "execution_count": 283,
     "metadata": {},
     "output_type": "execute_result"
    }
   ],
   "source": [
    "rx_df.shape"
   ]
  },
  {
   "cell_type": "code",
   "execution_count": 288,
   "metadata": {},
   "outputs": [
    {
     "name": "stdout",
     "output_type": "stream",
     "text": [
      "Number of duplicated rows : 0\n"
     ]
    }
   ],
   "source": [
    "print(f\"Number of duplicated rows : {rx_df.astype(str).duplicated().sum()}\")"
   ]
  },
  {
   "cell_type": "code",
   "execution_count": 292,
   "metadata": {},
   "outputs": [
    {
     "data": {
      "text/plain": [
       "PHARM_CLASSES    50112\n",
       "dtype: int64"
      ]
     },
     "execution_count": 292,
     "metadata": {},
     "output_type": "execute_result"
    }
   ],
   "source": [
    "rx_df.isnull().sum()[rx_df.isnull().sum() > 0]"
   ]
  },
  {
   "attachments": {},
   "cell_type": "markdown",
   "metadata": {},
   "source": [
    "We loose some of the PHARM_CLASSES rows, maybe we can left_join and take care of the missing data in other rows"
   ]
  },
  {
   "cell_type": "code",
   "execution_count": 293,
   "metadata": {},
   "outputs": [],
   "source": [
    "rx_df = pd.merge(prod, pack, how=\"left\", on=\"PRODUCTID\")"
   ]
  },
  {
   "cell_type": "code",
   "execution_count": 298,
   "metadata": {},
   "outputs": [
    {
     "data": {
      "text/plain": [
       "PHARM_CLASSES                    50457\n",
       "PRODUCTNDC_y                      2047\n",
       "STARTMARKETINGDATE_y              2047\n",
       "SAMPLE_PACKAGE                    2047\n",
       "PACKAGEDESCRIPTION_FILTERED       2047\n",
       "ENDMARKETINGDATE_determined_y     2047\n",
       "dtype: int64"
      ]
     },
     "execution_count": 298,
     "metadata": {},
     "output_type": "execute_result"
    }
   ],
   "source": [
    "rx_df.isnull().sum()[rx_df.isnull().sum() > 0]"
   ]
  },
  {
   "attachments": {},
   "cell_type": "markdown",
   "metadata": {},
   "source": [
    "We can safely remove the columns with duplicated names/information labelled with `_y`"
   ]
  }
 ],
 "metadata": {
  "kernelspec": {
   "display_name": "py3_ds",
   "language": "python",
   "name": "python3"
  },
  "language_info": {
   "codemirror_mode": {
    "name": "ipython",
    "version": 3
   },
   "file_extension": ".py",
   "mimetype": "text/x-python",
   "name": "python",
   "nbconvert_exporter": "python",
   "pygments_lexer": "ipython3",
   "version": "3.8.10"
  },
  "orig_nbformat": 4,
  "vscode": {
   "interpreter": {
    "hash": "53f96a5caa9fd1ac81f0dc43aec12efbb8e7ee46d9749005ab86dae646c321a6"
   }
  }
 },
 "nbformat": 4,
 "nbformat_minor": 2
}
